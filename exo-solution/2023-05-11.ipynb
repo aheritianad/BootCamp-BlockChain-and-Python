{
 "cells": [
  {
   "attachments": {},
   "cell_type": "markdown",
   "metadata": {},
   "source": [
    "https://aheritianad.github.io/teaching/ankatso/mafi/exercises/solutions/20230511"
   ]
  },
  {
   "attachments": {},
   "cell_type": "markdown",
   "metadata": {},
   "source": [
    "## 2023-05-11"
   ]
  },
  {
   "attachments": {},
   "cell_type": "markdown",
   "metadata": {},
   "source": [
    "\n",
    "1. `lambda` function\n",
    "2. `@` decorator\n",
    "3. bits\n",
    "   1. size\n",
    "   2. `&` and\n",
    "   3. `|` or\n",
    "   4. `^` xor\n",
    "   5. `~` neg\n",
    "   6. `>>` right shift (`//2`)\n",
    "   7. `<<` left shift (`*2`)\n",
    "4. `float`ing point number\n",
    "5. `encrypt` with translation and permutation\n",
    "6. `rsa` encryption\n",
    "7. `bcbcpy.crypto`\n",
    "8. `is` vs `==`"
   ]
  },
  {
   "attachments": {},
   "cell_type": "markdown",
   "metadata": {},
   "source": [
    "### `lambda` and `@`"
   ]
  },
  {
   "cell_type": "code",
   "execution_count": 1,
   "metadata": {},
   "outputs": [],
   "source": [
    "def begin(func):\n",
    "    def _func(*args, **kwargs):\n",
    "        print(f\"begin {func.__name__}\")\n",
    "        out = func(*args, **kwargs)\n",
    "        return out\n",
    "    _func.__name__ = func.__name__\n",
    "    return _func\n",
    "\n",
    "def end(func):\n",
    "    def _func(*args, **kwargs):\n",
    "        out = func(*args, **kwargs)\n",
    "        print(f\"end {func.__name__}\")\n",
    "        return out\n",
    "    _func.__name__ = func.__name__\n",
    "    return _func\n"
   ]
  },
  {
   "cell_type": "code",
   "execution_count": 2,
   "metadata": {},
   "outputs": [],
   "source": [
    "@begin  # f = begin(lambda n: n**2)\n",
    "def f(n: int):\n",
    "    return n**2\n",
    "\n",
    "\n",
    "@end  # g = end(g)\n",
    "def g(n: int):\n",
    "    m = n - 1\n",
    "    k = n + 1\n",
    "    return m * k\n",
    "\n",
    "@begin\n",
    "@end\n",
    "def h(n: int):\n",
    "    return n - 1\n",
    "# h = begin(end(lambda n: n- 1))"
   ]
  },
  {
   "cell_type": "code",
   "execution_count": 3,
   "metadata": {},
   "outputs": [
    {
     "name": "stdout",
     "output_type": "stream",
     "text": [
      "begin f\n",
      "f(2) = 4\n"
     ]
    }
   ],
   "source": [
    "out = f(2)\n",
    "print(f\"f(2) = {out}\")"
   ]
  },
  {
   "cell_type": "code",
   "execution_count": 4,
   "metadata": {},
   "outputs": [
    {
     "name": "stdout",
     "output_type": "stream",
     "text": [
      "end g\n",
      "g(2) = 3\n"
     ]
    }
   ],
   "source": [
    "out = g(2)\n",
    "print(f\"g(2) = {out}\")"
   ]
  },
  {
   "cell_type": "code",
   "execution_count": 5,
   "metadata": {},
   "outputs": [
    {
     "name": "stdout",
     "output_type": "stream",
     "text": [
      "begin h\n",
      "end h\n",
      "h(2) = 1\n"
     ]
    }
   ],
   "source": [
    "out = h(2)\n",
    "print(f\"h(2) = {out}\")"
   ]
  },
  {
   "cell_type": "code",
   "execution_count": 6,
   "metadata": {},
   "outputs": [],
   "source": [
    "def decorator_of_decorators(deco):\n",
    "    def _deco(func):\n",
    "        print(f\"decorator_of_decorators is decorating {func.__name__} with decorator {deco.__name__}.\")\n",
    "        _func = deco(func)\n",
    "        return _func\n",
    "    _deco.__name__ = deco.__name__\n",
    "    return _deco\n",
    "\n",
    "\n",
    "@decorator_of_decorators\n",
    "def new_deco(func):\n",
    "    def _func(*args, **kwargs):\n",
    "        out = func(*args, **kwargs)\n",
    "        print(f\"Function {func.__name__} is decorated by new_deco.\")\n",
    "        return out\n",
    "    \n",
    "    _func.__name__ = func.__name__\n",
    "    return _func"
   ]
  },
  {
   "cell_type": "code",
   "execution_count": 7,
   "metadata": {},
   "outputs": [
    {
     "name": "stdout",
     "output_type": "stream",
     "text": [
      "decorator_of_decorators is decorating g with decorator new_deco.\n"
     ]
    }
   ],
   "source": [
    "@new_deco\n",
    "def g(n):\n",
    "    return n"
   ]
  },
  {
   "cell_type": "code",
   "execution_count": 8,
   "metadata": {},
   "outputs": [
    {
     "name": "stdout",
     "output_type": "stream",
     "text": [
      "Function g is decorated by new_deco.\n"
     ]
    },
    {
     "data": {
      "text/plain": [
       "6"
      ]
     },
     "execution_count": 8,
     "metadata": {},
     "output_type": "execute_result"
    }
   ],
   "source": [
    "g(6)"
   ]
  },
  {
   "cell_type": "code",
   "execution_count": 9,
   "metadata": {},
   "outputs": [
    {
     "name": "stdout",
     "output_type": "stream",
     "text": [
      "decorator_of_decorators is decorating g with decorator new_deco.\n"
     ]
    }
   ],
   "source": [
    "@new_deco\n",
    "@end\n",
    "@begin\n",
    "def g(n):\n",
    "    return n"
   ]
  },
  {
   "cell_type": "code",
   "execution_count": 10,
   "metadata": {},
   "outputs": [
    {
     "name": "stdout",
     "output_type": "stream",
     "text": [
      "begin g\n",
      "end g\n",
      "Function g is decorated by new_deco.\n"
     ]
    },
    {
     "data": {
      "text/plain": [
       "1"
      ]
     },
     "execution_count": 10,
     "metadata": {},
     "output_type": "execute_result"
    }
   ],
   "source": [
    "g(1)"
   ]
  },
  {
   "cell_type": "code",
   "execution_count": 11,
   "metadata": {},
   "outputs": [],
   "source": [
    "def append_0_to_all_list_argument(func):\n",
    "    def _func(*args, **kwargs):\n",
    "        output = func(*args,**kwargs)\n",
    "        for arg in args:\n",
    "            if isinstance(arg, list):\n",
    "                arg.append(0)\n",
    "        for kwarg in kwargs.values():\n",
    "            if isinstance(kwarg, list):\n",
    "                kwarg.append(0)\n",
    "        return output\n",
    "    _func.__name__ = func.__name__\n",
    "    return _func\n",
    "\n",
    "@append_0_to_all_list_argument\n",
    "def sum_element(lst1, base,lst2):\n",
    "    return sum(lst1) + base + sum(lst2)"
   ]
  },
  {
   "cell_type": "code",
   "execution_count": 12,
   "metadata": {},
   "outputs": [
    {
     "data": {
      "text/plain": [
       "4"
      ]
     },
     "execution_count": 12,
     "metadata": {},
     "output_type": "execute_result"
    }
   ],
   "source": [
    "a = [-1,-2,-3]\n",
    "b = 4\n",
    "c = [1,2,3]\n",
    "\n",
    "sum_element(a,b,c)"
   ]
  },
  {
   "cell_type": "code",
   "execution_count": 13,
   "metadata": {},
   "outputs": [
    {
     "data": {
      "text/plain": [
       "([-1, -2, -3, 0], 4, [1, 2, 3, 0])"
      ]
     },
     "execution_count": 13,
     "metadata": {},
     "output_type": "execute_result"
    }
   ],
   "source": [
    "a,b,c"
   ]
  },
  {
   "attachments": {},
   "cell_type": "markdown",
   "metadata": {},
   "source": [
    "### Bits"
   ]
  },
  {
   "attachments": {},
   "cell_type": "markdown",
   "metadata": {},
   "source": [
    "#### `&` (and)"
   ]
  },
  {
   "attachments": {},
   "cell_type": "markdown",
   "metadata": {},
   "source": [
    "11: 1011  \n",
    "07: 0111  \n",
    "............  \n",
    "03: 0011"
   ]
  },
  {
   "cell_type": "code",
   "execution_count": 14,
   "metadata": {},
   "outputs": [
    {
     "data": {
      "text/plain": [
       "3"
      ]
     },
     "execution_count": 14,
     "metadata": {},
     "output_type": "execute_result"
    }
   ],
   "source": [
    "11&7"
   ]
  },
  {
   "attachments": {},
   "cell_type": "markdown",
   "metadata": {},
   "source": [
    "#### `|` (or)"
   ]
  },
  {
   "attachments": {},
   "cell_type": "markdown",
   "metadata": {},
   "source": [
    "11: 1011  \n",
    "07: 0111  \n",
    "............  \n",
    "15: 1111"
   ]
  },
  {
   "cell_type": "code",
   "execution_count": 15,
   "metadata": {},
   "outputs": [
    {
     "data": {
      "text/plain": [
       "15"
      ]
     },
     "execution_count": 15,
     "metadata": {},
     "output_type": "execute_result"
    }
   ],
   "source": [
    "11|7"
   ]
  },
  {
   "attachments": {},
   "cell_type": "markdown",
   "metadata": {},
   "source": [
    "#### `^` (xor)"
   ]
  },
  {
   "attachments": {},
   "cell_type": "markdown",
   "metadata": {},
   "source": [
    "11: 1011  \n",
    "07: 0111  \n",
    "............  \n",
    "12: 1100"
   ]
  },
  {
   "cell_type": "code",
   "execution_count": 16,
   "metadata": {},
   "outputs": [
    {
     "data": {
      "text/plain": [
       "12"
      ]
     },
     "execution_count": 16,
     "metadata": {},
     "output_type": "execute_result"
    }
   ],
   "source": [
    "11^7"
   ]
  },
  {
   "attachments": {},
   "cell_type": "markdown",
   "metadata": {},
   "source": [
    "#### `~` (neg)"
   ]
  },
  {
   "attachments": {},
   "cell_type": "markdown",
   "metadata": {},
   "source": [
    "For $a > 0$, $-a = (\\sim a) + 1 \\implies \\sim a = -a - 1$.  \n",
    "For $a < 0$, $-a = (\\sim a) - 1 \\implies \\sim a = -a + 1$.  "
   ]
  },
  {
   "attachments": {},
   "cell_type": "markdown",
   "metadata": {},
   "source": [
    "+11: 00001011  \n",
    "......................  \n",
    "-12: 11110100"
   ]
  },
  {
   "cell_type": "code",
   "execution_count": 17,
   "metadata": {},
   "outputs": [
    {
     "data": {
      "text/plain": [
       "-12"
      ]
     },
     "execution_count": 17,
     "metadata": {},
     "output_type": "execute_result"
    }
   ],
   "source": [
    "~11"
   ]
  },
  {
   "cell_type": "code",
   "execution_count": 18,
   "metadata": {},
   "outputs": [
    {
     "data": {
      "text/plain": [
       "11"
      ]
     },
     "execution_count": 18,
     "metadata": {},
     "output_type": "execute_result"
    }
   ],
   "source": [
    "~-12"
   ]
  },
  {
   "attachments": {},
   "cell_type": "markdown",
   "metadata": {},
   "source": [
    "#### `>>k` (`//`$2^k$)"
   ]
  },
  {
   "cell_type": "code",
   "execution_count": 19,
   "metadata": {},
   "outputs": [
    {
     "data": {
      "text/plain": [
       "(3, 3)"
      ]
     },
     "execution_count": 19,
     "metadata": {},
     "output_type": "execute_result"
    }
   ],
   "source": [
    "15//4, 15>>2"
   ]
  },
  {
   "attachments": {},
   "cell_type": "markdown",
   "metadata": {},
   "source": [
    "#### `<<k` ($\\times 2^k$)"
   ]
  },
  {
   "cell_type": "code",
   "execution_count": 20,
   "metadata": {},
   "outputs": [
    {
     "data": {
      "text/plain": [
       "(12, 12)"
      ]
     },
     "execution_count": 20,
     "metadata": {},
     "output_type": "execute_result"
    }
   ],
   "source": [
    "3*2**2, 3<<2"
   ]
  },
  {
   "attachments": {},
   "cell_type": "markdown",
   "metadata": {},
   "source": [
    "### Floating point"
   ]
  },
  {
   "cell_type": "code",
   "execution_count": 21,
   "metadata": {},
   "outputs": [
    {
     "data": {
      "text/plain": [
       "True"
      ]
     },
     "execution_count": 21,
     "metadata": {},
     "output_type": "execute_result"
    }
   ],
   "source": [
    "0.1 + 0.1 == 0.2"
   ]
  },
  {
   "cell_type": "code",
   "execution_count": 22,
   "metadata": {},
   "outputs": [
    {
     "data": {
      "text/plain": [
       "False"
      ]
     },
     "execution_count": 22,
     "metadata": {},
     "output_type": "execute_result"
    }
   ],
   "source": [
    "0.1 + 0.2 == 0.3"
   ]
  },
  {
   "cell_type": "code",
   "execution_count": 23,
   "metadata": {},
   "outputs": [
    {
     "data": {
      "text/plain": [
       "0.30000000000000004"
      ]
     },
     "execution_count": 23,
     "metadata": {},
     "output_type": "execute_result"
    }
   ],
   "source": [
    "0.1 + 0.2"
   ]
  },
  {
   "attachments": {},
   "cell_type": "markdown",
   "metadata": {},
   "source": [
    "**Q**: What??????\n",
    "\n",
    "Answer: 👉 (https://docs.python.org/3/tutorial/floatingpoint.html/)\n"
   ]
  },
  {
   "cell_type": "code",
   "execution_count": 24,
   "metadata": {},
   "outputs": [],
   "source": [
    "def bin_dec(x, precision=100):\n",
    "    # x = n.d (int.decimal)\n",
    "    n = int(x)\n",
    "    d = x - n\n",
    "    counter = 0\n",
    "    decimal = \"\"    \n",
    "    while d != 0:\n",
    "        if len(decimal) > precision:\n",
    "            decimal += \"...\"\n",
    "            break\n",
    "        d = 2*d\n",
    "        leading = int(d)\n",
    "        decimal += str(leading)\n",
    "        d = d - leading\n",
    "        counter += 1\n",
    "    \n",
    "    return bin(n)[2:] + \".\"  + decimal + f\"    ({counter})\""
   ]
  },
  {
   "cell_type": "code",
   "execution_count": 25,
   "metadata": {},
   "outputs": [
    {
     "data": {
      "text/plain": [
       "'0.0001100110011001100110011001100110011001100110011001101    (55)'"
      ]
     },
     "execution_count": 25,
     "metadata": {},
     "output_type": "execute_result"
    }
   ],
   "source": [
    "bin_dec(.1)"
   ]
  },
  {
   "cell_type": "code",
   "execution_count": 26,
   "metadata": {},
   "outputs": [
    {
     "data": {
      "text/plain": [
       "True"
      ]
     },
     "execution_count": 26,
     "metadata": {},
     "output_type": "execute_result"
    }
   ],
   "source": [
    "eval(repr(0.1)) == 0.1"
   ]
  },
  {
   "cell_type": "code",
   "execution_count": 27,
   "metadata": {},
   "outputs": [
    {
     "data": {
      "text/plain": [
       "'0.001100110011001100110011001100110011001100110011001101    (54)'"
      ]
     },
     "execution_count": 27,
     "metadata": {},
     "output_type": "execute_result"
    }
   ],
   "source": [
    "bin_dec(.2)"
   ]
  },
  {
   "cell_type": "code",
   "execution_count": 28,
   "metadata": {},
   "outputs": [
    {
     "data": {
      "text/plain": [
       "'0.010011001100110011001100110011001100110011001100110011    (54)'"
      ]
     },
     "execution_count": 28,
     "metadata": {},
     "output_type": "execute_result"
    }
   ],
   "source": [
    "bin_dec(.3)"
   ]
  },
  {
   "cell_type": "code",
   "execution_count": 29,
   "metadata": {},
   "outputs": [
    {
     "data": {
      "text/plain": [
       "'0.0100110011001100110011001100110011001100110011001101    (52)'"
      ]
     },
     "execution_count": 29,
     "metadata": {},
     "output_type": "execute_result"
    }
   ],
   "source": [
    "bin_dec(.1+.2)"
   ]
  },
  {
   "cell_type": "code",
   "execution_count": 30,
   "metadata": {},
   "outputs": [
    {
     "data": {
      "text/plain": [
       "'0.0100110011001100110011001100110011001100110011001101    (52)'"
      ]
     },
     "execution_count": 30,
     "metadata": {},
     "output_type": "execute_result"
    }
   ],
   "source": [
    "bin_dec(0.30000000000000004)"
   ]
  },
  {
   "cell_type": "code",
   "execution_count": 31,
   "metadata": {},
   "outputs": [
    {
     "name": "stdout",
     "output_type": "stream",
     "text": [
      "\n",
      ".1\t:\t0.0001100110011001100110011001100110011001100110011001101    (55)\n",
      ".2\t:\t0.001100110011001100110011001100110011001100110011001101    (54)\n",
      ".1+.2\t:\t0.0100110011001100110011001100110011001100110011001101    (52)\n",
      ".3\t:\t0.010011001100110011001100110011001100110011001100110011    (54)\n",
      ".30...4\t:\t0.0100110011001100110011001100110011001100110011001101    (52)\n",
      "\n"
     ]
    }
   ],
   "source": [
    "print(f\"\"\"\n",
    ".1\\t:\\t{bin_dec(.1)}\n",
    ".2\\t:\\t{bin_dec(.2)}\n",
    ".1+.2\\t:\\t{bin_dec(.1+.2)}\n",
    ".3\\t:\\t{bin_dec(.3)}\n",
    ".30...4\\t:\\t{bin_dec(0.30000000000000004)}\n",
    "\"\"\"\n",
    ")"
   ]
  },
  {
   "attachments": {},
   "cell_type": "markdown",
   "metadata": {},
   "source": [
    "IEEE floating point standard 754:\n",
    "===\n",
    "\n",
    "$$(-1)^s\\times 2^{E} \\times M$$  \n",
    "\n",
    "Bits representation: [$s$ | $exp$ | $frac$ ] where $exp$ is an `unsigned int`.\n",
    "\n",
    "- $s$: $1$ bit for sign,\n",
    "- $bias = 2^{\\text{bit\\_size\\_of}(exp) - 1} - 1$ \n",
    "- if $exp = 0$:\n",
    "  - $M = 0.[frac]$ (denormalized or near zero),\n",
    "  - $E = 1 + exp - bias = 1 - bias$.\n",
    "- else if $exp < 11...1$:\n",
    "  - $M = 1.[frac]$ (normalized),\n",
    "  - $E = exp - bias$\n",
    "- else: ($exp = 11...1$)\n",
    "  - `inf` for $frac = 0$ and\n",
    "  - `NaN` for $frac \\neq 0$\n",
    "\n",
    "Types:\n",
    "===\n",
    "\n",
    "- Single precision (`float32`):\n",
    "  - $frac$: $23$ bits,\n",
    "  - $exp$: $8$ bits ($\\implies bias = 2^{8-1} - 1 = 127$).\n",
    "- Half precision (`float16`):\n",
    "  - $frac$: $10$ bits,\n",
    "  - $exp$: $5$ bits.\n",
    "- Double precision (`float64`):\n",
    "  - $frac$: $52$ bits,\n",
    "  - $exp$: $11$ bits.\n",
    "- Quadruple precision (`float128`):\n",
    "  - $frac$: $112$ bits,\n",
    "  - $exp$: $15$ bits.\n",
    "- Octuple precision (`float256`):\n",
    "  - $frac$: $236$ bits,\n",
    "  - $exp$: $19$ bits.\n"
   ]
  },
  {
   "attachments": {},
   "cell_type": "markdown",
   "metadata": {},
   "source": [
    "### `==` vs `is`"
   ]
  },
  {
   "cell_type": "code",
   "execution_count": 32,
   "metadata": {},
   "outputs": [],
   "source": [
    "a = (1,2)\n",
    "b = a\n",
    "c = (1,2)"
   ]
  },
  {
   "cell_type": "code",
   "execution_count": 33,
   "metadata": {},
   "outputs": [
    {
     "data": {
      "text/plain": [
       "(True, True, True)"
      ]
     },
     "execution_count": 33,
     "metadata": {},
     "output_type": "execute_result"
    }
   ],
   "source": [
    "a == b, b == c, c == a"
   ]
  },
  {
   "cell_type": "code",
   "execution_count": 34,
   "metadata": {},
   "outputs": [
    {
     "data": {
      "text/plain": [
       "(True, False, False)"
      ]
     },
     "execution_count": 34,
     "metadata": {},
     "output_type": "execute_result"
    }
   ],
   "source": [
    "a is b, b is c, c is a"
   ]
  },
  {
   "cell_type": "code",
   "execution_count": null,
   "metadata": {},
   "outputs": [],
   "source": []
  }
 ],
 "metadata": {
  "kernelspec": {
   "display_name": "Python 3",
   "language": "python",
   "name": "python3"
  },
  "language_info": {
   "codemirror_mode": {
    "name": "ipython",
    "version": 3
   },
   "file_extension": ".py",
   "mimetype": "text/x-python",
   "name": "python",
   "nbconvert_exporter": "python",
   "pygments_lexer": "ipython3",
   "version": "3.10.10"
  },
  "orig_nbformat": 4,
  "vscode": {
   "interpreter": {
    "hash": "b0fa6594d8f4cbf19f97940f81e996739fb7646882a419484c72d19e05852a7e"
   }
  }
 },
 "nbformat": 4,
 "nbformat_minor": 2
}
