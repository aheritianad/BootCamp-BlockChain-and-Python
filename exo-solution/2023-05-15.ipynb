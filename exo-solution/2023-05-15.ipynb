{
 "cells": [
  {
   "attachments": {},
   "cell_type": "markdown",
   "metadata": {},
   "source": [
    "https://aheritianad.github.io/teaching/ankatso/mafi/exercises/solutions/20230515"
   ]
  },
  {
   "attachments": {},
   "cell_type": "markdown",
   "metadata": {},
   "source": [
    "# Assignment & Mutable vs Immutable"
   ]
  },
  {
   "cell_type": "code",
   "execution_count": 1,
   "metadata": {},
   "outputs": [],
   "source": [
    "def f(x:list):\n",
    "    x += [\"f\"]\n",
    "\n",
    "def g(x:list):\n",
    "    x = x + [\"g\"]\n"
   ]
  },
  {
   "cell_type": "code",
   "execution_count": 2,
   "metadata": {},
   "outputs": [
    {
     "data": {
      "text/plain": [
       "[1, 2, 3, 'f']"
      ]
     },
     "execution_count": 2,
     "metadata": {},
     "output_type": "execute_result"
    }
   ],
   "source": [
    "a = [1,2,3]\n",
    "f(a)\n",
    "a"
   ]
  },
  {
   "cell_type": "code",
   "execution_count": 3,
   "metadata": {},
   "outputs": [
    {
     "data": {
      "text/plain": [
       "[1, 2, 3]"
      ]
     },
     "execution_count": 3,
     "metadata": {},
     "output_type": "execute_result"
    }
   ],
   "source": [
    "a = [1,2,3]\n",
    "g(a)\n",
    "a"
   ]
  },
  {
   "cell_type": "code",
   "execution_count": 4,
   "metadata": {},
   "outputs": [],
   "source": [
    "\n",
    "def h(x, y = []):\n",
    "    y.append(x)\n",
    "    print(y)"
   ]
  },
  {
   "cell_type": "code",
   "execution_count": 5,
   "metadata": {},
   "outputs": [
    {
     "name": "stdout",
     "output_type": "stream",
     "text": [
      "[1, 2, 3, 4]\n"
     ]
    }
   ],
   "source": [
    "h(4,a)"
   ]
  },
  {
   "cell_type": "code",
   "execution_count": 6,
   "metadata": {},
   "outputs": [
    {
     "data": {
      "text/plain": [
       "[1, 2, 3, 4]"
      ]
     },
     "execution_count": 6,
     "metadata": {},
     "output_type": "execute_result"
    }
   ],
   "source": [
    "a"
   ]
  },
  {
   "cell_type": "code",
   "execution_count": 7,
   "metadata": {},
   "outputs": [
    {
     "name": "stdout",
     "output_type": "stream",
     "text": [
      "[5]\n"
     ]
    }
   ],
   "source": [
    "h(5)"
   ]
  },
  {
   "cell_type": "code",
   "execution_count": 8,
   "metadata": {},
   "outputs": [
    {
     "data": {
      "text/plain": [
       "[1, 2, 3, 4]"
      ]
     },
     "execution_count": 8,
     "metadata": {},
     "output_type": "execute_result"
    }
   ],
   "source": [
    "a"
   ]
  },
  {
   "cell_type": "code",
   "execution_count": 9,
   "metadata": {},
   "outputs": [
    {
     "name": "stdout",
     "output_type": "stream",
     "text": [
      "[5, 6]\n"
     ]
    }
   ],
   "source": [
    "h(6)"
   ]
  },
  {
   "cell_type": "code",
   "execution_count": 10,
   "metadata": {},
   "outputs": [],
   "source": [
    "def h(x, y = None):\n",
    "    if y is None:\n",
    "        y = []\n",
    "    y.append(x)\n",
    "    print(y)"
   ]
  },
  {
   "cell_type": "code",
   "execution_count": 11,
   "metadata": {},
   "outputs": [
    {
     "name": "stdout",
     "output_type": "stream",
     "text": [
      "[5]\n"
     ]
    }
   ],
   "source": [
    "h(5)"
   ]
  },
  {
   "cell_type": "code",
   "execution_count": 12,
   "metadata": {},
   "outputs": [
    {
     "name": "stdout",
     "output_type": "stream",
     "text": [
      "[6]\n"
     ]
    }
   ],
   "source": [
    "h(6)"
   ]
  },
  {
   "attachments": {},
   "cell_type": "markdown",
   "metadata": {},
   "source": [
    "# OOP"
   ]
  },
  {
   "cell_type": "code",
   "execution_count": 13,
   "metadata": {},
   "outputs": [],
   "source": [
    "class ClassName(object):\n",
    "    def __new__(cls, *args, **kwargs):\n",
    "        print(\"Creating instance with __new__.\")\n",
    "        self = super().__new__(cls)\n",
    "        return self\n",
    "\n",
    "    def __init__(self, arg):\n",
    "        print(f\"Initializing instance with __init__ and agument {arg}.\")\n",
    "        self.arg = arg"
   ]
  },
  {
   "cell_type": "code",
   "execution_count": 14,
   "metadata": {},
   "outputs": [
    {
     "name": "stdout",
     "output_type": "stream",
     "text": [
      "Creating instance with __new__.\n",
      "Initializing instance with __init__ and agument my_argument.\n"
     ]
    }
   ],
   "source": [
    "a = ClassName(\"my_argument\")"
   ]
  },
  {
   "cell_type": "code",
   "execution_count": 15,
   "metadata": {},
   "outputs": [
    {
     "data": {
      "text/plain": [
       "__main__.ClassName"
      ]
     },
     "execution_count": 15,
     "metadata": {},
     "output_type": "execute_result"
    }
   ],
   "source": [
    "type(a)"
   ]
  },
  {
   "cell_type": "code",
   "execution_count": 16,
   "metadata": {},
   "outputs": [
    {
     "data": {
      "text/plain": [
       "'my_argument'"
      ]
     },
     "execution_count": 16,
     "metadata": {},
     "output_type": "execute_result"
    }
   ],
   "source": [
    "a.arg"
   ]
  },
  {
   "cell_type": "code",
   "execution_count": 17,
   "metadata": {},
   "outputs": [],
   "source": [
    "class Person:\n",
    "    def __init__(self, name, sex, age, salary = 0, algebra = 0):\n",
    "        self.name = name\n",
    "        self.sex = sex\n",
    "        self.age = age\n",
    "        self._salary = salary\n",
    "        self.__algebra = algebra\n",
    "\n",
    "    def __repr__(self) -> str:\n",
    "        return f\"repr {self.name}\"\n",
    "\n",
    "    def __str__(self):\n",
    "        return \"str \" + str(self.name)\n",
    "\n",
    "    def __add__(self, other:\"Person\"): # self + other\n",
    "        if not isinstance(other, Person):\n",
    "            raise ValueError(\"other needs to be Person\")\n",
    "        name = self.name + \" \" + other.name\n",
    "        sex = \"M\" if \"M\" in (self.sex, other.sex) else \"F\"\n",
    "        age = max(self.age, other.age)\n",
    "        salary = self._salary + other._salary\n",
    "        algebra = min(self.__algebra, other._Person__algebra)\n",
    "        return Person(name, sex, age, salary, algebra)\n",
    "\n",
    "    def introduce_myself(self, to = \"all\"):\n",
    "        print(f\"Hello {to}! I am {self.name} and I am {self.age} years old.\")"
   ]
  },
  {
   "cell_type": "code",
   "execution_count": 18,
   "metadata": {},
   "outputs": [
    {
     "name": "stdout",
     "output_type": "stream",
     "text": [
      "str name1\n"
     ]
    },
    {
     "data": {
      "text/plain": [
       "repr name2"
      ]
     },
     "execution_count": 18,
     "metadata": {},
     "output_type": "execute_result"
    }
   ],
   "source": [
    "person1 = Person(\"name1\", \"M\",1)\n",
    "person2 = Person(\"name2\", \"F\",2)\n",
    "print(person1)\n",
    "person2"
   ]
  },
  {
   "cell_type": "code",
   "execution_count": 19,
   "metadata": {},
   "outputs": [
    {
     "data": {
      "text/plain": [
       "('name1', 'M')"
      ]
     },
     "execution_count": 19,
     "metadata": {},
     "output_type": "execute_result"
    }
   ],
   "source": [
    "person1.name, person1.sex"
   ]
  },
  {
   "cell_type": "code",
   "execution_count": 20,
   "metadata": {},
   "outputs": [
    {
     "data": {
      "text/plain": [
       "('name2', 'F')"
      ]
     },
     "execution_count": 20,
     "metadata": {},
     "output_type": "execute_result"
    }
   ],
   "source": [
    "person2.name, person2.sex"
   ]
  },
  {
   "cell_type": "code",
   "execution_count": 21,
   "metadata": {},
   "outputs": [
    {
     "name": "stdout",
     "output_type": "stream",
     "text": [
      "Hello all! I am name1 and I am 1 years old.\n"
     ]
    }
   ],
   "source": [
    "person1.introduce_myself(to=\"all\")"
   ]
  },
  {
   "cell_type": "code",
   "execution_count": 22,
   "metadata": {},
   "outputs": [
    {
     "name": "stdout",
     "output_type": "stream",
     "text": [
      "Hello class! I am name1 and I am 1 years old.\n"
     ]
    }
   ],
   "source": [
    "person1.introduce_myself(to=\"class\")"
   ]
  },
  {
   "cell_type": "code",
   "execution_count": 23,
   "metadata": {},
   "outputs": [],
   "source": [
    "class Woman(Person):\n",
    "    def __init__(self, name, age) -> None:\n",
    "        Person.__init__(self, name, \"F\", age)\n",
    "    def __repr__(self) -> str:\n",
    "        return \"Woman repr\"\n",
    "    \n",
    "    def introduce_myself(self, to = \"all\"):\n",
    "        print(f\"Hello {to}! my name is {self.name}. I am a girl of {self.age} years old.\")\n",
    "\n",
    "\n",
    "class Man(Person):\n",
    "    def __init__(self, name, age) -> None:\n",
    "        super().__init__(name, \"M\", age)\n",
    "    def __repr__(self) -> str:\n",
    "        return \"Man repr\""
   ]
  },
  {
   "cell_type": "code",
   "execution_count": 24,
   "metadata": {},
   "outputs": [
    {
     "data": {
      "text/plain": [
       "('M', 'F')"
      ]
     },
     "execution_count": 24,
     "metadata": {},
     "output_type": "execute_result"
    }
   ],
   "source": [
    "man = Man(\"man_name\",21)\n",
    "woman = Woman(\"woman_name\",20)\n",
    "\n",
    "man.sex, woman.sex"
   ]
  },
  {
   "cell_type": "code",
   "execution_count": 25,
   "metadata": {},
   "outputs": [
    {
     "data": {
      "text/plain": [
       "True"
      ]
     },
     "execution_count": 25,
     "metadata": {},
     "output_type": "execute_result"
    }
   ],
   "source": [
    "isinstance(man, Person)"
   ]
  },
  {
   "cell_type": "code",
   "execution_count": 26,
   "metadata": {},
   "outputs": [
    {
     "data": {
      "text/plain": [
       "20"
      ]
     },
     "execution_count": 26,
     "metadata": {},
     "output_type": "execute_result"
    }
   ],
   "source": [
    "woman.age"
   ]
  },
  {
   "cell_type": "code",
   "execution_count": 27,
   "metadata": {},
   "outputs": [
    {
     "data": {
      "text/plain": [
       "Man repr"
      ]
     },
     "execution_count": 27,
     "metadata": {},
     "output_type": "execute_result"
    }
   ],
   "source": [
    "man"
   ]
  },
  {
   "cell_type": "code",
   "execution_count": 28,
   "metadata": {},
   "outputs": [
    {
     "data": {
      "text/plain": [
       "0"
      ]
     },
     "execution_count": 28,
     "metadata": {},
     "output_type": "execute_result"
    }
   ],
   "source": [
    "man._salary"
   ]
  },
  {
   "cell_type": "code",
   "execution_count": 29,
   "metadata": {},
   "outputs": [
    {
     "data": {
      "text/plain": [
       "0"
      ]
     },
     "execution_count": 29,
     "metadata": {},
     "output_type": "execute_result"
    }
   ],
   "source": [
    "woman._Person__algebra"
   ]
  },
  {
   "cell_type": "code",
   "execution_count": 30,
   "metadata": {},
   "outputs": [
    {
     "name": "stdout",
     "output_type": "stream",
     "text": [
      "Hello all! I am man_name and I am 21 years old.\n"
     ]
    }
   ],
   "source": [
    "man.introduce_myself()"
   ]
  },
  {
   "cell_type": "code",
   "execution_count": 31,
   "metadata": {},
   "outputs": [
    {
     "name": "stdout",
     "output_type": "stream",
     "text": [
      "Hello all! my name is woman_name. I am a girl of 20 years old.\n"
     ]
    }
   ],
   "source": [
    "woman.introduce_myself()"
   ]
  },
  {
   "cell_type": "code",
   "execution_count": 32,
   "metadata": {},
   "outputs": [],
   "source": [
    "baby = man + woman"
   ]
  },
  {
   "cell_type": "code",
   "execution_count": 33,
   "metadata": {},
   "outputs": [
    {
     "data": {
      "text/plain": [
       "'M'"
      ]
     },
     "execution_count": 33,
     "metadata": {},
     "output_type": "execute_result"
    }
   ],
   "source": [
    "baby.sex"
   ]
  },
  {
   "cell_type": "code",
   "execution_count": 35,
   "metadata": {},
   "outputs": [
    {
     "ename": "ValueError",
     "evalue": "other needs to be Person",
     "output_type": "error",
     "traceback": [
      "\u001b[0;31m---------------------------------------------------------------------------\u001b[0m",
      "\u001b[0;31mValueError\u001b[0m                                Traceback (most recent call last)",
      "\u001b[0;32m/var/folders/x4/45r2t3bx5l3dc_b3tm_yz7380000gn/T/ipykernel_52418/1757345412.py\u001b[0m in \u001b[0;36m<cell line: 1>\u001b[0;34m()\u001b[0m\n\u001b[0;32m----> 1\u001b[0;31m \u001b[0mman\u001b[0m \u001b[0;34m+\u001b[0m \u001b[0;36m1\u001b[0m\u001b[0;34m\u001b[0m\u001b[0;34m\u001b[0m\u001b[0m\n\u001b[0m",
      "\u001b[0;32m/var/folders/x4/45r2t3bx5l3dc_b3tm_yz7380000gn/T/ipykernel_52418/1173461491.py\u001b[0m in \u001b[0;36m__add__\u001b[0;34m(self, other)\u001b[0m\n\u001b[1;32m     15\u001b[0m     \u001b[0;32mdef\u001b[0m \u001b[0m__add__\u001b[0m\u001b[0;34m(\u001b[0m\u001b[0mself\u001b[0m\u001b[0;34m,\u001b[0m \u001b[0mother\u001b[0m\u001b[0;34m:\u001b[0m\u001b[0;34m\"Person\"\u001b[0m\u001b[0;34m)\u001b[0m\u001b[0;34m:\u001b[0m \u001b[0;31m# self + other\u001b[0m\u001b[0;34m\u001b[0m\u001b[0;34m\u001b[0m\u001b[0m\n\u001b[1;32m     16\u001b[0m         \u001b[0;32mif\u001b[0m \u001b[0;32mnot\u001b[0m \u001b[0misinstance\u001b[0m\u001b[0;34m(\u001b[0m\u001b[0mother\u001b[0m\u001b[0;34m,\u001b[0m \u001b[0mPerson\u001b[0m\u001b[0;34m)\u001b[0m\u001b[0;34m:\u001b[0m\u001b[0;34m\u001b[0m\u001b[0;34m\u001b[0m\u001b[0m\n\u001b[0;32m---> 17\u001b[0;31m             \u001b[0;32mraise\u001b[0m \u001b[0mValueError\u001b[0m\u001b[0;34m(\u001b[0m\u001b[0;34m\"other needs to be Person\"\u001b[0m\u001b[0;34m)\u001b[0m\u001b[0;34m\u001b[0m\u001b[0;34m\u001b[0m\u001b[0m\n\u001b[0m\u001b[1;32m     18\u001b[0m         \u001b[0mname\u001b[0m \u001b[0;34m=\u001b[0m \u001b[0mself\u001b[0m\u001b[0;34m.\u001b[0m\u001b[0mname\u001b[0m \u001b[0;34m+\u001b[0m \u001b[0;34m\" \"\u001b[0m \u001b[0;34m+\u001b[0m \u001b[0mother\u001b[0m\u001b[0;34m.\u001b[0m\u001b[0mname\u001b[0m\u001b[0;34m\u001b[0m\u001b[0;34m\u001b[0m\u001b[0m\n\u001b[1;32m     19\u001b[0m         \u001b[0msex\u001b[0m \u001b[0;34m=\u001b[0m \u001b[0;34m\"M\"\u001b[0m \u001b[0;32mif\u001b[0m \u001b[0;34m\"M\"\u001b[0m \u001b[0;32min\u001b[0m \u001b[0;34m(\u001b[0m\u001b[0mself\u001b[0m\u001b[0;34m.\u001b[0m\u001b[0msex\u001b[0m\u001b[0;34m,\u001b[0m \u001b[0mother\u001b[0m\u001b[0;34m.\u001b[0m\u001b[0msex\u001b[0m\u001b[0;34m)\u001b[0m \u001b[0;32melse\u001b[0m \u001b[0;34m\"F\"\u001b[0m\u001b[0;34m\u001b[0m\u001b[0;34m\u001b[0m\u001b[0m\n",
      "\u001b[0;31mValueError\u001b[0m: other needs to be Person"
     ]
    }
   ],
   "source": [
    "man + 1"
   ]
  },
  {
   "cell_type": "code",
   "execution_count": 36,
   "metadata": {},
   "outputs": [],
   "source": [
    "a = [1,2,3]\n",
    "s = 4"
   ]
  },
  {
   "cell_type": "code",
   "execution_count": 37,
   "metadata": {},
   "outputs": [
    {
     "ename": "TypeError",
     "evalue": "can only concatenate list (not \"int\") to list",
     "output_type": "error",
     "traceback": [
      "\u001b[0;31m---------------------------------------------------------------------------\u001b[0m",
      "\u001b[0;31mTypeError\u001b[0m                                 Traceback (most recent call last)",
      "\u001b[0;32m/var/folders/x4/45r2t3bx5l3dc_b3tm_yz7380000gn/T/ipykernel_52418/161887175.py\u001b[0m in \u001b[0;36m<cell line: 1>\u001b[0;34m()\u001b[0m\n\u001b[0;32m----> 1\u001b[0;31m \u001b[0ma\u001b[0m \u001b[0;34m+\u001b[0m \u001b[0ms\u001b[0m\u001b[0;34m\u001b[0m\u001b[0;34m\u001b[0m\u001b[0m\n\u001b[0m",
      "\u001b[0;31mTypeError\u001b[0m: can only concatenate list (not \"int\") to list"
     ]
    }
   ],
   "source": [
    "a + s"
   ]
  },
  {
   "cell_type": "code",
   "execution_count": 38,
   "metadata": {},
   "outputs": [],
   "source": [
    "class OurList(list):\n",
    "    def __add__(self, other):\n",
    "        if isinstance(other,list):\n",
    "            return super().__add__(other)\n",
    "        else:\n",
    "            tmp = self.copy()\n",
    "            tmp.append(other)\n",
    "            return tmp"
   ]
  },
  {
   "cell_type": "code",
   "execution_count": 39,
   "metadata": {},
   "outputs": [],
   "source": [
    "a = OurList([1,2,3])\n",
    "s = 4"
   ]
  },
  {
   "cell_type": "code",
   "execution_count": 40,
   "metadata": {},
   "outputs": [
    {
     "data": {
      "text/plain": [
       "[1, 2, 3, 4]"
      ]
     },
     "execution_count": 40,
     "metadata": {},
     "output_type": "execute_result"
    }
   ],
   "source": [
    "a + s"
   ]
  },
  {
   "cell_type": "code",
   "execution_count": 41,
   "metadata": {},
   "outputs": [
    {
     "data": {
      "text/plain": [
       "True"
      ]
     },
     "execution_count": 41,
     "metadata": {},
     "output_type": "execute_result"
    }
   ],
   "source": [
    "isinstance(a, list)"
   ]
  },
  {
   "cell_type": "code",
   "execution_count": 42,
   "metadata": {},
   "outputs": [],
   "source": [
    "a = 2"
   ]
  },
  {
   "cell_type": "code",
   "execution_count": 43,
   "metadata": {},
   "outputs": [
    {
     "data": {
      "text/plain": [
       "False"
      ]
     },
     "execution_count": 43,
     "metadata": {},
     "output_type": "execute_result"
    }
   ],
   "source": [
    "isinstance(a, float)"
   ]
  },
  {
   "attachments": {},
   "cell_type": "markdown",
   "metadata": {},
   "source": [
    "## Fraction"
   ]
  },
  {
   "cell_type": "code",
   "execution_count": 44,
   "metadata": {},
   "outputs": [],
   "source": [
    "class Frac:\n",
    "    def __init__(self, num, denom=1) -> None:\n",
    "        if denom == 0:\n",
    "            raise ZeroDivisionError\n",
    "        self.num = num\n",
    "        self.denom = denom\n",
    "\n",
    "    def __repr__(self) -> str:\n",
    "        if self.denom == 1:\n",
    "            return str(self.num)\n",
    "        return f\"Frac({self.num}, {self.denom})\"\n",
    "\n",
    "    def latex(self) -> str:\n",
    "        try:\n",
    "            latex_n = self.num.latex()\n",
    "        except AttributeError:\n",
    "            latex_n = str(self.num)\n",
    "        if self.denom == 1:\n",
    "            return latex_n\n",
    "        try:\n",
    "            latex_d = self.denom.latex()\n",
    "        except AttributeError:\n",
    "            latex_d = str(self.denom)\n",
    "        return \"\\\\frac{\" + latex_n + \"}\" + \"{\" + latex_d + \"}\"\n",
    "\n",
    "    def __eq__(self, other: object) -> bool:  # self == other\n",
    "        if isinstance(other, Frac):\n",
    "            return self.num * other.denom == self.denom * other.num\n",
    "        return self == Frac(other)\n",
    "\n",
    "    def __add__(self, other: object) -> bool:  # self + other\n",
    "        if isinstance(other, Frac):\n",
    "            return Frac(\n",
    "                self.num * other.denom + self.denom * other.num,\n",
    "                self.denom * other.denom,\n",
    "            )\n",
    "        return self + Frac(other)\n",
    "\n",
    "    def __radd__(self, other):  # other + self\n",
    "        return self + other\n",
    "\n",
    "    def __mul__(self, other: object) -> bool:  # self * other\n",
    "        if isinstance(other, Frac):\n",
    "            return Frac(self.num * other.num, self.denom * other.denom)\n",
    "        return self * Frac(other)\n",
    "\n",
    "    def __rmul__(self, other):  # other * self\n",
    "        return self * other\n",
    "\n",
    "    def __truediv__(self, other):  # self / other\n",
    "        if other == 0:\n",
    "            raise ZeroDivisionError\n",
    "        if isinstance(other, Frac):\n",
    "            return Frac(self.num * other.denom, self.denom * other.num)\n",
    "        return self / Frac(other)\n",
    "\n",
    "    def __rtruediv__(self, other):  # other / self\n",
    "        return Frac(other) / self\n",
    "\n",
    "    def simplify(self):  # self.simplify()\n",
    "        try:\n",
    "            d = self.num.gcd(self.denom)\n",
    "        except AttributeError:\n",
    "            if isinstance(self.num, int) and isinstance(self.denom, int):\n",
    "                n = self.num\n",
    "                d = self.denom\n",
    "                while r := n % d:\n",
    "                    n, d = d, r\n",
    "            else:\n",
    "                d = 1\n",
    "        self.num //= d\n",
    "        self.denom //= d\n",
    "        if self.denom == -1:\n",
    "            self.denom = 1\n",
    "            self.num *= -1\n",
    "\n",
    "        return self"
   ]
  },
  {
   "cell_type": "code",
   "execution_count": 45,
   "metadata": {},
   "outputs": [
    {
     "data": {
      "text/plain": [
       "Frac(2, 8)"
      ]
     },
     "execution_count": 45,
     "metadata": {},
     "output_type": "execute_result"
    }
   ],
   "source": [
    "a = Frac(2,8)\n",
    "a"
   ]
  },
  {
   "cell_type": "code",
   "execution_count": 46,
   "metadata": {},
   "outputs": [
    {
     "name": "stdout",
     "output_type": "stream",
     "text": [
      "\\frac{2}{8}\n"
     ]
    }
   ],
   "source": [
    "print(a.latex())"
   ]
  },
  {
   "cell_type": "code",
   "execution_count": 47,
   "metadata": {},
   "outputs": [
    {
     "data": {
      "text/plain": [
       "True"
      ]
     },
     "execution_count": 47,
     "metadata": {},
     "output_type": "execute_result"
    }
   ],
   "source": [
    "a == 1/4"
   ]
  },
  {
   "cell_type": "code",
   "execution_count": 48,
   "metadata": {},
   "outputs": [
    {
     "data": {
      "text/plain": [
       "Frac(10, 8)"
      ]
     },
     "execution_count": 48,
     "metadata": {},
     "output_type": "execute_result"
    }
   ],
   "source": [
    "a + 1"
   ]
  },
  {
   "cell_type": "code",
   "execution_count": 49,
   "metadata": {},
   "outputs": [
    {
     "data": {
      "text/plain": [
       "Frac(4, 64)"
      ]
     },
     "execution_count": 49,
     "metadata": {},
     "output_type": "execute_result"
    }
   ],
   "source": [
    "a*a"
   ]
  },
  {
   "cell_type": "code",
   "execution_count": 50,
   "metadata": {},
   "outputs": [
    {
     "data": {
      "text/plain": [
       "Frac(16, 8)"
      ]
     },
     "execution_count": 50,
     "metadata": {},
     "output_type": "execute_result"
    }
   ],
   "source": [
    "8*a"
   ]
  },
  {
   "cell_type": "code",
   "execution_count": 51,
   "metadata": {},
   "outputs": [
    {
     "data": {
      "text/plain": [
       "Frac(2, 4.0)"
      ]
     },
     "execution_count": 51,
     "metadata": {},
     "output_type": "execute_result"
    }
   ],
   "source": [
    "a/.5"
   ]
  },
  {
   "cell_type": "code",
   "execution_count": 52,
   "metadata": {},
   "outputs": [
    {
     "data": {
      "text/plain": [
       "Frac(8, 2)"
      ]
     },
     "execution_count": 52,
     "metadata": {},
     "output_type": "execute_result"
    }
   ],
   "source": [
    "1/a"
   ]
  },
  {
   "cell_type": "code",
   "execution_count": 53,
   "metadata": {},
   "outputs": [
    {
     "data": {
      "text/plain": [
       "Frac(1, 4)"
      ]
     },
     "execution_count": 53,
     "metadata": {},
     "output_type": "execute_result"
    }
   ],
   "source": [
    "a.simplify()"
   ]
  },
  {
   "attachments": {},
   "cell_type": "markdown",
   "metadata": {},
   "source": [
    "## Polynomial"
   ]
  },
  {
   "cell_type": "code",
   "execution_count": 54,
   "metadata": {},
   "outputs": [],
   "source": [
    "import re\n",
    "\n",
    "\n",
    "def process_string_polynomial(polynomial, indeterminate=\"X\"):\n",
    "    coeffs = {}\n",
    "    polynomial = polynomial.replace(\" \", \"\")\n",
    "    monomials = re.findall(\n",
    "        rf\"(?:([+-]?[\\d\\.\\d]*)?({indeterminate}(?:\\^(\\d+))?)?)+?\", polynomial\n",
    "    )\n",
    "    for monomial in monomials:\n",
    "        coef_ = monomial[0].replace(\"+\", \"\")\n",
    "        if coef_ == \"\":\n",
    "            if monomial[2] != \"\":\n",
    "                coef = 1\n",
    "            else:\n",
    "                coef = 0\n",
    "        elif coef_ == \"-\":\n",
    "            coef = -1\n",
    "        else:\n",
    "            coef = float(coef_)\n",
    "\n",
    "        if coef != 0:\n",
    "            if monomial[1] == \"\":\n",
    "                i = 0\n",
    "            elif monomial[2] != \"\":\n",
    "                i = int(monomial[2])\n",
    "            else:\n",
    "                i = 1\n",
    "            coeffs[i] = coeffs.get(i, 0) + coef\n",
    "    return coeffs"
   ]
  },
  {
   "cell_type": "code",
   "execution_count": 55,
   "metadata": {},
   "outputs": [
    {
     "data": {
      "text/plain": [
       "{100: 1, 0: -1.0}"
      ]
     },
     "execution_count": 55,
     "metadata": {},
     "output_type": "execute_result"
    }
   ],
   "source": [
    "process_string_polynomial(\"X^100-1\")"
   ]
  },
  {
   "cell_type": "code",
   "execution_count": 56,
   "metadata": {},
   "outputs": [],
   "source": [
    "class Polynomial:\n",
    "    def __init__(self, coeffs=None, indeterminate=\"X\") -> None:\n",
    "        self.coeffs = {}\n",
    "        if coeffs is not None:\n",
    "            if isinstance(coeffs, (int, float)) and coeffs != 0:\n",
    "                self.coeffs[0] = coeffs\n",
    "            elif isinstance(coeffs, dict):\n",
    "                for i, ai in coeffs.items():\n",
    "                    if not isinstance(i, int) or i < 0:\n",
    "                        raise ValueError\n",
    "                    if ai != 0:\n",
    "                        self.coeffs[i] = ai\n",
    "            elif isinstance(coeffs, str):\n",
    "                self.coeffs = process_string_polynomial(coeffs, indeterminate)\n",
    "            else:\n",
    "                for i, ai in enumerate(coeffs):\n",
    "                    if ai != 0:\n",
    "                        self.coeffs[i] = ai\n",
    "        self._var = indeterminate\n",
    "\n",
    "    def __getitem__(self, key):  # self[key]\n",
    "        return self.coeffs.get(key, 0)\n",
    "\n",
    "    def __iter__(self):  # for ai in self or next(self)\n",
    "        i = 0\n",
    "        while True:\n",
    "            yield self[i]\n",
    "            i += 1\n",
    "            if self.degree < i:\n",
    "                break\n",
    "\n",
    "    @property\n",
    "    def degree(self):  # self.degree\n",
    "        if self == 0:\n",
    "            return -1\n",
    "        return max(self.coeffs.keys())\n",
    "\n",
    "    @property\n",
    "    def variable(self):\n",
    "        return self._var\n",
    "\n",
    "    @variable.setter\n",
    "    def variable(self, new_variable):\n",
    "        assert isinstance(new_variable, str) and \" \" not in new_variable\n",
    "        self._var = new_variable\n",
    "\n",
    "    def __eq__(self, other: object) -> bool:  # self == other\n",
    "        if other == 0:\n",
    "            return self.coeffs == {}\n",
    "        elif isinstance(other, Polynomial):\n",
    "            return self.coeffs == other.coeffs\n",
    "        elif isinstance(other, (int, float, complex)):\n",
    "            return self.degree == 0 and self[0] == other\n",
    "        else:\n",
    "            raise NotImplementedError\n",
    "\n",
    "    def _representation(self, use_latex=True) -> str:\n",
    "        with_latex = lambda char: char if use_latex else \"\"\n",
    "        if self.degree < 1:\n",
    "            return str(self[0])\n",
    "        string_version = \"\"\n",
    "        for i in sorted(self.coeffs):\n",
    "            ai = self[i]\n",
    "            string_version += \"+\" if ai > 0 else \"-\"\n",
    "            if int(ai) == ai:\n",
    "                ai = int(ai)\n",
    "            string_version += str(abs(ai)) if abs(ai) != 1 or i == 0 else \"\"\n",
    "            string_version += self._var if i > 0 else \"\"\n",
    "            string_version += (\n",
    "                \"^\" + with_latex(\"{\") + str(i) + with_latex(\"}\") if i > 1 else \"\"\n",
    "            )\n",
    "\n",
    "        if string_version[0] == \"+\":\n",
    "            string_version = string_version[1:]\n",
    "        return string_version\n",
    "\n",
    "    latex = lambda self: self._representation(True)\n",
    "    __str__ = lambda self: self._representation(False)\n",
    "    __repr__ = lambda self: f\"Polynomial({self})\"\n",
    "\n",
    "    def __add__(self, other):  # self + other\n",
    "        if other == 0:\n",
    "            return self\n",
    "        elif isinstance(other, Polynomial):\n",
    "            coeffs = {}\n",
    "            for i in range(max(self.degree, other.degree) + 1):\n",
    "                ai = self[i]\n",
    "                bi = other[i]\n",
    "                coeffs[i] = ai + bi\n",
    "            return Polynomial(coeffs)\n",
    "        elif isinstance(other, (int, float, complex)):\n",
    "            return self + Polynomial(other)\n",
    "        else:\n",
    "            raise NotImplementedError\n",
    "\n",
    "    def __radd__(self, other):  # other + self\n",
    "        return self + other\n",
    "\n",
    "    def __mul__(self, other):  # self * other\n",
    "        if other == 0:\n",
    "            return Polynomial()  # Zero polynomial\n",
    "        elif isinstance(other, Polynomial):\n",
    "            coeffs = {}\n",
    "            for i in range(self.degree + other.degree + 1):\n",
    "                ci = 0\n",
    "                for k in range(i + 1):\n",
    "                    ci += self[k] * other[i - k]\n",
    "                coeffs[i] = ci\n",
    "            return Polynomial(coeffs)\n",
    "        elif isinstance(other, (int, float, complex)):\n",
    "            return self * Polynomial(other)\n",
    "        else:\n",
    "            raise NotImplementedError\n",
    "\n",
    "    def __rmul__(self, other):  # other * self\n",
    "        return self * other\n",
    "\n",
    "    def __sub__(self, other):  # self - other\n",
    "        return self + (-1 * other)\n",
    "\n",
    "    def __rsub__(self, other):  # other - self\n",
    "        return -1 * self + other\n",
    "\n",
    "    def __divmod__(self, other):  # divmod(self, other) = self//other, self%other\n",
    "        if other == 0:\n",
    "            raise ZeroDivisionError\n",
    "        elif isinstance(other, (int, float, complex)):\n",
    "            coeffs = {i: ai / other for i, ai in self.coeffs.items()}\n",
    "            return Polynomial(coeffs), Polynomial()\n",
    "        elif isinstance(other, Polynomial):\n",
    "            if other.degree == 0:\n",
    "                return divmod(self, other[0])\n",
    "\n",
    "            R = self.coeffs.copy()\n",
    "            Q = {}\n",
    "            leading_other = other[other.degree]\n",
    "            while other.degree <= (d := max(R.keys())):\n",
    "                k = d - other.degree\n",
    "                Q[k] = R[d] / leading_other\n",
    "                # new_R = R - other*Q[k]*X^k\n",
    "                new_R = {}\n",
    "                for i in range(d):\n",
    "                    Ri = R.get(i, 0) - other[i - k] * Q[k]\n",
    "                    if Ri != 0:\n",
    "                        new_R[i] = Ri\n",
    "                R = new_R\n",
    "                if R == {}:\n",
    "                    break\n",
    "            return Polynomial(Q), Polynomial(R)\n",
    "        else:\n",
    "            raise NotImplementedError\n",
    "\n",
    "    def __floordiv__(self, other):  # self // other\n",
    "        return divmod(self, other)[0]\n",
    "\n",
    "    def __rfloordiv__(self, other):  # other // self\n",
    "        if isinstance(other, (int, float, complex)):\n",
    "            if self.degree == 0:\n",
    "                return Polynomial(other / self[0])\n",
    "            else:\n",
    "                return Polynomial()\n",
    "        else:\n",
    "            raise NotImplementedError\n",
    "\n",
    "    def __mod__(self, other):  # self % other\n",
    "        return divmod(self, other)[1]\n",
    "\n",
    "    def __call__(self, x):  # self(x)\n",
    "        d = self.degree\n",
    "        result = 0\n",
    "        for i in range(d + 1):\n",
    "            result *= x\n",
    "            result += self[d - i]\n",
    "        return result\n",
    "\n",
    "    def gcd(self, other):  # self.gcd(other)\n",
    "        d = self\n",
    "        r = other\n",
    "        while r != 0:\n",
    "            d, r = r, d % r\n",
    "        if d.degree == 0:\n",
    "            d = Polynomial(1)\n",
    "        return d\n",
    "\n",
    "    def __truediv__(self, other):\n",
    "        Q, R = divmod(self, other)\n",
    "        if R == 0:\n",
    "            return Q\n",
    "        else:\n",
    "            return Frac(self, other).simplify()"
   ]
  },
  {
   "cell_type": "code",
   "execution_count": 57,
   "metadata": {},
   "outputs": [
    {
     "data": {
      "text/plain": [
       "Polynomial(1-X^5)"
      ]
     },
     "execution_count": 57,
     "metadata": {},
     "output_type": "execute_result"
    }
   ],
   "source": [
    "P = Polynomial(\"1-X^5\")  # __init__\n",
    "P  # __repr__"
   ]
  },
  {
   "cell_type": "code",
   "execution_count": 58,
   "metadata": {},
   "outputs": [
    {
     "name": "stdout",
     "output_type": "stream",
     "text": [
      "1-X\n"
     ]
    }
   ],
   "source": [
    "Q = Polynomial({0: 1, 1: -1})  # __init__\n",
    "print(Q)  # __str__"
   ]
  },
  {
   "cell_type": "code",
   "execution_count": 59,
   "metadata": {},
   "outputs": [
    {
     "data": {
      "text/plain": [
       "Polynomial(1+X+X^2+X^3+X^4)"
      ]
     },
     "execution_count": 59,
     "metadata": {},
     "output_type": "execute_result"
    }
   ],
   "source": [
    "R = Polynomial([1, 1, 1, 1, 1])\n",
    "R"
   ]
  },
  {
   "cell_type": "code",
   "execution_count": 60,
   "metadata": {},
   "outputs": [
    {
     "data": {
      "text/plain": [
       "Polynomial(2-X-X^5)"
      ]
     },
     "execution_count": 60,
     "metadata": {},
     "output_type": "execute_result"
    }
   ],
   "source": [
    "P + Q  # __add__(P,Q)"
   ]
  },
  {
   "cell_type": "code",
   "execution_count": 61,
   "metadata": {},
   "outputs": [
    {
     "data": {
      "text/plain": [
       "Polynomial(2-X^5)"
      ]
     },
     "execution_count": 61,
     "metadata": {},
     "output_type": "execute_result"
    }
   ],
   "source": [
    "1 + P  # __radd__(P,1)"
   ]
  },
  {
   "cell_type": "code",
   "execution_count": 62,
   "metadata": {},
   "outputs": [
    {
     "data": {
      "text/plain": [
       "Polynomial(1-X-X^5+X^6)"
      ]
     },
     "execution_count": 62,
     "metadata": {},
     "output_type": "execute_result"
    }
   ],
   "source": [
    "P * Q  # __mul__(P,Q)"
   ]
  },
  {
   "cell_type": "code",
   "execution_count": 63,
   "metadata": {},
   "outputs": [
    {
     "data": {
      "text/plain": [
       "Polynomial(0)"
      ]
     },
     "execution_count": 63,
     "metadata": {},
     "output_type": "execute_result"
    }
   ],
   "source": [
    "0 * P  # __rmul__(P,0)"
   ]
  },
  {
   "cell_type": "code",
   "execution_count": 64,
   "metadata": {},
   "outputs": [
    {
     "data": {
      "text/plain": [
       "(Polynomial(1+X+X^2+X^3+X^4), Polynomial(0))"
      ]
     },
     "execution_count": 64,
     "metadata": {},
     "output_type": "execute_result"
    }
   ],
   "source": [
    "divmod(P, Q)  # __divmod__(P,Q)"
   ]
  },
  {
   "cell_type": "code",
   "execution_count": 65,
   "metadata": {},
   "outputs": [
    {
     "data": {
      "text/plain": [
       "Polynomial(1+X+X^2+X^3+X^4)"
      ]
     },
     "execution_count": 65,
     "metadata": {},
     "output_type": "execute_result"
    }
   ],
   "source": [
    "P // Q  # __floordiv__(P,Q)"
   ]
  },
  {
   "cell_type": "code",
   "execution_count": 66,
   "metadata": {},
   "outputs": [
    {
     "data": {
      "text/plain": [
       "True"
      ]
     },
     "execution_count": 66,
     "metadata": {},
     "output_type": "execute_result"
    }
   ],
   "source": [
    "P // Q == R"
   ]
  },
  {
   "cell_type": "code",
   "execution_count": 67,
   "metadata": {},
   "outputs": [
    {
     "data": {
      "text/plain": [
       "Polynomial(X-X^5)"
      ]
     },
     "execution_count": 67,
     "metadata": {},
     "output_type": "execute_result"
    }
   ],
   "source": [
    "P - Q  # __sub__(P,Q)"
   ]
  },
  {
   "cell_type": "code",
   "execution_count": 68,
   "metadata": {},
   "outputs": [
    {
     "data": {
      "text/plain": [
       "Polynomial(1+X^5)"
      ]
     },
     "execution_count": 68,
     "metadata": {},
     "output_type": "execute_result"
    }
   ],
   "source": [
    "2 - P  # __sub__(P,2)"
   ]
  },
  {
   "cell_type": "code",
   "execution_count": 69,
   "metadata": {},
   "outputs": [
    {
     "data": {
      "text/plain": [
       "-31.0"
      ]
     },
     "execution_count": 69,
     "metadata": {},
     "output_type": "execute_result"
    }
   ],
   "source": [
    "P(2)  # __call__(P, 2)"
   ]
  },
  {
   "cell_type": "code",
   "execution_count": 70,
   "metadata": {},
   "outputs": [
    {
     "data": {
      "text/plain": [
       "Polynomial(5-10X^5+10X^10-5X^15+X^20)"
      ]
     },
     "execution_count": 70,
     "metadata": {},
     "output_type": "execute_result"
    }
   ],
   "source": [
    "R(P)"
   ]
  },
  {
   "cell_type": "code",
   "execution_count": 71,
   "metadata": {},
   "outputs": [
    {
     "data": {
      "text/plain": [
       "Polynomial(1-X)"
      ]
     },
     "execution_count": 71,
     "metadata": {},
     "output_type": "execute_result"
    }
   ],
   "source": [
    "P.gcd(Q)"
   ]
  },
  {
   "cell_type": "code",
   "execution_count": 72,
   "metadata": {},
   "outputs": [
    {
     "data": {
      "text/plain": [
       "Polynomial(1+X+X^2+X^3+X^4)"
      ]
     },
     "execution_count": 72,
     "metadata": {},
     "output_type": "execute_result"
    }
   ],
   "source": [
    "P.gcd(R)"
   ]
  },
  {
   "cell_type": "code",
   "execution_count": 73,
   "metadata": {},
   "outputs": [
    {
     "data": {
      "text/plain": [
       "Polynomial(1-X^5)"
      ]
     },
     "execution_count": 73,
     "metadata": {},
     "output_type": "execute_result"
    }
   ],
   "source": [
    "Q*R"
   ]
  },
  {
   "cell_type": "code",
   "execution_count": 74,
   "metadata": {},
   "outputs": [
    {
     "data": {
      "text/plain": [
       "'X'"
      ]
     },
     "execution_count": 74,
     "metadata": {},
     "output_type": "execute_result"
    }
   ],
   "source": [
    "R.variable"
   ]
  },
  {
   "cell_type": "code",
   "execution_count": 75,
   "metadata": {},
   "outputs": [],
   "source": [
    "R.variable = \"t\""
   ]
  },
  {
   "cell_type": "code",
   "execution_count": 76,
   "metadata": {},
   "outputs": [
    {
     "data": {
      "text/plain": [
       "Polynomial(1+t+t^2+t^3+t^4)"
      ]
     },
     "execution_count": 76,
     "metadata": {},
     "output_type": "execute_result"
    }
   ],
   "source": [
    "R"
   ]
  },
  {
   "cell_type": "code",
   "execution_count": 77,
   "metadata": {},
   "outputs": [
    {
     "data": {
      "text/plain": [
       "'1+t+t^{2}+t^{3}+t^{4}'"
      ]
     },
     "execution_count": 77,
     "metadata": {},
     "output_type": "execute_result"
    }
   ],
   "source": [
    "R.latex()"
   ]
  },
  {
   "attachments": {},
   "cell_type": "markdown",
   "metadata": {},
   "source": [
    "## Rational function"
   ]
  },
  {
   "cell_type": "code",
   "execution_count": 78,
   "metadata": {},
   "outputs": [
    {
     "data": {
      "text/plain": [
       "Frac(1-X^5, 1-X)"
      ]
     },
     "execution_count": 78,
     "metadata": {},
     "output_type": "execute_result"
    }
   ],
   "source": [
    "P_over_Q = Frac(P,Q)\n",
    "P_over_Q"
   ]
  },
  {
   "cell_type": "code",
   "execution_count": 79,
   "metadata": {},
   "outputs": [
    {
     "name": "stdout",
     "output_type": "stream",
     "text": [
      "\\frac{1-X^{5}}{1-X}\n"
     ]
    }
   ],
   "source": [
    "print(P_over_Q.latex())"
   ]
  },
  {
   "cell_type": "code",
   "execution_count": 80,
   "metadata": {},
   "outputs": [
    {
     "data": {
      "text/plain": [
       "Frac(2-2X+X^2-X^5, 1-X)"
      ]
     },
     "execution_count": 80,
     "metadata": {},
     "output_type": "execute_result"
    }
   ],
   "source": [
    "P_over_Q + Q"
   ]
  },
  {
   "cell_type": "code",
   "execution_count": 81,
   "metadata": {},
   "outputs": [
    {
     "data": {
      "text/plain": [
       "Frac(1-X-X^5+X^6, 1-X)"
      ]
     },
     "execution_count": 81,
     "metadata": {},
     "output_type": "execute_result"
    }
   ],
   "source": [
    "P_over_Q * Q"
   ]
  },
  {
   "cell_type": "code",
   "execution_count": 82,
   "metadata": {},
   "outputs": [
    {
     "data": {
      "text/plain": [
       "True"
      ]
     },
     "execution_count": 82,
     "metadata": {},
     "output_type": "execute_result"
    }
   ],
   "source": [
    "P_over_Q * Q == P"
   ]
  },
  {
   "cell_type": "code",
   "execution_count": 83,
   "metadata": {},
   "outputs": [
    {
     "data": {
      "text/plain": [
       "1+X+X^2+X^3+X^4"
      ]
     },
     "execution_count": 83,
     "metadata": {},
     "output_type": "execute_result"
    }
   ],
   "source": [
    "P_over_Q.simplify()"
   ]
  },
  {
   "cell_type": "code",
   "execution_count": 84,
   "metadata": {},
   "outputs": [
    {
     "data": {
      "text/plain": [
       "True"
      ]
     },
     "execution_count": 84,
     "metadata": {},
     "output_type": "execute_result"
    }
   ],
   "source": [
    "P_over_Q == R"
   ]
  },
  {
   "cell_type": "code",
   "execution_count": 85,
   "metadata": {},
   "outputs": [
    {
     "ename": "TypeError",
     "evalue": "'Frac' object is not callable",
     "output_type": "error",
     "traceback": [
      "\u001b[0;31m---------------------------------------------------------------------------\u001b[0m",
      "\u001b[0;31mTypeError\u001b[0m                                 Traceback (most recent call last)",
      "\u001b[0;32m/var/folders/x4/45r2t3bx5l3dc_b3tm_yz7380000gn/T/ipykernel_52418/524967069.py\u001b[0m in \u001b[0;36m<cell line: 1>\u001b[0;34m()\u001b[0m\n\u001b[0;32m----> 1\u001b[0;31m \u001b[0mP_over_Q\u001b[0m\u001b[0;34m(\u001b[0m\u001b[0;36m8\u001b[0m\u001b[0;34m)\u001b[0m\u001b[0;34m\u001b[0m\u001b[0;34m\u001b[0m\u001b[0m\n\u001b[0m",
      "\u001b[0;31mTypeError\u001b[0m: 'Frac' object is not callable"
     ]
    }
   ],
   "source": [
    "P_over_Q(8)"
   ]
  },
  {
   "cell_type": "code",
   "execution_count": 86,
   "metadata": {},
   "outputs": [],
   "source": [
    "class CallableFrac(Frac):\n",
    "    def __init__(self, num, denom=1) -> None:\n",
    "        super().__init__(num, denom)\n",
    "\n",
    "    def __call__(self, *args, **kwargs):\n",
    "        return self.num(*args, **kwargs)/self.denom(*args, **kwargs)\n"
   ]
  },
  {
   "cell_type": "code",
   "execution_count": 87,
   "metadata": {},
   "outputs": [
    {
     "data": {
      "text/plain": [
       "Frac(1-X^5, 1-X)"
      ]
     },
     "execution_count": 87,
     "metadata": {},
     "output_type": "execute_result"
    }
   ],
   "source": [
    "P_over_Q = CallableFrac(P,Q)\n",
    "P_over_Q"
   ]
  },
  {
   "cell_type": "code",
   "execution_count": 88,
   "metadata": {},
   "outputs": [
    {
     "data": {
      "text/plain": [
       "1.0"
      ]
     },
     "execution_count": 88,
     "metadata": {},
     "output_type": "execute_result"
    }
   ],
   "source": [
    "P_over_Q(0)"
   ]
  },
  {
   "cell_type": "code",
   "execution_count": 89,
   "metadata": {},
   "outputs": [
    {
     "data": {
      "text/plain": [
       "0"
      ]
     },
     "execution_count": 89,
     "metadata": {},
     "output_type": "execute_result"
    }
   ],
   "source": [
    "Q(1)"
   ]
  },
  {
   "cell_type": "code",
   "execution_count": 90,
   "metadata": {},
   "outputs": [
    {
     "ename": "ZeroDivisionError",
     "evalue": "float division by zero",
     "output_type": "error",
     "traceback": [
      "\u001b[0;31m---------------------------------------------------------------------------\u001b[0m",
      "\u001b[0;31mZeroDivisionError\u001b[0m                         Traceback (most recent call last)",
      "\u001b[0;32m/var/folders/x4/45r2t3bx5l3dc_b3tm_yz7380000gn/T/ipykernel_52418/1789074747.py\u001b[0m in \u001b[0;36m<cell line: 1>\u001b[0;34m()\u001b[0m\n\u001b[0;32m----> 1\u001b[0;31m \u001b[0mP_over_Q\u001b[0m\u001b[0;34m(\u001b[0m\u001b[0;36m1\u001b[0m\u001b[0;34m)\u001b[0m\u001b[0;34m\u001b[0m\u001b[0;34m\u001b[0m\u001b[0m\n\u001b[0m",
      "\u001b[0;32m/var/folders/x4/45r2t3bx5l3dc_b3tm_yz7380000gn/T/ipykernel_52418/3893800112.py\u001b[0m in \u001b[0;36m__call__\u001b[0;34m(self, *args, **kwargs)\u001b[0m\n\u001b[1;32m      4\u001b[0m \u001b[0;34m\u001b[0m\u001b[0m\n\u001b[1;32m      5\u001b[0m     \u001b[0;32mdef\u001b[0m \u001b[0m__call__\u001b[0m\u001b[0;34m(\u001b[0m\u001b[0mself\u001b[0m\u001b[0;34m,\u001b[0m \u001b[0;34m*\u001b[0m\u001b[0margs\u001b[0m\u001b[0;34m,\u001b[0m \u001b[0;34m**\u001b[0m\u001b[0mkwargs\u001b[0m\u001b[0;34m)\u001b[0m\u001b[0;34m:\u001b[0m\u001b[0;34m\u001b[0m\u001b[0;34m\u001b[0m\u001b[0m\n\u001b[0;32m----> 6\u001b[0;31m         \u001b[0;32mreturn\u001b[0m \u001b[0mself\u001b[0m\u001b[0;34m.\u001b[0m\u001b[0mnum\u001b[0m\u001b[0;34m(\u001b[0m\u001b[0;34m*\u001b[0m\u001b[0margs\u001b[0m\u001b[0;34m,\u001b[0m \u001b[0;34m**\u001b[0m\u001b[0mkwargs\u001b[0m\u001b[0;34m)\u001b[0m\u001b[0;34m/\u001b[0m\u001b[0mself\u001b[0m\u001b[0;34m.\u001b[0m\u001b[0mdenom\u001b[0m\u001b[0;34m(\u001b[0m\u001b[0;34m*\u001b[0m\u001b[0margs\u001b[0m\u001b[0;34m,\u001b[0m \u001b[0;34m**\u001b[0m\u001b[0mkwargs\u001b[0m\u001b[0;34m)\u001b[0m\u001b[0;34m\u001b[0m\u001b[0;34m\u001b[0m\u001b[0m\n\u001b[0m",
      "\u001b[0;31mZeroDivisionError\u001b[0m: float division by zero"
     ]
    }
   ],
   "source": [
    "P_over_Q(1)"
   ]
  },
  {
   "cell_type": "code",
   "execution_count": 91,
   "metadata": {},
   "outputs": [
    {
     "data": {
      "text/plain": [
       "1+X+X^2+X^3+X^4"
      ]
     },
     "execution_count": 91,
     "metadata": {},
     "output_type": "execute_result"
    }
   ],
   "source": [
    "P_over_Q.simplify()"
   ]
  },
  {
   "cell_type": "code",
   "execution_count": 92,
   "metadata": {},
   "outputs": [
    {
     "data": {
      "text/plain": [
       "5.0"
      ]
     },
     "execution_count": 92,
     "metadata": {},
     "output_type": "execute_result"
    }
   ],
   "source": [
    "P_over_Q(1)"
   ]
  },
  {
   "cell_type": "code",
   "execution_count": 93,
   "metadata": {},
   "outputs": [
    {
     "data": {
      "text/plain": [
       "Polynomial(5+10X+20X^2+35X^3+56X^4+74X^5+90X^6+100X^7+101X^8+90X^9+74X^10+55X^11+36X^12+20X^13+10X^14+4X^15+X^16)"
      ]
     },
     "execution_count": 93,
     "metadata": {},
     "output_type": "execute_result"
    }
   ],
   "source": [
    "P_over_Q(R)"
   ]
  },
  {
   "cell_type": "code",
   "execution_count": 94,
   "metadata": {},
   "outputs": [
    {
     "data": {
      "text/plain": [
       "Polynomial(-X-X^2-X^3-X^4)"
      ]
     },
     "execution_count": 94,
     "metadata": {},
     "output_type": "execute_result"
    }
   ],
   "source": [
    "P(R).gcd(Q(R))"
   ]
  },
  {
   "cell_type": "code",
   "execution_count": null,
   "metadata": {},
   "outputs": [],
   "source": []
  }
 ],
 "metadata": {
  "kernelspec": {
   "display_name": "Python 3",
   "language": "python",
   "name": "python3"
  },
  "language_info": {
   "codemirror_mode": {
    "name": "ipython",
    "version": 3
   },
   "file_extension": ".py",
   "mimetype": "text/x-python",
   "name": "python",
   "nbconvert_exporter": "python",
   "pygments_lexer": "ipython3",
   "version": "3.10.10"
  },
  "orig_nbformat": 4,
  "vscode": {
   "interpreter": {
    "hash": "b0fa6594d8f4cbf19f97940f81e996739fb7646882a419484c72d19e05852a7e"
   }
  }
 },
 "nbformat": 4,
 "nbformat_minor": 2
}
