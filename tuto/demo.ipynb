{
 "cells": [
  {
   "attachments": {},
   "cell_type": "markdown",
   "metadata": {},
   "source": [
    "This is a demo notebook for the [bcbcpy](https://github.com/aheritianad/BootCamp-BlockChain-and-Python/bcbcpy) package."
   ]
  },
  {
   "cell_type": "code",
   "execution_count": 1,
   "metadata": {},
   "outputs": [],
   "source": [
    "import os, sys\n",
    "\n",
    "sys.path.append(os.path.abspath(\"..\"))"
   ]
  },
  {
   "attachments": {},
   "cell_type": "markdown",
   "metadata": {},
   "source": [
    "# Cryptography\n"
   ]
  },
  {
   "cell_type": "code",
   "execution_count": 2,
   "metadata": {},
   "outputs": [],
   "source": [
    "from bcbcpy import crypto\n"
   ]
  },
  {
   "attachments": {},
   "cell_type": "markdown",
   "metadata": {},
   "source": [
    "## Hashing\n"
   ]
  },
  {
   "attachments": {},
   "cell_type": "markdown",
   "metadata": {},
   "source": [
    "### `Hash` function\n"
   ]
  },
  {
   "cell_type": "code",
   "execution_count": 3,
   "metadata": {},
   "outputs": [
    {
     "data": {
      "text/plain": [
       "'1370eeaaba7a6c7a234b1f82cc3b6d013a0088fd5e16408300f05b28b0015463'"
      ]
     },
     "execution_count": 3,
     "metadata": {},
     "output_type": "execute_result"
    }
   ],
   "source": [
    "text_to_be_hashed = \"Hello World\"\n",
    "first_hash = crypto.hash_function(text_to_be_hashed)\n",
    "first_hash\n"
   ]
  },
  {
   "cell_type": "code",
   "execution_count": 4,
   "metadata": {},
   "outputs": [
    {
     "data": {
      "text/plain": [
       "'e59f8bdf1305e382a4919ccefd613d3eebae612aa4c443f3af2d65663de3b075'"
      ]
     },
     "execution_count": 4,
     "metadata": {},
     "output_type": "execute_result"
    }
   ],
   "source": [
    "crypto.hash_function(text_to_be_hashed + \"!\")\n"
   ]
  },
  {
   "cell_type": "code",
   "execution_count": 5,
   "metadata": {},
   "outputs": [
    {
     "data": {
      "text/plain": [
       "'e59f8bdf1305e382a4919ccefd613d3eebae612aa4c443f3af2d65663de3b075'"
      ]
     },
     "execution_count": 5,
     "metadata": {},
     "output_type": "execute_result"
    }
   ],
   "source": [
    "crypto.hash_function(\"Hello World!\")\n"
   ]
  },
  {
   "cell_type": "code",
   "execution_count": 6,
   "metadata": {},
   "outputs": [],
   "source": [
    "long_text = \"\"\"\n",
    "Hello everyone!\n",
    "\n",
    "Welcome to this tutorial.\n",
    "I promise that I will do my best to help you.\n",
    "\n",
    "It will be interactive, so please participate as much as you can.\n",
    "\n",
    "Please do not hesitate to ask if there you have questions.\n",
    "\n",
    "Hope you will enjoy it!\n",
    "\n",
    "Cheers!\n",
    "\n",
    "Heritiana.\n",
    "\"\"\"\n"
   ]
  },
  {
   "cell_type": "code",
   "execution_count": 7,
   "metadata": {},
   "outputs": [
    {
     "data": {
      "text/plain": [
       "'0c8359860bef1b26f811bf8448c546c2241c7c695f9b8ee76c1a8bf2d5b2dff3'"
      ]
     },
     "execution_count": 7,
     "metadata": {},
     "output_type": "execute_result"
    }
   ],
   "source": [
    "hash_long = crypto.hash_function(long_text)\n",
    "hash_long\n"
   ]
  },
  {
   "cell_type": "code",
   "execution_count": 8,
   "metadata": {},
   "outputs": [
    {
     "data": {
      "text/plain": [
       "True"
      ]
     },
     "execution_count": 8,
     "metadata": {},
     "output_type": "execute_result"
    }
   ],
   "source": [
    "len(hash_long) == len(first_hash)\n"
   ]
  },
  {
   "attachments": {},
   "cell_type": "markdown",
   "metadata": {},
   "source": [
    "### Validation\n"
   ]
  },
  {
   "cell_type": "code",
   "execution_count": 9,
   "metadata": {},
   "outputs": [
    {
     "data": {
      "text/plain": [
       "False"
      ]
     },
     "execution_count": 9,
     "metadata": {},
     "output_type": "execute_result"
    }
   ],
   "source": [
    "difficulty = 4\n",
    "crypto.is_valid_hash(first_hash, difficulty)\n"
   ]
  },
  {
   "cell_type": "code",
   "execution_count": 10,
   "metadata": {},
   "outputs": [
    {
     "data": {
      "text/plain": [
       "'0000eeaaba7a6c7a234b1f82cc3b6d013a0088fd5e16408300f05b28b0015463'"
      ]
     },
     "execution_count": 10,
     "metadata": {},
     "output_type": "execute_result"
    }
   ],
   "source": [
    "fake_hash = \"0000\" + first_hash[4:]\n",
    "fake_hash"
   ]
  },
  {
   "cell_type": "code",
   "execution_count": 11,
   "metadata": {},
   "outputs": [
    {
     "data": {
      "text/plain": [
       "True"
      ]
     },
     "execution_count": 11,
     "metadata": {},
     "output_type": "execute_result"
    }
   ],
   "source": [
    "crypto.is_valid_hash(fake_hash, difficulty)\n"
   ]
  },
  {
   "attachments": {},
   "cell_type": "markdown",
   "metadata": {},
   "source": [
    "### Nonce\n"
   ]
  },
  {
   "cell_type": "code",
   "execution_count": 12,
   "metadata": {},
   "outputs": [
    {
     "data": {
      "text/plain": [
       "'0000bfe6af4232f78b0c8eba37a6ba6c17b9b8671473b0b82305880be077edd9'"
      ]
     },
     "execution_count": 12,
     "metadata": {},
     "output_type": "execute_result"
    }
   ],
   "source": [
    "second_hash, nonce = crypto.hash_nonce_initializer(\n",
    "    text_to_be_hashed, difficulty=difficulty\n",
    ")\n",
    "second_hash"
   ]
  },
  {
   "cell_type": "code",
   "execution_count": 13,
   "metadata": {},
   "outputs": [
    {
     "data": {
      "text/plain": [
       "107105"
      ]
     },
     "execution_count": 13,
     "metadata": {},
     "output_type": "execute_result"
    }
   ],
   "source": [
    "nonce\n"
   ]
  },
  {
   "cell_type": "code",
   "execution_count": 14,
   "metadata": {},
   "outputs": [
    {
     "data": {
      "text/plain": [
       "True"
      ]
     },
     "execution_count": 14,
     "metadata": {},
     "output_type": "execute_result"
    }
   ],
   "source": [
    "crypto.is_valid_hash(second_hash, difficulty)\n"
   ]
  },
  {
   "cell_type": "code",
   "execution_count": 15,
   "metadata": {},
   "outputs": [
    {
     "data": {
      "text/plain": [
       "'0000bfe6af4232f78b0c8eba37a6ba6c17b9b8671473b0b82305880be077edd9'"
      ]
     },
     "execution_count": 15,
     "metadata": {},
     "output_type": "execute_result"
    }
   ],
   "source": [
    "third_hash = crypto.hash_function(text_to_be_hashed, nonce=nonce)\n",
    "third_hash\n"
   ]
  },
  {
   "cell_type": "code",
   "execution_count": 16,
   "metadata": {},
   "outputs": [
    {
     "data": {
      "text/plain": [
       "True"
      ]
     },
     "execution_count": 16,
     "metadata": {},
     "output_type": "execute_result"
    }
   ],
   "source": [
    "second_hash == third_hash\n"
   ]
  },
  {
   "cell_type": "code",
   "execution_count": 17,
   "metadata": {},
   "outputs": [
    {
     "data": {
      "text/plain": [
       "True"
      ]
     },
     "execution_count": 17,
     "metadata": {},
     "output_type": "execute_result"
    }
   ],
   "source": [
    "forth_hash = crypto.hash_function(text_to_be_hashed, nonce, nonce=\"\")  # type:ignore\n",
    "second_hash == forth_hash"
   ]
  },
  {
   "attachments": {},
   "cell_type": "markdown",
   "metadata": {},
   "source": [
    "### What if such `nonce` does not exist?\n"
   ]
  },
  {
   "attachments": {},
   "cell_type": "markdown",
   "metadata": {},
   "source": [
    "**Think about it.**\n"
   ]
  },
  {
   "attachments": {},
   "cell_type": "markdown",
   "metadata": {},
   "source": [
    "## Crypto\n"
   ]
  },
  {
   "attachments": {},
   "cell_type": "markdown",
   "metadata": {},
   "source": [
    "### `Encryption` & `Decryption`\n"
   ]
  },
  {
   "attachments": {},
   "cell_type": "markdown",
   "metadata": {},
   "source": [
    "$$f\\circ f^{-1} (x) = f^{-1}\\circ f(x) = x,\\ \\forall x$$\n"
   ]
  },
  {
   "cell_type": "code",
   "execution_count": 18,
   "metadata": {},
   "outputs": [],
   "source": [
    "encrypt = lambda x: 2 * x - 1\n",
    "decrypt = lambda x: 0  # TODO to fill"
   ]
  },
  {
   "cell_type": "code",
   "execution_count": 19,
   "metadata": {},
   "outputs": [
    {
     "name": "stdout",
     "output_type": "stream",
     "text": [
      "Oops! fail at 1-th attempt for x = -495\n"
     ]
    }
   ],
   "source": [
    "import random\n",
    "try:\n",
    "    for i in range(20):\n",
    "        x = random.randint(-5000, 5000)\n",
    "        assert (\n",
    "            encrypt(decrypt(x)) == decrypt(encrypt(x)) == x\n",
    "        ), f\"Oops! fail at {i+1}-th attempt for x = {x}\"\n",
    "except AssertionError as e:\n",
    "    print(e)\n",
    "else:\n",
    "    print(\"Congrats! I passes the test\")"
   ]
  },
  {
   "cell_type": "code",
   "execution_count": 20,
   "metadata": {},
   "outputs": [],
   "source": [
    "clear_message = (\n",
    "    \"This is a clear message to encrypt and decrypt. I add this to make it longer.\"\n",
    ")"
   ]
  },
  {
   "attachments": {},
   "cell_type": "markdown",
   "metadata": {},
   "source": [
    "### Types\n"
   ]
  },
  {
   "attachments": {},
   "cell_type": "markdown",
   "metadata": {},
   "source": [
    "#### Key\n"
   ]
  },
  {
   "attachments": {},
   "cell_type": "markdown",
   "metadata": {},
   "source": [
    "$\\mathcal{F}=\\{ f_\\theta \\:\\ \\theta \\in \\Theta\\}$\n",
    "\n",
    "$\\left(f_{\\theta}\\right) ^{-1} = f_{\\theta^\\prime}$ for some $\\theta^\\prime \\in \\Theta$\n",
    "\n",
    "$\\theta \\in \\Theta$ : key\n"
   ]
  },
  {
   "attachments": {},
   "cell_type": "markdown",
   "metadata": {},
   "source": [
    "#### Symmetric\n"
   ]
  },
  {
   "attachments": {},
   "cell_type": "markdown",
   "metadata": {},
   "source": [
    "##### Cesar\n"
   ]
  },
  {
   "cell_type": "code",
   "execution_count": 21,
   "metadata": {},
   "outputs": [
    {
     "name": "stdout",
     "output_type": "stream",
     "text": [
      "CesarKey(2, -2)\n"
     ]
    }
   ],
   "source": [
    "cesar_key = crypto.CesarKey.generate_key(max_length=2)\n",
    "print(cesar_key)\n"
   ]
  },
  {
   "cell_type": "code",
   "execution_count": 22,
   "metadata": {},
   "outputs": [
    {
     "name": "stdout",
     "output_type": "stream",
     "text": [
      "\n",
      "original:\n",
      "========\n",
      "This is a clear message to encrypt and decrypt. I add this to make it longer.\n",
      "\n",
      "Encrypted:\n",
      "========\n",
      "Vjku\"ku\"c\"engct\"oguucig\"vq\"gpet{rv\"cpf\"fget{rv0\"K\"cff\"vjku\"vq\"ocmg\"kv\"nqpigt0\n",
      "\n"
     ]
    }
   ],
   "source": [
    "encr_cesar = cesar_key.encrypt(clear_message)\n",
    "\n",
    "print(\n",
    "    f\"\"\"\n",
    "original:\n",
    "========\n",
    "{clear_message}\n",
    "\n",
    "Encrypted:\n",
    "========\n",
    "{encr_cesar}\n",
    "\"\"\"\n",
    ")"
   ]
  },
  {
   "cell_type": "code",
   "execution_count": 23,
   "metadata": {},
   "outputs": [
    {
     "name": "stdout",
     "output_type": "stream",
     "text": [
      "\n",
      "original:\n",
      "========\n",
      "This is a clear message to encrypt and decrypt. I add this to make it longer.\n",
      "\n",
      "Decrypted:\n",
      "=========\n",
      "This is a clear message to encrypt and decrypt. I add this to make it longer.\n",
      "\n"
     ]
    }
   ],
   "source": [
    "decr = cesar_key.decrypt(encr_cesar)\n",
    "\n",
    "print(\n",
    "    f\"\"\"\n",
    "original:\n",
    "========\n",
    "{clear_message}\n",
    "\n",
    "Decrypted:\n",
    "=========\n",
    "{decr}\n",
    "\"\"\"\n",
    ")"
   ]
  },
  {
   "attachments": {},
   "cell_type": "markdown",
   "metadata": {},
   "source": [
    "##### Permutation\n"
   ]
  },
  {
   "cell_type": "code",
   "execution_count": 24,
   "metadata": {},
   "outputs": [
    {
     "name": "stdout",
     "output_type": "stream",
     "text": [
      "PermutationKey((3, 2, 1), (3, 2, 1))\n"
     ]
    }
   ],
   "source": [
    "perm_key = crypto.PermutationKey.generate_key(length=3, n_runs=1)\n",
    "print(perm_key)\n"
   ]
  },
  {
   "cell_type": "code",
   "execution_count": 25,
   "metadata": {},
   "outputs": [
    {
     "name": "stdout",
     "output_type": "stream",
     "text": [
      "\n",
      "original:\n",
      "========\n",
      "This is a clear message to encrypt and decrypt. I add this to make it longer.\n",
      "\n",
      "Encrypted:\n",
      "========\n",
      "ihTi sa slc raeem ass eg otcnepyra t dncedpyr .ta I ddihtt sm oekati ol egnr.\n",
      "\n"
     ]
    }
   ],
   "source": [
    "encr_perm = perm_key.encrypt(clear_message)\n",
    "\n",
    "print(\n",
    "    f\"\"\"\n",
    "original:\n",
    "========\n",
    "{clear_message}\n",
    "\n",
    "Encrypted:\n",
    "========\n",
    "{encr_perm}\n",
    "\"\"\"\n",
    ")"
   ]
  },
  {
   "cell_type": "code",
   "execution_count": 26,
   "metadata": {},
   "outputs": [
    {
     "name": "stdout",
     "output_type": "stream",
     "text": [
      "\n",
      "original:\n",
      "========\n",
      "This is a clear message to encrypt and decrypt. I add this to make it longer.\n",
      "\n",
      "Decrypted:\n",
      "=========\n",
      "This is a clear message to encrypt and decrypt. I add this to make it longer.\n",
      "\n"
     ]
    }
   ],
   "source": [
    "decr = perm_key.decrypt(encr_perm)\n",
    "print(\n",
    "    f\"\"\"\n",
    "original:\n",
    "========\n",
    "{clear_message}\n",
    "\n",
    "Decrypted:\n",
    "=========\n",
    "{decr}\n",
    "\"\"\"\n",
    ")"
   ]
  },
  {
   "attachments": {},
   "cell_type": "markdown",
   "metadata": {},
   "source": [
    "##### Adding noise\n"
   ]
  },
  {
   "cell_type": "code",
   "execution_count": 27,
   "metadata": {},
   "outputs": [],
   "source": [
    "from bcbcpy import utils\n"
   ]
  },
  {
   "cell_type": "code",
   "execution_count": 28,
   "metadata": {},
   "outputs": [
    {
     "data": {
      "text/plain": [
       "'T hEi#sU Ai%sV vaz Zc!l>e\\ta_r4 HmzeHs\\ns\"a(gWek \\nt,oc demnOcer]y.pQtG saen8d; ^dQe!c$rJy\\np6t7.- qIg :a&dCdr DtlhTi{s\\t Kt8oA EmQa|k0eT &iQt- Fldozn\\'gmeXr>.N'"
      ]
     },
     "execution_count": 28,
     "metadata": {},
     "output_type": "execute_result"
    }
   ],
   "source": [
    "noisy_message = utils.add_noises(clear_message)\n",
    "noisy_message\n"
   ]
  },
  {
   "cell_type": "code",
   "execution_count": 29,
   "metadata": {},
   "outputs": [
    {
     "data": {
      "text/plain": [
       "'This is a clear message to encrypt and decrypt. I add this to make it longer.'"
      ]
     },
     "execution_count": 29,
     "metadata": {},
     "output_type": "execute_result"
    }
   ],
   "source": [
    "utils.remove_noises(noisy_message)\n"
   ]
  },
  {
   "cell_type": "code",
   "execution_count": 30,
   "metadata": {},
   "outputs": [
    {
     "name": "stdout",
     "output_type": "stream",
     "text": [
      "\n",
      "\t\t--- CESAR --\n",
      "Original:\n",
      "========\n",
      "This is a clear message to encrypt and decrypt. I add this to make it longer.\n",
      "\n",
      "Noisy message:\n",
      "=============\n",
      "T hEi#sU Ai%sV vaz Zc!l>e\ta_r4 HmzeHs\n",
      "s\"a(gWek \n",
      "t,oc demnOcer]y.pQtG saen8d; ^dQe!c$rJy\n",
      "p6t7.- qIg :a&dCdr DtlhTi{s\t Kt8oA EmQa|k0eT &iQt- Fldozn'gmeXr>.N\n",
      "\n",
      "Noisy Encrypted:\n",
      "===============\n",
      "V\"jGk%uW\"Ck'uX\"xc|\"\\e#n@g cat6\"Jo|gJu!u$c*iYgm\"!v.qe\"fgopQegt_{0rSvI\"ucgp:f=\"`fSg#e&tL{!r8v90/\"sKi\"<c(fEft\"FvnjVk}u \"Mv:qC\"GoSc~m2gV\"(kSv/\"Hnfq|p)iogZt@0P\n",
      "\n",
      "Noisy Decrypted:\n",
      "===============\n",
      "T hEi#sU Ai%sV vaz Zc!l>e\ta_r4 HmzeHs\n",
      "s\"a(gWek \n",
      "t,oc demnOcer]y.pQtG saen8d; ^dQe!c$rJy\n",
      "p6t7.- qIg :a&dCdr DtlhTi{s\t Kt8oA EmQa|k0eT &iQt- Fldozn'gmeXr>.N\n",
      "\n",
      "\n",
      "Cleaned Decrypted:\n",
      "=================\n",
      "This is a clear message to encrypt and decrypt. I add this to make it longer.\n",
      "\n"
     ]
    }
   ],
   "source": [
    "encr_noisy = cesar_key.encrypt(noisy_message)\n",
    "decr_noisy = cesar_key.decrypt(encr_noisy)\n",
    "decr_without_noise = utils.remove_noises(decr_noisy)\n",
    "\n",
    "print(\n",
    "    f\"\"\"\n",
    "\\t\\t--- CESAR --\n",
    "Original:\n",
    "========\n",
    "{clear_message}\n",
    "\n",
    "Noisy message:\n",
    "=============\n",
    "{noisy_message}\n",
    "\n",
    "Noisy Encrypted:\n",
    "===============\n",
    "{encr_noisy}\n",
    "\n",
    "Noisy Decrypted:\n",
    "===============\n",
    "{decr_noisy}\n",
    "\n",
    "\n",
    "Cleaned Decrypted:\n",
    "=================\n",
    "{decr_without_noise}\n",
    "\"\"\"\n",
    ")"
   ]
  },
  {
   "cell_type": "code",
   "execution_count": 31,
   "metadata": {},
   "outputs": [
    {
     "name": "stdout",
     "output_type": "stream",
     "text": [
      "\n",
      "\t\t--- PERMUTATION ---\n",
      "Original:\n",
      "========\n",
      "This is a clear message to encrypt and decrypt. I add this to make it longer.\n",
      "\n",
      "Noisy message:\n",
      "=============\n",
      "T hEi#sU Ai%sV vaz Zc!l>e\ta_r4 HmzeHs\n",
      "s\"a(gWek \n",
      "t,oc demnOcer]y.pQtG saen8d; ^dQe!c$rJy\n",
      "p6t7.- qIg :a&dCdr DtlhTi{s\t Kt8oA EmQa|k0eT &iQt- Fldozn'gmeXr>.N\n",
      "\n",
      "Noisy Encrypted:\n",
      "===============\n",
      "h T#iE Us%iA VszavcZ >l!a\te4r_mH Hezs\n",
      "s(a\"eWg\n",
      " ko,td cnmeecOy]rQp. Gteasd8n^ ;eQd$c!yJr6p\n",
      ".7tq - gI&a:dCdD rhlt{iT \ts8tK AoQmEk|aTe0i& -tQlF zodg'nXem.>rN\n",
      "\n",
      "Noisy Decrypted:\n",
      "===============\n",
      "T hEi#sU Ai%sV vaz Zc!l>e\ta_r4 HmzeHs\n",
      "s\"a(gWek \n",
      "t,oc demnOcer]y.pQtG saen8d; ^dQe!c$rJy\n",
      "p6t7.- qIg :a&dCdr DtlhTi{s\t Kt8oA EmQa|k0eT &iQt- Fldozn'gmeXr>.N\n",
      "\n",
      "\n",
      "Cleaned Decrypted:\n",
      "=================\n",
      "This is a clear message to encrypt and decrypt. I add this to make it longer.\n",
      "\n"
     ]
    }
   ],
   "source": [
    "encr_noisy = perm_key.encrypt(noisy_message)\n",
    "decr_noisy = perm_key.decrypt(encr_noisy)\n",
    "decr_without_noise = utils.remove_noises(decr_noisy)\n",
    "\n",
    "print(\n",
    "    f\"\"\"\n",
    "\\t\\t--- PERMUTATION ---\n",
    "Original:\n",
    "========\n",
    "{clear_message}\n",
    "\n",
    "Noisy message:\n",
    "=============\n",
    "{noisy_message}\n",
    "\n",
    "Noisy Encrypted:\n",
    "===============\n",
    "{encr_noisy}\n",
    "\n",
    "Noisy Decrypted:\n",
    "===============\n",
    "{decr_noisy}\n",
    "\n",
    "\n",
    "Cleaned Decrypted:\n",
    "=================\n",
    "{decr_without_noise}\n",
    "\"\"\"\n",
    ")"
   ]
  },
  {
   "attachments": {},
   "cell_type": "markdown",
   "metadata": {},
   "source": [
    "#### Asymmetric\n"
   ]
  },
  {
   "attachments": {},
   "cell_type": "markdown",
   "metadata": {},
   "source": [
    "##### RSA\n"
   ]
  },
  {
   "attachments": {},
   "cell_type": "markdown",
   "metadata": {},
   "source": [
    "Security: number factorization complexity\n"
   ]
  },
  {
   "cell_type": "code",
   "execution_count": 32,
   "metadata": {},
   "outputs": [
    {
     "name": "stdout",
     "output_type": "stream",
     "text": [
      "RSAPairKeys((7313, 73), HIDDEN_KEY)\n"
     ]
    }
   ],
   "source": [
    "rsa_key = crypto.rsa_key_demo(chunk_size=5)\n",
    "print(rsa_key)\n"
   ]
  },
  {
   "cell_type": "code",
   "execution_count": 33,
   "metadata": {},
   "outputs": [],
   "source": [
    "from bcbcpy.crypto import read_from_rsa_convert"
   ]
  },
  {
   "cell_type": "code",
   "execution_count": 34,
   "metadata": {},
   "outputs": [
    {
     "data": {
      "text/plain": [
       "'Go,5<j2aa8\"m>ZBd$y?Tb-w\\nGsk,L3\\n4g-\\\\WnzkvSGt#HL AOGz*S&E<;^iGsy4&wIOix|<\\n4h53Q0}AqX0>U~Ne+x '"
      ]
     },
     "execution_count": 34,
     "metadata": {},
     "output_type": "execute_result"
    }
   ],
   "source": [
    "encr_rsa = rsa_key.encrypt(clear_message)\n",
    "read_from_rsa_convert(encr_rsa)\n"
   ]
  },
  {
   "cell_type": "code",
   "execution_count": 35,
   "metadata": {},
   "outputs": [
    {
     "data": {
      "text/plain": [
       "'This is a clear message to encrypt and decrypt. I add this to make it longer.'"
      ]
     },
     "execution_count": 35,
     "metadata": {},
     "output_type": "execute_result"
    }
   ],
   "source": [
    "decr_rsa = rsa_key.decrypt(encr_rsa)\n",
    "read_from_rsa_convert(decr_rsa)\n"
   ]
  },
  {
   "attachments": {},
   "cell_type": "markdown",
   "metadata": {},
   "source": [
    "##### Diffie-Hellman"
   ]
  },
  {
   "attachments": {},
   "cell_type": "markdown",
   "metadata": {},
   "source": [
    "Security: discrete logarithm complexity\n"
   ]
  },
  {
   "attachments": {},
   "cell_type": "markdown",
   "metadata": {},
   "source": [
    "##### ECC\n"
   ]
  },
  {
   "cell_type": "code",
   "execution_count": null,
   "metadata": {},
   "outputs": [],
   "source": []
  },
  {
   "attachments": {},
   "cell_type": "markdown",
   "metadata": {},
   "source": [
    "### Communication & Security\n"
   ]
  },
  {
   "attachments": {},
   "cell_type": "markdown",
   "metadata": {},
   "source": [
    "#### Nodes generation"
   ]
  },
  {
   "cell_type": "code",
   "execution_count": 36,
   "metadata": {},
   "outputs": [],
   "source": [
    "from bcbcpy.node import Node\n"
   ]
  },
  {
   "cell_type": "code",
   "execution_count": 37,
   "metadata": {},
   "outputs": [
    {
     "data": {
      "text/plain": [
       "'user_656110'"
      ]
     },
     "execution_count": 37,
     "metadata": {},
     "output_type": "execute_result"
    }
   ],
   "source": [
    "key = crypto.rsa_key_demo()\n",
    "node = Node(key)\n",
    "node.id"
   ]
  },
  {
   "cell_type": "code",
   "execution_count": 38,
   "metadata": {},
   "outputs": [
    {
     "data": {
      "text/plain": [
       "<bcbcpy.node.Node at 0x107869f30>"
      ]
     },
     "execution_count": 38,
     "metadata": {},
     "output_type": "execute_result"
    }
   ],
   "source": [
    "node"
   ]
  },
  {
   "cell_type": "code",
   "execution_count": 39,
   "metadata": {},
   "outputs": [],
   "source": [
    "class RepNode(Node):\n",
    "    def __repr__(self) -> str:\n",
    "        return f\"{self.id} : {self._Node__keys}\"  # type:ignore"
   ]
  },
  {
   "cell_type": "code",
   "execution_count": 40,
   "metadata": {},
   "outputs": [
    {
     "data": {
      "text/plain": [
       "Alice : CesarKey(89, -89)"
      ]
     },
     "execution_count": 40,
     "metadata": {},
     "output_type": "execute_result"
    }
   ],
   "source": [
    "akey = crypto.CesarKey.generate_key()\n",
    "alice = RepNode(akey, \"Alice\")\n",
    "alice\n"
   ]
  },
  {
   "cell_type": "code",
   "execution_count": 41,
   "metadata": {},
   "outputs": [
    {
     "data": {
      "text/plain": [
       "Bob : PermutationKey((8, 3, 5, 2, 4, 9, 1, 10, 6, 7), (7, 4, 2, 5, 3, 9, 10, 1, 6, 8))"
      ]
     },
     "execution_count": 41,
     "metadata": {},
     "output_type": "execute_result"
    }
   ],
   "source": [
    "bkey =  crypto.PermutationKey.generate_key(10)\n",
    "bob = RepNode(username=\"Bob\", keys=bkey)\n",
    "bob"
   ]
  },
  {
   "cell_type": "code",
   "execution_count": 42,
   "metadata": {},
   "outputs": [
    {
     "data": {
      "text/plain": [
       "user_545938 : RSAPairKeys((7313, 73), HIDDEN_KEY)"
      ]
     },
     "execution_count": 42,
     "metadata": {},
     "output_type": "execute_result"
    }
   ],
   "source": [
    "rkey = crypto.rsa_key_demo()\n",
    "random_guy = RepNode(rkey)\n",
    "random_guy"
   ]
  },
  {
   "attachments": {},
   "cell_type": "markdown",
   "metadata": {},
   "source": [
    "#### Communication"
   ]
  },
  {
   "cell_type": "code",
   "execution_count": 43,
   "metadata": {},
   "outputs": [],
   "source": [
    "sender = alice\n",
    "receiver = bob\n",
    "\n",
    "plain_message = (\n",
    "    \"Hello Bob! This is Alice. Please send me $1000 to this account: (1234567890)\"\n",
    ")"
   ]
  },
  {
   "cell_type": "code",
   "execution_count": 44,
   "metadata": {},
   "outputs": [
    {
     "data": {
      "text/plain": [
       "'197085)n62at: (u4t3c0his  o c n$100eostd e seaml P ice.Ae li This! HsBbleolo'"
      ]
     },
     "execution_count": 44,
     "metadata": {},
     "output_type": "execute_result"
    }
   ],
   "source": [
    "cipher = sender.encrypt(plain_message, key=receiver.pub)\n",
    "cipher"
   ]
  },
  {
   "cell_type": "code",
   "execution_count": 45,
   "metadata": {},
   "outputs": [
    {
     "data": {
      "text/plain": [
       "'Hello Bob! This is Alice. Please send me $1000 to this account: (1234567890)'"
      ]
     },
     "execution_count": 45,
     "metadata": {},
     "output_type": "execute_result"
    }
   ],
   "source": [
    "receiver.decrypt(cipher)"
   ]
  },
  {
   "cell_type": "markdown",
   "metadata": {},
   "source": [
    "#### Attack"
   ]
  },
  {
   "attachments": {},
   "cell_type": "markdown",
   "metadata": {},
   "source": [
    "##### Reading attack\n"
   ]
  },
  {
   "cell_type": "code",
   "execution_count": 46,
   "metadata": {},
   "outputs": [],
   "source": [
    "hacker = random_guy"
   ]
  },
  {
   "cell_type": "code",
   "execution_count": 47,
   "metadata": {},
   "outputs": [
    {
     "data": {
      "text/plain": [
       "'Gb-\"HS)E#\\'e\"W3MC`I8pChR4,3WPL*goCufk)P80r;QlE8u^wI0ux6<>GV]z~\\\\fV#3*.XMeEGq<.'"
      ]
     },
     "execution_count": 47,
     "metadata": {},
     "output_type": "execute_result"
    }
   ],
   "source": [
    "crypto.rsa.read_from_rsa_convert(\n",
    "    hacker.decrypt(cipher)\n",
    ")"
   ]
  },
  {
   "cell_type": "code",
   "execution_count": 48,
   "metadata": {},
   "outputs": [
    {
     "data": {
      "text/plain": [
       "'!olleBo b AThisis Heaice.Pl  mee sed nlo $100 t0souhis cca 45t: (231t)60987n'"
      ]
     },
     "execution_count": 48,
     "metadata": {},
     "output_type": "execute_result"
    }
   ],
   "source": [
    "hacker.encrypt(cipher, bob.pub)"
   ]
  },
  {
   "attachments": {},
   "cell_type": "markdown",
   "metadata": {},
   "source": [
    "##### Q: what if `bob.pub == bob.priv`?"
   ]
  },
  {
   "attachments": {},
   "cell_type": "markdown",
   "metadata": {},
   "source": [
    "##### Sending attack\n"
   ]
  },
  {
   "cell_type": "code",
   "execution_count": 49,
   "metadata": {},
   "outputs": [],
   "source": [
    "scam_message = (\n",
    "    \"Hello Bob! This is Alice. Please send me $1000 to this account: (0987654321)\"\n",
    ")"
   ]
  },
  {
   "cell_type": "code",
   "execution_count": 50,
   "metadata": {},
   "outputs": [
    {
     "data": {
      "text/plain": [
       "'024136)n59at: (u7t8c0his  o c n$100eostd e seaml P ice.Ae li This! HsBbleolo'"
      ]
     },
     "execution_count": 50,
     "metadata": {},
     "output_type": "execute_result"
    }
   ],
   "source": [
    "scam_cipher= random_guy.encrypt(scam_message, key=receiver.pub)\n",
    "scam_cipher"
   ]
  },
  {
   "cell_type": "code",
   "execution_count": 51,
   "metadata": {},
   "outputs": [
    {
     "data": {
      "text/plain": [
       "'Hello Bob! This is Alice. Please send me $1000 to this account: (0987654321)'"
      ]
     },
     "execution_count": 51,
     "metadata": {},
     "output_type": "execute_result"
    }
   ],
   "source": [
    "receiver.decrypt(scam_cipher)"
   ]
  },
  {
   "attachments": {},
   "cell_type": "markdown",
   "metadata": {},
   "source": [
    "### Authentication\n"
   ]
  },
  {
   "attachments": {},
   "cell_type": "markdown",
   "metadata": {},
   "source": [
    "#### Encryption"
   ]
  },
  {
   "cell_type": "code",
   "execution_count": 52,
   "metadata": {},
   "outputs": [
    {
     "data": {
      "text/plain": [
       "'9A?8@=1v>:i|B(0}<|;k8pq{((w(k(v,988mw{|l(m({miut(X(qkm6Im(tq(\\\\pq{)(P{Jjtmwtw'"
      ]
     },
     "execution_count": 52,
     "metadata": {},
     "output_type": "execute_result"
    }
   ],
   "source": [
    "signed_message = sender.sign(plain_message) # encrypt with sender.priv\n",
    "cipher_signed = sender.encrypt(signed_message, key=receiver.pub)\n",
    "cipher_signed"
   ]
  },
  {
   "cell_type": "code",
   "execution_count": 53,
   "metadata": {},
   "outputs": [
    {
     "data": {
      "text/plain": [
       "True"
      ]
     },
     "execution_count": 53,
     "metadata": {},
     "output_type": "execute_result"
    }
   ],
   "source": [
    "sender.sign(plain_message) == sender.decrypt(plain_message)"
   ]
  },
  {
   "cell_type": "code",
   "execution_count": 54,
   "metadata": {},
   "outputs": [
    {
     "data": {
      "text/plain": [
       "\"[A\\n1s:R@>8><2'/O?;9=)(~_[O:Bv0@w_a3L|ki}E{/}}akq|('w8[r:p|8(B8NaCB(9(8Uuu5@C,(vmZ{%Tx>l({mBm9*37mt(ikmM:6JXkt6 ({t8Qq{(I2qJdF3qp({{jiz}<\\\\w()Itmo\\thJtPwm4\""
      ]
     },
     "execution_count": 54,
     "metadata": {},
     "output_type": "execute_result"
    }
   ],
   "source": [
    "with_noise = utils.add_noises(plain_message)\n",
    "signed_with_noise = sender.sign(with_noise) \n",
    "cipher_signed_with_noise = sender.encrypt(signed_with_noise, key=receiver.pub)\n",
    "cipher_signed_with_noise"
   ]
  },
  {
   "attachments": {},
   "cell_type": "markdown",
   "metadata": {},
   "source": [
    "##### Shortcut"
   ]
  },
  {
   "cell_type": "code",
   "execution_count": 55,
   "metadata": {},
   "outputs": [
    {
     "data": {
      "text/plain": [
       "True"
      ]
     },
     "execution_count": 55,
     "metadata": {},
     "output_type": "execute_result"
    }
   ],
   "source": [
    "cipher_signed == sender.sends(plain_message, _to=receiver.pub)"
   ]
  },
  {
   "cell_type": "code",
   "execution_count": 56,
   "metadata": {},
   "outputs": [
    {
     "data": {
      "text/plain": [
       "True"
      ]
     },
     "execution_count": 56,
     "metadata": {},
     "output_type": "execute_result"
    }
   ],
   "source": [
    "cipher_signed == sender.sends(plain_message, _to=receiver)"
   ]
  },
  {
   "cell_type": "code",
   "execution_count": 57,
   "metadata": {},
   "outputs": [
    {
     "data": {
      "text/plain": [
       "'NoIsYnOiSyVA\\\\1+.%@>8t<c;u6?;9=R(G\\n0#:Bv0tw\\nQ#J|ki}C{^r%Gkq|(`wTO!9p|8(I8HYIM(9(8\"uyUF:,(vmt{~#vnl({mkm&\"\"?mt(i1m` L(Xkt6_(Nw-<q{(I!qg,<,qp({~j?~Vv\\\\w()ltTkV$JtPwmoNoIsYnOiSy'"
      ]
     },
     "execution_count": 57,
     "metadata": {},
     "output_type": "execute_result"
    }
   ],
   "source": [
    "cipher_signed_with_noise_bis = sender.sends(plain_message, _to=receiver, _with_noises=True)\n",
    "cipher_signed_with_noise_bis"
   ]
  },
  {
   "cell_type": "code",
   "execution_count": 58,
   "metadata": {},
   "outputs": [
    {
     "data": {
      "text/plain": [
       "'VA\\\\1+.%@>8t<c;u6?;9=R(G\\n0#:Bv0tw\\nQ#J|ki}C{^r%Gkq|(`wTO!9p|8(I8HYIM(9(8\"uyUF:,(vmt{~#vnl({mkm&\"\"?mt(i1m` L(Xkt6_(Nw-<q{(I!qg,<,qp({~j?~Vv\\\\w()ltTkV$JtPwmo'"
      ]
     },
     "execution_count": 58,
     "metadata": {},
     "output_type": "execute_result"
    }
   ],
   "source": [
    "cipher_signed_with_noise_bis[10:-10] # trim NoIsYnOiSy"
   ]
  },
  {
   "cell_type": "code",
   "execution_count": 59,
   "metadata": {},
   "outputs": [
    {
     "data": {
      "text/plain": [
       "False"
      ]
     },
     "execution_count": 59,
     "metadata": {},
     "output_type": "execute_result"
    }
   ],
   "source": [
    "cipher_signed_with_noise == cipher_signed_with_noise_bis[10:-10]"
   ]
  },
  {
   "attachments": {},
   "cell_type": "markdown",
   "metadata": {},
   "source": [
    "##### Q: Do you know why is it `False`?"
   ]
  },
  {
   "attachments": {},
   "cell_type": "markdown",
   "metadata": {},
   "source": [
    "#### Decryption"
   ]
  },
  {
   "cell_type": "code",
   "execution_count": 60,
   "metadata": {},
   "outputs": [
    {
     "data": {
      "text/plain": [
       "'Hello Bob! This is Alice. Please send me $1000 to this account: (1234567890)'"
      ]
     },
     "execution_count": 60,
     "metadata": {},
     "output_type": "execute_result"
    }
   ],
   "source": [
    "signed_message = receiver.decrypt(cipher_signed)\n",
    "receiver.encrypt(signed_message, key=sender.pub)"
   ]
  },
  {
   "cell_type": "code",
   "execution_count": 61,
   "metadata": {},
   "outputs": [
    {
     "data": {
      "text/plain": [
       "'Hello Bob! This is Alice. Please send me $1000 to this account: (1234567890)'"
      ]
     },
     "execution_count": 61,
     "metadata": {},
     "output_type": "execute_result"
    }
   ],
   "source": [
    "signed_message_with_noise = receiver.decrypt(cipher_signed_with_noise)\n",
    "message_with_noise = receiver.encrypt(signed_message_with_noise, key=sender.pub) # unsign\n",
    "utils.remove_noises(message_with_noise)"
   ]
  },
  {
   "cell_type": "code",
   "execution_count": 62,
   "metadata": {},
   "outputs": [
    {
     "data": {
      "text/plain": [
       "'Hello Bob! This is Alice. Please send me $1000 to this account: (1234567890)'"
      ]
     },
     "execution_count": 62,
     "metadata": {},
     "output_type": "execute_result"
    }
   ],
   "source": [
    "trimmed_cipher_signed_with_noise = cipher_signed_with_noise_bis[10:-10]\n",
    "signed_message_with_noise = receiver.decrypt(trimmed_cipher_signed_with_noise)\n",
    "message_with_noise = receiver.encrypt(signed_message_with_noise, key=sender.pub) # unsign\n",
    "utils.remove_noises(message_with_noise)"
   ]
  },
  {
   "attachments": {},
   "cell_type": "markdown",
   "metadata": {},
   "source": [
    "##### Shortcut"
   ]
  },
  {
   "cell_type": "code",
   "execution_count": 63,
   "metadata": {},
   "outputs": [
    {
     "data": {
      "text/plain": [
       "'Hello Bob! This is Alice. Please send me $1000 to this account: (1234567890)'"
      ]
     },
     "execution_count": 63,
     "metadata": {},
     "output_type": "execute_result"
    }
   ],
   "source": [
    "receiver.gets(cipher_signed, _from=sender.pub)"
   ]
  },
  {
   "cell_type": "code",
   "execution_count": 64,
   "metadata": {},
   "outputs": [
    {
     "data": {
      "text/plain": [
       "'Hello Bob! This is Alice. Please send me $1000 to this account: (1234567890)'"
      ]
     },
     "execution_count": 64,
     "metadata": {},
     "output_type": "execute_result"
    }
   ],
   "source": [
    "utils.remove_noises(receiver.gets(cipher_signed_with_noise, _from=sender))"
   ]
  },
  {
   "cell_type": "code",
   "execution_count": 65,
   "metadata": {},
   "outputs": [
    {
     "data": {
      "text/plain": [
       "'Hello Bob! This is Alice. Please send me $1000 to this account: (1234567890)'"
      ]
     },
     "execution_count": 65,
     "metadata": {},
     "output_type": "execute_result"
    }
   ],
   "source": [
    "receiver.gets(cipher_signed_with_noise_bis, _from=sender)"
   ]
  },
  {
   "attachments": {},
   "cell_type": "markdown",
   "metadata": {},
   "source": [
    "#### Attacks"
   ]
  },
  {
   "attachments": {},
   "cell_type": "markdown",
   "metadata": {},
   "source": [
    "##### Reading Attack\n"
   ]
  },
  {
   "cell_type": "code",
   "execution_count": 66,
   "metadata": {},
   "outputs": [
    {
     "data": {
      "text/plain": [
       "'8(=?Y()Apal,q&w<wI\"Z,f=hGA~53z4L@|]jxx`q0!3uA?Y\\n-6)ftl~|*ld<\\'2Nn9wG}=,HXM\\t;J'"
      ]
     },
     "execution_count": 66,
     "metadata": {},
     "output_type": "execute_result"
    }
   ],
   "source": [
    "crypto.read_from_rsa_convert(hacker.decrypt(cipher_signed))"
   ]
  },
  {
   "cell_type": "code",
   "execution_count": 67,
   "metadata": {},
   "outputs": [
    {
     "data": {
      "text/plain": [
       "'197085)n62at: (u4t3c0his  o c n$100eostd e seaml P ice.Ae li This! HsBbleolo'"
      ]
     },
     "execution_count": 67,
     "metadata": {},
     "output_type": "execute_result"
    }
   ],
   "source": [
    "hacker.encrypt(cipher_signed, key=sender.pub)"
   ]
  },
  {
   "cell_type": "code",
   "execution_count": 68,
   "metadata": {},
   "outputs": [
    {
     "data": {
      "text/plain": [
       "')wttmJw(j(I\\\\pq{q{(Pmiqkm6Xt((umm({ml(vtw(,988(|8{w}pq{(kki(<=|B(0:;9|1>8A@?v'"
      ]
     },
     "execution_count": 68,
     "metadata": {},
     "output_type": "execute_result"
    }
   ],
   "source": [
    "hacker.encrypt(cipher_signed, key=receiver.pub)"
   ]
  },
  {
   "cell_type": "code",
   "execution_count": 69,
   "metadata": {},
   "outputs": [
    {
     "data": {
      "text/plain": [
       "'t\";\\nJw]\\\\XH9,MG}|=n2\\'~<N*lYdlf)?6t\\\\nx-A3!j0ux`~q]@LA4|53IzG=fw,h\\\\\"AZ<&q),wpa[l(?=8\\n(\"Y'"
      ]
     },
     "execution_count": 69,
     "metadata": {},
     "output_type": "execute_result"
    }
   ],
   "source": [
    "hacker.sends(cipher_signed, _to=receiver.pub)\n"
   ]
  },
  {
   "cell_type": "code",
   "execution_count": 70,
   "metadata": {},
   "outputs": [
    {
     "data": {
      "text/plain": [
       "'Sx{0 57Q !9hYd$i\\to4oAT{R$^5`?9v-+r,D8tUbppXi(z+m97QTf%.!^ldvt\"d\\\\4\\n*Ff1o?u5$@PETl3B{xU'"
      ]
     },
     "execution_count": 70,
     "metadata": {},
     "output_type": "execute_result"
    }
   ],
   "source": [
    "hacker.gets(cipher_signed, _from=alice)\n"
   ]
  },
  {
   "cell_type": "code",
   "execution_count": 71,
   "metadata": {},
   "outputs": [
    {
     "data": {
      "text/plain": [
       "'t\";\\nJw]\\\\XH9,MG}|=n2\\'~<N*lYdlf)?6t\\\\nx-A3!j0ux`~q]@LA4|53IzG=fw,h\\\\\"AZ<&q),wpa[l(?=8\\n(\"Y'"
      ]
     },
     "execution_count": 71,
     "metadata": {},
     "output_type": "execute_result"
    }
   ],
   "source": [
    "hacker.gets(cipher_signed, _from=bob)\n"
   ]
  },
  {
   "attachments": {},
   "cell_type": "markdown",
   "metadata": {},
   "source": [
    "##### Sending Attack\n"
   ]
  },
  {
   "cell_type": "code",
   "execution_count": 72,
   "metadata": {},
   "outputs": [
    {
     "name": "stdout",
     "output_type": "stream",
     "text": [
      "\n",
      "Original:\n",
      "========\n",
      "Hello Bob! This is Alice. Please send me $1000 to this account: (1234567890)\n",
      "\n",
      "Scam:\n",
      "=====\n",
      "Hello Bob! This is Alice. Please send me $1000 to this account: (0987654321)\n",
      "\n"
     ]
    }
   ],
   "source": [
    "print(f\"\"\"\n",
    "Original:\n",
    "========\n",
    "{plain_message}\n",
    "\n",
    "Scam:\n",
    "=====\n",
    "{scam_message}\n",
    "\"\"\"\n",
    ")"
   ]
  },
  {
   "cell_type": "code",
   "execution_count": 73,
   "metadata": {},
   "outputs": [
    {
     "data": {
      "text/plain": [
       "'@]ddgy:gZzyL`akyaky9da[]&yHd]Yk]yk]f\\\\ye]y})(((ylgyl`akyY[[gmfl2y (10/.-,+*)!'"
      ]
     },
     "execution_count": 73,
     "metadata": {},
     "output_type": "execute_result"
    }
   ],
   "source": [
    "non_signed_scam = hacker.encrypt(scam_message, key=receiver.pub)\n",
    "\n",
    "receiver.gets(non_signed_scam, _from=sender)"
   ]
  },
  {
   "cell_type": "code",
   "execution_count": 74,
   "metadata": {},
   "outputs": [
    {
     "data": {
      "text/plain": [
       "'(#!$\"^&z% Sd*qyde\\')QdXYcqqq_S qu!  cU_q^\\\\UqcU\\\\Q]TqcYSU\\tq1U@q_DXYc8rqYqR\\\\_U\\\\2'"
      ]
     },
     "execution_count": 74,
     "metadata": {},
     "output_type": "execute_result"
    }
   ],
   "source": [
    "non_signed_scam = hacker.encrypt(scam_message, key=sender.pub)\n",
    "\n",
    "receiver.gets(non_signed_scam, _from=sender)"
   ]
  },
  {
   "cell_type": "code",
   "execution_count": 75,
   "metadata": {},
   "outputs": [
    {
     "data": {
      "text/plain": [
       "'Sx{:\\nNTT9\\' ,J\"0NV0TT}^T{3=|/bU\\\\488XG0W 1u;W0l0o<Y/m>4\\\\y5JC~gD\\n0$b9%}~H8r_::bmTl!rrm{xU'"
      ]
     },
     "execution_count": 75,
     "metadata": {},
     "output_type": "execute_result"
    }
   ],
   "source": [
    "signed_scam = hacker.sends(scam_message, _to=receiver)\n",
    "\n",
    "receiver.gets(signed_scam, _from=sender)"
   ]
  },
  {
   "attachments": {},
   "cell_type": "markdown",
   "metadata": {},
   "source": [
    "##### Possible Weakness"
   ]
  },
  {
   "cell_type": "code",
   "execution_count": 76,
   "metadata": {},
   "outputs": [
    {
     "data": {
      "text/plain": [
       "'8:<9;>1v=Ai|B(0}?|@k8pq{((w(k(v,988mw{|l(m({miut(X(qkm6Im(tq(\\\\pq{)(P{Jjtmwtw'"
      ]
     },
     "execution_count": 76,
     "metadata": {},
     "output_type": "execute_result"
    }
   ],
   "source": [
    "_, leaked_sender_priv = akey  # key of alice = expected sender\n",
    "\n",
    "fake_signed_scam = hacker.encrypt(scam_message, leaked_sender_priv)\n",
    "cipher_fake_signed_scam = hacker.encrypt(fake_signed_scam, receiver.pub)\n",
    "cipher_fake_signed_scam"
   ]
  },
  {
   "cell_type": "code",
   "execution_count": 77,
   "metadata": {},
   "outputs": [
    {
     "data": {
      "text/plain": [
       "'Hello Bob! This is Alice. Please send me $1000 to this account: (0987654321)'"
      ]
     },
     "execution_count": 77,
     "metadata": {},
     "output_type": "execute_result"
    }
   ],
   "source": [
    "receiver.gets(cipher_fake_signed_scam, _from=sender)"
   ]
  },
  {
   "attachments": {},
   "cell_type": "markdown",
   "metadata": {},
   "source": [
    "# Blockchain\n"
   ]
  },
  {
   "cell_type": "code",
   "execution_count": 78,
   "metadata": {},
   "outputs": [],
   "source": [
    "from bcbcpy import blockchain"
   ]
  },
  {
   "attachments": {},
   "cell_type": "markdown",
   "metadata": {},
   "source": [
    "## Recap: Data Structure"
   ]
  },
  {
   "attachments": {},
   "cell_type": "markdown",
   "metadata": {},
   "source": [
    "### List - Array"
   ]
  },
  {
   "cell_type": "code",
   "execution_count": null,
   "metadata": {},
   "outputs": [],
   "source": []
  },
  {
   "attachments": {},
   "cell_type": "markdown",
   "metadata": {},
   "source": [
    "### Linked List"
   ]
  },
  {
   "cell_type": "code",
   "execution_count": null,
   "metadata": {},
   "outputs": [],
   "source": []
  },
  {
   "attachments": {},
   "cell_type": "markdown",
   "metadata": {},
   "source": [
    "## Block Data"
   ]
  },
  {
   "cell_type": "code",
   "execution_count": 79,
   "metadata": {},
   "outputs": [],
   "source": [
    "from bcbcpy.blockchain import block"
   ]
  },
  {
   "attachments": {},
   "cell_type": "markdown",
   "metadata": {},
   "source": [
    "### Block"
   ]
  },
  {
   "cell_type": "code",
   "execution_count": null,
   "metadata": {},
   "outputs": [],
   "source": []
  },
  {
   "attachments": {},
   "cell_type": "markdown",
   "metadata": {},
   "source": [
    "### Initial Block"
   ]
  },
  {
   "cell_type": "code",
   "execution_count": null,
   "metadata": {},
   "outputs": [],
   "source": []
  },
  {
   "attachments": {},
   "cell_type": "markdown",
   "metadata": {},
   "source": [
    "## Chain"
   ]
  },
  {
   "attachments": {},
   "cell_type": "markdown",
   "metadata": {},
   "source": [
    "A submodule is available at \n",
    "```python\n",
    "from bcbcpy.blockchain import chain\n",
    "```"
   ]
  },
  {
   "attachments": {},
   "cell_type": "markdown",
   "metadata": {},
   "source": [
    "### Root of a Chain"
   ]
  },
  {
   "cell_type": "code",
   "execution_count": 80,
   "metadata": {},
   "outputs": [
    {
     "data": {
      "text/plain": [
       "'0000a456e7b5a5eb059e721fb431436883143101275c4077f83fe70298f5623d'"
      ]
     },
     "execution_count": 80,
     "metadata": {},
     "output_type": "execute_result"
    }
   ],
   "source": [
    "chain = blockchain.RootChain()\n",
    "chain.hash"
   ]
  },
  {
   "cell_type": "code",
   "execution_count": 81,
   "metadata": {},
   "outputs": [
    {
     "data": {
      "text/plain": [
       "'0000579da420f2b62497716cc60e95a0f7ad46336c42062b7485a27fd91d99f0'"
      ]
     },
     "execution_count": 81,
     "metadata": {},
     "output_type": "execute_result"
    }
   ],
   "source": [
    "initial_data = {\"INITIAL AGREEMENT\": {\"Bob\": 1000, \"Alice\": 500}}\n",
    "\n",
    "initial_data_string = utils.obj2txt(initial_data, indent=4)\n",
    "chain = blockchain.RootChain(initial_data_string, difficulty=4)\n",
    "chain.hash"
   ]
  },
  {
   "cell_type": "markdown",
   "metadata": {},
   "source": [
    "### Normal Chain"
   ]
  },
  {
   "cell_type": "code",
   "execution_count": null,
   "metadata": {},
   "outputs": [],
   "source": []
  },
  {
   "attachments": {},
   "cell_type": "markdown",
   "metadata": {},
   "source": [
    "### Deviated Chain"
   ]
  },
  {
   "cell_type": "code",
   "execution_count": null,
   "metadata": {},
   "outputs": [],
   "source": []
  },
  {
   "attachments": {},
   "cell_type": "markdown",
   "metadata": {},
   "source": [
    "## Transaction\n"
   ]
  },
  {
   "cell_type": "code",
   "execution_count": 82,
   "metadata": {},
   "outputs": [],
   "source": [
    "from bcbcpy.blockchain.block import transaction"
   ]
  },
  {
   "attachments": {},
   "cell_type": "markdown",
   "metadata": {},
   "source": [
    "### Transaction Data"
   ]
  },
  {
   "cell_type": "code",
   "execution_count": 83,
   "metadata": {},
   "outputs": [],
   "source": [
    "coins = 1000\n",
    "sender = RepNode(crypto.rsa_key_demo(), username=\"Bob\")\n",
    "receiver = RepNode(crypto.rsa_key_demo(), username=\"Alice\")\n",
    "transaction_message = (\"\"\"\n",
    "Hello Alice, \n",
    "\n",
    "This is 1000 that you asked me to send last time.\n",
    "\n",
    "Bye,\n",
    "Bob\n",
    "\"\"\"\n",
    ")\n",
    "\n",
    "receiver_id = receiver.id\n",
    "receiver_pub = receiver.pub\n",
    "\n",
    "\n",
    "prev_block = chain.last_block"
   ]
  },
  {
   "cell_type": "code",
   "execution_count": 84,
   "metadata": {},
   "outputs": [
    {
     "name": "stdout",
     "output_type": "stream",
     "text": [
      "{\n",
      "    \"sender_id\": \"Bob\",\n",
      "    \"receiver_id\": \"Alice\",\n",
      "    \"amount\": 1000,\n",
      "    \"prev_hash\": \"0000579da420f2b62497716cc60e95a0f7ad46336c42062b7485a27fd91d99f0\",\n",
      "    \"sender_confirmation\": \"[\\n\\\"5oC:#RTUXN\\\",\\n\\\"=<LRVG\\\",\\n\\\"!<H)\\\\\\\\t@hNjR]I_O{JlCa+SyJ\\\",\\n\\\"!n}6YHVrh-d<^3R&YsY0\\\"\\n]\"\n",
      "}\n"
     ]
    }
   ],
   "source": [
    "transaction_data = transaction.TransactionData(\n",
    "    coins, sender, receiver_id, receiver_pub, prev_block, transaction_message\n",
    ")\n",
    "\n",
    "print(transaction_data)"
   ]
  },
  {
   "attachments": {},
   "cell_type": "markdown",
   "metadata": {},
   "source": [
    "### Transaction Block"
   ]
  },
  {
   "cell_type": "code",
   "execution_count": 85,
   "metadata": {},
   "outputs": [
    {
     "data": {
      "text/plain": [
       "'12d3cfa99e7c680d2303d0749563c9c5e8fa306ad6c843d2faa9a47c08b822bf'"
      ]
     },
     "execution_count": 85,
     "metadata": {},
     "output_type": "execute_result"
    }
   ],
   "source": [
    "transaction_block = blockchain.TransactionBlock(transaction_data)\n",
    "transaction_block.hash\n"
   ]
  },
  {
   "attachments": {},
   "cell_type": "markdown",
   "metadata": {},
   "source": [
    "#### Block Validation"
   ]
  },
  {
   "cell_type": "code",
   "execution_count": 86,
   "metadata": {},
   "outputs": [
    {
     "data": {
      "text/plain": [
       "'0000359194709dd3890902d60e83260c447442fcb83999867ed2535300160952'"
      ]
     },
     "execution_count": 86,
     "metadata": {},
     "output_type": "execute_result"
    }
   ],
   "source": [
    "transaction_block.mine()\n",
    "transaction_block.hash"
   ]
  },
  {
   "attachments": {},
   "cell_type": "markdown",
   "metadata": {},
   "source": [
    "#### Adding to Chain"
   ]
  },
  {
   "cell_type": "code",
   "execution_count": 87,
   "metadata": {},
   "outputs": [],
   "source": [
    "chain.add_block(transaction_block)"
   ]
  },
  {
   "attachments": {},
   "cell_type": "markdown",
   "metadata": {},
   "source": [
    "### Verification\n"
   ]
  },
  {
   "cell_type": "code",
   "execution_count": 88,
   "metadata": {},
   "outputs": [
    {
     "name": "stdout",
     "output_type": "stream",
     "text": [
      "{\n",
      "    \"hash\": \"0000359194709dd3890902d60e83260c447442fcb83999867ed2535300160952\",\n",
      "    \"data\": \"{\\n    \\\"sender_id\\\": \\\"Bob\\\",\\n    \\\"receiver_id\\\": \\\"Alice\\\",\\n    \\\"amount\\\": 1000,\\n    \\\"prev_hash\\\": \\\"0000579da420f2b62497716cc60e95a0f7ad46336c42062b7485a27fd91d99f0\\\",\\n    \\\"sender_confirmation\\\": \\\"[\\\\n\\\\\\\"5oC:#RTUXN\\\\\\\",\\\\n\\\\\\\"=<LRVG\\\\\\\",\\\\n\\\\\\\"!<H)\\\\\\\\\\\\\\\\t@hNjR]I_O{JlCa+SyJ\\\\\\\",\\\\n\\\\\\\"!n}6YHVrh-d<^3R&YsY0\\\\\\\"\\\\n]\\\"\\n}\"\n",
      "}\n"
     ]
    }
   ],
   "source": [
    "print(chain)\n"
   ]
  },
  {
   "cell_type": "code",
   "execution_count": null,
   "metadata": {},
   "outputs": [],
   "source": [
    "\n"
   ]
  },
  {
   "attachments": {},
   "cell_type": "markdown",
   "metadata": {},
   "source": [
    "## Second Transaction\n"
   ]
  },
  {
   "cell_type": "code",
   "execution_count": 89,
   "metadata": {},
   "outputs": [],
   "source": [
    "coins = 500\n",
    "sender = alice\n",
    "receiver = bob\n",
    "transaction_message = (\"\"\"\n",
    "Hi Bob, \n",
    "\n",
    "Please, I am sending you back the 500 because I already had free 500 in my account.\n",
    "\n",
    "Best,\n",
    "Alice.\n",
    "\"\"\"\n",
    ")"
   ]
  },
  {
   "cell_type": "code",
   "execution_count": 90,
   "metadata": {},
   "outputs": [
    {
     "name": "stdout",
     "output_type": "stream",
     "text": [
      "{\n",
      "    \"sender_id\": \"Alice\",\n",
      "    \"receiver_id\": \"Bob\",\n",
      "    \"amount\": 500,\n",
      "    \"prev_hash\": \"0000359194709dd3890902d60e83260c447442fcb83999867ed2535300160952\",\n",
      "    \"sender_confirmation\": \"\\\"'((((*xzm~gpi{p*B(*8888;=A9A<?8All;@A8A8:l>8m@;:>8k<<?<<:nkj@;AAA@>?ml:=;=;889>8A=:*4'((((*~it}m*B(=884'((((*zmkmq~mzgx}jgsm g~it}m*B(c'((((((((@4'((((((((;4'((((((((=4'((((((((:4'((((((((<4'((((((((A4'((((((((94'((((((((984'((((((((>4'((((((((?'((((e4'((((*|ziv{ik|qwv(um{{iom*B(*dvmq6k4dvJtI|}6|{mdvivdv(quwkk(=v z(m(88((nmmtilip (zlim}i(Qm8k{p(mj(8=j|( owski(v(}u((vqlmmi{tdvmQ(4{jXiwdvdv((PJq4*'$\"\n",
      "}\n"
     ]
    }
   ],
   "source": [
    "receiver_id = receiver.id\n",
    "receiver_pub = receiver.pub\n",
    "prev_block = chain.last_block\n",
    "\n",
    "transaction_data_2 = transaction.TransactionData(\n",
    "    coins, sender, receiver_id, receiver_pub, prev_block, transaction_message\n",
    ")\n",
    "\n",
    "print(transaction_data_2)"
   ]
  },
  {
   "cell_type": "code",
   "execution_count": 91,
   "metadata": {},
   "outputs": [],
   "source": [
    "transaction_block = blockchain.TransactionBlock(transaction_data_2)\n",
    "transaction_block.mine() # validation\n",
    "chain.add_block(transaction_block)"
   ]
  },
  {
   "cell_type": "code",
   "execution_count": null,
   "metadata": {},
   "outputs": [],
   "source": []
  }
 ],
 "metadata": {
  "kernelspec": {
   "display_name": "Python 3",
   "language": "python",
   "name": "python3"
  },
  "language_info": {
   "codemirror_mode": {
    "name": "ipython",
    "version": 3
   },
   "file_extension": ".py",
   "mimetype": "text/x-python",
   "name": "python",
   "nbconvert_exporter": "python",
   "pygments_lexer": "ipython3",
   "version": "3.10.10"
  },
  "orig_nbformat": 4,
  "vscode": {
   "interpreter": {
    "hash": "b0fa6594d8f4cbf19f97940f81e996739fb7646882a419484c72d19e05852a7e"
   }
  }
 },
 "nbformat": 4,
 "nbformat_minor": 2
}
