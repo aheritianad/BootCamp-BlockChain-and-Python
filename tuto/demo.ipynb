{
 "cells": [
  {
   "cell_type": "markdown",
   "metadata": {},
   "source": [
    "This is a demo notebook for the [bcbcpy](https://github.com/aheritianad/BootCamp-BlockChain-and-Python/) package.\n",
    "\n",
    "To install it, run  \n",
    "`pip install git+https://github.com/aheritianad/BootCamp-BlockChain-and-Python.git --use-pep517`"
   ]
  },
  {
   "cell_type": "code",
   "execution_count": 1,
   "metadata": {
    "tags": []
   },
   "outputs": [],
   "source": [
    "try:\n",
    "    import bcbcpy\n",
    "except ModuleNotFoundError:\n",
    "    import os, sys\n",
    "    sys.path.append(os.path.abspath(\"..\"))\n",
    "    import bcbcpy"
   ]
  },
  {
   "cell_type": "markdown",
   "metadata": {},
   "source": [
    "# Cryptography\n"
   ]
  },
  {
   "cell_type": "code",
   "execution_count": 2,
   "metadata": {
    "tags": []
   },
   "outputs": [],
   "source": [
    "from bcbcpy import crypto"
   ]
  },
  {
   "cell_type": "markdown",
   "metadata": {},
   "source": [
    "## Hash\n"
   ]
  },
  {
   "cell_type": "markdown",
   "metadata": {},
   "source": [
    "### `Hash` function\n"
   ]
  },
  {
   "cell_type": "markdown",
   "metadata": {},
   "source": [
    "$$\\mathfrak{h}: X \\to H$$\n",
    "\n",
    "- $\\mathfrak{h}(x) = \\mathfrak{h}(y)$ *only if* $x=y$.\n",
    "- given $h\\in H$, it is *not easy* to find $x\\in X$ such that $\\mathfrak{h}(x) = h$.\n",
    "\n",
    "In some sense, $\\mathfrak{h}(x)$ is a fingerprint of $x$."
   ]
  },
  {
   "cell_type": "code",
   "execution_count": 3,
   "metadata": {
    "tags": []
   },
   "outputs": [
    {
     "data": {
      "text/plain": [
       "'1370eeaaba7a6c7a234b1f82cc3b6d013a0088fd5e16408300f05b28b0015463'"
      ]
     },
     "execution_count": 3,
     "metadata": {},
     "output_type": "execute_result"
    }
   ],
   "source": [
    "text_to_be_hashed = \"Hello World\"\n",
    "first_hash = crypto.hash_function(text_to_be_hashed, hash_name=crypto.HashName.sha256)\n",
    "first_hash\n"
   ]
  },
  {
   "cell_type": "code",
   "execution_count": 4,
   "metadata": {
    "tags": []
   },
   "outputs": [
    {
     "data": {
      "text/plain": [
       "'e59f8bdf1305e382a4919ccefd613d3eebae612aa4c443f3af2d65663de3b075'"
      ]
     },
     "execution_count": 4,
     "metadata": {},
     "output_type": "execute_result"
    }
   ],
   "source": [
    "crypto.hash_function(text_to_be_hashed + \"!\")\n"
   ]
  },
  {
   "cell_type": "code",
   "execution_count": 5,
   "metadata": {
    "tags": []
   },
   "outputs": [
    {
     "data": {
      "text/plain": [
       "'e59f8bdf1305e382a4919ccefd613d3eebae612aa4c443f3af2d65663de3b075'"
      ]
     },
     "execution_count": 5,
     "metadata": {},
     "output_type": "execute_result"
    }
   ],
   "source": [
    "crypto.hash_function(\"Hello World!\")"
   ]
  },
  {
   "cell_type": "code",
   "execution_count": 6,
   "metadata": {
    "tags": []
   },
   "outputs": [],
   "source": [
    "long_text = \"\"\"\n",
    "Hello everyone!\n",
    "\n",
    "Welcome to this tutorial.\n",
    "I promise that I will do my best to help you.\n",
    "\n",
    "It will be interactive, so please participate as much as you can.\n",
    "\n",
    "Please do not hesitate to ask if there you have questions.\n",
    "\n",
    "Hope you will enjoy it!\n",
    "\n",
    "Cheers!\n",
    "\n",
    "Heritiana.\n",
    "\"\"\"\n"
   ]
  },
  {
   "cell_type": "code",
   "execution_count": 7,
   "metadata": {
    "tags": []
   },
   "outputs": [
    {
     "data": {
      "text/plain": [
       "'0c8359860bef1b26f811bf8448c546c2241c7c695f9b8ee76c1a8bf2d5b2dff3'"
      ]
     },
     "execution_count": 7,
     "metadata": {},
     "output_type": "execute_result"
    }
   ],
   "source": [
    "hash_long = crypto.hash_function(long_text)\n",
    "hash_long\n"
   ]
  },
  {
   "cell_type": "code",
   "execution_count": 8,
   "metadata": {
    "tags": []
   },
   "outputs": [
    {
     "data": {
      "text/plain": [
       "True"
      ]
     },
     "execution_count": 8,
     "metadata": {},
     "output_type": "execute_result"
    }
   ],
   "source": [
    "len(hash_long) == len(first_hash)\n"
   ]
  },
  {
   "cell_type": "markdown",
   "metadata": {},
   "source": [
    "### Validation\n"
   ]
  },
  {
   "cell_type": "code",
   "execution_count": 9,
   "metadata": {
    "tags": []
   },
   "outputs": [
    {
     "data": {
      "text/plain": [
       "False"
      ]
     },
     "execution_count": 9,
     "metadata": {},
     "output_type": "execute_result"
    }
   ],
   "source": [
    "difficulty = 4\n",
    "crypto.is_valid_hash(first_hash, difficulty)\n"
   ]
  },
  {
   "cell_type": "code",
   "execution_count": 10,
   "metadata": {
    "tags": []
   },
   "outputs": [
    {
     "data": {
      "text/plain": [
       "'0000eeaaba7a6c7a234b1f82cc3b6d013a0088fd5e16408300f05b28b0015463'"
      ]
     },
     "execution_count": 10,
     "metadata": {},
     "output_type": "execute_result"
    }
   ],
   "source": [
    "fake_hash = \"0000\" + first_hash[4:]\n",
    "fake_hash"
   ]
  },
  {
   "cell_type": "code",
   "execution_count": 11,
   "metadata": {
    "tags": []
   },
   "outputs": [
    {
     "data": {
      "text/plain": [
       "True"
      ]
     },
     "execution_count": 11,
     "metadata": {},
     "output_type": "execute_result"
    }
   ],
   "source": [
    "crypto.is_valid_hash(fake_hash, difficulty)\n"
   ]
  },
  {
   "cell_type": "markdown",
   "metadata": {},
   "source": [
    "### Nonce\n"
   ]
  },
  {
   "cell_type": "code",
   "execution_count": 12,
   "metadata": {
    "tags": []
   },
   "outputs": [
    {
     "data": {
      "text/plain": [
       "'0000bfe6af4232f78b0c8eba37a6ba6c17b9b8671473b0b82305880be077edd9'"
      ]
     },
     "execution_count": 12,
     "metadata": {},
     "output_type": "execute_result"
    }
   ],
   "source": [
    "second_hash, nonce = crypto.hash_nonce_initializer(\n",
    "    text_to_be_hashed, difficulty=difficulty\n",
    ")\n",
    "second_hash"
   ]
  },
  {
   "cell_type": "code",
   "execution_count": 13,
   "metadata": {
    "tags": []
   },
   "outputs": [
    {
     "data": {
      "text/plain": [
       "107105"
      ]
     },
     "execution_count": 13,
     "metadata": {},
     "output_type": "execute_result"
    }
   ],
   "source": [
    "nonce\n"
   ]
  },
  {
   "cell_type": "code",
   "execution_count": 14,
   "metadata": {
    "tags": []
   },
   "outputs": [
    {
     "data": {
      "text/plain": [
       "True"
      ]
     },
     "execution_count": 14,
     "metadata": {},
     "output_type": "execute_result"
    }
   ],
   "source": [
    "crypto.is_valid_hash(second_hash, difficulty)\n"
   ]
  },
  {
   "cell_type": "code",
   "execution_count": 15,
   "metadata": {
    "tags": []
   },
   "outputs": [
    {
     "data": {
      "text/plain": [
       "'0000bfe6af4232f78b0c8eba37a6ba6c17b9b8671473b0b82305880be077edd9'"
      ]
     },
     "execution_count": 15,
     "metadata": {},
     "output_type": "execute_result"
    }
   ],
   "source": [
    "third_hash = crypto.hash_function(text_to_be_hashed, nonce=nonce)\n",
    "third_hash\n"
   ]
  },
  {
   "cell_type": "code",
   "execution_count": 16,
   "metadata": {
    "tags": []
   },
   "outputs": [
    {
     "data": {
      "text/plain": [
       "True"
      ]
     },
     "execution_count": 16,
     "metadata": {},
     "output_type": "execute_result"
    }
   ],
   "source": [
    "second_hash == third_hash\n"
   ]
  },
  {
   "cell_type": "code",
   "execution_count": 17,
   "metadata": {
    "tags": []
   },
   "outputs": [
    {
     "data": {
      "text/plain": [
       "True"
      ]
     },
     "execution_count": 17,
     "metadata": {},
     "output_type": "execute_result"
    }
   ],
   "source": [
    "forth_hash = crypto.hash_function(text_to_be_hashed, nonce, nonce=\"\")  # type:ignore\n",
    "second_hash == forth_hash"
   ]
  },
  {
   "cell_type": "markdown",
   "metadata": {},
   "source": [
    "### Q: What if such `nonce` does not exist?\n"
   ]
  },
  {
   "cell_type": "markdown",
   "metadata": {},
   "source": [
    "**Think about it.**\n"
   ]
  },
  {
   "cell_type": "markdown",
   "metadata": {},
   "source": [
    "## Cipher\n"
   ]
  },
  {
   "cell_type": "markdown",
   "metadata": {},
   "source": [
    "### `Encryption` & `Decryption`\n"
   ]
  },
  {
   "cell_type": "markdown",
   "metadata": {},
   "source": [
    "$$f\\circ f^{-1} (x) = f^{-1}\\circ f(x) = x,\\ \\forall x$$\n"
   ]
  },
  {
   "cell_type": "code",
   "execution_count": 18,
   "metadata": {
    "tags": []
   },
   "outputs": [],
   "source": [
    "encrypt = lambda x: 2 * x - 1\n",
    "decrypt = lambda x: 0  # TODO to fill"
   ]
  },
  {
   "cell_type": "code",
   "execution_count": 19,
   "metadata": {
    "tags": []
   },
   "outputs": [
    {
     "name": "stdout",
     "output_type": "stream",
     "text": [
      "Oops! fail at 1-th attempt for x = -4995.\n"
     ]
    }
   ],
   "source": [
    "import random\n",
    "try:\n",
    "    for i in range(20):\n",
    "        x = random.randint(-5000, 5000)\n",
    "        assert (\n",
    "            encrypt(decrypt(x)) == decrypt(encrypt(x)) == x\n",
    "        ), f\"Oops! fail at {i+1}-th attempt for x = {x}.\"\n",
    "except AssertionError as e:\n",
    "    print(e)\n",
    "else:\n",
    "    print(\"Congrats! I passes the test.\")"
   ]
  },
  {
   "cell_type": "code",
   "execution_count": 20,
   "metadata": {
    "tags": []
   },
   "outputs": [],
   "source": [
    "clear_message = (\n",
    "    \"This is a clear message to encrypt and decrypt. I add this to make it longer.\"\n",
    ")"
   ]
  },
  {
   "cell_type": "markdown",
   "metadata": {},
   "source": [
    "### Types\n"
   ]
  },
  {
   "cell_type": "markdown",
   "metadata": {},
   "source": [
    "#### Key\n"
   ]
  },
  {
   "cell_type": "markdown",
   "metadata": {},
   "source": [
    "$\\mathcal{F}=\\{ f_\\theta \\:\\ \\theta \\in \\Theta\\}$\n",
    "\n",
    "$\\left(f_{\\theta}\\right) ^{-1} = f_{\\theta^\\prime}$ for some $\\theta^\\prime \\in \\Theta$\n",
    "\n",
    "$\\theta \\in \\Theta$ : key\n"
   ]
  },
  {
   "cell_type": "markdown",
   "metadata": {},
   "source": [
    "#### Symmetric\n"
   ]
  },
  {
   "cell_type": "markdown",
   "metadata": {},
   "source": [
    "Given $f_\\theta$ or $\\theta\\in \\Theta$ (thus $f_\\theta$), one can construct *easily*  $\\left(f_\\theta\\right)^{-1}$."
   ]
  },
  {
   "cell_type": "markdown",
   "metadata": {},
   "source": [
    "From Wikipedia (2023-05-01):\n",
    "\n",
    "*Symmetric-key algorithms are algorithms for cryptography that use the same cryptographic keys for both the encryption of plaintext and the decryption of ciphertext. The keys may be identical, or there may be a simple transformation to go between the two keys.*"
   ]
  },
  {
   "cell_type": "markdown",
   "metadata": {},
   "source": [
    "##### Affine\n"
   ]
  },
  {
   "attachments": {},
   "cell_type": "markdown",
   "metadata": {},
   "source": [
    "$N$ : number of character.  \n",
    "key: $ \\theta \\in  \\mathbb{Z} \\times \\mathbb{Z}$  \n",
    "function: $f_{(a,b)}: x \\mod N \\mapsto (ax + b) \\mod N$  \n",
    "inverse: $\\theta^\\prime = (a^{-1}\\mod N, -a^{-1}b\\mod N)$ for $\\theta = (a,b)$."
   ]
  },
  {
   "cell_type": "code",
   "execution_count": 21,
   "metadata": {
    "tags": []
   },
   "outputs": [
    {
     "name": "stdout",
     "output_type": "stream",
     "text": [
      "AffineKey(70,34)\n"
     ]
    }
   ],
   "source": [
    "affine_key = crypto.AffineKey.generate_key()\n",
    "print(affine_key)\n"
   ]
  },
  {
   "cell_type": "code",
   "execution_count": 22,
   "metadata": {
    "tags": []
   },
   "outputs": [
    {
     "data": {
      "text/plain": [
       "(81, 48)"
      ]
     },
     "execution_count": 22,
     "metadata": {},
     "output_type": "execute_result"
    }
   ],
   "source": [
    "crypto.AffineKey.compute_inverse((6,3))"
   ]
  },
  {
   "cell_type": "code",
   "execution_count": 23,
   "metadata": {
    "tags": []
   },
   "outputs": [
    {
     "name": "stdout",
     "output_type": "stream",
     "text": [
      "\n",
      "original:\n",
      "========\n",
      "This is a clear message to encrypt and decrypt. I add this to make it longer.\n",
      "\n",
      "Encrypted:\n",
      "========\n",
      "=gLakLakbk,\\Wb|kAWaab!WkFlkW&,| QFkb&rkrW,| QFukCkbrrkFgLakFlkAbwWkLFk\\l&!W|u\n",
      "\n"
     ]
    }
   ],
   "source": [
    "encr_affine = affine_key.encrypt(clear_message)\n",
    "\n",
    "print(\n",
    "    f\"\"\"\n",
    "original:\n",
    "========\n",
    "{clear_message}\n",
    "\n",
    "Encrypted:\n",
    "========\n",
    "{encr_affine}\n",
    "\"\"\"\n",
    ")"
   ]
  },
  {
   "cell_type": "code",
   "execution_count": 24,
   "metadata": {
    "tags": []
   },
   "outputs": [
    {
     "name": "stdout",
     "output_type": "stream",
     "text": [
      "\n",
      "original:\n",
      "========\n",
      "This is a clear message to encrypt and decrypt. I add this to make it longer.\n",
      "\n",
      "Decrypted:\n",
      "=========\n",
      "This is a clear message to encrypt and decrypt. I add this to make it longer.\n",
      "\n"
     ]
    }
   ],
   "source": [
    "decr = affine_key.decrypt(encr_affine)\n",
    "\n",
    "print(\n",
    "    f\"\"\"\n",
    "original:\n",
    "========\n",
    "{clear_message}\n",
    "\n",
    "Decrypted:\n",
    "=========\n",
    "{decr}\n",
    "\"\"\"\n",
    ")"
   ]
  },
  {
   "cell_type": "markdown",
   "metadata": {},
   "source": [
    "##### Permutation\n"
   ]
  },
  {
   "cell_type": "code",
   "execution_count": 25,
   "metadata": {
    "tags": []
   },
   "outputs": [
    {
     "data": {
      "text/plain": [
       "[4, 1, 2, 3]"
      ]
     },
     "execution_count": 25,
     "metadata": {},
     "output_type": "execute_result"
    }
   ],
   "source": [
    "crypto.PermutationKey.compute_inverse([2, 3, 4, 1])"
   ]
  },
  {
   "cell_type": "markdown",
   "metadata": {},
   "source": [
    "###### **Idea1: Chunking**"
   ]
  },
  {
   "cell_type": "markdown",
   "metadata": {},
   "source": [
    "Chunk input with a chunk size equal to permutation length and apply permutation on each chunks."
   ]
  },
  {
   "cell_type": "code",
   "execution_count": 26,
   "metadata": {
    "tags": []
   },
   "outputs": [
    {
     "name": "stdout",
     "output_type": "stream",
     "text": [
      "PermutationKey([2, 3, 1])\n"
     ]
    }
   ],
   "source": [
    "perm_key = crypto.PermutationKey.generate_key(length=3, n_runs=1)\n",
    "print(perm_key)\n"
   ]
  },
  {
   "cell_type": "code",
   "execution_count": 27,
   "metadata": {
    "tags": []
   },
   "outputs": [
    {
     "name": "stdout",
     "output_type": "stream",
     "text": [
      "\n",
      "original:\n",
      "========\n",
      "This is a clear message to encrypt and decrypt. I add this to make it longer.\n",
      "\n",
      "Encrypted:\n",
      "========\n",
      "hiT is ascl areme sase go tnceypr atd necdypr. t aId dhit ts mokeait lo genr.\n",
      "\n"
     ]
    }
   ],
   "source": [
    "encr_perm = perm_key.encrypt(clear_message)\n",
    "\n",
    "print(\n",
    "    f\"\"\"\n",
    "original:\n",
    "========\n",
    "{clear_message}\n",
    "\n",
    "Encrypted:\n",
    "========\n",
    "{encr_perm}\n",
    "\"\"\"\n",
    ")"
   ]
  },
  {
   "cell_type": "code",
   "execution_count": 28,
   "metadata": {
    "tags": []
   },
   "outputs": [
    {
     "name": "stdout",
     "output_type": "stream",
     "text": [
      "\n",
      "original:\n",
      "========\n",
      "This is a clear message to encrypt and decrypt. I add this to make it longer.\n",
      "\n",
      "Decrypted:\n",
      "=========\n",
      "This is a clear message to encrypt and decrypt. I add this to make it longer.\n",
      "\n"
     ]
    }
   ],
   "source": [
    "decr = perm_key.decrypt(encr_perm)\n",
    "print(\n",
    "    f\"\"\"\n",
    "original:\n",
    "========\n",
    "{clear_message}\n",
    "\n",
    "Decrypted:\n",
    "=========\n",
    "{decr}\n",
    "\"\"\"\n",
    ")"
   ]
  },
  {
   "cell_type": "markdown",
   "metadata": {},
   "source": [
    "###### **Idea2: Sliding**"
   ]
  },
  {
   "cell_type": "markdown",
   "metadata": {},
   "source": [
    "One can think about sliding the permutation like the following.\n",
    "\n",
    "Suppose we have the following permutation\n",
    "$$\\theta: \\begin{cases}1\\mapsto 3\\\\ 2\\mapsto 2\\\\ 3\\mapsto 1\\end{cases}$$\n",
    "and input `abcdefgh`.\n",
    "\n",
    "- `input = abcdefgh`\n",
    "- `abc defgh` $\\to$ `cba defgh`\n",
    "- `c bad efgh` $\\to$ `c dab efgh`\n",
    "- `cd abe fgh` $\\to$ `cd eba fgh`\n",
    "- `cde baf gh` $\\to$ `cde fab gh`\n",
    "- `cdef abg h` $\\to$ `cdef gba h`\n",
    "- `cdefg bah` $\\to$ `cdefg hab`\n",
    "- `output = cdefghab`\n",
    "\n",
    "⚠️: the same process does not bring back `input` from output  \n",
    "It can be fixed by doing a tricky thing to the *previous output* to get the *final output*.  \n",
    "You can think about it and its implementation."
   ]
  },
  {
   "cell_type": "markdown",
   "metadata": {},
   "source": [
    "##### Adding noise\n"
   ]
  },
  {
   "cell_type": "code",
   "execution_count": 29,
   "metadata": {
    "tags": []
   },
   "outputs": [],
   "source": [
    "from bcbcpy import utils\n"
   ]
  },
  {
   "cell_type": "code",
   "execution_count": 30,
   "metadata": {
    "tags": []
   },
   "outputs": [
    {
     "data": {
      "text/plain": [
       "'T<hHi.sb 3i!s5 waw Zc9l|esaVrk Km+eHs$sQaKg\\te, Vt_o\" 5e7nCc5rQylpRtA na2nxdL TdkeacfryyYp]t\\'.b 7I\\t Uacd<dH otRhZi,sW ut?o6 1m]a;kEe_ &i$t4 BlhoanWg`e\\tr\\'.Z'"
      ]
     },
     "execution_count": 30,
     "metadata": {},
     "output_type": "execute_result"
    }
   ],
   "source": [
    "noisy_message = utils.add_noises(clear_message)\n",
    "noisy_message\n"
   ]
  },
  {
   "cell_type": "code",
   "execution_count": 31,
   "metadata": {
    "tags": []
   },
   "outputs": [
    {
     "data": {
      "text/plain": [
       "'This is a clear message to encrypt and decrypt. I add this to make it longer.'"
      ]
     },
     "execution_count": 31,
     "metadata": {},
     "output_type": "execute_result"
    }
   ],
   "source": [
    "noisy_message[::2]"
   ]
  },
  {
   "cell_type": "code",
   "execution_count": 32,
   "metadata": {
    "tags": []
   },
   "outputs": [
    {
     "data": {
      "text/plain": [
       "'This is a clear message to encrypt and decrypt. I add this to make it longer.'"
      ]
     },
     "execution_count": 32,
     "metadata": {},
     "output_type": "execute_result"
    }
   ],
   "source": [
    "utils.remove_noises(noisy_message)\n"
   ]
  },
  {
   "cell_type": "code",
   "execution_count": 33,
   "metadata": {
    "tags": []
   },
   "outputs": [
    {
     "name": "stdout",
     "output_type": "stream",
     "text": [
      "\n",
      "\t\t--- affine --\n",
      "Original:\n",
      "========\n",
      "This is a clear message to encrypt and decrypt. I add this to make it longer.\n",
      "\n",
      "Noisy message:\n",
      "=============\n",
      "T<hHi.sb 3i!s5 waw Zc9l|esaVrk Km+eHs$sQaKg\te, Vt_o\" 5e7nCc5rQylpRtA na2nxdL TdkeacfryyYp]t'.b 7I\t Uacd<dH otRhZi,sW ut?o6 1m]a;kEe_ &i$t4 BlhoanWg`e\tr'.Z\n",
      "\n",
      "Noisy Encrypted:\n",
      "===============\n",
      "=\tg^LuaGkOLPazkVbVk],o\\0Wabh|wknAeW^a`a-bn!@WJkhF7l5kzWD&#,z|- \\QsFYk&bj&;rSk=rwWb,<|  xQmFpuGkDC@k\"b,r\tr^klFsg]LJaMk+F.l_k$Amb9wNW7k*L`F4k>\\glb&M!}W@|pu]\n",
      "\n",
      "Noisy Decrypted:\n",
      "===============\n",
      "T<hHi.sb 3i!s5 waw Zc9l|esaVrk Km+eHs$sQaKg\te, Vt_o\" 5e7nCc5rQylpRtA na2nxdL TdkeacfryyYp]t'.b 7I\t Uacd<dH otRhZi,sW ut?o6 1m]a;kEe_ &i$t4 BlhoanWg`e\tr'.Z\n",
      "\n",
      "Cleaned Decrypted:\n",
      "=================\n",
      "This is a clear message to encrypt and decrypt. I add this to make it longer.\n",
      "\n"
     ]
    }
   ],
   "source": [
    "encr_noisy = affine_key.encrypt(noisy_message)\n",
    "decr_noisy = affine_key.decrypt(encr_noisy)\n",
    "decr_without_noise = utils.remove_noises(decr_noisy)\n",
    "\n",
    "print(\n",
    "    f\"\"\"\n",
    "\\t\\t--- affine --\n",
    "Original:\n",
    "========\n",
    "{clear_message}\n",
    "\n",
    "Noisy message:\n",
    "=============\n",
    "{noisy_message}\n",
    "\n",
    "Noisy Encrypted:\n",
    "===============\n",
    "{encr_noisy}\n",
    "\n",
    "Noisy Decrypted:\n",
    "===============\n",
    "{decr_noisy}\n",
    "\n",
    "Cleaned Decrypted:\n",
    "=================\n",
    "{decr_without_noise}\n",
    "\"\"\"\n",
    ")"
   ]
  },
  {
   "cell_type": "code",
   "execution_count": 34,
   "metadata": {
    "tags": []
   },
   "outputs": [
    {
     "name": "stdout",
     "output_type": "stream",
     "text": [
      "\n",
      "\t\t--- PERMUTATION ---\n",
      "Original:\n",
      "========\n",
      "This is a clear message to encrypt and decrypt. I add this to make it longer.\n",
      "\n",
      "Noisy message:\n",
      "=============\n",
      "T<hHi.sb 3i!s5 waw Zc9l|esaVrk Km+eHs$sQaKg\te, Vt_o\" 5e7nCc5rQylpRtA na2nxdL TdkeacfryyYp]t'.b 7I\t Uacd<dH otRhZi,sW ut?o6 1m]a;kEe_ &i$t4 BlhoanWg`e\tr'.Z\n",
      "\n",
      "Noisy Encrypted:\n",
      "===============\n",
      "<hTi.Hb si!35 sawwZc l|9saerkVKm eH+$ssaKQ\teg V,_ot 5\"7nec5CQyrpRlA ta2nxdn TLkedcfayyrp]Y'.t 7b\t IacU<dd oHRhti,ZW st?u6 om]1;kae_E&i t4$Bl oahWgne\t`'.rZ\n",
      "\n",
      "Noisy Decrypted:\n",
      "===============\n",
      "T<hHi.sb 3i!s5 waw Zc9l|esaVrk Km+eHs$sQaKg\te, Vt_o\" 5e7nCc5rQylpRtA na2nxdL TdkeacfryyYp]t'.b 7I\t Uacd<dH otRhZi,sW ut?o6 1m]a;kEe_ &i$t4 BlhoanWg`e\tr'.Z\n",
      "\n",
      "Cleaned Decrypted:\n",
      "=================\n",
      "This is a clear message to encrypt and decrypt. I add this to make it longer.\n",
      "\n"
     ]
    }
   ],
   "source": [
    "encr_noisy = perm_key.encrypt(noisy_message)\n",
    "decr_noisy = perm_key.decrypt(encr_noisy)\n",
    "decr_without_noise = utils.remove_noises(decr_noisy)\n",
    "\n",
    "print(\n",
    "    f\"\"\"\n",
    "\\t\\t--- PERMUTATION ---\n",
    "Original:\n",
    "========\n",
    "{clear_message}\n",
    "\n",
    "Noisy message:\n",
    "=============\n",
    "{noisy_message}\n",
    "\n",
    "Noisy Encrypted:\n",
    "===============\n",
    "{encr_noisy}\n",
    "\n",
    "Noisy Decrypted:\n",
    "===============\n",
    "{decr_noisy}\n",
    "\n",
    "Cleaned Decrypted:\n",
    "=================\n",
    "{decr_without_noise}\n",
    "\"\"\"\n",
    ")"
   ]
  },
  {
   "cell_type": "markdown",
   "metadata": {},
   "source": [
    "#### Asymmetric: Public-key cryptography\n"
   ]
  },
  {
   "cell_type": "markdown",
   "metadata": {},
   "source": [
    "Knowing $f_\\theta$ or $\\theta\\in \\Theta$ (thus $f_\\theta$) does **NOT** make the construction of $\\left(f_\\theta\\right)^{-1}$ (thus $\\theta^\\prime$) *easy*."
   ]
  },
  {
   "cell_type": "markdown",
   "metadata": {},
   "source": [
    "From Wikipedia (2023-05-01):\n",
    "\n",
    "*Public-key cryptography, or asymmetric cryptography, is the field of cryptographic systems that use pairs of related keys. Each key pair consists of a public key and a corresponding private key. Key pairs are generated with cryptographic algorithms based on mathematical problems termed one-way functions. Security of public-key cryptography depends on keeping the private key secret; the public key can be openly distributed without compromising security.*"
   ]
  },
  {
   "cell_type": "markdown",
   "metadata": {},
   "source": [
    "##### Rivest–Shamir–Adleman aka RSA\n"
   ]
  },
  {
   "cell_type": "markdown",
   "metadata": {},
   "source": [
    "$\\Theta \\approx \\mathbb{N} \\times \\mathbb{N}$  \n",
    "public key: $\\theta = (n,d)$  \n",
    "private key: $\\theta^\\prime = (n,e)$  \n",
    "function: $f_{(n,a)}: x\\mod n \\mapsto x^a \\mod n$\n",
    "\n",
    "**Construction**:  \n",
    "\n",
    "1. Generate two primes $p,q$.\n",
    "2. Compute $n=p\\times q$.\n",
    "3. Compute $\\varphi(n) = (p-1)*(q-1)$.\n",
    "4. Find $d$ such that $\\gcd\\left( d, \\varphi(n)\\right) = 1$.\n",
    "5. Find $e$ such that $de + u\\varphi(n)=1$ for some $u\\in \\mathbb{Z}$.\n",
    "6. Discard $p,q,\\varphi(n)$ and $u$ *(for security)*.\n",
    "\n",
    "Note: [4.] and [5.] can be done easily and at once with the extended Euclidean algorithm."
   ]
  },
  {
   "cell_type": "markdown",
   "metadata": {},
   "source": [
    "**:warning: Security**: number factorization complexity\n",
    "\n",
    "For large composite number $n$, computing $\\varphi(n)$ is not *easy* without knowing its prime factors."
   ]
  },
  {
   "cell_type": "code",
   "execution_count": 35,
   "metadata": {
    "tags": []
   },
   "outputs": [
    {
     "name": "stdout",
     "output_type": "stream",
     "text": [
      "RSAPairKeys((31609, 22171), HIDDEN_KEY)\n"
     ]
    }
   ],
   "source": [
    "rsa_key = crypto.RSAPairKeys.generate_pairs(16)\n",
    "print(rsa_key)"
   ]
  },
  {
   "cell_type": "code",
   "execution_count": 36,
   "metadata": {
    "tags": []
   },
   "outputs": [
    {
     "data": {
      "text/plain": [
       "((31609, 22171), (31609, 6163))"
      ]
     },
     "execution_count": 36,
     "metadata": {},
     "output_type": "execute_result"
    }
   ],
   "source": [
    "rsa_pub, rsa_priv = rsa_key\n",
    "rsa_pub, rsa_priv"
   ]
  },
  {
   "cell_type": "code",
   "execution_count": 37,
   "metadata": {
    "tags": []
   },
   "outputs": [
    {
     "data": {
      "text/plain": [
       "((29321, 17), (29321, 8513))"
      ]
     },
     "execution_count": 37,
     "metadata": {},
     "output_type": "execute_result"
    }
   ],
   "source": [
    "rsa_pub, rsa_priv = crypto.RSAPairKeys.generate_pairs(bit_size = 16, use_d_17 = True)\n",
    "rsa_pub, rsa_priv"
   ]
  },
  {
   "cell_type": "code",
   "execution_count": 38,
   "metadata": {
    "tags": []
   },
   "outputs": [
    {
     "data": {
      "text/plain": [
       "'4n83#*^O2pe_|X~-E;T92[I=A[u9g2DpVs;vd^D)%:&@g1/u0n6xe%_21LN6;w=6S0Hn|cgA\"9Y`d'"
      ]
     },
     "execution_count": 38,
     "metadata": {},
     "output_type": "execute_result"
    }
   ],
   "source": [
    "encr_rsa = rsa_key.encrypt(clear_message)\n",
    "encr_rsa"
   ]
  },
  {
   "cell_type": "code",
   "execution_count": 39,
   "metadata": {
    "tags": []
   },
   "outputs": [
    {
     "data": {
      "text/plain": [
       "'This is a clear message to encrypt and decrypt. I add this to make it longer.'"
      ]
     },
     "execution_count": 39,
     "metadata": {},
     "output_type": "execute_result"
    }
   ],
   "source": [
    "decr_rsa = rsa_key.decrypt(encr_rsa)\n",
    "decr_rsa\n"
   ]
  },
  {
   "cell_type": "markdown",
   "metadata": {},
   "source": [
    "##### Diffie–Hellman key exchange"
   ]
  },
  {
   "cell_type": "markdown",
   "metadata": {},
   "source": [
    "1. The network will:\n",
    "   - choose a shared group $(G,*)$,\n",
    "   - an element $g\\in G$,\n",
    "   - and compute $ord(g) \\in \\mathbb{N}$ for which is the smallest where $ord(g)\\cdot g := \\underbrace{g*g*\\cdots*g}_{ord(g) \\text{ times}}$ is equal to the neutral element of $G$.\n",
    "2. For each $i$ in the network:\n",
    "   - Choose $\\theta^\\prime_i \\in \\mathbb{N}$ such that $\\theta^\\prime_i < ord(g)$.  \n",
    "   - Compute $f_{\\theta_i} = \\theta^\\prime_i \\cdot g$.\n",
    "   - Publish $f_{\\theta_i}$ and keep $\\theta^\\prime_i$ secret.\n",
    "\n",
    "If $i$ wants to send a message $m$ to $j$, he will proceed as follows:\n",
    "\n",
    "1. retrieve $f_{\\theta_j}$,\n",
    "2. compute $P_{ij} := \\theta_i \\cdot f_{\\theta_j}$,\n",
    "3. encrypt $m$ with $P_{ij}$ (like the symmetric fashion),\n",
    "4. send encrypted message $m_{ij}$ to $j$.\n",
    "\n",
    "When $j$ receives $m_{ij}$, he will:\n",
    "\n",
    "1. retrieve $f_{\\theta_i}$,\n",
    "2. compute $P_{ji} := \\theta_j \\cdot f_{\\theta_i}$,\n",
    "3. decrypt $m_{ij}$ with $P_{ji}$.\n",
    "   \n",
    "Note:\n",
    "$$ \\begin{align*}\n",
    "P_{ij} \n",
    "&= \\theta_i \\cdot f_{\\theta_j}&\\\\\n",
    "&= \\underbrace{f_{\\theta_j}*\\cdots*f_{\\theta_j}}_{\\theta_i \\text{ times}}&\\\\\n",
    "&= \\underbrace{\\left(\\underbrace{g*\\cdots*g}_{\\theta_j \\text{ times}}\\right)*\\cdots*\\left(\\underbrace{g*\\cdots*g}_{\\theta_j \\text{ times}}\\right)}_{\\theta_i \\text{ times}}&\\\\\n",
    "&= \\underbrace{g*\\cdots*g}_{\\theta_i\\theta_j \\text{ times}}&\\\\\n",
    "&= \\underbrace{\\left(\\underbrace{g*\\cdots*g}_{\\theta_j \\text{ times}}\\right)*\\cdots*\\left(\\underbrace{g*\\cdots*g}_{\\theta_i \\text{ times}}\\right)}_{\\theta_j \\text{ times}}&\\\\\n",
    "&= \\underbrace{f_{\\theta_j}*\\cdots*f_{\\theta_i}}_{\\theta_j \\text{ times}}&\\\\\n",
    "&= \\theta_j \\cdot f_{\\theta_i}&\\\\\n",
    "&= P_{ji}&\n",
    "\\end{align*}$$"
   ]
  },
  {
   "cell_type": "markdown",
   "metadata": {},
   "source": [
    "The following image summarizes the above processes.\n",
    "\n",
    "<p style=\"text-align: center;\">\n",
    "<img src=\"https://upload.wikimedia.org/wikipedia/commons/4/46/Diffie-Hellman_Key_Exchange.svg\">\n",
    "</p>\n",
    "\n",
    "[[source: wikimedia](https://upload.wikimedia.org/wikipedia/commons/4/46/Diffie-Hellman_Key_Exchange.svg)]"
   ]
  },
  {
   "cell_type": "markdown",
   "metadata": {},
   "source": [
    "**⚠️ Security**: *discrete logarithm*\n",
    "\n",
    "For some group ([Diffie-Hellman Group](https://www.ibm.com/docs/en/zos/2.3.0?topic=SSLTBW_2.3.0%2Fcom.ibm.tcp.ipsec.ipsec.help.doc%2Fcom%2Fibm%2Ftcp%2Fipsec%2Fipsec%2FPS_DT_Adv_PFS.CB_Initiate.html)), knowing the value of $g$ and $n \\cdot g$ does not lead to $n$ *easily*."
   ]
  },
  {
   "cell_type": "code",
   "execution_count": 40,
   "metadata": {
    "tags": []
   },
   "outputs": [],
   "source": [
    "# coming soon"
   ]
  },
  {
   "cell_type": "markdown",
   "metadata": {},
   "source": [
    "##### Elliptic Curve Cryptosystem\n"
   ]
  },
  {
   "cell_type": "markdown",
   "metadata": {},
   "source": [
    "[ECC](https://en.wikipedia.org/wiki/Elliptic-curve_cryptography) use the DH key exchange with Where the group $G$ is an [elliptic curve over finite fields](https://en.wikipedia.org/wiki/Elliptic_curve#Elliptic_curves_over_finite_fields)."
   ]
  },
  {
   "cell_type": "code",
   "execution_count": 41,
   "metadata": {
    "tags": []
   },
   "outputs": [],
   "source": [
    "# coming soon"
   ]
  },
  {
   "cell_type": "markdown",
   "metadata": {},
   "source": [
    "### Communication & Security\n"
   ]
  },
  {
   "cell_type": "markdown",
   "metadata": {},
   "source": [
    "#### Nodes generation"
   ]
  },
  {
   "cell_type": "code",
   "execution_count": 42,
   "metadata": {
    "tags": []
   },
   "outputs": [],
   "source": [
    "from bcbcpy.node import Node\n"
   ]
  },
  {
   "cell_type": "code",
   "execution_count": 43,
   "metadata": {
    "tags": []
   },
   "outputs": [
    {
     "data": {
      "text/plain": [
       "'user_785253ae'"
      ]
     },
     "execution_count": 43,
     "metadata": {},
     "output_type": "execute_result"
    }
   ],
   "source": [
    "key = crypto.RSAPairKeys.generate_pairs()\n",
    "node = Node(key)\n",
    "node.id"
   ]
  },
  {
   "cell_type": "code",
   "execution_count": 44,
   "metadata": {
    "tags": []
   },
   "outputs": [
    {
     "data": {
      "text/plain": [
       "<bcbcpy.node.Node at 0x1068ff760>"
      ]
     },
     "execution_count": 44,
     "metadata": {},
     "output_type": "execute_result"
    }
   ],
   "source": [
    "node"
   ]
  },
  {
   "cell_type": "code",
   "execution_count": 45,
   "metadata": {
    "tags": []
   },
   "outputs": [],
   "source": [
    "class RepNode(Node):\n",
    "    def __repr__(self) -> str:\n",
    "        return f\"{self.id} : {self._Node__keys}\"  # type:ignore"
   ]
  },
  {
   "cell_type": "code",
   "execution_count": 46,
   "metadata": {
    "tags": []
   },
   "outputs": [
    {
     "data": {
      "text/plain": [
       "Alice_0e2482b2 : RSAPairKeys((26909, 6767), HIDDEN_KEY)"
      ]
     },
     "execution_count": 46,
     "metadata": {},
     "output_type": "execute_result"
    }
   ],
   "source": [
    "akey = crypto.RSAPairKeys.generate_pairs()\n",
    "alice = RepNode(akey, \"Alice\")\n",
    "alice\n"
   ]
  },
  {
   "cell_type": "code",
   "execution_count": 47,
   "metadata": {
    "tags": []
   },
   "outputs": [
    {
     "data": {
      "text/plain": [
       "Bob_f2980b85 : RSAPairKeys((30847, 12877), HIDDEN_KEY)"
      ]
     },
     "execution_count": 47,
     "metadata": {},
     "output_type": "execute_result"
    }
   ],
   "source": [
    "bkey =  crypto.RSAPairKeys.generate_pairs()\n",
    "bob = RepNode(username=\"Bob\", keys=bkey)\n",
    "bob"
   ]
  },
  {
   "cell_type": "code",
   "execution_count": 48,
   "metadata": {
    "tags": []
   },
   "outputs": [
    {
     "data": {
      "text/plain": [
       "user_f4cc4c04 : RSAPairKeys((32447, 15721), HIDDEN_KEY)"
      ]
     },
     "execution_count": 48,
     "metadata": {},
     "output_type": "execute_result"
    }
   ],
   "source": [
    "rkey = crypto.RSAPairKeys.generate_pairs()\n",
    "random_guy = RepNode(rkey)\n",
    "random_guy"
   ]
  },
  {
   "cell_type": "markdown",
   "metadata": {},
   "source": [
    "#### Communication"
   ]
  },
  {
   "cell_type": "code",
   "execution_count": 49,
   "metadata": {
    "tags": []
   },
   "outputs": [],
   "source": [
    "sender = alice\n",
    "receiver = bob\n",
    "\n",
    "plain_message = (\n",
    "    \"Hello Bob! This is Alice. Please send me $1000 to this account: (1234567890)\"\n",
    ")"
   ]
  },
  {
   "cell_type": "code",
   "execution_count": 50,
   "metadata": {
    "tags": []
   },
   "outputs": [
    {
     "data": {
      "text/plain": [
       "'/(\\\\I$f*M6w.lP?hux\\n~\"S,Nq~u,a:Ge}]\\\\`pgHr\\na^vX#zB\\t&x/K0/5QB~?0WZ|kP|1&r5@v*Hf`$'"
      ]
     },
     "execution_count": 50,
     "metadata": {},
     "output_type": "execute_result"
    }
   ],
   "source": [
    "cipher = sender.encrypt(plain_message, key=receiver.pub)\n",
    "cipher"
   ]
  },
  {
   "cell_type": "code",
   "execution_count": 51,
   "metadata": {
    "tags": []
   },
   "outputs": [
    {
     "data": {
      "text/plain": [
       "'Hello Bob! This is Alice. Please send me $1000 to this account: (1234567890)'"
      ]
     },
     "execution_count": 51,
     "metadata": {},
     "output_type": "execute_result"
    }
   ],
   "source": [
    "receiver.decrypt(cipher)"
   ]
  },
  {
   "cell_type": "markdown",
   "metadata": {},
   "source": [
    "#### Attack"
   ]
  },
  {
   "cell_type": "markdown",
   "metadata": {},
   "source": [
    "##### Reading attack\n"
   ]
  },
  {
   "cell_type": "code",
   "execution_count": 52,
   "metadata": {
    "tags": []
   },
   "outputs": [],
   "source": [
    "hacker = random_guy"
   ]
  },
  {
   "cell_type": "code",
   "execution_count": 53,
   "metadata": {
    "tags": []
   },
   "outputs": [
    {
     "data": {
      "text/plain": [
       "'/(x>-.{^hQmy8iO&N8kI/#`\\nn~z\\\\Zd3K:-uD9WGQ!MGzv=X1?C{8p@@jLN[oZyVW5mZgu$s,lyjY4'"
      ]
     },
     "execution_count": 53,
     "metadata": {},
     "output_type": "execute_result"
    }
   ],
   "source": [
    "hacker.decrypt(cipher)\n"
   ]
  },
  {
   "cell_type": "code",
   "execution_count": 54,
   "metadata": {
    "tags": []
   },
   "outputs": [
    {
     "data": {
      "text/plain": [
       "'@Au:rqlpys G\\\\bqy=p7~U&v0\\tLpt&DvnPD%wN9l<03\"5$94e/Jsozcp= Bl|\\\\_L%r$7}vo:<?SFa-'"
      ]
     },
     "execution_count": 54,
     "metadata": {},
     "output_type": "execute_result"
    }
   ],
   "source": [
    "hacker.encrypt(cipher, receiver.pub)\n"
   ]
  },
  {
   "cell_type": "markdown",
   "metadata": {},
   "source": [
    "##### Q: what if `receiver.pub == receiver.priv`?"
   ]
  },
  {
   "cell_type": "code",
   "execution_count": 55,
   "metadata": {
    "tags": []
   },
   "outputs": [],
   "source": [
    "_, receiver_priv = receiver._Node__keys\n",
    "receiver_pub = receiver_priv # fake pub for testing"
   ]
  },
  {
   "cell_type": "code",
   "execution_count": 56,
   "metadata": {
    "tags": []
   },
   "outputs": [
    {
     "data": {
      "text/plain": [
       "'Hello Bob! This is Alice. Please send me $1000 to this account: (1234567890)'"
      ]
     },
     "execution_count": 56,
     "metadata": {},
     "output_type": "execute_result"
    }
   ],
   "source": [
    "hacker.encrypt(cipher, receiver_pub)\n"
   ]
  },
  {
   "cell_type": "markdown",
   "metadata": {},
   "source": [
    "##### Sending attack\n"
   ]
  },
  {
   "cell_type": "code",
   "execution_count": 57,
   "metadata": {
    "tags": []
   },
   "outputs": [],
   "source": [
    "scam_message = (\n",
    "    \"Hello Bob! This is Alice. Please send me $1000 to this account: (0987654321)\"\n",
    ")"
   ]
  },
  {
   "cell_type": "code",
   "execution_count": 58,
   "metadata": {
    "tags": []
   },
   "outputs": [
    {
     "data": {
      "text/plain": [
       "'/(\\\\I$f*M6w.lP?hux\\n~\"S,Nq~u,a:Ge}]\\\\`pgHr\\na^vX#zB\\t&x/K0/5QB~?0WZ|kP|Vl\"Ru|:ZAfh'"
      ]
     },
     "execution_count": 58,
     "metadata": {},
     "output_type": "execute_result"
    }
   ],
   "source": [
    "scam_cipher= hacker.encrypt(scam_message, key=receiver.pub)\n",
    "scam_cipher\n"
   ]
  },
  {
   "cell_type": "code",
   "execution_count": 59,
   "metadata": {
    "tags": []
   },
   "outputs": [
    {
     "data": {
      "text/plain": [
       "'Hello Bob! This is Alice. Please send me $1000 to this account: (0987654321)'"
      ]
     },
     "execution_count": 59,
     "metadata": {},
     "output_type": "execute_result"
    }
   ],
   "source": [
    "receiver.decrypt(scam_cipher)"
   ]
  },
  {
   "cell_type": "markdown",
   "metadata": {},
   "source": [
    "## Digital Signature"
   ]
  },
  {
   "cell_type": "markdown",
   "metadata": {},
   "source": [
    "**Problem**: no way for the `receiver` to recognize the *true* `sender`."
   ]
  },
  {
   "cell_type": "markdown",
   "metadata": {},
   "source": [
    "### Authentication\n"
   ]
  },
  {
   "cell_type": "markdown",
   "metadata": {},
   "source": [
    "#### Encryption"
   ]
  },
  {
   "cell_type": "code",
   "execution_count": 60,
   "metadata": {
    "tags": []
   },
   "outputs": [
    {
     "data": {
      "text/plain": [
       "True"
      ]
     },
     "execution_count": 60,
     "metadata": {},
     "output_type": "execute_result"
    }
   ],
   "source": [
    "sender.sign(plain_message) == sender.decrypt(plain_message) # encrypt with sender.priv"
   ]
  },
  {
   "cell_type": "code",
   "execution_count": 61,
   "metadata": {
    "tags": []
   },
   "outputs": [
    {
     "data": {
      "text/plain": [
       "\"%%KmF*,/v.;%\\t!D+p`UKMFA#PrAvG;L\\n[YRgq'zN7cw)v\\\\`dx+DuK*V,{e<>I6VgSL\\\\Tf*.U$X%Pb\""
      ]
     },
     "execution_count": 61,
     "metadata": {},
     "output_type": "execute_result"
    }
   ],
   "source": [
    "signed_message = sender.sign(plain_message) \n",
    "cipher_signed = sender.encrypt(signed_message, key=receiver.pub)\n",
    "cipher_signed"
   ]
  },
  {
   "cell_type": "code",
   "execution_count": 62,
   "metadata": {
    "tags": []
   },
   "outputs": [
    {
     "data": {
      "text/plain": [
       "'#,U5ZY]vsj?!xQr&2Y,gt\\tC\\t(Jv[rdGF$mOu_Rt\\nJ)ciC\\\\\\'I3E0)1V`Z=/HqQmmnVZLu.4}]k40Zcm^@6=8.mV^(] }V`jqlI4`W|s`\\\\X9>}#3\"~C$[\"V[dv;eOM9x\"I *rc Q3`C\\t6{VGE?juife)g0T8'"
      ]
     },
     "execution_count": 62,
     "metadata": {},
     "output_type": "execute_result"
    }
   ],
   "source": [
    "with_noise = utils.add_noises(plain_message)\n",
    "signed_with_noise = sender.sign(with_noise) \n",
    "cipher_signed_with_noise = sender.encrypt(signed_with_noise, key=receiver.pub)\n",
    "cipher_signed_with_noise"
   ]
  },
  {
   "cell_type": "markdown",
   "metadata": {},
   "source": [
    "##### Shortcut"
   ]
  },
  {
   "cell_type": "code",
   "execution_count": 63,
   "metadata": {
    "tags": []
   },
   "outputs": [
    {
     "data": {
      "text/plain": [
       "True"
      ]
     },
     "execution_count": 63,
     "metadata": {},
     "output_type": "execute_result"
    }
   ],
   "source": [
    "cipher_signed == sender.sends(plain_message, _to=receiver.pub)"
   ]
  },
  {
   "cell_type": "code",
   "execution_count": 64,
   "metadata": {
    "tags": []
   },
   "outputs": [
    {
     "data": {
      "text/plain": [
       "True"
      ]
     },
     "execution_count": 64,
     "metadata": {},
     "output_type": "execute_result"
    }
   ],
   "source": [
    "cipher_signed == sender.sends(plain_message, _to=receiver)"
   ]
  },
  {
   "cell_type": "code",
   "execution_count": 65,
   "metadata": {
    "tags": []
   },
   "outputs": [
    {
     "data": {
      "text/plain": [
       "'NoIsYnOiSy&oQr-*k$\\tO\\n}V-gU2\\\\]2RfWng4yGB7DH^gigU*^,5S;w\\\\\\\\:<9YS\\'wSGk# ^:TnyPM1+8YpK2kF[B}\\'K|iW+I\\nofR>a2SOvA[;kCV|FU\"l}xa_`=*X5`^|=(0j#o@J5\"V5c[`$8;m~f</dlmtWT#w0&q|)2NoIsYnOiSy'"
      ]
     },
     "execution_count": 65,
     "metadata": {},
     "output_type": "execute_result"
    }
   ],
   "source": [
    "cipher_signed_with_noise_bis = sender.sends(plain_message, _to=receiver, _with_noises=True)\n",
    "cipher_signed_with_noise_bis\n"
   ]
  },
  {
   "cell_type": "code",
   "execution_count": 66,
   "metadata": {
    "tags": []
   },
   "outputs": [
    {
     "data": {
      "text/plain": [
       "'&oQr-*k$\\tO\\n}V-gU2\\\\]2RfWng4yGB7DH^gigU*^,5S;w\\\\\\\\:<9YS\\'wSGk# ^:TnyPM1+8YpK2kF[B}\\'K|iW+I\\nofR>a2SOvA[;kCV|FU\"l}xa_`=*X5`^|=(0j#o@J5\"V5c[`$8;m~f</dlmtWT#w0&q|)2'"
      ]
     },
     "execution_count": 66,
     "metadata": {},
     "output_type": "execute_result"
    }
   ],
   "source": [
    "cipher_signed_with_noise_bis[10:-10] # trim NoIsYnOiSy"
   ]
  },
  {
   "cell_type": "code",
   "execution_count": 67,
   "metadata": {
    "tags": []
   },
   "outputs": [
    {
     "data": {
      "text/plain": [
       "False"
      ]
     },
     "execution_count": 67,
     "metadata": {},
     "output_type": "execute_result"
    }
   ],
   "source": [
    "cipher_signed_with_noise == cipher_signed_with_noise_bis[10:-10]"
   ]
  },
  {
   "cell_type": "markdown",
   "metadata": {},
   "source": [
    "##### Q: Do you know why is it `False`?"
   ]
  },
  {
   "cell_type": "markdown",
   "metadata": {},
   "source": [
    "#### Decryption"
   ]
  },
  {
   "cell_type": "code",
   "execution_count": 68,
   "metadata": {
    "tags": []
   },
   "outputs": [
    {
     "data": {
      "text/plain": [
       "'Hello Bob! This is Alice. Please send me $1000 to this account: (1234567890)'"
      ]
     },
     "execution_count": 68,
     "metadata": {},
     "output_type": "execute_result"
    }
   ],
   "source": [
    "signed_message = receiver.decrypt(cipher_signed)\n",
    "receiver.encrypt(signed_message, key=sender.pub) # remove signature\n"
   ]
  },
  {
   "cell_type": "code",
   "execution_count": 69,
   "metadata": {
    "tags": []
   },
   "outputs": [
    {
     "data": {
      "text/plain": [
       "'Hello Bob! This is Alice. Please send me $1000 to this account: (1234567890)'"
      ]
     },
     "execution_count": 69,
     "metadata": {},
     "output_type": "execute_result"
    }
   ],
   "source": [
    "signed_message_with_noise = receiver.decrypt(cipher_signed_with_noise)\n",
    "message_with_noise = receiver.encrypt(signed_message_with_noise, key=sender.pub) # unsign\n",
    "utils.remove_noises(message_with_noise)"
   ]
  },
  {
   "cell_type": "code",
   "execution_count": 70,
   "metadata": {
    "tags": []
   },
   "outputs": [
    {
     "data": {
      "text/plain": [
       "'Hello Bob! This is Alice. Please send me $1000 to this account: (1234567890)'"
      ]
     },
     "execution_count": 70,
     "metadata": {},
     "output_type": "execute_result"
    }
   ],
   "source": [
    "trimmed_cipher_signed_with_noise = cipher_signed_with_noise_bis[10:-10]\n",
    "\n",
    "signed_message_with_noise = receiver.decrypt(trimmed_cipher_signed_with_noise)\n",
    "message_with_noise = receiver.encrypt(signed_message_with_noise, key=sender.pub) # unsign\n",
    "\n",
    "utils.remove_noises(message_with_noise)"
   ]
  },
  {
   "cell_type": "markdown",
   "metadata": {},
   "source": [
    "##### Shortcut"
   ]
  },
  {
   "cell_type": "code",
   "execution_count": 71,
   "metadata": {
    "tags": []
   },
   "outputs": [
    {
     "data": {
      "text/plain": [
       "'Hello Bob! This is Alice. Please send me $1000 to this account: (1234567890)'"
      ]
     },
     "execution_count": 71,
     "metadata": {},
     "output_type": "execute_result"
    }
   ],
   "source": [
    "receiver.gets(cipher_signed, _from=sender.pub)"
   ]
  },
  {
   "cell_type": "code",
   "execution_count": 72,
   "metadata": {
    "tags": []
   },
   "outputs": [
    {
     "data": {
      "text/plain": [
       "'Hello Bob! This is Alice. Please send me $1000 to this account: (1234567890)'"
      ]
     },
     "execution_count": 72,
     "metadata": {},
     "output_type": "execute_result"
    }
   ],
   "source": [
    "utils.remove_noises(receiver.gets(cipher_signed_with_noise, _from=sender))"
   ]
  },
  {
   "cell_type": "code",
   "execution_count": 73,
   "metadata": {
    "tags": []
   },
   "outputs": [
    {
     "data": {
      "text/plain": [
       "'Hello Bob! This is Alice. Please send me $1000 to this account: (1234567890)'"
      ]
     },
     "execution_count": 73,
     "metadata": {},
     "output_type": "execute_result"
    }
   ],
   "source": [
    "receiver.gets(cipher_signed_with_noise_bis, _from=sender)"
   ]
  },
  {
   "cell_type": "markdown",
   "metadata": {},
   "source": [
    "#### Attacks"
   ]
  },
  {
   "cell_type": "markdown",
   "metadata": {},
   "source": [
    "##### Reading Attack\n"
   ]
  },
  {
   "cell_type": "code",
   "execution_count": 74,
   "metadata": {
    "tags": []
   },
   "outputs": [
    {
     "data": {
      "text/plain": [
       "'\\'QtRrx_TVbhk*gB;k`iZgfw\\'OO|V;.qU10\\'8wdqSi+DHf\\tk\";k,c+9\\'bO{p*?;2a3nIF/=<= ZOtt'"
      ]
     },
     "execution_count": 74,
     "metadata": {},
     "output_type": "execute_result"
    }
   ],
   "source": [
    "hacker.decrypt(cipher_signed)\n"
   ]
  },
  {
   "cell_type": "code",
   "execution_count": 75,
   "metadata": {
    "tags": []
   },
   "outputs": [
    {
     "data": {
      "text/plain": [
       "'\\n*2PD\\\\72Nk-<mFi?]0e(q2VsypDR.xV\\n-bpXie;<u$C<Mx$e\\\\\\toXN\\t()T5g4UIl|W!e?b\"%}%)Er+\\'I'"
      ]
     },
     "execution_count": 75,
     "metadata": {},
     "output_type": "execute_result"
    }
   ],
   "source": [
    "hacker.encrypt(cipher_signed, key=sender.pub)\n"
   ]
  },
  {
   "cell_type": "code",
   "execution_count": 76,
   "metadata": {
    "tags": []
   },
   "outputs": [
    {
     "data": {
      "text/plain": [
       "'B7yTZ_=Ga+ yWJv=_\\'N3JVF+e&ou;h~@/[s PL[K;$]zfP\"\\\\ET/%*^*Tf5NlFl*p`ujEN[2b&iqT='"
      ]
     },
     "execution_count": 76,
     "metadata": {},
     "output_type": "execute_result"
    }
   ],
   "source": [
    "hacker.encrypt(cipher_signed, key=receiver.pub)\n"
   ]
  },
  {
   "cell_type": "code",
   "execution_count": 77,
   "metadata": {
    "tags": []
   },
   "outputs": [
    {
     "data": {
      "text/plain": [
       "'C22\"W7(U+&O]Un@,j5qHcaSXzA4%n=1rgr3Pyl$unaD=h\"3\\n}a[XX3Y!,kHgCCGU4*TnQF^c|e}W*'"
      ]
     },
     "execution_count": 77,
     "metadata": {},
     "output_type": "execute_result"
    }
   ],
   "source": [
    "hacker.sends(cipher_signed, _to=receiver.pub)\n"
   ]
  },
  {
   "cell_type": "code",
   "execution_count": 78,
   "metadata": {
    "tags": []
   },
   "outputs": [
    {
     "data": {
      "text/plain": [
       "'y6Ou`U~5P+*9;9O!Di!\"Biy-CpZ\\niT=wc  {OUgoNQQ@1/sg E\\npP3|\\nW>K]qEnrT]\\'WXp/;`\\tz97u'"
      ]
     },
     "execution_count": 78,
     "metadata": {},
     "output_type": "execute_result"
    }
   ],
   "source": [
    "hacker.gets(cipher_signed, _from=sender)"
   ]
  },
  {
   "cell_type": "code",
   "execution_count": 79,
   "metadata": {
    "tags": []
   },
   "outputs": [
    {
     "data": {
      "text/plain": [
       "'C22\"W7(U+&O]Un@,j5qHcaSXzA4%n=1rgr3Pyl$unaD=h\"3\\n}a[XX3Y!,kHgCCGU4*TnQF^c|e}W*'"
      ]
     },
     "execution_count": 79,
     "metadata": {},
     "output_type": "execute_result"
    }
   ],
   "source": [
    "hacker.gets(cipher_signed, _from=bob)"
   ]
  },
  {
   "cell_type": "markdown",
   "metadata": {},
   "source": [
    "##### Sending Attack\n"
   ]
  },
  {
   "cell_type": "code",
   "execution_count": 80,
   "metadata": {
    "tags": []
   },
   "outputs": [
    {
     "name": "stdout",
     "output_type": "stream",
     "text": [
      "\n",
      "Original:\n",
      "========\n",
      "Hello Bob! This is Alice. Please send me $1000 to this account: (1234567890)\n",
      "\n",
      "Scam:\n",
      "=====\n",
      "Hello Bob! This is Alice. Please send me $1000 to this account: (0987654321)\n",
      "\n"
     ]
    }
   ],
   "source": [
    "print(f\"\"\"\n",
    "Original:\n",
    "========\n",
    "{plain_message}\n",
    "\n",
    "Scam:\n",
    "=====\n",
    "{scam_message}\n",
    "\"\"\"\n",
    ")"
   ]
  },
  {
   "cell_type": "code",
   "execution_count": 81,
   "metadata": {
    "tags": []
   },
   "outputs": [
    {
     "data": {
      "text/plain": [
       "'TM4K:{1*yNvfc9an6],hF\\t{q?Pm4\\tD8\\tJi\\\\K/I]\\n#$vY#6Z\\\\Z=n}<ft@1F\\n\\\\\\tK4+?y2^i$&\\nP8(:'"
      ]
     },
     "execution_count": 81,
     "metadata": {},
     "output_type": "execute_result"
    }
   ],
   "source": [
    "non_signed_scam = hacker.encrypt(scam_message, key=receiver.pub)\n",
    "\n",
    "receiver.gets(non_signed_scam, _from=sender)"
   ]
  },
  {
   "cell_type": "code",
   "execution_count": 82,
   "metadata": {
    "tags": []
   },
   "outputs": [
    {
     "data": {
      "text/plain": [
       "\"Md-q\\nTbhluxC)E|4?X`D^W.t3`\\\\9r(| chR3;V&5uL.(]Lpd'fwN]\\\\GG#M3Ou^nIduJG\\\\@|!2E}l-C\""
      ]
     },
     "execution_count": 82,
     "metadata": {},
     "output_type": "execute_result"
    }
   ],
   "source": [
    "non_signed_scam = hacker.encrypt(scam_message, key=sender.pub)\n",
    "\n",
    "receiver.gets(non_signed_scam, _from=sender)"
   ]
  },
  {
   "cell_type": "code",
   "execution_count": 83,
   "metadata": {
    "tags": []
   },
   "outputs": [
    {
     "data": {
      "text/plain": [
       "'jiyoDsBL{@>V W1S_IcBuWBC(`P,*<lwu..fYxlHj4w_bJmt3*eBJLrFW\\\\quvB!{Y\\t3c]Lm\\\\.`)zsf'"
      ]
     },
     "execution_count": 83,
     "metadata": {},
     "output_type": "execute_result"
    }
   ],
   "source": [
    "signed_scam = hacker.sends(scam_message, _to=receiver)\n",
    "\n",
    "receiver.gets(signed_scam, _from=sender)"
   ]
  },
  {
   "cell_type": "markdown",
   "metadata": {},
   "source": [
    "##### Possible Weakness"
   ]
  },
  {
   "cell_type": "code",
   "execution_count": 84,
   "metadata": {
    "tags": []
   },
   "outputs": [
    {
     "data": {
      "text/plain": [
       "\"%%KmF*,/v.;%\\t!D+p`UKMFA#PrAvG;L\\n[YRgq'zN7cw)v\\\\`dx+DuK*V,{e<>I6VgSL=[#Zx>5=A~`\""
      ]
     },
     "execution_count": 84,
     "metadata": {},
     "output_type": "execute_result"
    }
   ],
   "source": [
    "_, leaked_sender_priv = sender._Node__keys  # key of alice = expected sender\n",
    "\n",
    "fake_signed_scam = hacker.encrypt(scam_message, leaked_sender_priv)\n",
    "cipher_fake_signed_scam = hacker.encrypt(fake_signed_scam, receiver.pub)\n",
    "\n",
    "cipher_fake_signed_scam\n",
    "\n"
   ]
  },
  {
   "cell_type": "code",
   "execution_count": 85,
   "metadata": {
    "tags": []
   },
   "outputs": [
    {
     "data": {
      "text/plain": [
       "'Hello Bob! This is Alice. Please send me $1000 to this account: (0987654321)'"
      ]
     },
     "execution_count": 85,
     "metadata": {},
     "output_type": "execute_result"
    }
   ],
   "source": [
    "receiver.gets(cipher_fake_signed_scam, _from=sender)"
   ]
  },
  {
   "cell_type": "markdown",
   "metadata": {},
   "source": [
    "### Digital signature"
   ]
  },
  {
   "cell_type": "markdown",
   "metadata": {},
   "source": []
  },
  {
   "cell_type": "markdown",
   "metadata": {},
   "source": [
    "#### ElGamal"
   ]
  },
  {
   "cell_type": "markdown",
   "metadata": {},
   "source": []
  },
  {
   "cell_type": "markdown",
   "metadata": {},
   "source": [
    "# Blockchain\n"
   ]
  },
  {
   "cell_type": "code",
   "execution_count": 86,
   "metadata": {
    "tags": []
   },
   "outputs": [],
   "source": [
    "from bcbcpy import blockchain"
   ]
  },
  {
   "cell_type": "markdown",
   "metadata": {},
   "source": [
    "## Recap: Data Structure"
   ]
  },
  {
   "cell_type": "markdown",
   "metadata": {},
   "source": [
    "### List - Array"
   ]
  },
  {
   "cell_type": "code",
   "execution_count": null,
   "metadata": {},
   "outputs": [],
   "source": []
  },
  {
   "cell_type": "markdown",
   "metadata": {},
   "source": [
    "### Linked List"
   ]
  },
  {
   "cell_type": "code",
   "execution_count": null,
   "metadata": {},
   "outputs": [],
   "source": []
  },
  {
   "cell_type": "markdown",
   "metadata": {},
   "source": [
    "## Block"
   ]
  },
  {
   "cell_type": "code",
   "execution_count": 87,
   "metadata": {
    "tags": []
   },
   "outputs": [],
   "source": [
    "from bcbcpy.blockchain.block import InitialBlock, Block"
   ]
  },
  {
   "cell_type": "markdown",
   "metadata": {},
   "source": [
    "### Initial Block"
   ]
  },
  {
   "cell_type": "code",
   "execution_count": 88,
   "metadata": {
    "tags": []
   },
   "outputs": [],
   "source": [
    "init_block = InitialBlock(initial_data=\"initial data\")"
   ]
  },
  {
   "cell_type": "code",
   "execution_count": 89,
   "metadata": {
    "tags": []
   },
   "outputs": [
    {
     "data": {
      "text/plain": [
       "'initial data'"
      ]
     },
     "execution_count": 89,
     "metadata": {},
     "output_type": "execute_result"
    }
   ],
   "source": [
    "init_block.data"
   ]
  },
  {
   "cell_type": "code",
   "execution_count": 90,
   "metadata": {
    "tags": []
   },
   "outputs": [
    {
     "data": {
      "text/plain": [
       "'00002d64bd7129caa2aa8ec458081519ac26034158e60962f6fd1428e22b1036'"
      ]
     },
     "execution_count": 90,
     "metadata": {},
     "output_type": "execute_result"
    }
   ],
   "source": [
    "init_block.hash"
   ]
  },
  {
   "cell_type": "code",
   "execution_count": 91,
   "metadata": {
    "tags": []
   },
   "outputs": [
    {
     "data": {
      "text/plain": [
       "{\n",
       "    \"prev_hash\": \"\",\n",
       "    \"hash\": \"00002d64bd7129caa2aa8ec458081519ac26034158e60962f6fd1428e22b1036\",\n",
       "    \"data\": \"initial data\",\n",
       "    \"nonce\": 26206\n",
       "}"
      ]
     },
     "execution_count": 91,
     "metadata": {},
     "output_type": "execute_result"
    }
   ],
   "source": [
    "init_block"
   ]
  },
  {
   "cell_type": "markdown",
   "metadata": {},
   "source": [
    "### Block Data"
   ]
  },
  {
   "cell_type": "code",
   "execution_count": 92,
   "metadata": {
    "tags": []
   },
   "outputs": [
    {
     "data": {
      "text/plain": [
       "{\n",
       "    \"prev_hash\": \"00002d64bd7129caa2aa8ec458081519ac26034158e60962f6fd1428e22b1036\",\n",
       "    \"hash\": \"ac19b9c98cc9a1655bd66662c552b8667c2140a451ce635b24aa2fdf34555aea\",\n",
       "    \"data\": \"second data\",\n",
       "    \"nonce\": 0\n",
       "}"
      ]
     },
     "execution_count": 92,
     "metadata": {},
     "output_type": "execute_result"
    }
   ],
   "source": [
    "second_block = Block(data=\"second data\", prev_block= init_block)\n",
    "second_block"
   ]
  },
  {
   "cell_type": "code",
   "execution_count": 93,
   "metadata": {
    "tags": []
   },
   "outputs": [
    {
     "data": {
      "text/plain": [
       "False"
      ]
     },
     "execution_count": 93,
     "metadata": {},
     "output_type": "execute_result"
    }
   ],
   "source": [
    "second_block.is_valid()"
   ]
  },
  {
   "cell_type": "code",
   "execution_count": 94,
   "metadata": {
    "tags": []
   },
   "outputs": [
    {
     "data": {
      "text/plain": [
       "{\n",
       "    \"prev_hash\": \"00002d64bd7129caa2aa8ec458081519ac26034158e60962f6fd1428e22b1036\",\n",
       "    \"hash\": \"0000f1a7cc9b3335858fdc615b274e07568931de65e82fb991ac257e168b89c1\",\n",
       "    \"data\": \"second data\",\n",
       "    \"nonce\": 12005\n",
       "}"
      ]
     },
     "execution_count": 94,
     "metadata": {},
     "output_type": "execute_result"
    }
   ],
   "source": [
    "second_block.mine()\n",
    "second_block"
   ]
  },
  {
   "cell_type": "code",
   "execution_count": 95,
   "metadata": {
    "tags": []
   },
   "outputs": [
    {
     "data": {
      "text/plain": [
       "True"
      ]
     },
     "execution_count": 95,
     "metadata": {},
     "output_type": "execute_result"
    }
   ],
   "source": [
    "second_block.is_valid()"
   ]
  },
  {
   "cell_type": "code",
   "execution_count": 96,
   "metadata": {
    "tags": []
   },
   "outputs": [
    {
     "data": {
      "text/plain": [
       "{\n",
       "    \"prev_hash\": \"0000f1a7cc9b3335858fdc615b274e07568931de65e82fb991ac257e168b89c1\",\n",
       "    \"hash\": \"f94643bbf3edffb31b549ce63a5adbd4542b7e3b6d45f32ae69da4f9bc87b6f7\",\n",
       "    \"data\": \"third data\",\n",
       "    \"nonce\": 0\n",
       "}"
      ]
     },
     "execution_count": 96,
     "metadata": {},
     "output_type": "execute_result"
    }
   ],
   "source": [
    "third_block = Block(\"third data\", prev_block= second_block)\n",
    "third_block"
   ]
  },
  {
   "cell_type": "code",
   "execution_count": 97,
   "metadata": {
    "tags": []
   },
   "outputs": [
    {
     "data": {
      "text/plain": [
       "{\n",
       "    \"prev_hash\": \"0000f1a7cc9b3335858fdc615b274e07568931de65e82fb991ac257e168b89c1\",\n",
       "    \"hash\": \"0000eecdfce497ff979154b54ddb7f8fe0114683c0102afb900cd93497951e80\",\n",
       "    \"data\": \"third data\",\n",
       "    \"nonce\": 2917\n",
       "}"
      ]
     },
     "execution_count": 97,
     "metadata": {},
     "output_type": "execute_result"
    }
   ],
   "source": [
    "third_block.mine()\n",
    "third_block"
   ]
  },
  {
   "cell_type": "code",
   "execution_count": 98,
   "metadata": {
    "tags": []
   },
   "outputs": [
    {
     "data": {
      "text/plain": [
       "{\n",
       "    \"prev_hash\": \"0000eecdfce497ff979154b54ddb7f8fe0114683c0102afb900cd93497951e80\",\n",
       "    \"hash\": \"00003e75b774fcf431090692c595e06fa5d05bc7730a63673e4e4304eb4faf6a\",\n",
       "    \"data\": \"forth data\",\n",
       "    \"nonce\": 101056\n",
       "}"
      ]
     },
     "execution_count": 98,
     "metadata": {},
     "output_type": "execute_result"
    }
   ],
   "source": [
    "forth_block = Block(\"forth data\", third_block)\n",
    "forth_block.mine()\n",
    "forth_block"
   ]
  },
  {
   "cell_type": "code",
   "execution_count": 99,
   "metadata": {
    "tags": []
   },
   "outputs": [
    {
     "data": {
      "text/plain": [
       "{\n",
       "    \"prev_hash\": \"00003e75b774fcf431090692c595e06fa5d05bc7730a63673e4e4304eb4faf6a\",\n",
       "    \"hash\": \"0000d8cb89717a6b1904bf4f44aab11529b3ee378d0256620f608c3dd73694b9\",\n",
       "    \"data\": \"fifth block\",\n",
       "    \"nonce\": 34705\n",
       "}"
      ]
     },
     "execution_count": 99,
     "metadata": {},
     "output_type": "execute_result"
    }
   ],
   "source": [
    "fifth_block = Block(\"fifth block\", forth_block)\n",
    "fifth_block.mine()\n",
    "fifth_block"
   ]
  },
  {
   "cell_type": "code",
   "execution_count": 100,
   "metadata": {
    "tags": []
   },
   "outputs": [
    {
     "data": {
      "text/plain": [
       "(True, True, True, True, True)"
      ]
     },
     "execution_count": 100,
     "metadata": {},
     "output_type": "execute_result"
    }
   ],
   "source": [
    "init_block.is_valid(), second_block.is_valid(), third_block.is_valid(), forth_block.is_valid(), fifth_block.is_valid()"
   ]
  },
  {
   "cell_type": "markdown",
   "metadata": {},
   "source": [
    "### Making some change in past data"
   ]
  },
  {
   "cell_type": "code",
   "execution_count": 101,
   "metadata": {
    "tags": []
   },
   "outputs": [
    {
     "data": {
      "text/plain": [
       "{\n",
       "    \"prev_hash\": \"0000f1a7cc9b3335858fdc615b274e07568931de65e82fb991ac257e168b89c1\",\n",
       "    \"hash\": \"66ad1a8ee995ddbcaaf131585222c10a396a960f0c441578d5613417fa5d107a\",\n",
       "    \"data\": \"not third data\",\n",
       "    \"nonce\": 2917\n",
       "}"
      ]
     },
     "execution_count": 101,
     "metadata": {},
     "output_type": "execute_result"
    }
   ],
   "source": [
    "third_block.data = \"not third data\"\n",
    "third_block"
   ]
  },
  {
   "cell_type": "code",
   "execution_count": 102,
   "metadata": {
    "tags": []
   },
   "outputs": [
    {
     "data": {
      "text/plain": [
       "(True, True, False, False, False)"
      ]
     },
     "execution_count": 102,
     "metadata": {},
     "output_type": "execute_result"
    }
   ],
   "source": [
    "init_block.is_valid(), second_block.is_valid(), third_block.is_valid(), forth_block.is_valid(), fifth_block.is_valid()"
   ]
  },
  {
   "cell_type": "code",
   "execution_count": 103,
   "metadata": {
    "tags": []
   },
   "outputs": [
    {
     "data": {
      "text/plain": [
       "(True, True, True, True, True)"
      ]
     },
     "execution_count": 103,
     "metadata": {},
     "output_type": "execute_result"
    }
   ],
   "source": [
    "third_block.data = \"third data\"\n",
    "init_block.is_valid(), second_block.is_valid(), third_block.is_valid(), forth_block.is_valid(), fifth_block.is_valid()"
   ]
  },
  {
   "cell_type": "code",
   "execution_count": 104,
   "metadata": {
    "tags": []
   },
   "outputs": [
    {
     "data": {
      "text/plain": [
       "True"
      ]
     },
     "execution_count": 104,
     "metadata": {},
     "output_type": "execute_result"
    }
   ],
   "source": [
    "third_block.data = \"not third data\"\n",
    "third_block.mine()\n",
    "third_block.is_valid()"
   ]
  },
  {
   "cell_type": "code",
   "execution_count": 105,
   "metadata": {
    "tags": []
   },
   "outputs": [
    {
     "data": {
      "text/plain": [
       "(True, True, True, False, False)"
      ]
     },
     "execution_count": 105,
     "metadata": {},
     "output_type": "execute_result"
    }
   ],
   "source": [
    "init_block.is_valid(), second_block.is_valid(), third_block.is_valid(), forth_block.is_valid(), fifth_block.is_valid()"
   ]
  },
  {
   "cell_type": "code",
   "execution_count": 106,
   "metadata": {
    "tags": []
   },
   "outputs": [
    {
     "data": {
      "text/plain": [
       "(True, True, True, True, True)"
      ]
     },
     "execution_count": 106,
     "metadata": {},
     "output_type": "execute_result"
    }
   ],
   "source": [
    "third_block.data = \"third data\"\n",
    "third_block.mine()\n",
    "init_block.is_valid(), second_block.is_valid(), third_block.is_valid(), forth_block.is_valid(), fifth_block.is_valid()"
   ]
  },
  {
   "cell_type": "markdown",
   "metadata": {},
   "source": [
    "## Blockchain"
   ]
  },
  {
   "cell_type": "markdown",
   "metadata": {},
   "source": [
    "A submodule is available at \n",
    "```python\n",
    "from bcbcpy.blockchain import chain\n",
    "```"
   ]
  },
  {
   "cell_type": "markdown",
   "metadata": {},
   "source": [
    "### Root"
   ]
  },
  {
   "cell_type": "code",
   "execution_count": 107,
   "metadata": {
    "tags": []
   },
   "outputs": [
    {
     "data": {
      "text/plain": [
       "{\n",
       "    \"root_block\": {\n",
       "        \"hash\": \"0000a456e7b5a5eb059e721fb431436883143101275c4077f83fe70298f5623d\",\n",
       "        \"data\": \"\"\n",
       "    }\n",
       "}"
      ]
     },
     "execution_count": 107,
     "metadata": {},
     "output_type": "execute_result"
    }
   ],
   "source": [
    "blockchain.RootChain()"
   ]
  },
  {
   "cell_type": "code",
   "execution_count": 108,
   "metadata": {
    "tags": []
   },
   "outputs": [
    {
     "data": {
      "text/plain": [
       "{\n",
       "    \"root_block\": {\n",
       "        \"hash\": \"0000579da420f2b62497716cc60e95a0f7ad46336c42062b7485a27fd91d99f0\",\n",
       "        \"data\": \"{\\n    \\\"INITIAL ...\"\n",
       "    }\n",
       "}"
      ]
     },
     "execution_count": 108,
     "metadata": {},
     "output_type": "execute_result"
    }
   ],
   "source": [
    "initial_data = {\"INITIAL AGREEMENT\": {\"Bob\": 1000, \"Alice\": 500}}\n",
    "\n",
    "initial_data_string = utils.obj2txt(initial_data, indent=4)\n",
    "root_chain = blockchain.RootChain(initial_data_string, difficulty=4)\n",
    "\n",
    "root_chain"
   ]
  },
  {
   "cell_type": "markdown",
   "metadata": {},
   "source": [
    "### Chain"
   ]
  },
  {
   "cell_type": "code",
   "execution_count": 109,
   "metadata": {
    "tags": []
   },
   "outputs": [
    {
     "data": {
      "text/plain": [
       "{\n",
       "    \"prev_hash\": \"0000579da420f2b62497716cc60e95a0f7ad46336c42062b7485a27fd91d99f0\",\n",
       "    \"hash\": \"73095d20a662a26d26eec210c0dc51c34816098cdab05f941487ee5e8133d6ad\",\n",
       "    \"data\": \"new block\",\n",
       "    \"nonce\": 0\n",
       "}"
      ]
     },
     "execution_count": 109,
     "metadata": {},
     "output_type": "execute_result"
    }
   ],
   "source": [
    "prev_block = root_chain.last_block\n",
    "new_block = Block(\"new block\", prev_block)\n",
    "new_block"
   ]
  },
  {
   "cell_type": "markdown",
   "metadata": {},
   "source": [
    "---"
   ]
  },
  {
   "cell_type": "code",
   "execution_count": 110,
   "metadata": {
    "tags": []
   },
   "outputs": [
    {
     "ename": "AssertionError",
     "evalue": "Block is not valid.",
     "output_type": "error",
     "traceback": [
      "\u001b[0;31m---------------------------------------------------------------------------\u001b[0m",
      "\u001b[0;31mAssertionError\u001b[0m                            Traceback (most recent call last)",
      "\u001b[0;32m/var/folders/x4/45r2t3bx5l3dc_b3tm_yz7380000gn/T/ipykernel_76208/2453956519.py\u001b[0m in \u001b[0;36m<cell line: 1>\u001b[0;34m()\u001b[0m\n\u001b[0;32m----> 1\u001b[0;31m root_chain.add_block(\n\u001b[0m\u001b[1;32m      2\u001b[0m   \u001b[0mnew_block\u001b[0m\u001b[0;34m\u001b[0m\u001b[0;34m\u001b[0m\u001b[0m\n\u001b[1;32m      3\u001b[0m )\n",
      "\u001b[0;32m~/Git/aheritianad/BootCamp-BlockChain-and-Python/bcbcpy/blockchain/chain.py\u001b[0m in \u001b[0;36madd_block\u001b[0;34m(self, block)\u001b[0m\n\u001b[1;32m     49\u001b[0m             \u001b[0mself\u001b[0m\u001b[0;34m.\u001b[0m\u001b[0mlast_block\u001b[0m \u001b[0;32mis\u001b[0m \u001b[0mblock\u001b[0m\u001b[0;34m.\u001b[0m\u001b[0mprev_block\u001b[0m\u001b[0;34m\u001b[0m\u001b[0;34m\u001b[0m\u001b[0m\n\u001b[1;32m     50\u001b[0m         ), \"Incompatible block to the head block of the chain.\"\n\u001b[0;32m---> 51\u001b[0;31m         \u001b[0;32massert\u001b[0m \u001b[0mblock\u001b[0m\u001b[0;34m.\u001b[0m\u001b[0mis_valid\u001b[0m\u001b[0;34m(\u001b[0m\u001b[0;34m)\u001b[0m\u001b[0;34m,\u001b[0m \u001b[0;34m\"Block is not valid.\"\u001b[0m\u001b[0;34m\u001b[0m\u001b[0;34m\u001b[0m\u001b[0m\n\u001b[0m\u001b[1;32m     52\u001b[0m         \u001b[0mself\u001b[0m\u001b[0;34m.\u001b[0m\u001b[0mlast_block\u001b[0m \u001b[0;34m=\u001b[0m \u001b[0mblock\u001b[0m\u001b[0;34m\u001b[0m\u001b[0;34m\u001b[0m\u001b[0m\n\u001b[1;32m     53\u001b[0m         \u001b[0mself\u001b[0m\u001b[0;34m.\u001b[0m\u001b[0m_length\u001b[0m \u001b[0;34m+=\u001b[0m \u001b[0;36m1\u001b[0m\u001b[0;34m\u001b[0m\u001b[0;34m\u001b[0m\u001b[0m\n",
      "\u001b[0;31mAssertionError\u001b[0m: Block is not valid."
     ]
    }
   ],
   "source": [
    "root_chain.add_block(\n",
    "  new_block\n",
    ")\n"
   ]
  },
  {
   "cell_type": "code",
   "execution_count": 111,
   "metadata": {
    "tags": []
   },
   "outputs": [
    {
     "data": {
      "text/plain": [
       "{\n",
       "    \"prev_hash\": \"0000579da420f2b62497716cc60e95a0f7ad46336c42062b7485a27fd91d99f0\",\n",
       "    \"hash\": \"00007b581d241fea3fb8bf4c7c5c1941af9abb3a5ce05abb97b4521d34bab727\",\n",
       "    \"data\": \"new block\",\n",
       "    \"nonce\": 2823\n",
       "}"
      ]
     },
     "execution_count": 111,
     "metadata": {},
     "output_type": "execute_result"
    }
   ],
   "source": [
    "new_block.mine() # validation\n",
    "new_block"
   ]
  },
  {
   "cell_type": "code",
   "execution_count": 112,
   "metadata": {
    "tags": []
   },
   "outputs": [],
   "source": [
    "root_chain.add_block(\n",
    "    new_block\n",
    ")"
   ]
  },
  {
   "cell_type": "code",
   "execution_count": 113,
   "metadata": {
    "tags": []
   },
   "outputs": [
    {
     "data": {
      "text/plain": [
       "{\n",
       "    \"root_block\": {\n",
       "        \"hash\": \"0000579da420f2b62497716cc60e95a0f7ad46336c42062b7485a27fd91d99f0\",\n",
       "        \"data\": \"{\\n    \\\"INITIAL ...\"\n",
       "    },\n",
       "    \"last_block\": {\n",
       "        \"hash\": \"00007b581d241fea3fb8bf4c7c5c1941af9abb3a5ce05abb97b4521d34bab727\",\n",
       "        \"data\": \"new block\"\n",
       "    }\n",
       "}"
      ]
     },
     "execution_count": 113,
     "metadata": {},
     "output_type": "execute_result"
    }
   ],
   "source": [
    "root_chain"
   ]
  },
  {
   "cell_type": "code",
   "execution_count": 114,
   "metadata": {
    "tags": []
   },
   "outputs": [
    {
     "data": {
      "text/plain": [
       "{\n",
       "    \"root_block\": {\n",
       "        \"hash\": \"000015420debcdd55c00babc9c3a5a9c4ab22280cf9a6874986c427281dd79b9\",\n",
       "        \"data\": \"local network\"\n",
       "    }\n",
       "}"
      ]
     },
     "execution_count": 114,
     "metadata": {},
     "output_type": "execute_result"
    }
   ],
   "source": [
    "chain = blockchain.Chain(root_chain=root_chain, info=\"local network\")\n",
    "chain"
   ]
  },
  {
   "cell_type": "markdown",
   "metadata": {},
   "source": [
    "## Transaction\n"
   ]
  },
  {
   "cell_type": "code",
   "execution_count": 115,
   "metadata": {
    "tags": []
   },
   "outputs": [],
   "source": [
    "from bcbcpy.blockchain.block import transaction"
   ]
  },
  {
   "cell_type": "markdown",
   "metadata": {},
   "source": [
    "### Nodes setup"
   ]
  },
  {
   "cell_type": "code",
   "execution_count": 116,
   "metadata": {
    "tags": []
   },
   "outputs": [],
   "source": [
    "from bcbcpy.blockchain.node import Node\n",
    "\n",
    "alice = Node(crypto.RSAPairKeys.generate_pairs(), \"Alice\")\n",
    "bob = Node(crypto.RSAPairKeys.generate_pairs(), \"Bob\")\n",
    "other_person_in_the_network = Node(crypto.RSAPairKeys.generate_pairs())"
   ]
  },
  {
   "cell_type": "markdown",
   "metadata": {},
   "source": [
    "### Transaction Data"
   ]
  },
  {
   "cell_type": "code",
   "execution_count": 117,
   "metadata": {
    "tags": []
   },
   "outputs": [],
   "source": [
    "assets = 1000\n",
    "sender = bob\n",
    "receiver = alice"
   ]
  },
  {
   "cell_type": "code",
   "execution_count": 118,
   "metadata": {
    "tags": []
   },
   "outputs": [],
   "source": [
    "receiver_id = receiver.id\n",
    "receiver_pub = receiver.pub\n",
    "\n",
    "prev_block = chain.last_block"
   ]
  },
  {
   "cell_type": "code",
   "execution_count": 119,
   "metadata": {
    "tags": []
   },
   "outputs": [
    {
     "name": "stdout",
     "output_type": "stream",
     "text": [
      "{'timestamp': '2023-06-02T19:11:45.766410', 'sender_id': 'Bob_4a985b38', 'receiver_id': 'Alice_a9f23756', 'assets': 1000, 'prev_hash': '000015420debcdd55c00babc9c3a5a9c4ab22280cf9a6874986c427281dd79b9', 'sender_confirmation': 'N.ieM2R8OZN)+8#{AsTa/@6K*43*Y;/Ra#;{Jmo#E\\t_!gW|m>!w!nYa7t5k.-*djh]9SzbaCyL+C2ga*wTn!4Ab378[I_&Q36tA6Zi$PAaZ]&.6nu3x&Co2}APU-S>4c2|N\\tObl'}\n"
     ]
    }
   ],
   "source": [
    "transaction_data = transaction.TransactionData(\n",
    "    assets, sender, receiver_id, receiver_pub, prev_block\n",
    ")\n",
    "\n",
    "print(transaction_data)"
   ]
  },
  {
   "cell_type": "markdown",
   "metadata": {},
   "source": [
    "### Transaction Block"
   ]
  },
  {
   "cell_type": "code",
   "execution_count": 120,
   "metadata": {
    "tags": []
   },
   "outputs": [
    {
     "data": {
      "text/plain": [
       "{\n",
       "    \"prev_hash\": \"000015420debcdd55c00babc9c3a5a9c4ab22280cf9a6874986c427281dd79b9\",\n",
       "    \"hash\": \"a5e3c7badc73a309ceb57ff88320534a1dc1a06abf475545d85adc46942e96ad\",\n",
       "    \"data\": \"{'timestamp': '2023-06-02T19:11:45.766410', 'sender_id': 'Bob_4a985b38', 'receiver_id': 'Alice_a9f23756', 'assets': 1000, 'prev_hash': '000015420debcdd55c00babc9c3a5a9c4ab22280cf9a6874986c427281dd79b9', 'sender_confirmation': 'N.ieM2R8OZN)+8#{AsTa/@6K*43*Y;/Ra#;{Jmo#E\\\\t_!gW|m>!w!nYa7t5k.-*djh]9SzbaCyL+C2ga*wTn!4Ab378[I_&Q36tA6Zi$PAaZ]&.6nu3x&Co2}APU-S>4c2|N\\\\tObl'}\",\n",
       "    \"nonce\": 0\n",
       "}"
      ]
     },
     "execution_count": 120,
     "metadata": {},
     "output_type": "execute_result"
    }
   ],
   "source": [
    "transaction_block = blockchain.TransactionBlock(transaction_data)\n",
    "transaction_block"
   ]
  },
  {
   "cell_type": "markdown",
   "metadata": {},
   "source": [
    "### Verification\n"
   ]
  },
  {
   "cell_type": "markdown",
   "metadata": {},
   "source": [
    "#### Anyone in the network"
   ]
  },
  {
   "cell_type": "code",
   "execution_count": 121,
   "metadata": {
    "tags": []
   },
   "outputs": [
    {
     "name": "stdout",
     "output_type": "stream",
     "text": [
      "{'timestamp': '2023-06-02T19:11:45.766410', 'sender_id': 'Bob_4a985b38', 'receiver_id': 'Alice_a9f23756', 'assets': 1000, 'prev_hash': '000015420debcdd55c00babc9c3a5a9c4ab22280cf9a6874986c427281dd79b9', 'sender_confirmation': 'N.ieM2R8OZN)+8#{AsTa/@6K*43*Y;/Ra#;{Jmo#E\\t_!gW|m>!w!nYa7t5k.-*djh]9SzbaCyL+C2ga*wTn!4Ab378[I_&Q36tA6Zi$PAaZ]&.6nu3x&Co2}APU-S>4c2|N\\tObl'}\n"
     ]
    }
   ],
   "source": [
    "data = transaction_block.data\n",
    "\n",
    "print(data)\n"
   ]
  },
  {
   "cell_type": "code",
   "execution_count": 122,
   "metadata": {
    "tags": []
   },
   "outputs": [
    {
     "name": "stdout",
     "output_type": "stream",
     "text": [
      "N.ieM2R8OZN)+8#{AsTa/@6K*43*Y;/Ra#;{Jmo#E\t_!gW|m>!w!nYa7t5k.-*djh]9SzbaCyL+C2ga*wTn!4Ab378[I_&Q36tA6Zi$PAaZ]&.6nu3x&Co2}APU-S>4c2|N\tObl\n"
     ]
    }
   ],
   "source": [
    "sender_confirmation=\"\"\"N.ieM2R8OZN)+8#{AsTa/@6K*43*Y;/Ra#;{Jmo#E\\t_!gW|m>!w!nYa7t5k.-*djh]9SzbaCyL+C2ga*wTn!4Ab378[I_&Q36tA6Zi$PAaZ]&.6nu3x&Co2}APU-S>4c2|N\\tObl\"\"\"\n",
    "print(sender_confirmation)"
   ]
  },
  {
   "cell_type": "code",
   "execution_count": 124,
   "metadata": {
    "tags": []
   },
   "outputs": [
    {
     "name": "stdout",
     "output_type": "stream",
     "text": [
      "[['assets',\t1000],\n",
      "['receiver_pub',\t(44069, 19667)],\n",
      "['prev_hash',\t000015420debcdd55c00babc9c3a5a9c4ab22280cf9a6874986c427281dd79b9]]\n"
     ]
    }
   ],
   "source": [
    "confirmation_string = other_person_in_the_network.encrypt(sender_confirmation, key= sender.pub)\n",
    "\n",
    "print(confirmation_string)"
   ]
  },
  {
   "cell_type": "code",
   "execution_count": 125,
   "metadata": {
    "tags": []
   },
   "outputs": [
    {
     "name": "stdout",
     "output_type": "stream",
     "text": [
      "(44069, 19667)\n",
      "000015420debcdd55c00babc9c3a5a9c4ab22280cf9a6874986c427281dd79b9\n"
     ]
    }
   ],
   "source": [
    "print(receiver.pub)\n",
    "print(chain.hash)"
   ]
  },
  {
   "cell_type": "markdown",
   "metadata": {},
   "source": [
    "### Block Validation"
   ]
  },
  {
   "cell_type": "code",
   "execution_count": 126,
   "metadata": {
    "tags": []
   },
   "outputs": [
    {
     "data": {
      "text/plain": [
       "False"
      ]
     },
     "execution_count": 126,
     "metadata": {},
     "output_type": "execute_result"
    }
   ],
   "source": [
    "transaction_block.is_valid()"
   ]
  },
  {
   "cell_type": "code",
   "execution_count": 127,
   "metadata": {
    "tags": []
   },
   "outputs": [
    {
     "data": {
      "text/plain": [
       "{\n",
       "    \"prev_hash\": \"000015420debcdd55c00babc9c3a5a9c4ab22280cf9a6874986c427281dd79b9\",\n",
       "    \"hash\": \"0000561773ecab4888f4d9ffa759525f5a9ee00073962be29c00330e2d5356fd\",\n",
       "    \"data\": \"{'timestamp': '2023-06-02T19:11:45.766410', 'sender_id': 'Bob_4a985b38', 'receiver_id': 'Alice_a9f23756', 'assets': 1000, 'prev_hash': '000015420debcdd55c00babc9c3a5a9c4ab22280cf9a6874986c427281dd79b9', 'sender_confirmation': 'N.ieM2R8OZN)+8#{AsTa/@6K*43*Y;/Ra#;{Jmo#E\\\\t_!gW|m>!w!nYa7t5k.-*djh]9SzbaCyL+C2ga*wTn!4Ab378[I_&Q36tA6Zi$PAaZ]&.6nu3x&Co2}APU-S>4c2|N\\\\tObl'}\",\n",
       "    \"nonce\": 16752\n",
       "}"
      ]
     },
     "execution_count": 127,
     "metadata": {},
     "output_type": "execute_result"
    }
   ],
   "source": [
    "transaction_block.mine()\n",
    "transaction_block"
   ]
  },
  {
   "cell_type": "code",
   "execution_count": 128,
   "metadata": {
    "tags": []
   },
   "outputs": [
    {
     "data": {
      "text/plain": [
       "True"
      ]
     },
     "execution_count": 128,
     "metadata": {},
     "output_type": "execute_result"
    }
   ],
   "source": [
    "transaction_block.is_valid()"
   ]
  },
  {
   "cell_type": "markdown",
   "metadata": {},
   "source": [
    "### Adding to Chain"
   ]
  },
  {
   "cell_type": "code",
   "execution_count": 129,
   "metadata": {
    "tags": []
   },
   "outputs": [
    {
     "data": {
      "text/plain": [
       "{\n",
       "    \"root_block\": {\n",
       "        \"hash\": \"000015420debcdd55c00babc9c3a5a9c4ab22280cf9a6874986c427281dd79b9\",\n",
       "        \"data\": \"local network\"\n",
       "    },\n",
       "    \"last_block\": {\n",
       "        \"hash\": \"0000561773ecab4888f4d9ffa759525f5a9ee00073962be29c00330e2d5356fd\",\n",
       "        \"data\": \"{'timestamp': '...\"\n",
       "    }\n",
       "}"
      ]
     },
     "execution_count": 129,
     "metadata": {},
     "output_type": "execute_result"
    }
   ],
   "source": [
    "chain.add_block(transaction_block)\n",
    "chain"
   ]
  },
  {
   "cell_type": "markdown",
   "metadata": {},
   "source": [
    "## Second Transaction\n"
   ]
  },
  {
   "cell_type": "code",
   "execution_count": 130,
   "metadata": {
    "tags": []
   },
   "outputs": [],
   "source": [
    "assets = 500\n",
    "sender = alice\n",
    "receiver = bob\n",
    "prev_block = chain.last_block"
   ]
  },
  {
   "cell_type": "code",
   "execution_count": 131,
   "metadata": {
    "tags": []
   },
   "outputs": [],
   "source": [
    "transaction_block = sender.make_transaction_block(\n",
    "    assets=assets,\n",
    "    to=receiver,\n",
    "    prev_block=prev_block,\n",
    ")"
   ]
  },
  {
   "cell_type": "markdown",
   "metadata": {},
   "source": [
    "### Verification ..."
   ]
  },
  {
   "cell_type": "code",
   "execution_count": 132,
   "metadata": {
    "tags": []
   },
   "outputs": [
    {
     "name": "stdout",
     "output_type": "stream",
     "text": [
      "{'timestamp': '2023-06-02T19:12:50.485053', 'sender_id': 'Alice_a9f23756', 'receiver_id': 'Bob_4a985b38', 'assets': 500, 'prev_hash': '0000561773ecab4888f4d9ffa759525f5a9ee00073962be29c00330e2d5356fd', 'sender_confirmation': \"\\n(o@?U=<=K8d+4)X8Wl*`c6lF!9y2U==m=AWPa,BZPKO2{`MKYQG\\\\wFr(}G\\n@Ewk_<')VZyIj-)9@c}9$6_v%?5s%iS9}Qg#1<y20yFuL5\\tGl0IXA@Z)S8g[\\tR<T?T{\\\\0H\\n.Lf\"}\n"
     ]
    }
   ],
   "source": [
    "data = transaction_block.data\n",
    "print(data)"
   ]
  },
  {
   "cell_type": "code",
   "execution_count": 137,
   "metadata": {
    "tags": []
   },
   "outputs": [
    {
     "name": "stdout",
     "output_type": "stream",
     "text": [
      "[['assets',\t500],\n",
      "['receiver_pub',\t(60833, 30109)],\n",
      "['prev_hash',\t0000561773ecab4888f4d9ffa759525f5a9ee00073962be29c00330e2d5356fd]]\n"
     ]
    }
   ],
   "source": [
    "sender_confirmation=\"\"\"\\n(o@?U=<=K8d+4)X8Wl*`c6lF!9y2U==m=AWPa,BZPKO2{`MKYQG\\\\wFr(}G\\n@Ewk_<')VZyIj-)9@c}9$6_v%?5s%iS9}Qg#1<y20yFuL5\\tGl0IXA@Z)S8g[\\tR<T?T{\\\\0H\\n.Lf\"\"\" \n",
    "confirmation = other_person_in_the_network.encrypt(sender_confirmation, key= sender.pub)\n",
    "\n",
    "print(confirmation)"
   ]
  },
  {
   "cell_type": "code",
   "execution_count": 138,
   "metadata": {},
   "outputs": [
    {
     "name": "stdout",
     "output_type": "stream",
     "text": [
      "(60833, 30109)\n",
      "0000e6ecd7240be8403b29af870cf26480d6a50e0d1ae05c295729a1b6e639cf\n"
     ]
    }
   ],
   "source": [
    "print(receiver.pub)\n",
    "print(chain.hash)"
   ]
  },
  {
   "cell_type": "markdown",
   "metadata": {},
   "source": [
    "### Adding to Chain"
   ]
  },
  {
   "cell_type": "code",
   "execution_count": 139,
   "metadata": {},
   "outputs": [
    {
     "ename": "AssertionError",
     "evalue": "Incompatible block to the head block of the chain.",
     "output_type": "error",
     "traceback": [
      "\u001b[0;31m---------------------------------------------------------------------------\u001b[0m",
      "\u001b[0;31mAssertionError\u001b[0m                            Traceback (most recent call last)",
      "\u001b[0;32m/var/folders/x4/45r2t3bx5l3dc_b3tm_yz7380000gn/T/ipykernel_76208/4277047408.py\u001b[0m in \u001b[0;36m<cell line: 2>\u001b[0;34m()\u001b[0m\n\u001b[1;32m      1\u001b[0m \u001b[0mtransaction_block\u001b[0m\u001b[0;34m.\u001b[0m\u001b[0mmine\u001b[0m\u001b[0;34m(\u001b[0m\u001b[0;34m)\u001b[0m \u001b[0;31m# validation\u001b[0m\u001b[0;34m\u001b[0m\u001b[0;34m\u001b[0m\u001b[0m\n\u001b[0;32m----> 2\u001b[0;31m \u001b[0mchain\u001b[0m\u001b[0;34m.\u001b[0m\u001b[0madd_block\u001b[0m\u001b[0;34m(\u001b[0m\u001b[0mtransaction_block\u001b[0m\u001b[0;34m)\u001b[0m\u001b[0;34m\u001b[0m\u001b[0;34m\u001b[0m\u001b[0m\n\u001b[0m",
      "\u001b[0;32m~/Git/aheritianad/BootCamp-BlockChain-and-Python/bcbcpy/blockchain/chain.py\u001b[0m in \u001b[0;36madd_block\u001b[0;34m(self, block)\u001b[0m\n\u001b[1;32m     47\u001b[0m     \u001b[0;32mdef\u001b[0m \u001b[0madd_block\u001b[0m\u001b[0;34m(\u001b[0m\u001b[0mself\u001b[0m\u001b[0;34m,\u001b[0m \u001b[0mblock\u001b[0m\u001b[0;34m:\u001b[0m \u001b[0mBlock\u001b[0m\u001b[0;34m)\u001b[0m \u001b[0;34m->\u001b[0m \u001b[0;32mNone\u001b[0m\u001b[0;34m:\u001b[0m\u001b[0;34m\u001b[0m\u001b[0;34m\u001b[0m\u001b[0m\n\u001b[1;32m     48\u001b[0m         assert (\n\u001b[0;32m---> 49\u001b[0;31m             \u001b[0mself\u001b[0m\u001b[0;34m.\u001b[0m\u001b[0mlast_block\u001b[0m \u001b[0;32mis\u001b[0m \u001b[0mblock\u001b[0m\u001b[0;34m.\u001b[0m\u001b[0mprev_block\u001b[0m\u001b[0;34m\u001b[0m\u001b[0;34m\u001b[0m\u001b[0m\n\u001b[0m\u001b[1;32m     50\u001b[0m         ), \"Incompatible block to the head block of the chain.\"\n\u001b[1;32m     51\u001b[0m         \u001b[0;32massert\u001b[0m \u001b[0mblock\u001b[0m\u001b[0;34m.\u001b[0m\u001b[0mis_valid\u001b[0m\u001b[0;34m(\u001b[0m\u001b[0;34m)\u001b[0m\u001b[0;34m,\u001b[0m \u001b[0;34m\"Block is not valid.\"\u001b[0m\u001b[0;34m\u001b[0m\u001b[0;34m\u001b[0m\u001b[0m\n",
      "\u001b[0;31mAssertionError\u001b[0m: Incompatible block to the head block of the chain."
     ]
    }
   ],
   "source": [
    "transaction_block.mine() # validation\n",
    "chain.add_block(transaction_block)"
   ]
  },
  {
   "cell_type": "code",
   "execution_count": 140,
   "metadata": {},
   "outputs": [
    {
     "data": {
      "text/plain": [
       "{\n",
       "    \"root_block\": {\n",
       "        \"hash\": \"000015420debcdd55c00babc9c3a5a9c4ab22280cf9a6874986c427281dd79b9\",\n",
       "        \"data\": \"local network\"\n",
       "    },\n",
       "    \"...\": \"...\",\n",
       "    \"last_block\": {\n",
       "        \"hash\": \"0000e6ecd7240be8403b29af870cf26480d6a50e0d1ae05c295729a1b6e639cf\",\n",
       "        \"data\": \"{'timestamp': '...\"\n",
       "    }\n",
       "}"
      ]
     },
     "execution_count": 140,
     "metadata": {},
     "output_type": "execute_result"
    }
   ],
   "source": [
    "chain"
   ]
  }
 ],
 "metadata": {
  "kernelspec": {
   "display_name": "Python 3 (ipykernel)",
   "language": "python",
   "name": "python3"
  },
  "language_info": {
   "codemirror_mode": {
    "name": "ipython",
    "version": 3
   },
   "file_extension": ".py",
   "mimetype": "text/x-python",
   "name": "python",
   "nbconvert_exporter": "python",
   "pygments_lexer": "ipython3",
   "version": "3.10.10"
  },
  "vscode": {
   "interpreter": {
    "hash": "b0fa6594d8f4cbf19f97940f81e996739fb7646882a419484c72d19e05852a7e"
   }
  }
 },
 "nbformat": 4,
 "nbformat_minor": 4
}
