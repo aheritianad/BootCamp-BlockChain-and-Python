{
 "cells": [
  {
   "attachments": {},
   "cell_type": "markdown",
   "metadata": {},
   "source": [
    "This is a demo notebook for the [bcbcpy](https://github.com/aheritianad/BootCamp-BlockChain-and-Python/src/bcbcpy) package."
   ]
  },
  {
   "cell_type": "code",
   "execution_count": 1,
   "metadata": {},
   "outputs": [],
   "source": [
    "try:\n",
    "    import bcbcpy\n",
    "except ModuleNotFoundError:\n",
    "    import os, sys\n",
    "    sys.path.append(os.path.abspath(\"../src/\"))"
   ]
  },
  {
   "attachments": {},
   "cell_type": "markdown",
   "metadata": {},
   "source": [
    "# Cryptography\n"
   ]
  },
  {
   "cell_type": "code",
   "execution_count": 2,
   "metadata": {},
   "outputs": [],
   "source": [
    "from bcbcpy import crypto"
   ]
  },
  {
   "attachments": {},
   "cell_type": "markdown",
   "metadata": {},
   "source": [
    "## Hashing\n"
   ]
  },
  {
   "attachments": {},
   "cell_type": "markdown",
   "metadata": {},
   "source": [
    "### `Hash` function\n"
   ]
  },
  {
   "cell_type": "code",
   "execution_count": 3,
   "metadata": {},
   "outputs": [
    {
     "data": {
      "text/plain": [
       "'1370eeaaba7a6c7a234b1f82cc3b6d013a0088fd5e16408300f05b28b0015463'"
      ]
     },
     "execution_count": 3,
     "metadata": {},
     "output_type": "execute_result"
    }
   ],
   "source": [
    "text_to_be_hashed = \"Hello World\"\n",
    "first_hash = crypto.hash_function(text_to_be_hashed)\n",
    "first_hash\n"
   ]
  },
  {
   "cell_type": "code",
   "execution_count": 4,
   "metadata": {},
   "outputs": [
    {
     "data": {
      "text/plain": [
       "'e59f8bdf1305e382a4919ccefd613d3eebae612aa4c443f3af2d65663de3b075'"
      ]
     },
     "execution_count": 4,
     "metadata": {},
     "output_type": "execute_result"
    }
   ],
   "source": [
    "crypto.hash_function(text_to_be_hashed + \"!\")\n"
   ]
  },
  {
   "cell_type": "code",
   "execution_count": 5,
   "metadata": {},
   "outputs": [
    {
     "data": {
      "text/plain": [
       "'e59f8bdf1305e382a4919ccefd613d3eebae612aa4c443f3af2d65663de3b075'"
      ]
     },
     "execution_count": 5,
     "metadata": {},
     "output_type": "execute_result"
    }
   ],
   "source": [
    "crypto.hash_function(\"Hello World!\")"
   ]
  },
  {
   "cell_type": "code",
   "execution_count": 6,
   "metadata": {},
   "outputs": [],
   "source": [
    "long_text = \"\"\"\n",
    "Hello everyone!\n",
    "\n",
    "Welcome to this tutorial.\n",
    "I promise that I will do my best to help you.\n",
    "\n",
    "It will be interactive, so please participate as much as you can.\n",
    "\n",
    "Please do not hesitate to ask if there you have questions.\n",
    "\n",
    "Hope you will enjoy it!\n",
    "\n",
    "Cheers!\n",
    "\n",
    "Heritiana.\n",
    "\"\"\"\n"
   ]
  },
  {
   "cell_type": "code",
   "execution_count": 7,
   "metadata": {},
   "outputs": [
    {
     "data": {
      "text/plain": [
       "'0c8359860bef1b26f811bf8448c546c2241c7c695f9b8ee76c1a8bf2d5b2dff3'"
      ]
     },
     "execution_count": 7,
     "metadata": {},
     "output_type": "execute_result"
    }
   ],
   "source": [
    "hash_long = crypto.hash_function(long_text)\n",
    "hash_long\n"
   ]
  },
  {
   "cell_type": "code",
   "execution_count": 8,
   "metadata": {},
   "outputs": [
    {
     "data": {
      "text/plain": [
       "True"
      ]
     },
     "execution_count": 8,
     "metadata": {},
     "output_type": "execute_result"
    }
   ],
   "source": [
    "len(hash_long) == len(first_hash)\n"
   ]
  },
  {
   "attachments": {},
   "cell_type": "markdown",
   "metadata": {},
   "source": [
    "### Validation\n"
   ]
  },
  {
   "cell_type": "code",
   "execution_count": 9,
   "metadata": {},
   "outputs": [
    {
     "data": {
      "text/plain": [
       "False"
      ]
     },
     "execution_count": 9,
     "metadata": {},
     "output_type": "execute_result"
    }
   ],
   "source": [
    "difficulty = 4\n",
    "crypto.is_valid_hash(first_hash, difficulty)\n"
   ]
  },
  {
   "cell_type": "code",
   "execution_count": 10,
   "metadata": {},
   "outputs": [
    {
     "data": {
      "text/plain": [
       "'0000eeaaba7a6c7a234b1f82cc3b6d013a0088fd5e16408300f05b28b0015463'"
      ]
     },
     "execution_count": 10,
     "metadata": {},
     "output_type": "execute_result"
    }
   ],
   "source": [
    "fake_hash = \"0000\" + first_hash[4:]\n",
    "fake_hash"
   ]
  },
  {
   "cell_type": "code",
   "execution_count": 11,
   "metadata": {},
   "outputs": [
    {
     "data": {
      "text/plain": [
       "True"
      ]
     },
     "execution_count": 11,
     "metadata": {},
     "output_type": "execute_result"
    }
   ],
   "source": [
    "crypto.is_valid_hash(fake_hash, difficulty)\n"
   ]
  },
  {
   "attachments": {},
   "cell_type": "markdown",
   "metadata": {},
   "source": [
    "### Nonce\n"
   ]
  },
  {
   "cell_type": "code",
   "execution_count": 12,
   "metadata": {},
   "outputs": [
    {
     "data": {
      "text/plain": [
       "'0000bfe6af4232f78b0c8eba37a6ba6c17b9b8671473b0b82305880be077edd9'"
      ]
     },
     "execution_count": 12,
     "metadata": {},
     "output_type": "execute_result"
    }
   ],
   "source": [
    "second_hash, nonce = crypto.hash_nonce_initializer(\n",
    "    text_to_be_hashed, difficulty=difficulty\n",
    ")\n",
    "second_hash"
   ]
  },
  {
   "cell_type": "code",
   "execution_count": 13,
   "metadata": {},
   "outputs": [
    {
     "data": {
      "text/plain": [
       "107105"
      ]
     },
     "execution_count": 13,
     "metadata": {},
     "output_type": "execute_result"
    }
   ],
   "source": [
    "nonce\n"
   ]
  },
  {
   "cell_type": "code",
   "execution_count": 14,
   "metadata": {},
   "outputs": [
    {
     "data": {
      "text/plain": [
       "True"
      ]
     },
     "execution_count": 14,
     "metadata": {},
     "output_type": "execute_result"
    }
   ],
   "source": [
    "crypto.is_valid_hash(second_hash, difficulty)\n"
   ]
  },
  {
   "cell_type": "code",
   "execution_count": 15,
   "metadata": {},
   "outputs": [
    {
     "data": {
      "text/plain": [
       "'0000bfe6af4232f78b0c8eba37a6ba6c17b9b8671473b0b82305880be077edd9'"
      ]
     },
     "execution_count": 15,
     "metadata": {},
     "output_type": "execute_result"
    }
   ],
   "source": [
    "third_hash = crypto.hash_function(text_to_be_hashed, nonce=nonce)\n",
    "third_hash\n"
   ]
  },
  {
   "cell_type": "code",
   "execution_count": 16,
   "metadata": {},
   "outputs": [
    {
     "data": {
      "text/plain": [
       "True"
      ]
     },
     "execution_count": 16,
     "metadata": {},
     "output_type": "execute_result"
    }
   ],
   "source": [
    "second_hash == third_hash\n"
   ]
  },
  {
   "cell_type": "code",
   "execution_count": 17,
   "metadata": {},
   "outputs": [
    {
     "data": {
      "text/plain": [
       "True"
      ]
     },
     "execution_count": 17,
     "metadata": {},
     "output_type": "execute_result"
    }
   ],
   "source": [
    "forth_hash = crypto.hash_function(text_to_be_hashed, nonce, nonce=\"\")  # type:ignore\n",
    "second_hash == forth_hash"
   ]
  },
  {
   "attachments": {},
   "cell_type": "markdown",
   "metadata": {},
   "source": [
    "### What if such `nonce` does not exist?\n"
   ]
  },
  {
   "attachments": {},
   "cell_type": "markdown",
   "metadata": {},
   "source": [
    "**Think about it.**\n"
   ]
  },
  {
   "attachments": {},
   "cell_type": "markdown",
   "metadata": {},
   "source": [
    "## Crypto\n"
   ]
  },
  {
   "attachments": {},
   "cell_type": "markdown",
   "metadata": {},
   "source": [
    "### `Encryption` & `Decryption`\n"
   ]
  },
  {
   "attachments": {},
   "cell_type": "markdown",
   "metadata": {},
   "source": [
    "$$f\\circ f^{-1} (x) = f^{-1}\\circ f(x) = x,\\ \\forall x$$\n"
   ]
  },
  {
   "cell_type": "code",
   "execution_count": 18,
   "metadata": {},
   "outputs": [],
   "source": [
    "encrypt = lambda x: 2 * x - 1\n",
    "decrypt = lambda x: 0  # TODO to fill"
   ]
  },
  {
   "cell_type": "code",
   "execution_count": 19,
   "metadata": {},
   "outputs": [
    {
     "name": "stdout",
     "output_type": "stream",
     "text": [
      "Oops! fail at 1-th attempt for x = -2926\n"
     ]
    }
   ],
   "source": [
    "import random\n",
    "try:\n",
    "    for i in range(20):\n",
    "        x = random.randint(-5000, 5000)\n",
    "        assert (\n",
    "            encrypt(decrypt(x)) == decrypt(encrypt(x)) == x\n",
    "        ), f\"Oops! fail at {i+1}-th attempt for x = {x}\"\n",
    "except AssertionError as e:\n",
    "    print(e)\n",
    "else:\n",
    "    print(\"Congrats! I passes the test\")"
   ]
  },
  {
   "cell_type": "code",
   "execution_count": 20,
   "metadata": {},
   "outputs": [],
   "source": [
    "clear_message = (\n",
    "    \"This is a clear message to encrypt and decrypt. I add this to make it longer.\"\n",
    ")"
   ]
  },
  {
   "attachments": {},
   "cell_type": "markdown",
   "metadata": {},
   "source": [
    "### Types\n"
   ]
  },
  {
   "attachments": {},
   "cell_type": "markdown",
   "metadata": {},
   "source": [
    "#### Key\n"
   ]
  },
  {
   "attachments": {},
   "cell_type": "markdown",
   "metadata": {},
   "source": [
    "$\\mathcal{F}=\\{ f_\\theta \\:\\ \\theta \\in \\Theta\\}$\n",
    "\n",
    "$\\left(f_{\\theta}\\right) ^{-1} = f_{\\theta^\\prime}$ for some $\\theta^\\prime \\in \\Theta$\n",
    "\n",
    "$\\theta \\in \\Theta$ : key\n"
   ]
  },
  {
   "attachments": {},
   "cell_type": "markdown",
   "metadata": {},
   "source": [
    "#### Symmetric\n"
   ]
  },
  {
   "attachments": {},
   "cell_type": "markdown",
   "metadata": {},
   "source": [
    "##### Cesar\n"
   ]
  },
  {
   "cell_type": "code",
   "execution_count": 21,
   "metadata": {},
   "outputs": [
    {
     "name": "stdout",
     "output_type": "stream",
     "text": [
      "CesarKey(1, -1)\n"
     ]
    }
   ],
   "source": [
    "cesar_key = crypto.CesarKey.generate_key(max_length=2)\n",
    "print(cesar_key)\n"
   ]
  },
  {
   "cell_type": "code",
   "execution_count": 22,
   "metadata": {},
   "outputs": [
    {
     "name": "stdout",
     "output_type": "stream",
     "text": [
      "\n",
      "original:\n",
      "========\n",
      "This is a clear message to encrypt and decrypt. I add this to make it longer.\n",
      "\n",
      "Encrypted:\n",
      "========\n",
      "Uijt!jt!b!dmfbs!nfttbhf!up!fodszqu!boe!efdszqu/!J!bee!uijt!up!nblf!ju!mpohfs/\n",
      "\n"
     ]
    }
   ],
   "source": [
    "encr_cesar = cesar_key.encrypt(clear_message)\n",
    "\n",
    "print(\n",
    "    f\"\"\"\n",
    "original:\n",
    "========\n",
    "{clear_message}\n",
    "\n",
    "Encrypted:\n",
    "========\n",
    "{encr_cesar}\n",
    "\"\"\"\n",
    ")"
   ]
  },
  {
   "cell_type": "code",
   "execution_count": 23,
   "metadata": {},
   "outputs": [
    {
     "name": "stdout",
     "output_type": "stream",
     "text": [
      "\n",
      "original:\n",
      "========\n",
      "This is a clear message to encrypt and decrypt. I add this to make it longer.\n",
      "\n",
      "Decrypted:\n",
      "=========\n",
      "This is a clear message to encrypt and decrypt. I add this to make it longer.\n",
      "\n"
     ]
    }
   ],
   "source": [
    "decr = cesar_key.decrypt(encr_cesar)\n",
    "\n",
    "print(\n",
    "    f\"\"\"\n",
    "original:\n",
    "========\n",
    "{clear_message}\n",
    "\n",
    "Decrypted:\n",
    "=========\n",
    "{decr}\n",
    "\"\"\"\n",
    ")"
   ]
  },
  {
   "attachments": {},
   "cell_type": "markdown",
   "metadata": {},
   "source": [
    "##### Permutation\n"
   ]
  },
  {
   "cell_type": "code",
   "execution_count": 24,
   "metadata": {},
   "outputs": [
    {
     "name": "stdout",
     "output_type": "stream",
     "text": [
      "PermutationKey((2, 1, 3), (2, 1, 3))\n"
     ]
    }
   ],
   "source": [
    "perm_key = crypto.PermutationKey.generate_key(length=3, n_runs=1)\n",
    "print(perm_key)\n"
   ]
  },
  {
   "cell_type": "code",
   "execution_count": 25,
   "metadata": {},
   "outputs": [
    {
     "name": "stdout",
     "output_type": "stream",
     "text": [
      "\n",
      "original:\n",
      "========\n",
      "This is a clear message to encrypt and decrypt. I add this to make it longer.\n",
      "\n",
      "Encrypted:\n",
      "========\n",
      "hTi si sac laerm essaeg ot necyrp tadn edcyrp.t  Iadd hti st omkaei tl ogner.\n",
      "\n"
     ]
    }
   ],
   "source": [
    "encr_perm = perm_key.encrypt(clear_message)\n",
    "\n",
    "print(\n",
    "    f\"\"\"\n",
    "original:\n",
    "========\n",
    "{clear_message}\n",
    "\n",
    "Encrypted:\n",
    "========\n",
    "{encr_perm}\n",
    "\"\"\"\n",
    ")"
   ]
  },
  {
   "cell_type": "code",
   "execution_count": 26,
   "metadata": {},
   "outputs": [
    {
     "name": "stdout",
     "output_type": "stream",
     "text": [
      "\n",
      "original:\n",
      "========\n",
      "This is a clear message to encrypt and decrypt. I add this to make it longer.\n",
      "\n",
      "Decrypted:\n",
      "=========\n",
      "This is a clear message to encrypt and decrypt. I add this to make it longer.\n",
      "\n"
     ]
    }
   ],
   "source": [
    "decr = perm_key.decrypt(encr_perm)\n",
    "print(\n",
    "    f\"\"\"\n",
    "original:\n",
    "========\n",
    "{clear_message}\n",
    "\n",
    "Decrypted:\n",
    "=========\n",
    "{decr}\n",
    "\"\"\"\n",
    ")"
   ]
  },
  {
   "attachments": {},
   "cell_type": "markdown",
   "metadata": {},
   "source": [
    "##### Adding noise\n"
   ]
  },
  {
   "cell_type": "code",
   "execution_count": 27,
   "metadata": {},
   "outputs": [],
   "source": [
    "from bcbcpy import utils\n"
   ]
  },
  {
   "cell_type": "code",
   "execution_count": 28,
   "metadata": {},
   "outputs": [
    {
     "data": {
      "text/plain": [
       "'Tih5i}st MiosK CaB 3c{lxeAaGrb 1mEeSsvs\\\\a<gjeF 9t$o! :eAnycJrtyqpxt% @aun@d? 0d\"e<c(r]y[pBtc.K mI\\t ?a[d4ds /t%h#iDsg pt-ot cm.aqk?eX \\\\i%t+ xl8ohn:g8ecr~.M'"
      ]
     },
     "execution_count": 28,
     "metadata": {},
     "output_type": "execute_result"
    }
   ],
   "source": [
    "noisy_message = utils.add_noises(clear_message)\n",
    "noisy_message\n"
   ]
  },
  {
   "cell_type": "code",
   "execution_count": 29,
   "metadata": {},
   "outputs": [
    {
     "data": {
      "text/plain": [
       "'This is a clear message to encrypt and decrypt. I add this to make it longer.'"
      ]
     },
     "execution_count": 29,
     "metadata": {},
     "output_type": "execute_result"
    }
   ],
   "source": [
    "utils.remove_noises(noisy_message)\n"
   ]
  },
  {
   "cell_type": "code",
   "execution_count": 30,
   "metadata": {},
   "outputs": [
    {
     "name": "stdout",
     "output_type": "stream",
     "text": [
      "\n",
      "\t\t--- CESAR --\n",
      "Original:\n",
      "========\n",
      "This is a clear message to encrypt and decrypt. I add this to make it longer.\n",
      "\n",
      "Noisy message:\n",
      "=============\n",
      "Tih5i}st MiosK CaB 3c{lxeAaGrb 1mEeSsvs\\a<gjeF 9t$o! :eAnycJrtyqpxt% @aun@d? 0d\"e<c(r]y[pBtc.K mI\t ?a[d4ds /t%h#iDsg pt-ot cm.aqk?eX \\i%t+ xl8ohn:g8ecr~.M\n",
      "\n",
      "Noisy Encrypted:\n",
      "===============\n",
      "Uji6j~tu!NjptL!DbC!4d|myfBbHsc!2nFfTtwt]b=hkfG!:u%p\"!;fBozdKsuzrqyu&!AbvoAe@!1e#f=d)s^z\\qCud/L!nJ\n",
      "!@b\\e5et!0u&i$jEth!qu.pu!dn/brl@fY!]j&u,!ym9pio;h9fds\t/N\n",
      "\n",
      "Noisy Decrypted:\n",
      "===============\n",
      "Tih5i}st MiosK CaB 3c{lxeAaGrb 1mEeSsvs\\a<gjeF 9t$o! :eAnycJrtyqpxt% @aun@d? 0d\"e<c(r]y[pBtc.K mI\t ?a[d4ds /t%h#iDsg pt-ot cm.aqk?eX \\i%t+ xl8ohn:g8ecr~.M\n",
      "\n",
      "\n",
      "Cleaned Decrypted:\n",
      "=================\n",
      "This is a clear message to encrypt and decrypt. I add this to make it longer.\n",
      "\n"
     ]
    }
   ],
   "source": [
    "encr_noisy = cesar_key.encrypt(noisy_message)\n",
    "decr_noisy = cesar_key.decrypt(encr_noisy)\n",
    "decr_without_noise = utils.remove_noises(decr_noisy)\n",
    "\n",
    "print(\n",
    "    f\"\"\"\n",
    "\\t\\t--- CESAR --\n",
    "Original:\n",
    "========\n",
    "{clear_message}\n",
    "\n",
    "Noisy message:\n",
    "=============\n",
    "{noisy_message}\n",
    "\n",
    "Noisy Encrypted:\n",
    "===============\n",
    "{encr_noisy}\n",
    "\n",
    "Noisy Decrypted:\n",
    "===============\n",
    "{decr_noisy}\n",
    "\n",
    "\n",
    "Cleaned Decrypted:\n",
    "=================\n",
    "{decr_without_noise}\n",
    "\"\"\"\n",
    ")"
   ]
  },
  {
   "cell_type": "code",
   "execution_count": 31,
   "metadata": {},
   "outputs": [
    {
     "name": "stdout",
     "output_type": "stream",
     "text": [
      "\n",
      "\t\t--- PERMUTATION ---\n",
      "Original:\n",
      "========\n",
      "This is a clear message to encrypt and decrypt. I add this to make it longer.\n",
      "\n",
      "Noisy message:\n",
      "=============\n",
      "Tih5i}st MiosK CaB 3c{lxeAaGrb 1mEeSsvs\\a<gjeF 9t$o! :eAnycJrtyqpxt% @aun@d? 0d\"e<c(r]y[pBtc.K mI\t ?a[d4ds /t%h#iDsg pt-ot cm.aqk?eX \\i%t+ xl8ohn:g8ecr~.M\n",
      "\n",
      "Noisy Encrypted:\n",
      "===============\n",
      "iThi5}ts iMoKs aCB3 cl{xAearGb1 meESvssa\\<jge F9$to !:AencyJtrypqx%t a@u@nd ?0\"dec<(]ryp[Bct. Km\tI a?[4dd s/%thi#Dgs tp-to mc.qake?X\\ it%+x lo8h:nge8c~r.M\n",
      "\n",
      "Noisy Decrypted:\n",
      "===============\n",
      "Tih5i}st MiosK CaB 3c{lxeAaGrb 1mEeSsvs\\a<gjeF 9t$o! :eAnycJrtyqpxt% @aun@d? 0d\"e<c(r]y[pBtc.K mI\t ?a[d4ds /t%h#iDsg pt-ot cm.aqk?eX \\i%t+ xl8ohn:g8ecr~.M\n",
      "\n",
      "\n",
      "Cleaned Decrypted:\n",
      "=================\n",
      "This is a clear message to encrypt and decrypt. I add this to make it longer.\n",
      "\n"
     ]
    }
   ],
   "source": [
    "encr_noisy = perm_key.encrypt(noisy_message)\n",
    "decr_noisy = perm_key.decrypt(encr_noisy)\n",
    "decr_without_noise = utils.remove_noises(decr_noisy)\n",
    "\n",
    "print(\n",
    "    f\"\"\"\n",
    "\\t\\t--- PERMUTATION ---\n",
    "Original:\n",
    "========\n",
    "{clear_message}\n",
    "\n",
    "Noisy message:\n",
    "=============\n",
    "{noisy_message}\n",
    "\n",
    "Noisy Encrypted:\n",
    "===============\n",
    "{encr_noisy}\n",
    "\n",
    "Noisy Decrypted:\n",
    "===============\n",
    "{decr_noisy}\n",
    "\n",
    "\n",
    "Cleaned Decrypted:\n",
    "=================\n",
    "{decr_without_noise}\n",
    "\"\"\"\n",
    ")"
   ]
  },
  {
   "attachments": {},
   "cell_type": "markdown",
   "metadata": {},
   "source": [
    "#### Asymmetric\n"
   ]
  },
  {
   "attachments": {},
   "cell_type": "markdown",
   "metadata": {},
   "source": [
    "##### RSA\n"
   ]
  },
  {
   "attachments": {},
   "cell_type": "markdown",
   "metadata": {},
   "source": [
    "Security: number factorization complexity\n"
   ]
  },
  {
   "cell_type": "code",
   "execution_count": 32,
   "metadata": {},
   "outputs": [
    {
     "name": "stdout",
     "output_type": "stream",
     "text": [
      "RSAPairKeys((7313, 73), HIDDEN_KEY)\n"
     ]
    }
   ],
   "source": [
    "rsa_key = crypto.rsa_key_demo(chunk_size=5)\n",
    "print(rsa_key)\n"
   ]
  },
  {
   "cell_type": "code",
   "execution_count": 33,
   "metadata": {},
   "outputs": [],
   "source": [
    "from bcbcpy.crypto import read_from_rsa_convert"
   ]
  },
  {
   "cell_type": "code",
   "execution_count": 34,
   "metadata": {},
   "outputs": [
    {
     "data": {
      "text/plain": [
       "'Go,5<j2aa8\"m>ZBd$y?Tb-w\\nGsk,L3\\n4g-\\\\WnzkvSGt#HL AOGz*S&E<;^iGsy4&wIOix|<\\n4h53Q0}AqX0>U~Ne+x '"
      ]
     },
     "execution_count": 34,
     "metadata": {},
     "output_type": "execute_result"
    }
   ],
   "source": [
    "encr_rsa = rsa_key.encrypt(clear_message)\n",
    "read_from_rsa_convert(encr_rsa)\n"
   ]
  },
  {
   "cell_type": "code",
   "execution_count": 35,
   "metadata": {},
   "outputs": [
    {
     "data": {
      "text/plain": [
       "'This is a clear message to encrypt and decrypt. I add this to make it longer.'"
      ]
     },
     "execution_count": 35,
     "metadata": {},
     "output_type": "execute_result"
    }
   ],
   "source": [
    "decr_rsa = rsa_key.decrypt(encr_rsa)\n",
    "read_from_rsa_convert(decr_rsa)\n"
   ]
  },
  {
   "attachments": {},
   "cell_type": "markdown",
   "metadata": {},
   "source": [
    "##### Diffie-Hellman"
   ]
  },
  {
   "attachments": {},
   "cell_type": "markdown",
   "metadata": {},
   "source": [
    "Security: discrete logarithm complexity\n"
   ]
  },
  {
   "attachments": {},
   "cell_type": "markdown",
   "metadata": {},
   "source": [
    "##### ECC\n"
   ]
  },
  {
   "cell_type": "code",
   "execution_count": null,
   "metadata": {},
   "outputs": [],
   "source": []
  },
  {
   "attachments": {},
   "cell_type": "markdown",
   "metadata": {},
   "source": [
    "### Communication & Security\n"
   ]
  },
  {
   "attachments": {},
   "cell_type": "markdown",
   "metadata": {},
   "source": [
    "#### Nodes generation"
   ]
  },
  {
   "cell_type": "code",
   "execution_count": 36,
   "metadata": {},
   "outputs": [],
   "source": [
    "from bcbcpy.node import Node\n"
   ]
  },
  {
   "cell_type": "code",
   "execution_count": 37,
   "metadata": {},
   "outputs": [
    {
     "data": {
      "text/plain": [
       "'user_981013'"
      ]
     },
     "execution_count": 37,
     "metadata": {},
     "output_type": "execute_result"
    }
   ],
   "source": [
    "key = crypto.rsa_key_demo()\n",
    "node = Node(key)\n",
    "node.id"
   ]
  },
  {
   "cell_type": "code",
   "execution_count": 38,
   "metadata": {},
   "outputs": [
    {
     "data": {
      "text/plain": [
       "<bcbcpy.node.Node at 0x108269240>"
      ]
     },
     "execution_count": 38,
     "metadata": {},
     "output_type": "execute_result"
    }
   ],
   "source": [
    "node"
   ]
  },
  {
   "cell_type": "code",
   "execution_count": 39,
   "metadata": {},
   "outputs": [],
   "source": [
    "class RepNode(Node):\n",
    "    def __repr__(self) -> str:\n",
    "        return f\"{self.id} : {self._Node__keys}\"  # type:ignore"
   ]
  },
  {
   "cell_type": "code",
   "execution_count": 40,
   "metadata": {},
   "outputs": [
    {
     "data": {
      "text/plain": [
       "Alice : CesarKey(10, -10)"
      ]
     },
     "execution_count": 40,
     "metadata": {},
     "output_type": "execute_result"
    }
   ],
   "source": [
    "akey = crypto.CesarKey.generate_key()\n",
    "alice = RepNode(akey, \"Alice\")\n",
    "alice\n"
   ]
  },
  {
   "cell_type": "code",
   "execution_count": 41,
   "metadata": {},
   "outputs": [
    {
     "data": {
      "text/plain": [
       "Bob : PermutationKey((1, 2, 7, 6, 4, 5, 10, 3, 8, 9), (1, 2, 8, 5, 6, 4, 3, 9, 10, 7))"
      ]
     },
     "execution_count": 41,
     "metadata": {},
     "output_type": "execute_result"
    }
   ],
   "source": [
    "bkey =  crypto.PermutationKey.generate_key(10)\n",
    "bob = RepNode(username=\"Bob\", keys=bkey)\n",
    "bob"
   ]
  },
  {
   "cell_type": "code",
   "execution_count": 42,
   "metadata": {},
   "outputs": [
    {
     "data": {
      "text/plain": [
       "user_12710 : RSAPairKeys((7313, 73), HIDDEN_KEY)"
      ]
     },
     "execution_count": 42,
     "metadata": {},
     "output_type": "execute_result"
    }
   ],
   "source": [
    "rkey = crypto.rsa_key_demo()\n",
    "random_guy = RepNode(rkey)\n",
    "random_guy"
   ]
  },
  {
   "attachments": {},
   "cell_type": "markdown",
   "metadata": {},
   "source": [
    "#### Communication"
   ]
  },
  {
   "cell_type": "code",
   "execution_count": 43,
   "metadata": {},
   "outputs": [],
   "source": [
    "sender = alice\n",
    "receiver = bob\n",
    "\n",
    "plain_message = (\n",
    "    \"Hello Bob! This is Alice. Please send me $1000 to this account: (1234567890)\"\n",
    ")"
   ]
  },
  {
   "cell_type": "code",
   "execution_count": 44,
   "metadata": {},
   "outputs": [
    {
     "data": {
      "text/plain": [
       "')04687593:( on2tu1ci sotch at100m  $e0  esesdeanlc.e lPiA shsib iT! olol BeH'"
      ]
     },
     "execution_count": 44,
     "metadata": {},
     "output_type": "execute_result"
    }
   ],
   "source": [
    "cipher = sender.encrypt(plain_message, key=receiver.pub)\n",
    "cipher"
   ]
  },
  {
   "cell_type": "code",
   "execution_count": 45,
   "metadata": {},
   "outputs": [
    {
     "data": {
      "text/plain": [
       "'Hello Bob! This is Alice. Please send me $1000 to this account: (1234567890)'"
      ]
     },
     "execution_count": 45,
     "metadata": {},
     "output_type": "execute_result"
    }
   ],
   "source": [
    "receiver.decrypt(cipher)"
   ]
  },
  {
   "cell_type": "markdown",
   "metadata": {},
   "source": [
    "#### Attack"
   ]
  },
  {
   "attachments": {},
   "cell_type": "markdown",
   "metadata": {},
   "source": [
    "##### Reading attack\n"
   ]
  },
  {
   "cell_type": "code",
   "execution_count": 46,
   "metadata": {},
   "outputs": [],
   "source": [
    "hacker = random_guy"
   ]
  },
  {
   "cell_type": "code",
   "execution_count": 47,
   "metadata": {},
   "outputs": [
    {
     "data": {
      "text/plain": [
       "'EEmL\\ni\"\"$=fK<%\\'KxS<te([ejp)k9?kC9OwP\\tgT6;[)T\\nJs_oD%,TB$8J\\nXE$)Cm2u=91&\"|7=ss'"
      ]
     },
     "execution_count": 47,
     "metadata": {},
     "output_type": "execute_result"
    }
   ],
   "source": [
    "crypto.rsa.read_from_rsa_convert(\n",
    "    hacker.decrypt(cipher)\n",
    ")"
   ]
  },
  {
   "cell_type": "code",
   "execution_count": 48,
   "metadata": {},
   "outputs": [
    {
     "data": {
      "text/plain": [
       "'Heoo llB bi ss!ihT  Pll.Aecineds eas e0m  t0e01$aoctc  sih1o2n3(u :t9486750)'"
      ]
     },
     "execution_count": 48,
     "metadata": {},
     "output_type": "execute_result"
    }
   ],
   "source": [
    "hacker.encrypt(cipher, bob.pub)"
   ]
  },
  {
   "attachments": {},
   "cell_type": "markdown",
   "metadata": {},
   "source": [
    "##### Q: what if `bob.pub == bob.priv`?"
   ]
  },
  {
   "attachments": {},
   "cell_type": "markdown",
   "metadata": {},
   "source": [
    "##### Sending attack\n"
   ]
  },
  {
   "cell_type": "code",
   "execution_count": 49,
   "metadata": {},
   "outputs": [],
   "source": [
    "scam_message = (\n",
    "    \"Hello Bob! This is Alice. Please send me $1000 to this account: (0987654321)\"\n",
    ")"
   ]
  },
  {
   "cell_type": "code",
   "execution_count": 50,
   "metadata": {},
   "outputs": [
    {
     "data": {
      "text/plain": [
       "')17534628:( on9tu0ci sotch at100m  $e0  esesdeanlc.e lPiA shsib iT! olol BeH'"
      ]
     },
     "execution_count": 50,
     "metadata": {},
     "output_type": "execute_result"
    }
   ],
   "source": [
    "scam_cipher= random_guy.encrypt(scam_message, key=receiver.pub)\n",
    "scam_cipher"
   ]
  },
  {
   "cell_type": "code",
   "execution_count": 51,
   "metadata": {},
   "outputs": [
    {
     "data": {
      "text/plain": [
       "'Hello Bob! This is Alice. Please send me $1000 to this account: (0987654321)'"
      ]
     },
     "execution_count": 51,
     "metadata": {},
     "output_type": "execute_result"
    }
   ],
   "source": [
    "receiver.decrypt(scam_cipher)"
   ]
  },
  {
   "attachments": {},
   "cell_type": "markdown",
   "metadata": {},
   "source": [
    "### Authentication\n"
   ]
  },
  {
   "attachments": {},
   "cell_type": "markdown",
   "metadata": {},
   "source": [
    "#### Encryption"
   ]
  },
  {
   "cell_type": "code",
   "execution_count": 52,
   "metadata": {},
   "outputs": [
    {
     "data": {
      "text/plain": [
       "\"\\n&*,.-+/)0\\twed(jk'Y_wiejY^wWj'&&cww{[&ww[i[iZ[WdbY$[wbF_7wi^i_Xw_Jxwebebw8[>\""
      ]
     },
     "execution_count": 52,
     "metadata": {},
     "output_type": "execute_result"
    }
   ],
   "source": [
    "signed_message = sender.sign(plain_message) # encrypt with sender.priv\n",
    "cipher_signed = sender.encrypt(signed_message, key=receiver.pub)\n",
    "cipher_signed"
   ]
  },
  {
   "cell_type": "code",
   "execution_count": 53,
   "metadata": {},
   "outputs": [
    {
     "data": {
      "text/plain": [
       "True"
      ]
     },
     "execution_count": 53,
     "metadata": {},
     "output_type": "execute_result"
    }
   ],
   "source": [
    "sender.sign(plain_message) == sender.decrypt(plain_message)"
   ]
  },
  {
   "cell_type": "code",
   "execution_count": 54,
   "metadata": {},
   "outputs": [
    {
     "data": {
      "text/plain": [
       "'C\\n.Yv-/&t)T,)Y,(*+[nw\\'0JUjw\\tkt=dY7\\tYekV|-W_\\\\`^iwHh]jj9ZwewTc&&\\'r8{&&nHKww8CZc[o|\"dw0O[i[T^gibCIF[WO\\\\uwYU&_[$zi)bihM_w7K,Jw^1uJ_i{9)we*\\\\8XxEm3wb\\\\4[bewkp>'"
      ]
     },
     "execution_count": 54,
     "metadata": {},
     "output_type": "execute_result"
    }
   ],
   "source": [
    "with_noise = utils.add_noises(plain_message)\n",
    "signed_with_noise = sender.sign(with_noise) \n",
    "cipher_signed_with_noise = sender.encrypt(signed_with_noise, key=receiver.pub)\n",
    "cipher_signed_with_noise"
   ]
  },
  {
   "attachments": {},
   "cell_type": "markdown",
   "metadata": {},
   "source": [
    "##### Shortcut"
   ]
  },
  {
   "cell_type": "code",
   "execution_count": 55,
   "metadata": {},
   "outputs": [
    {
     "data": {
      "text/plain": [
       "True"
      ]
     },
     "execution_count": 55,
     "metadata": {},
     "output_type": "execute_result"
    }
   ],
   "source": [
    "cipher_signed == sender.sends(plain_message, _to=receiver.pub)"
   ]
  },
  {
   "cell_type": "code",
   "execution_count": 56,
   "metadata": {},
   "outputs": [
    {
     "data": {
      "text/plain": [
       "True"
      ]
     },
     "execution_count": 56,
     "metadata": {},
     "output_type": "execute_result"
    }
   ],
   "source": [
    "cipher_signed == sender.sends(plain_message, _to=receiver)"
   ]
  },
  {
   "cell_type": "code",
   "execution_count": 57,
   "metadata": {},
   "outputs": [
    {
     "data": {
      "text/plain": [
       "\"NoIsYnOiSy>\\n.c9-/&>{U,)rl(*+sTR'0&ojw\\tk,\\\\dYv^Yekt{JW_LH^iw$'rjj\\\\=wew7(z&']D{&&hw9wwThZc[8d@dw/I[i[zwIib\\nEF[WvS^wYsg_[$}I`bi|W_w7eLTw^}1J_iToNwe2?8Xx~%DwbTl[beP;A>NoIsYnOiSy\""
      ]
     },
     "execution_count": 57,
     "metadata": {},
     "output_type": "execute_result"
    }
   ],
   "source": [
    "cipher_signed_with_noise_bis = sender.sends(plain_message, _to=receiver, _with_noises=True)\n",
    "cipher_signed_with_noise_bis"
   ]
  },
  {
   "cell_type": "code",
   "execution_count": 58,
   "metadata": {},
   "outputs": [
    {
     "data": {
      "text/plain": [
       "\">\\n.c9-/&>{U,)rl(*+sTR'0&ojw\\tk,\\\\dYv^Yekt{JW_LH^iw$'rjj\\\\=wew7(z&']D{&&hw9wwThZc[8d@dw/I[i[zwIib\\nEF[WvS^wYsg_[$}I`bi|W_w7eLTw^}1J_iToNwe2?8Xx~%DwbTl[beP;A>\""
      ]
     },
     "execution_count": 58,
     "metadata": {},
     "output_type": "execute_result"
    }
   ],
   "source": [
    "cipher_signed_with_noise_bis[10:-10] # trim NoIsYnOiSy"
   ]
  },
  {
   "cell_type": "code",
   "execution_count": 59,
   "metadata": {},
   "outputs": [
    {
     "data": {
      "text/plain": [
       "False"
      ]
     },
     "execution_count": 59,
     "metadata": {},
     "output_type": "execute_result"
    }
   ],
   "source": [
    "cipher_signed_with_noise == cipher_signed_with_noise_bis[10:-10]"
   ]
  },
  {
   "attachments": {},
   "cell_type": "markdown",
   "metadata": {},
   "source": [
    "##### Q: Do you know why is it `False`?"
   ]
  },
  {
   "attachments": {},
   "cell_type": "markdown",
   "metadata": {},
   "source": [
    "#### Decryption"
   ]
  },
  {
   "cell_type": "code",
   "execution_count": 60,
   "metadata": {},
   "outputs": [
    {
     "data": {
      "text/plain": [
       "'Hello Bob! This is Alice. Please send me $1000 to this account: (1234567890)'"
      ]
     },
     "execution_count": 60,
     "metadata": {},
     "output_type": "execute_result"
    }
   ],
   "source": [
    "signed_message = receiver.decrypt(cipher_signed)\n",
    "receiver.encrypt(signed_message, key=sender.pub)"
   ]
  },
  {
   "cell_type": "code",
   "execution_count": 61,
   "metadata": {},
   "outputs": [
    {
     "data": {
      "text/plain": [
       "'Hello Bob! This is Alice. Please send me $1000 to this account: (1234567890)'"
      ]
     },
     "execution_count": 61,
     "metadata": {},
     "output_type": "execute_result"
    }
   ],
   "source": [
    "signed_message_with_noise = receiver.decrypt(cipher_signed_with_noise)\n",
    "message_with_noise = receiver.encrypt(signed_message_with_noise, key=sender.pub) # unsign\n",
    "utils.remove_noises(message_with_noise)"
   ]
  },
  {
   "cell_type": "code",
   "execution_count": 62,
   "metadata": {},
   "outputs": [
    {
     "data": {
      "text/plain": [
       "'Hello Bob! This is Alice. Please send me $1000 to this account: (1234567890)'"
      ]
     },
     "execution_count": 62,
     "metadata": {},
     "output_type": "execute_result"
    }
   ],
   "source": [
    "trimmed_cipher_signed_with_noise = cipher_signed_with_noise_bis[10:-10]\n",
    "signed_message_with_noise = receiver.decrypt(trimmed_cipher_signed_with_noise)\n",
    "message_with_noise = receiver.encrypt(signed_message_with_noise, key=sender.pub) # unsign\n",
    "utils.remove_noises(message_with_noise)"
   ]
  },
  {
   "attachments": {},
   "cell_type": "markdown",
   "metadata": {},
   "source": [
    "##### Shortcut"
   ]
  },
  {
   "cell_type": "code",
   "execution_count": 63,
   "metadata": {},
   "outputs": [
    {
     "data": {
      "text/plain": [
       "'Hello Bob! This is Alice. Please send me $1000 to this account: (1234567890)'"
      ]
     },
     "execution_count": 63,
     "metadata": {},
     "output_type": "execute_result"
    }
   ],
   "source": [
    "receiver.gets(cipher_signed, _from=sender.pub)"
   ]
  },
  {
   "cell_type": "code",
   "execution_count": 64,
   "metadata": {},
   "outputs": [
    {
     "data": {
      "text/plain": [
       "'Hello Bob! This is Alice. Please send me $1000 to this account: (1234567890)'"
      ]
     },
     "execution_count": 64,
     "metadata": {},
     "output_type": "execute_result"
    }
   ],
   "source": [
    "utils.remove_noises(receiver.gets(cipher_signed_with_noise, _from=sender))"
   ]
  },
  {
   "cell_type": "code",
   "execution_count": 65,
   "metadata": {},
   "outputs": [
    {
     "data": {
      "text/plain": [
       "'Hello Bob! This is Alice. Please send me $1000 to this account: (1234567890)'"
      ]
     },
     "execution_count": 65,
     "metadata": {},
     "output_type": "execute_result"
    }
   ],
   "source": [
    "receiver.gets(cipher_signed_with_noise_bis, _from=sender)"
   ]
  },
  {
   "attachments": {},
   "cell_type": "markdown",
   "metadata": {},
   "source": [
    "#### Attacks"
   ]
  },
  {
   "attachments": {},
   "cell_type": "markdown",
   "metadata": {},
   "source": [
    "##### Reading Attack\n"
   ]
  },
  {
   "cell_type": "code",
   "execution_count": 66,
   "metadata": {},
   "outputs": [
    {
     "data": {
      "text/plain": [
       "'4!4ep{au^m\\\\HzL1EHe0%^osZS;4,JoakCMnv,-e@Q\\\\v<8r\\\\6Lh\\t<%I7XT\\\\Eppo\"T}o\\t%Dk=W<q-6'"
      ]
     },
     "execution_count": 66,
     "metadata": {},
     "output_type": "execute_result"
    }
   ],
   "source": [
    "crypto.read_from_rsa_convert(hacker.decrypt(cipher_signed))"
   ]
  },
  {
   "cell_type": "code",
   "execution_count": 67,
   "metadata": {},
   "outputs": [
    {
     "data": {
      "text/plain": [
       "')04687593:( on2tu1ci sotch at100m  $e0  esesdeanlc.e lPiA shsib iT! olol BeH'"
      ]
     },
     "execution_count": 67,
     "metadata": {},
     "output_type": "execute_result"
    }
   ],
   "source": [
    "hacker.encrypt(cipher_signed, key=sender.pub)"
   ]
  },
  {
   "cell_type": "code",
   "execution_count": 68,
   "metadata": {},
   "outputs": [
    {
     "data": {
      "text/plain": [
       "\">[eewbb8wX_wiix_^JwwFbb$7[Y_d[Ziw[Wiw[&cwwj&[&'{WeYjYwwi_^'e(d)\\tkw0j/*.,-+&\\n\""
      ]
     },
     "execution_count": 68,
     "metadata": {},
     "output_type": "execute_result"
    }
   ],
   "source": [
    "hacker.encrypt(cipher_signed, key=receiver.pub)"
   ]
  },
  {
   "cell_type": "code",
   "execution_count": 69,
   "metadata": {},
   "outputs": [
    {
     "data": {
      "text/plain": [
       "']\\n<q6-D\"W=%Tt\\\\o}pk\"\\\\pXE\\\\\\\\T<o7It\\\\\\\\hL6<%\\\\rve\\\\\\\\Q@n8-,MJCkaoSv,4Z0so^%1;eHLmzH\\\\\\\\{E^up\"a!44e\\n['"
      ]
     },
     "execution_count": 69,
     "metadata": {},
     "output_type": "execute_result"
    }
   ],
   "source": [
    "hacker.sends(cipher_signed, _to=receiver.pub)\n"
   ]
  },
  {
   "cell_type": "code",
   "execution_count": 70,
   "metadata": {},
   "outputs": [
    {
     "data": {
      "text/plain": [
       "'e),>+>oz$k\\thwffR#V;ORo:/hy}d]E>6TykuMWx\\n67oJ[ff\\nFB|ff@Vrf~F/SAb^ffOzzyf,^&yf~/NuGaF{7@,)g'"
      ]
     },
     "execution_count": 70,
     "metadata": {},
     "output_type": "execute_result"
    }
   ],
   "source": [
    "hacker.gets(cipher_signed, _from=alice)\n"
   ]
  },
  {
   "cell_type": "code",
   "execution_count": 71,
   "metadata": {},
   "outputs": [
    {
     "data": {
      "text/plain": [
       "']\\n<q6-D\"W=%Tt\\\\o}pk\"\\\\pXE\\\\\\\\T<o7It\\\\\\\\hL6<%\\\\rve\\\\\\\\Q@n8-,MJCkaoSv,4Z0so^%1;eHLmzH\\\\\\\\{E^up\"a!44e\\n['"
      ]
     },
     "execution_count": 71,
     "metadata": {},
     "output_type": "execute_result"
    }
   ],
   "source": [
    "hacker.gets(cipher_signed, _from=bob)\n"
   ]
  },
  {
   "attachments": {},
   "cell_type": "markdown",
   "metadata": {},
   "source": [
    "##### Sending Attack\n"
   ]
  },
  {
   "cell_type": "code",
   "execution_count": 72,
   "metadata": {},
   "outputs": [
    {
     "name": "stdout",
     "output_type": "stream",
     "text": [
      "\n",
      "Original:\n",
      "========\n",
      "Hello Bob! This is Alice. Please send me $1000 to this account: (1234567890)\n",
      "\n",
      "Scam:\n",
      "=====\n",
      "Hello Bob! This is Alice. Please send me $1000 to this account: (0987654321)\n",
      "\n"
     ]
    }
   ],
   "source": [
    "print(f\"\"\"\n",
    "Original:\n",
    "========\n",
    "{plain_message}\n",
    "\n",
    "Scam:\n",
    "=====\n",
    "{scam_message}\n",
    "\"\"\"\n",
    ")"
   ]
  },
  {
   "cell_type": "code",
   "execution_count": 73,
   "metadata": {},
   "outputs": [
    {
     "data": {
      "text/plain": [
       "'Rovvy*Lyl+*^rs}*s}*Kvsmo8*Zvok}o*}oxn*wo*.;:::*~y*~rs}*kmmy\\tx~D*2:CBA@?>=<;3'"
      ]
     },
     "execution_count": 73,
     "metadata": {},
     "output_type": "execute_result"
    }
   ],
   "source": [
    "non_signed_scam = hacker.encrypt(scam_message, key=receiver.pub)\n",
    "\n",
    "receiver.gets(non_signed_scam, _from=sender)"
   ]
  },
  {
   "cell_type": "code",
   "execution_count": 74,
   "metadata": {},
   "outputs": [
    {
     "data": {
      "text/plain": [
       "'=EJHIGFKNM4D(\\'!L<\"}w&u4|\\'w4\"E4DDy84\\'D 4x&!uy&4yywdy4U}\\n\\nB4|}}45h4&&v\\nV\\n4\"\"y\\\\'"
      ]
     },
     "execution_count": 74,
     "metadata": {},
     "output_type": "execute_result"
    }
   ],
   "source": [
    "non_signed_scam = hacker.encrypt(scam_message, key=sender.pub)\n",
    "\n",
    "receiver.gets(non_signed_scam, _from=sender)"
   ]
  },
  {
   "cell_type": "code",
   "execution_count": 75,
   "metadata": {},
   "outputs": [
    {
     "data": {
      "text/plain": [
       "'e),L1`ffK92>\\\\4B`hBff.pf,EO-AtgnFJJjYBi2C&MiB~B NkA\\tPFn*G\\\\U/yV1B6tK7./ZJ#qLLt\\tf~3##\\t,)g'"
      ]
     },
     "execution_count": 75,
     "metadata": {},
     "output_type": "execute_result"
    }
   ],
   "source": [
    "signed_scam = hacker.sends(scam_message, _to=receiver)\n",
    "\n",
    "receiver.gets(signed_scam, _from=sender)"
   ]
  },
  {
   "attachments": {},
   "cell_type": "markdown",
   "metadata": {},
   "source": [
    "##### Possible Weakness"
   ]
  },
  {
   "cell_type": "code",
   "execution_count": 76,
   "metadata": {},
   "outputs": [
    {
     "data": {
      "text/plain": [
       "\"\\n'-+)*,(.0\\twed/jk&Y_wiejY^wWj'&&cww{[&ww[i[iZ[WdbY$[wbF_7wi^i_Xw_Jxwebebw8[>\""
      ]
     },
     "execution_count": 76,
     "metadata": {},
     "output_type": "execute_result"
    }
   ],
   "source": [
    "_, leaked_sender_priv = akey  # key of alice = expected sender\n",
    "\n",
    "fake_signed_scam = hacker.encrypt(scam_message, leaked_sender_priv)\n",
    "cipher_fake_signed_scam = hacker.encrypt(fake_signed_scam, receiver.pub)\n",
    "cipher_fake_signed_scam"
   ]
  },
  {
   "cell_type": "code",
   "execution_count": 77,
   "metadata": {},
   "outputs": [
    {
     "data": {
      "text/plain": [
       "'Hello Bob! This is Alice. Please send me $1000 to this account: (0987654321)'"
      ]
     },
     "execution_count": 77,
     "metadata": {},
     "output_type": "execute_result"
    }
   ],
   "source": [
    "receiver.gets(cipher_fake_signed_scam, _from=sender)"
   ]
  },
  {
   "attachments": {},
   "cell_type": "markdown",
   "metadata": {},
   "source": [
    "# Blockchain\n"
   ]
  },
  {
   "cell_type": "code",
   "execution_count": 78,
   "metadata": {},
   "outputs": [],
   "source": [
    "from bcbcpy import blockchain"
   ]
  },
  {
   "attachments": {},
   "cell_type": "markdown",
   "metadata": {},
   "source": [
    "## Recap: Data Structure"
   ]
  },
  {
   "attachments": {},
   "cell_type": "markdown",
   "metadata": {},
   "source": [
    "### List - Array"
   ]
  },
  {
   "cell_type": "code",
   "execution_count": null,
   "metadata": {},
   "outputs": [],
   "source": []
  },
  {
   "attachments": {},
   "cell_type": "markdown",
   "metadata": {},
   "source": [
    "### Linked List"
   ]
  },
  {
   "cell_type": "code",
   "execution_count": null,
   "metadata": {},
   "outputs": [],
   "source": []
  },
  {
   "attachments": {},
   "cell_type": "markdown",
   "metadata": {},
   "source": [
    "## Block Data"
   ]
  },
  {
   "cell_type": "code",
   "execution_count": 79,
   "metadata": {},
   "outputs": [],
   "source": [
    "from bcbcpy.blockchain import block"
   ]
  },
  {
   "attachments": {},
   "cell_type": "markdown",
   "metadata": {},
   "source": [
    "### Block"
   ]
  },
  {
   "cell_type": "code",
   "execution_count": null,
   "metadata": {},
   "outputs": [],
   "source": []
  },
  {
   "attachments": {},
   "cell_type": "markdown",
   "metadata": {},
   "source": [
    "### Initial Block"
   ]
  },
  {
   "cell_type": "code",
   "execution_count": null,
   "metadata": {},
   "outputs": [],
   "source": []
  },
  {
   "attachments": {},
   "cell_type": "markdown",
   "metadata": {},
   "source": [
    "## Chain"
   ]
  },
  {
   "attachments": {},
   "cell_type": "markdown",
   "metadata": {},
   "source": [
    "A submodule is available at \n",
    "```python\n",
    "from bcbcpy.blockchain import chain\n",
    "```"
   ]
  },
  {
   "attachments": {},
   "cell_type": "markdown",
   "metadata": {},
   "source": [
    "### Root of a Chain"
   ]
  },
  {
   "cell_type": "code",
   "execution_count": 80,
   "metadata": {},
   "outputs": [
    {
     "data": {
      "text/plain": [
       "'0000a456e7b5a5eb059e721fb431436883143101275c4077f83fe70298f5623d'"
      ]
     },
     "execution_count": 80,
     "metadata": {},
     "output_type": "execute_result"
    }
   ],
   "source": [
    "chain = blockchain.RootChain()\n",
    "chain.hash"
   ]
  },
  {
   "cell_type": "code",
   "execution_count": 81,
   "metadata": {},
   "outputs": [
    {
     "data": {
      "text/plain": [
       "'0000579da420f2b62497716cc60e95a0f7ad46336c42062b7485a27fd91d99f0'"
      ]
     },
     "execution_count": 81,
     "metadata": {},
     "output_type": "execute_result"
    }
   ],
   "source": [
    "initial_data = {\"INITIAL AGREEMENT\": {\"Bob\": 1000, \"Alice\": 500}}\n",
    "\n",
    "initial_data_string = utils.obj2txt(initial_data, indent=4)\n",
    "chain = blockchain.RootChain(initial_data_string, difficulty=4)\n",
    "chain.hash"
   ]
  },
  {
   "cell_type": "markdown",
   "metadata": {},
   "source": [
    "### Normal Chain"
   ]
  },
  {
   "cell_type": "code",
   "execution_count": null,
   "metadata": {},
   "outputs": [],
   "source": []
  },
  {
   "attachments": {},
   "cell_type": "markdown",
   "metadata": {},
   "source": [
    "### Deviated Chain"
   ]
  },
  {
   "cell_type": "code",
   "execution_count": null,
   "metadata": {},
   "outputs": [],
   "source": []
  },
  {
   "attachments": {},
   "cell_type": "markdown",
   "metadata": {},
   "source": [
    "## Transaction\n"
   ]
  },
  {
   "cell_type": "code",
   "execution_count": 82,
   "metadata": {},
   "outputs": [],
   "source": [
    "from bcbcpy.blockchain.block import transaction"
   ]
  },
  {
   "attachments": {},
   "cell_type": "markdown",
   "metadata": {},
   "source": [
    "### Transaction Data"
   ]
  },
  {
   "cell_type": "code",
   "execution_count": 83,
   "metadata": {},
   "outputs": [],
   "source": [
    "coins = 1000\n",
    "sender = RepNode(crypto.rsa_key_demo(), username=\"Bob\")\n",
    "receiver = RepNode(crypto.rsa_key_demo(), username=\"Alice\")\n",
    "transaction_message = (\"\"\"\n",
    "Hello Alice, \n",
    "\n",
    "This is 1000 that you asked me to send last time.\n",
    "\n",
    "Bye,\n",
    "Bob\n",
    "\"\"\"\n",
    ")\n",
    "\n",
    "receiver_id = receiver.id\n",
    "receiver_pub = receiver.pub\n",
    "\n",
    "\n",
    "prev_block = chain.last_block"
   ]
  },
  {
   "cell_type": "code",
   "execution_count": 84,
   "metadata": {},
   "outputs": [
    {
     "name": "stdout",
     "output_type": "stream",
     "text": [
      "{\n",
      "    \"sender_id\": \"Bob\",\n",
      "    \"receiver_id\": \"Alice\",\n",
      "    \"amount\": 1000,\n",
      "    \"prev_hash\": \"0000579da420f2b62497716cc60e95a0f7ad46336c42062b7485a27fd91d99f0\",\n",
      "    \"sender_confirmation\": \"[\\n\\\"5oC:#RTUXN\\\",\\n\\\"=<LRVG\\\",\\n\\\"!<H)\\\\\\\\t@hNjR]I_O{JlCa+SyJ\\\",\\n\\\"!n}6YHVrh-d<^3R&YsY0\\\"\\n]\"\n",
      "}\n"
     ]
    }
   ],
   "source": [
    "transaction_data = transaction.TransactionData(\n",
    "    coins, sender, receiver_id, receiver_pub, prev_block, transaction_message\n",
    ")\n",
    "\n",
    "print(transaction_data)"
   ]
  },
  {
   "attachments": {},
   "cell_type": "markdown",
   "metadata": {},
   "source": [
    "### Transaction Block"
   ]
  },
  {
   "cell_type": "code",
   "execution_count": 85,
   "metadata": {},
   "outputs": [
    {
     "data": {
      "text/plain": [
       "'12d3cfa99e7c680d2303d0749563c9c5e8fa306ad6c843d2faa9a47c08b822bf'"
      ]
     },
     "execution_count": 85,
     "metadata": {},
     "output_type": "execute_result"
    }
   ],
   "source": [
    "transaction_block = blockchain.TransactionBlock(transaction_data)\n",
    "transaction_block.hash\n"
   ]
  },
  {
   "attachments": {},
   "cell_type": "markdown",
   "metadata": {},
   "source": [
    "#### Block Validation"
   ]
  },
  {
   "cell_type": "code",
   "execution_count": 86,
   "metadata": {},
   "outputs": [
    {
     "data": {
      "text/plain": [
       "'0000359194709dd3890902d60e83260c447442fcb83999867ed2535300160952'"
      ]
     },
     "execution_count": 86,
     "metadata": {},
     "output_type": "execute_result"
    }
   ],
   "source": [
    "transaction_block.mine()\n",
    "transaction_block.hash"
   ]
  },
  {
   "attachments": {},
   "cell_type": "markdown",
   "metadata": {},
   "source": [
    "#### Adding to Chain"
   ]
  },
  {
   "cell_type": "code",
   "execution_count": 87,
   "metadata": {},
   "outputs": [],
   "source": [
    "chain.add_block(transaction_block)"
   ]
  },
  {
   "attachments": {},
   "cell_type": "markdown",
   "metadata": {},
   "source": [
    "### Verification\n"
   ]
  },
  {
   "cell_type": "code",
   "execution_count": 88,
   "metadata": {},
   "outputs": [
    {
     "name": "stdout",
     "output_type": "stream",
     "text": [
      "{\n",
      "    \"hash\": \"0000359194709dd3890902d60e83260c447442fcb83999867ed2535300160952\",\n",
      "    \"data\": \"{\\n    \\\"sender_id\\\": \\\"Bob\\\",\\n    \\\"receiver_id\\\": \\\"Alice\\\",\\n    \\\"amount\\\": 1000,\\n    \\\"prev_hash\\\": \\\"0000579da420f2b62497716cc60e95a0f7ad46336c42062b7485a27fd91d99f0\\\",\\n    \\\"sender_confirmation\\\": \\\"[\\\\n\\\\\\\"5oC:#RTUXN\\\\\\\",\\\\n\\\\\\\"=<LRVG\\\\\\\",\\\\n\\\\\\\"!<H)\\\\\\\\\\\\\\\\t@hNjR]I_O{JlCa+SyJ\\\\\\\",\\\\n\\\\\\\"!n}6YHVrh-d<^3R&YsY0\\\\\\\"\\\\n]\\\"\\n}\"\n",
      "}\n"
     ]
    }
   ],
   "source": [
    "print(chain)\n"
   ]
  },
  {
   "cell_type": "code",
   "execution_count": null,
   "metadata": {},
   "outputs": [],
   "source": [
    "\n"
   ]
  },
  {
   "attachments": {},
   "cell_type": "markdown",
   "metadata": {},
   "source": [
    "## Second Transaction\n"
   ]
  },
  {
   "cell_type": "code",
   "execution_count": 89,
   "metadata": {},
   "outputs": [],
   "source": [
    "coins = 500\n",
    "sender = alice\n",
    "receiver = bob\n",
    "transaction_message = (\"\"\"\n",
    "Hi Bob, \n",
    "\n",
    "Please, I am sending you back the 500 because I already had free 500 in my account.\n",
    "\n",
    "Best,\n",
    "Alice.\n",
    "\"\"\"\n",
    ")"
   ]
  },
  {
   "cell_type": "code",
   "execution_count": 90,
   "metadata": {},
   "outputs": [
    {
     "name": "stdout",
     "output_type": "stream",
     "text": [
      "{\n",
      "    \"sender_id\": \"Alice\",\n",
      "    \"receiver_id\": \"Bob\",\n",
      "    \"amount\": 500,\n",
      "    \"prev_hash\": \"0000359194709dd3890902d60e83260c447442fcb83999867ed2535300160952\",\n",
      "    \"sender_confirmation\": \"qvwwwwyfh[lU^Wi^y0wy&&&&)+/'/*-&/ZZ)./&/&(Z,&[.)(,&Y**-**(\\\\YX.)///.,-[Z(+)+)&&',&/+(y\\\"vwwwwylWbk[y0w+&&\\\"vwwwwyh[Y[_l[hUfkXUa[oUlWbk[y0wQvwwwwwwww'\\\"vwwwwwwww(\\\"vwwwwwwww-\\\"vwwwwwwww,\\\"vwwwwwwww*\\\"vwwwwwwww+\\\"vwwwwwwww'&\\\"vwwwwwwww)\\\"vwwwwwwww.\\\"vwwwwwwww/vwwwwS\\\"vwwwwyjhWdiWYj_edwc[iiW][y0wyRd$7bY_i[Rd\\\"[j8RdRd$YjdkYwWwoc&ed_&h+w[[Ww\\\\w^[woZWwZhb?Ww[ikwWY[&^&+w[YXjwWoXwke_aw]Zcd[iwwdWw\\\"b[iW[w?FRd\\\"_Rd8weX>Rdyvs\"\n",
      "}\n"
     ]
    }
   ],
   "source": [
    "receiver_id = receiver.id\n",
    "receiver_pub = receiver.pub\n",
    "prev_block = chain.last_block\n",
    "\n",
    "transaction_data_2 = transaction.TransactionData(\n",
    "    coins, sender, receiver_id, receiver_pub, prev_block, transaction_message\n",
    ")\n",
    "\n",
    "print(transaction_data_2)"
   ]
  },
  {
   "cell_type": "code",
   "execution_count": 91,
   "metadata": {},
   "outputs": [],
   "source": [
    "transaction_block = blockchain.TransactionBlock(transaction_data_2)\n",
    "transaction_block.mine() # validation\n",
    "chain.add_block(transaction_block)"
   ]
  },
  {
   "cell_type": "code",
   "execution_count": null,
   "metadata": {},
   "outputs": [],
   "source": []
  }
 ],
 "metadata": {
  "kernelspec": {
   "display_name": "Python 3",
   "language": "python",
   "name": "python3"
  },
  "language_info": {
   "codemirror_mode": {
    "name": "ipython",
    "version": 3
   },
   "file_extension": ".py",
   "mimetype": "text/x-python",
   "name": "python",
   "nbconvert_exporter": "python",
   "pygments_lexer": "ipython3",
   "version": "3.10.10"
  },
  "orig_nbformat": 4,
  "vscode": {
   "interpreter": {
    "hash": "b0fa6594d8f4cbf19f97940f81e996739fb7646882a419484c72d19e05852a7e"
   }
  }
 },
 "nbformat": 4,
 "nbformat_minor": 2
}
