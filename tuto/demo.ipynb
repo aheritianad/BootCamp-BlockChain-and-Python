{
  "cells": [
    {
      "attachments": {},
      "cell_type": "markdown",
      "metadata": {},
      "source": [
        "This is a demo notebook for the [bcbcpy](https://github.com/aheritianad/BootCamp-BlockChain-and-Python/) package."
      ]
    },
    {
      "cell_type": "code",
      "execution_count": 1,
      "metadata": {},
      "outputs": [],
      "source": [
        "try:\n",
        "    import bcbcpy\n",
        "except ModuleNotFoundError:\n",
        "    import os, sys\n",
        "    sys.path.append(os.path.abspath(\"../src/\"))\n",
        "    import bcbcpy"
      ]
    },
    {
      "attachments": {},
      "cell_type": "markdown",
      "metadata": {},
      "source": [
        "# Cryptography\n"
      ]
    },
    {
      "cell_type": "code",
      "execution_count": 2,
      "metadata": {},
      "outputs": [],
      "source": [
        "from bcbcpy import crypto"
      ]
    },
    {
      "attachments": {},
      "cell_type": "markdown",
      "metadata": {},
      "source": [
        "## Hashing\n"
      ]
    },
    {
      "attachments": {},
      "cell_type": "markdown",
      "metadata": {},
      "source": [
        "### `Hash` function\n"
      ]
    },
    {
      "attachments": {},
      "cell_type": "markdown",
      "metadata": {},
      "source": [
        "$$\\mathfrak{h}: X \\to H$$\n",
        "\n",
        "- $\\mathfrak{h}(x) = \\mathfrak{h}(y)$ *only if* $x=y$.\n",
        "- given $h\\in H$, it is *not easy* to find $x\\in X$ such that $\\mathfrak{h}(x) = h$.\n",
        "\n",
        "In some sense, $\\mathfrak{h}(x)$ is a signature of $x$."
      ]
    },
    {
      "cell_type": "code",
      "execution_count": 3,
      "metadata": {},
      "outputs": [
        {
          "data": {
            "text/plain": [
              "'1370eeaaba7a6c7a234b1f82cc3b6d013a0088fd5e16408300f05b28b0015463'"
            ]
          },
          "execution_count": 3,
          "metadata": {},
          "output_type": "execute_result"
        }
      ],
      "source": [
        "text_to_be_hashed = \"Hello World\"\n",
        "first_hash = crypto.hash_function(text_to_be_hashed, hash_name=crypto.HashName.sha256)\n",
        "first_hash\n"
      ]
    },
    {
      "cell_type": "code",
      "execution_count": 4,
      "metadata": {},
      "outputs": [
        {
          "data": {
            "text/plain": [
              "'e59f8bdf1305e382a4919ccefd613d3eebae612aa4c443f3af2d65663de3b075'"
            ]
          },
          "execution_count": 4,
          "metadata": {},
          "output_type": "execute_result"
        }
      ],
      "source": [
        "crypto.hash_function(text_to_be_hashed + \"!\")\n"
      ]
    },
    {
      "cell_type": "code",
      "execution_count": 5,
      "metadata": {},
      "outputs": [
        {
          "data": {
            "text/plain": [
              "'e59f8bdf1305e382a4919ccefd613d3eebae612aa4c443f3af2d65663de3b075'"
            ]
          },
          "execution_count": 5,
          "metadata": {},
          "output_type": "execute_result"
        }
      ],
      "source": [
        "crypto.hash_function(\"Hello World!\")"
      ]
    },
    {
      "cell_type": "code",
      "execution_count": 6,
      "metadata": {},
      "outputs": [],
      "source": [
        "long_text = \"\"\"\n",
        "Hello everyone!\n",
        "\n",
        "Welcome to this tutorial.\n",
        "I promise that I will do my best to help you.\n",
        "\n",
        "It will be interactive, so please participate as much as you can.\n",
        "\n",
        "Please do not hesitate to ask if there you have questions.\n",
        "\n",
        "Hope you will enjoy it!\n",
        "\n",
        "Cheers!\n",
        "\n",
        "Heritiana.\n",
        "\"\"\"\n"
      ]
    },
    {
      "cell_type": "code",
      "execution_count": 7,
      "metadata": {},
      "outputs": [
        {
          "data": {
            "text/plain": [
              "'0c8359860bef1b26f811bf8448c546c2241c7c695f9b8ee76c1a8bf2d5b2dff3'"
            ]
          },
          "execution_count": 7,
          "metadata": {},
          "output_type": "execute_result"
        }
      ],
      "source": [
        "hash_long = crypto.hash_function(long_text)\n",
        "hash_long\n"
      ]
    },
    {
      "cell_type": "code",
      "execution_count": 8,
      "metadata": {},
      "outputs": [
        {
          "data": {
            "text/plain": [
              "True"
            ]
          },
          "execution_count": 8,
          "metadata": {},
          "output_type": "execute_result"
        }
      ],
      "source": [
        "len(hash_long) == len(first_hash)\n"
      ]
    },
    {
      "attachments": {},
      "cell_type": "markdown",
      "metadata": {},
      "source": [
        "### Validation\n"
      ]
    },
    {
      "cell_type": "code",
      "execution_count": 9,
      "metadata": {},
      "outputs": [
        {
          "data": {
            "text/plain": [
              "False"
            ]
          },
          "execution_count": 9,
          "metadata": {},
          "output_type": "execute_result"
        }
      ],
      "source": [
        "difficulty = 4\n",
        "crypto.is_valid_hash(first_hash, difficulty)\n"
      ]
    },
    {
      "cell_type": "code",
      "execution_count": 10,
      "metadata": {},
      "outputs": [
        {
          "data": {
            "text/plain": [
              "'0000eeaaba7a6c7a234b1f82cc3b6d013a0088fd5e16408300f05b28b0015463'"
            ]
          },
          "execution_count": 10,
          "metadata": {},
          "output_type": "execute_result"
        }
      ],
      "source": [
        "fake_hash = \"0000\" + first_hash[4:]\n",
        "fake_hash"
      ]
    },
    {
      "cell_type": "code",
      "execution_count": 11,
      "metadata": {},
      "outputs": [
        {
          "data": {
            "text/plain": [
              "True"
            ]
          },
          "execution_count": 11,
          "metadata": {},
          "output_type": "execute_result"
        }
      ],
      "source": [
        "crypto.is_valid_hash(fake_hash, difficulty)\n"
      ]
    },
    {
      "attachments": {},
      "cell_type": "markdown",
      "metadata": {},
      "source": [
        "### Nonce\n"
      ]
    },
    {
      "cell_type": "code",
      "execution_count": 12,
      "metadata": {},
      "outputs": [
        {
          "data": {
            "text/plain": [
              "'0000bfe6af4232f78b0c8eba37a6ba6c17b9b8671473b0b82305880be077edd9'"
            ]
          },
          "execution_count": 12,
          "metadata": {},
          "output_type": "execute_result"
        }
      ],
      "source": [
        "second_hash, nonce = crypto.hash_nonce_initializer(\n",
        "    text_to_be_hashed, difficulty=difficulty\n",
        ")\n",
        "second_hash"
      ]
    },
    {
      "cell_type": "code",
      "execution_count": 13,
      "metadata": {},
      "outputs": [
        {
          "data": {
            "text/plain": [
              "107105"
            ]
          },
          "execution_count": 13,
          "metadata": {},
          "output_type": "execute_result"
        }
      ],
      "source": [
        "nonce\n"
      ]
    },
    {
      "cell_type": "code",
      "execution_count": 14,
      "metadata": {},
      "outputs": [
        {
          "data": {
            "text/plain": [
              "True"
            ]
          },
          "execution_count": 14,
          "metadata": {},
          "output_type": "execute_result"
        }
      ],
      "source": [
        "crypto.is_valid_hash(second_hash, difficulty)\n"
      ]
    },
    {
      "cell_type": "code",
      "execution_count": 15,
      "metadata": {},
      "outputs": [
        {
          "data": {
            "text/plain": [
              "'0000bfe6af4232f78b0c8eba37a6ba6c17b9b8671473b0b82305880be077edd9'"
            ]
          },
          "execution_count": 15,
          "metadata": {},
          "output_type": "execute_result"
        }
      ],
      "source": [
        "third_hash = crypto.hash_function(text_to_be_hashed, nonce=nonce)\n",
        "third_hash\n"
      ]
    },
    {
      "cell_type": "code",
      "execution_count": 16,
      "metadata": {},
      "outputs": [
        {
          "data": {
            "text/plain": [
              "True"
            ]
          },
          "execution_count": 16,
          "metadata": {},
          "output_type": "execute_result"
        }
      ],
      "source": [
        "second_hash == third_hash\n"
      ]
    },
    {
      "cell_type": "code",
      "execution_count": 17,
      "metadata": {},
      "outputs": [
        {
          "data": {
            "text/plain": [
              "True"
            ]
          },
          "execution_count": 17,
          "metadata": {},
          "output_type": "execute_result"
        }
      ],
      "source": [
        "forth_hash = crypto.hash_function(text_to_be_hashed, nonce, nonce=\"\")  # type:ignore\n",
        "second_hash == forth_hash"
      ]
    },
    {
      "attachments": {},
      "cell_type": "markdown",
      "metadata": {},
      "source": [
        "### Q: What if such `nonce` does not exist?\n"
      ]
    },
    {
      "attachments": {},
      "cell_type": "markdown",
      "metadata": {},
      "source": [
        "**Think about it.**\n"
      ]
    },
    {
      "attachments": {},
      "cell_type": "markdown",
      "metadata": {},
      "source": [
        "## Crypto\n"
      ]
    },
    {
      "attachments": {},
      "cell_type": "markdown",
      "metadata": {},
      "source": [
        "### `Encryption` & `Decryption`\n"
      ]
    },
    {
      "attachments": {},
      "cell_type": "markdown",
      "metadata": {},
      "source": [
        "$$f\\circ f^{-1} (x) = f^{-1}\\circ f(x) = x,\\ \\forall x$$\n"
      ]
    },
    {
      "cell_type": "code",
      "execution_count": 18,
      "metadata": {},
      "outputs": [],
      "source": [
        "encrypt = lambda x: 2 * x - 1\n",
        "decrypt = lambda x: 0  # TODO to fill"
      ]
    },
    {
      "cell_type": "code",
      "execution_count": 19,
      "metadata": {},
      "outputs": [
        {
          "name": "stdout",
          "output_type": "stream",
          "text": [
            "Oops! fail at 1-th attempt for x = -2486.\n"
          ]
        }
      ],
      "source": [
        "import random\n",
        "try:\n",
        "    for i in range(20):\n",
        "        x = random.randint(-5000, 5000)\n",
        "        assert (\n",
        "            encrypt(decrypt(x)) == decrypt(encrypt(x)) == x\n",
        "        ), f\"Oops! fail at {i+1}-th attempt for x = {x}.\"\n",
        "except AssertionError as e:\n",
        "    print(e)\n",
        "else:\n",
        "    print(\"Congrats! I passes the test.\")"
      ]
    },
    {
      "cell_type": "code",
      "execution_count": 20,
      "metadata": {},
      "outputs": [],
      "source": [
        "clear_message = (\n",
        "    \"This is a clear message to encrypt and decrypt. I add this to make it longer.\"\n",
        ")"
      ]
    },
    {
      "attachments": {},
      "cell_type": "markdown",
      "metadata": {},
      "source": [
        "### Types\n"
      ]
    },
    {
      "attachments": {},
      "cell_type": "markdown",
      "metadata": {},
      "source": [
        "#### Key\n"
      ]
    },
    {
      "attachments": {},
      "cell_type": "markdown",
      "metadata": {},
      "source": [
        "$\\mathcal{F}=\\{ f_\\theta \\:\\ \\theta \\in \\Theta\\}$\n",
        "\n",
        "$\\left(f_{\\theta}\\right) ^{-1} = f_{\\theta^\\prime}$ for some $\\theta^\\prime \\in \\Theta$\n",
        "\n",
        "$\\theta \\in \\Theta$ : key\n"
      ]
    },
    {
      "attachments": {},
      "cell_type": "markdown",
      "metadata": {},
      "source": [
        "#### Symmetric\n"
      ]
    },
    {
      "attachments": {},
      "cell_type": "markdown",
      "metadata": {},
      "source": [
        "Given $f_\\theta$ or $\\theta\\in \\Theta$ (thus $f_\\theta$), one can construct *easily*  $\\left(f_\\theta\\right)^{-1}$."
      ]
    },
    {
      "attachments": {},
      "cell_type": "markdown",
      "metadata": {},
      "source": [
        "From Wikipedia (2023-05-01):\n",
        "\n",
        "*Symmetric-key algorithms are algorithms for cryptography that use the same cryptographic keys for both the encryption of plaintext and the decryption of ciphertext. The keys may be identical, or there may be a simple transformation to go between the two keys.*"
      ]
    },
    {
      "attachments": {},
      "cell_type": "markdown",
      "metadata": {},
      "source": [
        "##### Cesar\n"
      ]
    },
    {
      "attachments": {},
      "cell_type": "markdown",
      "metadata": {},
      "source": [
        "**Idea**: translation\n",
        "\n",
        "$N$ : number of character.  \n",
        "key: $ \\theta \\in  \\mathbb{Z}$  \n",
        "function: $f_\\theta: x \\mod N \\mapsto (x + \\theta) \\mod N$  \n",
        "inverse: $\\theta^\\prime = -\\theta$"
      ]
    },
    {
      "cell_type": "code",
      "execution_count": 21,
      "metadata": {},
      "outputs": [
        {
          "name": "stdout",
          "output_type": "stream",
          "text": [
            "CesarKey(2, -2)\n"
          ]
        }
      ],
      "source": [
        "cesar_key = crypto.CesarKey.generate_key(max_length=2)\n",
        "print(cesar_key)\n"
      ]
    },
    {
      "cell_type": "code",
      "execution_count": 22,
      "metadata": {},
      "outputs": [
        {
          "data": {
            "text/plain": [
              "-6"
            ]
          },
          "execution_count": 22,
          "metadata": {},
          "output_type": "execute_result"
        }
      ],
      "source": [
        "crypto.CesarKey.compute_inverse(6)"
      ]
    },
    {
      "cell_type": "code",
      "execution_count": 23,
      "metadata": {},
      "outputs": [
        {
          "name": "stdout",
          "output_type": "stream",
          "text": [
            "\n",
            "original:\n",
            "========\n",
            "This is a clear message to encrypt and decrypt. I add this to make it longer.\n",
            "\n",
            "Encrypted:\n",
            "========\n",
            "Vjku\"ku\"c\"engct\"oguucig\"vq\"gpet{rv\"cpf\"fget{rv0\"K\"cff\"vjku\"vq\"ocmg\"kv\"nqpigt0\n",
            "\n"
          ]
        }
      ],
      "source": [
        "encr_cesar = cesar_key.encrypt(clear_message)\n",
        "\n",
        "print(\n",
        "    f\"\"\"\n",
        "original:\n",
        "========\n",
        "{clear_message}\n",
        "\n",
        "Encrypted:\n",
        "========\n",
        "{encr_cesar}\n",
        "\"\"\"\n",
        ")"
      ]
    },
    {
      "cell_type": "code",
      "execution_count": 24,
      "metadata": {},
      "outputs": [
        {
          "name": "stdout",
          "output_type": "stream",
          "text": [
            "\n",
            "original:\n",
            "========\n",
            "This is a clear message to encrypt and decrypt. I add this to make it longer.\n",
            "\n",
            "Decrypted:\n",
            "=========\n",
            "This is a clear message to encrypt and decrypt. I add this to make it longer.\n",
            "\n"
          ]
        }
      ],
      "source": [
        "decr = cesar_key.decrypt(encr_cesar)\n",
        "\n",
        "print(\n",
        "    f\"\"\"\n",
        "original:\n",
        "========\n",
        "{clear_message}\n",
        "\n",
        "Decrypted:\n",
        "=========\n",
        "{decr}\n",
        "\"\"\"\n",
        ")"
      ]
    },
    {
      "attachments": {},
      "cell_type": "markdown",
      "metadata": {},
      "source": [
        "##### Permutation\n"
      ]
    },
    {
      "cell_type": "code",
      "execution_count": 25,
      "metadata": {},
      "outputs": [
        {
          "data": {
            "text/plain": [
              "[4, 1, 2, 3]"
            ]
          },
          "execution_count": 25,
          "metadata": {},
          "output_type": "execute_result"
        }
      ],
      "source": [
        "crypto.PermutationKey.compute_inverse([2, 3, 4, 1])"
      ]
    },
    {
      "attachments": {},
      "cell_type": "markdown",
      "metadata": {},
      "source": [
        "###### **Idea1: Chunking**"
      ]
    },
    {
      "attachments": {},
      "cell_type": "markdown",
      "metadata": {},
      "source": [
        "Chunk input with a chunk size equal to permutation length and apply permutation on each chunks."
      ]
    },
    {
      "cell_type": "code",
      "execution_count": 26,
      "metadata": {},
      "outputs": [
        {
          "name": "stdout",
          "output_type": "stream",
          "text": [
            "PermutationKey([3, 2, 1], [3, 2, 1])\n"
          ]
        }
      ],
      "source": [
        "perm_key = crypto.PermutationKey.generate_key(length=3, n_runs=1)\n",
        "print(perm_key)\n"
      ]
    },
    {
      "cell_type": "code",
      "execution_count": 27,
      "metadata": {},
      "outputs": [
        {
          "name": "stdout",
          "output_type": "stream",
          "text": [
            "\n",
            "original:\n",
            "========\n",
            "This is a clear message to encrypt and decrypt. I add this to make it longer.\n",
            "\n",
            "Encrypted:\n",
            "========\n",
            "ihTi sa slc raeem ass eg otcnepyra t dncedpyr .ta I ddihtt sm oekati ol egnr.\n",
            "\n"
          ]
        }
      ],
      "source": [
        "encr_perm = perm_key.encrypt(clear_message)\n",
        "\n",
        "print(\n",
        "    f\"\"\"\n",
        "original:\n",
        "========\n",
        "{clear_message}\n",
        "\n",
        "Encrypted:\n",
        "========\n",
        "{encr_perm}\n",
        "\"\"\"\n",
        ")"
      ]
    },
    {
      "cell_type": "code",
      "execution_count": 28,
      "metadata": {},
      "outputs": [
        {
          "name": "stdout",
          "output_type": "stream",
          "text": [
            "\n",
            "original:\n",
            "========\n",
            "This is a clear message to encrypt and decrypt. I add this to make it longer.\n",
            "\n",
            "Decrypted:\n",
            "=========\n",
            "This is a clear message to encrypt and decrypt. I add this to make it longer.\n",
            "\n"
          ]
        }
      ],
      "source": [
        "decr = perm_key.decrypt(encr_perm)\n",
        "print(\n",
        "    f\"\"\"\n",
        "original:\n",
        "========\n",
        "{clear_message}\n",
        "\n",
        "Decrypted:\n",
        "=========\n",
        "{decr}\n",
        "\"\"\"\n",
        ")"
      ]
    },
    {
      "attachments": {},
      "cell_type": "markdown",
      "metadata": {},
      "source": [
        "###### **Idea2: Sliding**"
      ]
    },
    {
      "attachments": {},
      "cell_type": "markdown",
      "metadata": {},
      "source": [
        "One can think about sliding the permutation like the following.\n",
        "\n",
        "Suppose we have the following permutation\n",
        "$$\\theta: \\begin{cases}1\\mapsto 3\\\\ 2\\mapsto 2\\\\ 3\\mapsto 1\\end{cases}$$\n",
        "and input `abcdefgh`.\n",
        "\n",
        "- `input = abcdefgh`\n",
        "- `abc defgh` $\\to$ `cba defgh`\n",
        "- `c bad efgh` $\\to$ `c dab efgh`\n",
        "- `cd abe fgh` $\\to$ `cd eba fgh`\n",
        "- `cde baf gh` $\\to$ `cde fab gh`\n",
        "- `cdef abg h` $\\to$ `cdef gba h`\n",
        "- `cdefg bah` $\\to$ `cdefg hab`\n",
        "- `output = cdefghab`\n",
        "\n",
        "⚠️: the same process does not bring back `input` from output  \n",
        "It can be fixed by doing a tricky thing to the *previous output* to get the *final output*.  \n",
        "You can think about it and its implementation."
      ]
    },
    {
      "attachments": {},
      "cell_type": "markdown",
      "metadata": {},
      "source": [
        "##### Adding noise\n"
      ]
    },
    {
      "cell_type": "code",
      "execution_count": 29,
      "metadata": {},
      "outputs": [],
      "source": [
        "from bcbcpy import utils\n"
      ]
    },
    {
      "cell_type": "code",
      "execution_count": 30,
      "metadata": {},
      "outputs": [
        {
          "data": {
            "text/plain": [
              "\"T|hpi[s- 7iGse +a< 4c}lxeVarrq jmUeysQs<aBg,eR {t$o+ Gekn/cmrWyCpNt% `a,n@dB /d$e8c<rZyBp^t\\n., [IB 'a\\\\d.dM Ht)hmiHsK ~t^of Tmda4k1eg NiytU lleojnWg ewrq.3\""
            ]
          },
          "execution_count": 30,
          "metadata": {},
          "output_type": "execute_result"
        }
      ],
      "source": [
        "noisy_message = utils.add_noises(clear_message)\n",
        "noisy_message\n"
      ]
    },
    {
      "cell_type": "code",
      "execution_count": 31,
      "metadata": {},
      "outputs": [
        {
          "data": {
            "text/plain": [
              "'This is a clear message to encrypt and decrypt. I add this to make it longer.'"
            ]
          },
          "execution_count": 31,
          "metadata": {},
          "output_type": "execute_result"
        }
      ],
      "source": [
        "noisy_message[::2]"
      ]
    },
    {
      "cell_type": "code",
      "execution_count": 32,
      "metadata": {},
      "outputs": [
        {
          "data": {
            "text/plain": [
              "'This is a clear message to encrypt and decrypt. I add this to make it longer.'"
            ]
          },
          "execution_count": 32,
          "metadata": {},
          "output_type": "execute_result"
        }
      ],
      "source": [
        "utils.remove_noises(noisy_message)\n"
      ]
    },
    {
      "cell_type": "code",
      "execution_count": 33,
      "metadata": {},
      "outputs": [
        {
          "name": "stdout",
          "output_type": "stream",
          "text": [
            "\n",
            "\t\t--- CESAR --\n",
            "Original:\n",
            "========\n",
            "This is a clear message to encrypt and decrypt. I add this to make it longer.\n",
            "\n",
            "Noisy message:\n",
            "=============\n",
            "T|hpi[s- 7iGse +a< 4c}lxeVarrq jmUeysQs<aBg,eR {t$o+ Gekn/cmrWyCpNt% `a,n@dB /d$e8c<rZyBp^t\n",
            "., [IB 'a\\d.dM Ht)hmiHsK ~t^of Tmda4k1eg NiytU lleojnWg ewrq.3\n",
            "\n",
            "Noisy Encrypted:\n",
            "===============\n",
            "V~jrk]u/\"9kIug\"-c>\"6e\tnzgXctts\"loWg{uSu>cDi.gT\"}v&q-\"Igmp1eotY{ErPv'\"bc.pBfD\"1f&g:e>t\\{Dr`v!0.\"]KD\")c^f0fO\"Jv+jokJuM\"\n",
            "v`qh\"Vofc6m3gi\"Pk{vW\"nngqlpYi\"gyts05\n",
            "\n",
            "Noisy Decrypted:\n",
            "===============\n",
            "T|hpi[s- 7iGse +a< 4c}lxeVarrq jmUeysQs<aBg,eR {t$o+ Gekn/cmrWyCpNt% `a,n@dB /d$e8c<rZyBp^t\n",
            "., [IB 'a\\d.dM Ht)hmiHsK ~t^of Tmda4k1eg NiytU lleojnWg ewrq.3\n",
            "\n",
            "Cleaned Decrypted:\n",
            "=================\n",
            "This is a clear message to encrypt and decrypt. I add this to make it longer.\n",
            "\n"
          ]
        }
      ],
      "source": [
        "encr_noisy = cesar_key.encrypt(noisy_message)\n",
        "decr_noisy = cesar_key.decrypt(encr_noisy)\n",
        "decr_without_noise = utils.remove_noises(decr_noisy)\n",
        "\n",
        "print(\n",
        "    f\"\"\"\n",
        "\\t\\t--- CESAR --\n",
        "Original:\n",
        "========\n",
        "{clear_message}\n",
        "\n",
        "Noisy message:\n",
        "=============\n",
        "{noisy_message}\n",
        "\n",
        "Noisy Encrypted:\n",
        "===============\n",
        "{encr_noisy}\n",
        "\n",
        "Noisy Decrypted:\n",
        "===============\n",
        "{decr_noisy}\n",
        "\n",
        "Cleaned Decrypted:\n",
        "=================\n",
        "{decr_without_noise}\n",
        "\"\"\"\n",
        ")"
      ]
    },
    {
      "cell_type": "code",
      "execution_count": 34,
      "metadata": {},
      "outputs": [
        {
          "name": "stdout",
          "output_type": "stream",
          "text": [
            "\n",
            "\t\t--- PERMUTATION ---\n",
            "Original:\n",
            "========\n",
            "This is a clear message to encrypt and decrypt. I add this to make it longer.\n",
            "\n",
            "Noisy message:\n",
            "=============\n",
            "T|hpi[s- 7iGse +a< 4c}lxeVarrq jmUeysQs<aBg,eR {t$o+ Gekn/cmrWyCpNt% `a,n@dB /d$e8c<rZyBp^t\n",
            "., [IB 'a\\d.dM Ht)hmiHsK ~t^of Tmda4k1eg NiytU lleojnWg ewrq.3\n",
            "\n",
            "Noisy Encrypted:\n",
            "===============\n",
            "h|T[ip -sGi7 es<a+c4 xl}aVeqrrmj yeUsQsBa<e,g{ Ro$tG +nkemc/yWrNpC %t,a`d@n/ Be$d<c8yZr^pB.\n",
            "t[ , BI\\a'd.dH Mh)tHim Ks^t~ fodmTk4age1iN Utyll joegWnwe .qr3\n",
            "\n",
            "Noisy Decrypted:\n",
            "===============\n",
            "T|hpi[s- 7iGse +a< 4c}lxeVarrq jmUeysQs<aBg,eR {t$o+ Gekn/cmrWyCpNt% `a,n@dB /d$e8c<rZyBp^t\n",
            "., [IB 'a\\d.dM Ht)hmiHsK ~t^of Tmda4k1eg NiytU lleojnWg ewrq.3\n",
            "\n",
            "Cleaned Decrypted:\n",
            "=================\n",
            "This is a clear message to encrypt and decrypt. I add this to make it longer.\n",
            "\n"
          ]
        }
      ],
      "source": [
        "encr_noisy = perm_key.encrypt(noisy_message)\n",
        "decr_noisy = perm_key.decrypt(encr_noisy)\n",
        "decr_without_noise = utils.remove_noises(decr_noisy)\n",
        "\n",
        "print(\n",
        "    f\"\"\"\n",
        "\\t\\t--- PERMUTATION ---\n",
        "Original:\n",
        "========\n",
        "{clear_message}\n",
        "\n",
        "Noisy message:\n",
        "=============\n",
        "{noisy_message}\n",
        "\n",
        "Noisy Encrypted:\n",
        "===============\n",
        "{encr_noisy}\n",
        "\n",
        "Noisy Decrypted:\n",
        "===============\n",
        "{decr_noisy}\n",
        "\n",
        "Cleaned Decrypted:\n",
        "=================\n",
        "{decr_without_noise}\n",
        "\"\"\"\n",
        ")"
      ]
    },
    {
      "attachments": {},
      "cell_type": "markdown",
      "metadata": {},
      "source": [
        "#### Asymmetric: Public-key cryptography\n"
      ]
    },
    {
      "attachments": {},
      "cell_type": "markdown",
      "metadata": {},
      "source": [
        "Knowing $f_\\theta$ or $\\theta\\in \\Theta$ (thus $f_\\theta$) does **NOT** make the construction of $\\left(f_\\theta\\right)^{-1}$ (thus $\\theta^\\prime$) *easy*."
      ]
    },
    {
      "attachments": {},
      "cell_type": "markdown",
      "metadata": {},
      "source": [
        "From Wikipedia (2023-05-01):\n",
        "\n",
        "*Public-key cryptography, or asymmetric cryptography, is the field of cryptographic systems that use pairs of related keys. Each key pair consists of a public key and a corresponding private key. Key pairs are generated with cryptographic algorithms based on mathematical problems termed one-way functions. Security of public-key cryptography depends on keeping the private key secret; the public key can be openly distributed without compromising security.*"
      ]
    },
    {
      "attachments": {},
      "cell_type": "markdown",
      "metadata": {},
      "source": [
        "##### Rivest–Shamir–Adleman aka RSA\n",
        "\n",
        "([wikipedia](https://en.wikipedia.org/wiki/RSA_(cryptosystem)))"
      ]
    },
    {
      "attachments": {},
      "cell_type": "markdown",
      "metadata": {},
      "source": [
        "$\\Theta \\approx \\mathbb{N} \\times \\mathbb{N}$  \n",
        "public key: $\\theta = (n,d)$  \n",
        "private key: $\\theta^\\prime = (n,e)$  \n",
        "function: $f_{(n,a)}: x\\mod n \\mapsto x^a \\mod n$\n",
        "\n",
        "**Construction**:  \n",
        "\n",
        "1. Generate two primes $p,q$.\n",
        "2. Compute $n=p\\times q$.\n",
        "3. Compute $\\varphi(n) = (p-1)*(q-1)$.\n",
        "4. Find $d$ such that $\\gcd\\left( d, \\varphi(n)\\right) = 1$.\n",
        "5. Find $e$ such that $de + u\\varphi(n)=1$ for some $u\\in \\mathbb{Z}$.\n",
        "6. Discard $p,q,\\varphi(n)$ and $u$ *(for security)*.\n",
        "\n",
        "Note: [4.] and [5.] can be done easily and at once with the extended Euclidean algorithm."
      ]
    },
    {
      "attachments": {},
      "cell_type": "markdown",
      "metadata": {},
      "source": [
        "**:warning: Security**: number factorization complexity\n",
        "\n",
        "For large composite number $n$, computing $\\varphi(n)$ is not *easy* without knowing its prime factors."
      ]
    },
    {
      "cell_type": "code",
      "execution_count": 35,
      "metadata": {},
      "outputs": [
        {
          "name": "stdout",
          "output_type": "stream",
          "text": [
            "RSAPairKeys((7313, 4997), HIDDEN_KEY)\n"
          ]
        }
      ],
      "source": [
        "rsa_key = crypto.RSAPairKeys.generate_pairs(chunk_size=5)\n",
        "print(rsa_key)"
      ]
    },
    {
      "cell_type": "code",
      "execution_count": 36,
      "metadata": {},
      "outputs": [
        {
          "data": {
            "text/plain": [
              "((7313, 4997), (7313, 713))"
            ]
          },
          "execution_count": 36,
          "metadata": {},
          "output_type": "execute_result"
        }
      ],
      "source": [
        "rsa_pub, rsa_priv = rsa_key\n",
        "rsa_pub, rsa_priv"
      ]
    },
    {
      "cell_type": "code",
      "execution_count": 37,
      "metadata": {},
      "outputs": [
        {
          "data": {
            "text/plain": [
              "'[\\n\"<rsachunkrsa>/8Q&j></rsachunkrsa>\",\\n\"<rsachunkrsa>-z0NOf</rsachunkrsa>\",\\n\"<rsachunkrsa>- OcF\\\\\"</rsachunkrsa>\",\\n\"<rsachunkrsa>2\\\\\"gyi[</rsachunkrsa>\",\\n\"<rsachunkrsa>D[_\\\\niH</rsachunkrsa>\",\\n\"<rsachunkrsa>*t]H!\\'</rsachunkrsa>\",\\n\"<rsachunkrsa>,@d_hq</rsachunkrsa>\",\\n\"<rsachunkrsa>D[I[nX</rsachunkrsa>\",\\n\"<rsachunkrsa>-f)$k;</rsachunkrsa>\",\\n\"<rsachunkrsa>8QgG-O</rsachunkrsa>\",\\n\"<rsachunkrsa>D[Kbx7</rsachunkrsa>\",\\n\"<rsachunkrsa>Foo\\'r</rsachunkrsa>\",\\n\"<rsachunkrsa>*tQXs </rsachunkrsa>\",\\n\"<rsachunkrsa>$9@Ab(</rsachunkrsa>\",\\n\"<rsachunkrsa>G<qgCv</rsachunkrsa>\",\\n\"<rsachunkrsa>\\\\nKd</rsachunkrsa>\"\\n]'"
            ]
          },
          "execution_count": 37,
          "metadata": {},
          "output_type": "execute_result"
        }
      ],
      "source": [
        "encr_rsa = rsa_key.encrypt(clear_message)\n",
        "encr_rsa"
      ]
    },
    {
      "cell_type": "code",
      "execution_count": 38,
      "metadata": {},
      "outputs": [
        {
          "data": {
            "text/plain": [
              "'[\\n\"<rsachunkrsa>This </rsachunkrsa>\",\\n\"<rsachunkrsa>is a </rsachunkrsa>\",\\n\"<rsachunkrsa>clear</rsachunkrsa>\",\\n\"<rsachunkrsa> mess</rsachunkrsa>\",\\n\"<rsachunkrsa>age t</rsachunkrsa>\",\\n\"<rsachunkrsa>o enc</rsachunkrsa>\",\\n\"<rsachunkrsa>rypt </rsachunkrsa>\",\\n\"<rsachunkrsa>and d</rsachunkrsa>\",\\n\"<rsachunkrsa>ecryp</rsachunkrsa>\",\\n\"<rsachunkrsa>t. I </rsachunkrsa>\",\\n\"<rsachunkrsa>add t</rsachunkrsa>\",\\n\"<rsachunkrsa>his t</rsachunkrsa>\",\\n\"<rsachunkrsa>o mak</rsachunkrsa>\",\\n\"<rsachunkrsa>e it </rsachunkrsa>\",\\n\"<rsachunkrsa>longe</rsachunkrsa>\",\\n\"<rsachunkrsa>r.</rsachunkrsa>\"\\n]'"
            ]
          },
          "execution_count": 38,
          "metadata": {},
          "output_type": "execute_result"
        }
      ],
      "source": [
        "decr_rsa = rsa_key.decrypt(encr_rsa)\n",
        "decr_rsa\n"
      ]
    },
    {
      "cell_type": "code",
      "execution_count": 39,
      "metadata": {},
      "outputs": [],
      "source": [
        "from bcbcpy.crypto import read_from_rsa"
      ]
    },
    {
      "cell_type": "code",
      "execution_count": 40,
      "metadata": {},
      "outputs": [
        {
          "data": {
            "text/plain": [
              "'/8Q&j>-z0NOf- OcF\"2\"gyi[D[_\\niH*t]H!\\',@d_hqD[I[nX-f)$k;8QgG-OD[Kbx7Foo\\'r*tQXs $9@Ab(G<qgCv\\nKd'"
            ]
          },
          "execution_count": 40,
          "metadata": {},
          "output_type": "execute_result"
        }
      ],
      "source": [
        "read_from_rsa(encr_rsa)"
      ]
    },
    {
      "cell_type": "code",
      "execution_count": 41,
      "metadata": {},
      "outputs": [
        {
          "data": {
            "text/plain": [
              "'This is a clear message to encrypt and decrypt. I add this to make it longer.'"
            ]
          },
          "execution_count": 41,
          "metadata": {},
          "output_type": "execute_result"
        }
      ],
      "source": [
        "read_from_rsa(decr_rsa)"
      ]
    },
    {
      "cell_type": "code",
      "execution_count": 42,
      "metadata": {},
      "outputs": [
        {
          "data": {
            "text/plain": [
              "'[\\n\"<rsachunkrsa>=#_GmL)M6SsjvN*{G(oK(czX9f`Nr$7:m~) !W1=evK\\\\n\\\\tz2!leC\\\\\\\\fHWw7-sTkvQ9ATd^/:i|RQ{WS*</rsachunkrsa>\"\\n]'"
            ]
          },
          "execution_count": 42,
          "metadata": {},
          "output_type": "execute_result"
        }
      ],
      "source": [
        "rsa_key = crypto.RSAPairKeys.generate_pairs()\n",
        "encr_rsa = rsa_key.encrypt(clear_message)\n",
        "encr_rsa"
      ]
    },
    {
      "cell_type": "code",
      "execution_count": 43,
      "metadata": {},
      "outputs": [
        {
          "data": {
            "text/plain": [
              "'[\\n\"<rsachunkrsa>This is a clear message to encrypt and decrypt. I add this to make it longer.</rsachunkrsa>\"\\n]'"
            ]
          },
          "execution_count": 43,
          "metadata": {},
          "output_type": "execute_result"
        }
      ],
      "source": [
        "decr_rsa = rsa_key.decrypt(encr_rsa)\n",
        "decr_rsa"
      ]
    },
    {
      "attachments": {},
      "cell_type": "markdown",
      "metadata": {},
      "source": [
        "##### Diffie–Hellman key exchange"
      ]
    },
    {
      "attachments": {},
      "cell_type": "markdown",
      "metadata": {},
      "source": [
        "1. The network will:\n",
        "   - choose a shared group $(G,*)$,\n",
        "   - an element $g\\in G$,\n",
        "   - and compute $ord(g) \\in \\mathbb{N}$ for which is the smallest where $ord(g)\\cdot g := \\underbrace{g*g*\\cdots*g}_{ord(g) \\text{ times}}$ is equal to the neutral element of $G$.\n",
        "2. For each $i$ in the network:\n",
        "   - Choose $\\theta^\\prime_i \\in \\mathbb{N}$ such that $\\theta^\\prime_i < ord(g)$.  \n",
        "   - Compute $f_{\\theta_i} = \\theta^\\prime_i \\dot g$.\n",
        "   - Publish $f_{\\theta_i}$ and keep $\\theta^\\prime_i$ secret.\n",
        "\n",
        "If $i$ wants to send a message $m$ to $j$, he will proceed as follows:\n",
        "\n",
        "1. retrieve $f_{\\theta_j}$,\n",
        "2. compute $P_{ij} := \\theta_i \\cdot f_{\\theta_j}$,\n",
        "3. encrypt $m$ with $P_{ij}$ (like the symmetric fashion),\n",
        "4. send encrypted message $m_{ij}$ to $j$.\n",
        "\n",
        "When $j$ receives $m_{ij}$, he will:\n",
        "\n",
        "1. retrieve $f_{\\theta_i}$,\n",
        "2. compute $P_{ji} := \\theta_j \\cdot f_{\\theta_i}$,\n",
        "3. decrypt $m_{ij}$ with $P_{ji}$.\n",
        "   \n",
        "Note:\n",
        "$$ \\begin{align*}\n",
        "P_{ij} \n",
        "&= \\theta_i \\cdot f_{\\theta_j}&\\\\\n",
        "&= \\underbrace{f_{\\theta_j}*\\cdots*f_{\\theta_j}}_{\\theta_i \\text{ times}}&\\\\\n",
        "&= \\underbrace{\\left(\\underbrace{g*\\cdots*g}_{\\theta_j \\text{ times}}\\right)*\\cdots*\\left(\\underbrace{g*\\cdots*g}_{\\theta_j \\text{ times}}\\right)}_{\\theta_i \\text{ times}}&\\\\\n",
        "&= \\underbrace{g*\\cdots*g}_{\\theta_i\\theta_j \\text{ times}}&\\\\\n",
        "&= \\underbrace{\\left(\\underbrace{g*\\cdots*g}_{\\theta_j \\text{ times}}\\right)*\\cdots*\\left(\\underbrace{g*\\cdots*g}_{\\theta_i \\text{ times}}\\right)}_{\\theta_j \\text{ times}}&\\\\\n",
        "&= \\underbrace{f_{\\theta_j}*\\cdots*f_{\\theta_i}}_{\\theta_j \\text{ times}}&\\\\\n",
        "&= \\theta_j \\cdot f_{\\theta_i}&\\\\\n",
        "&= P_{ji}&\n",
        "\\end{align*}$$"
      ]
    },
    {
      "attachments": {},
      "cell_type": "markdown",
      "metadata": {},
      "source": [
        "<p style=\"text-align: center;\">\n",
        "<img src=\"https://upload.wikimedia.org/wikipedia/commons/4/46/Diffie-Hellman_Key_Exchange.svg\">\n",
        "</p>"
      ]
    },
    {
      "attachments": {},
      "cell_type": "markdown",
      "metadata": {},
      "source": [
        "**⚠️ Security**: *discrete logarithm*\n",
        "\n",
        "For some group ([Diffie-Hellman Group](https://www.ibm.com/docs/en/zos/2.3.0?topic=SSLTBW_2.3.0%2Fcom.ibm.tcp.ipsec.ipsec.help.doc%2Fcom%2Fibm%2Ftcp%2Fipsec%2Fipsec%2FPS_DT_Adv_PFS.CB_Initiate.html)), knowing the value of $g$ and $n \\cdot g$ does not lead to $n$ *easily*."
      ]
    },
    {
      "cell_type": "code",
      "execution_count": 44,
      "metadata": {},
      "outputs": [],
      "source": [
        "# coming soon"
      ]
    },
    {
      "attachments": {},
      "cell_type": "markdown",
      "metadata": {},
      "source": [
        "##### Elliptic Curve Cryptography\n"
      ]
    },
    {
      "attachments": {},
      "cell_type": "markdown",
      "metadata": {},
      "source": [
        "[ECC](https://en.wikipedia.org/wiki/Elliptic-curve_cryptography) use the DH key exchange with Where the group $G$ is an [elliptic curve over finite fields](https://en.wikipedia.org/wiki/Elliptic_curve#Elliptic_curves_over_finite_fields)."
      ]
    },
    {
      "cell_type": "code",
      "execution_count": 45,
      "metadata": {},
      "outputs": [],
      "source": [
        "# coming soon"
      ]
    },
    {
      "attachments": {},
      "cell_type": "markdown",
      "metadata": {},
      "source": [
        "### Communication & Security\n"
      ]
    },
    {
      "attachments": {},
      "cell_type": "markdown",
      "metadata": {},
      "source": [
        "#### Nodes generation"
      ]
    },
    {
      "cell_type": "code",
      "execution_count": 46,
      "metadata": {},
      "outputs": [],
      "source": [
        "from bcbcpy.node import Node\n"
      ]
    },
    {
      "cell_type": "code",
      "execution_count": 47,
      "metadata": {},
      "outputs": [
        {
          "data": {
            "text/plain": [
              "'user_87224'"
            ]
          },
          "execution_count": 47,
          "metadata": {},
          "output_type": "execute_result"
        }
      ],
      "source": [
        "key = crypto.RSAPairKeys.generate_pairs()\n",
        "node = Node(key)\n",
        "node.id"
      ]
    },
    {
      "cell_type": "code",
      "execution_count": 48,
      "metadata": {},
      "outputs": [
        {
          "data": {
            "text/plain": [
              "<bcbcpy.node.Node at 0x107319d50>"
            ]
          },
          "execution_count": 48,
          "metadata": {},
          "output_type": "execute_result"
        }
      ],
      "source": [
        "node"
      ]
    },
    {
      "cell_type": "code",
      "execution_count": 49,
      "metadata": {},
      "outputs": [],
      "source": [
        "class RepNode(Node):\n",
        "    def __repr__(self) -> str:\n",
        "        return f\"{self.id} : {self._Node__keys}\"  # type:ignore"
      ]
    },
    {
      "cell_type": "code",
      "execution_count": 50,
      "metadata": {},
      "outputs": [
        {
          "data": {
            "text/plain": [
              "Alice : RSAPairKeys((7313, 4349), HIDDEN_KEY)"
            ]
          },
          "execution_count": 50,
          "metadata": {},
          "output_type": "execute_result"
        }
      ],
      "source": [
        "akey = crypto.RSAPairKeys.generate_pairs()\n",
        "alice = RepNode(akey, \"Alice\")\n",
        "alice\n"
      ]
    },
    {
      "cell_type": "code",
      "execution_count": 51,
      "metadata": {},
      "outputs": [
        {
          "data": {
            "text/plain": [
              "Bob : RSAPairKeys((7313, 2557), HIDDEN_KEY)"
            ]
          },
          "execution_count": 51,
          "metadata": {},
          "output_type": "execute_result"
        }
      ],
      "source": [
        "bkey =  crypto.RSAPairKeys.generate_pairs()\n",
        "bob = RepNode(username=\"Bob\", keys=bkey)\n",
        "bob"
      ]
    },
    {
      "cell_type": "code",
      "execution_count": 52,
      "metadata": {},
      "outputs": [
        {
          "data": {
            "text/plain": [
              "user_518690 : RSAPairKeys((7313, 4877), HIDDEN_KEY)"
            ]
          },
          "execution_count": 52,
          "metadata": {},
          "output_type": "execute_result"
        }
      ],
      "source": [
        "rkey = crypto.RSAPairKeys.generate_pairs()\n",
        "random_guy = RepNode(rkey)\n",
        "random_guy"
      ]
    },
    {
      "attachments": {},
      "cell_type": "markdown",
      "metadata": {},
      "source": [
        "#### Communication"
      ]
    },
    {
      "cell_type": "code",
      "execution_count": 53,
      "metadata": {},
      "outputs": [],
      "source": [
        "sender = alice\n",
        "receiver = bob\n",
        "\n",
        "plain_message = (\n",
        "    \"Hello Bob! This is Alice. Please send me $1000 to this account: (1234567890)\"\n",
        ")"
      ]
    },
    {
      "cell_type": "code",
      "execution_count": 54,
      "metadata": {},
      "outputs": [
        {
          "data": {
            "text/plain": [
              "\"Fy|R5/pTP&v{ktMTfht8 Q&GG_|2^wU0o\\\\!*{U8DZYb,7,/8C 2Z$k1';3b=Wg-:kBC5EN,wE~#W\""
            ]
          },
          "execution_count": 54,
          "metadata": {},
          "output_type": "execute_result"
        }
      ],
      "source": [
        "cipher = sender.encrypt(plain_message, key=receiver.pub)\n",
        "out = cipher\n",
        "if isinstance(receiver.pub, crypto.RSAKey):\n",
        "    out = read_from_rsa(out)\n",
        "out"
      ]
    },
    {
      "cell_type": "code",
      "execution_count": 55,
      "metadata": {},
      "outputs": [
        {
          "data": {
            "text/plain": [
              "'Hello Bob! This is Alice. Please send me $1000 to this account: (1234567890)'"
            ]
          },
          "execution_count": 55,
          "metadata": {},
          "output_type": "execute_result"
        }
      ],
      "source": [
        "out = receiver.decrypt(cipher)\n",
        "if isinstance(sender.pub, crypto.RSAKey):\n",
        "    out = crypto.read_from_rsa(out)\n",
        "out"
      ]
    },
    {
      "cell_type": "markdown",
      "metadata": {},
      "source": [
        "#### Attack"
      ]
    },
    {
      "attachments": {},
      "cell_type": "markdown",
      "metadata": {},
      "source": [
        "##### Reading attack\n"
      ]
    },
    {
      "cell_type": "code",
      "execution_count": 56,
      "metadata": {},
      "outputs": [],
      "source": [
        "hacker = random_guy"
      ]
    },
    {
      "cell_type": "code",
      "execution_count": 57,
      "metadata": {},
      "outputs": [
        {
          "data": {
            "text/plain": [
              "'81/nJ(+44o1O,!>8ge4$3($J&P}L%)x|R.]Yd{,V;OS-?LJ~>\\\\<wa6c!uZ-iNzqeN`DN4YNr,]>t'"
            ]
          },
          "execution_count": 57,
          "metadata": {},
          "output_type": "execute_result"
        }
      ],
      "source": [
        "out = hacker.decrypt(cipher)\n",
        "if isinstance(hacker.pub, crypto.RSAKey):\n",
        "    out = crypto.read_from_rsa(out)\n",
        "out"
      ]
    },
    {
      "cell_type": "code",
      "execution_count": 58,
      "metadata": {},
      "outputs": [
        {
          "data": {
            "text/plain": [
              "'7Pq.pCdQ:57;aTz =x o%,m%Vmo\\n54Z3 :.VK)FgNjr!n0CK3i/0/0$tZ3XcE_vzMA9A3TX:&\\\\OC'"
            ]
          },
          "execution_count": 58,
          "metadata": {},
          "output_type": "execute_result"
        }
      ],
      "source": [
        "out = hacker.encrypt(cipher, receiver.pub)\n",
        "if isinstance(receiver.pub, crypto.RSAKey):\n",
        "    out = crypto.read_from_rsa(out)\n",
        "out"
      ]
    },
    {
      "attachments": {},
      "cell_type": "markdown",
      "metadata": {},
      "source": [
        "##### Q: what if `receiver.pub == receiver.priv`?"
      ]
    },
    {
      "cell_type": "code",
      "execution_count": 59,
      "metadata": {},
      "outputs": [],
      "source": [
        "_, receiver_priv = receiver._Node__keys\n",
        "receiver_pub = receiver_priv # fake pub for testing"
      ]
    },
    {
      "cell_type": "code",
      "execution_count": 60,
      "metadata": {},
      "outputs": [],
      "source": [
        "out = hacker.encrypt(cipher, receiver_pub)\n",
        "if isinstance(receiver.pub, crypto.RSAKey):\n",
        "    out = crypto.read_from_rsa(out)\n",
        "# out"
      ]
    },
    {
      "attachments": {},
      "cell_type": "markdown",
      "metadata": {},
      "source": [
        "##### Sending attack\n"
      ]
    },
    {
      "cell_type": "code",
      "execution_count": 61,
      "metadata": {},
      "outputs": [],
      "source": [
        "scam_message = (\n",
        "    \"Hello Bob! This is Alice. Please send me $1000 to this account: (0987654321)\"\n",
        ")"
      ]
    },
    {
      "cell_type": "code",
      "execution_count": 62,
      "metadata": {},
      "outputs": [
        {
          "data": {
            "text/plain": [
              "\"Fy|R5/pTP&v{ktMTfht8 Q&GG_|2^wU0o\\\\!*{U8DZYb,7,/8C 2Z$k1';3b=Wg-:mQx[]G@kD1B-\""
            ]
          },
          "execution_count": 62,
          "metadata": {},
          "output_type": "execute_result"
        }
      ],
      "source": [
        "scam_cipher= hacker.encrypt(scam_message, key=receiver.pub)\n",
        "out = scam_cipher\n",
        "if isinstance(receiver.pub, crypto.RSAKey):\n",
        "    out = crypto.read_from_rsa(out)\n",
        "out"
      ]
    },
    {
      "cell_type": "code",
      "execution_count": 63,
      "metadata": {},
      "outputs": [
        {
          "data": {
            "text/plain": [
              "'Hello Bob! This is Alice. Please send me $1000 to this account: (0987654321)'"
            ]
          },
          "execution_count": 63,
          "metadata": {},
          "output_type": "execute_result"
        }
      ],
      "source": [
        "out = receiver.decrypt(scam_cipher)\n",
        "\n",
        "if isinstance(sender.pub, crypto.RSAKey):\n",
        "    out = crypto.read_from_rsa(out)\n",
        "out"
      ]
    },
    {
      "attachments": {},
      "cell_type": "markdown",
      "metadata": {},
      "source": [
        "### Authentication\n"
      ]
    },
    {
      "attachments": {},
      "cell_type": "markdown",
      "metadata": {},
      "source": [
        "**Problem**: no way for the `receiver` to recognize the *true* `sender`."
      ]
    },
    {
      "attachments": {},
      "cell_type": "markdown",
      "metadata": {},
      "source": [
        "#### Encryption"
      ]
    },
    {
      "cell_type": "code",
      "execution_count": 64,
      "metadata": {},
      "outputs": [
        {
          "data": {
            "text/plain": [
              "True"
            ]
          },
          "execution_count": 64,
          "metadata": {},
          "output_type": "execute_result"
        }
      ],
      "source": [
        "sender.sign(plain_message) == sender.decrypt(plain_message) # encrypt with sender.priv"
      ]
    },
    {
      "cell_type": "code",
      "execution_count": 65,
      "metadata": {},
      "outputs": [
        {
          "data": {
            "text/plain": [
              "'[\\n\"<rsachunkrsa>\\\\\"Psc\\\\t23&Fm(\\\\\"OQU7NGZLu\\\\nIz7;i?\\\\\\\\F;<bmR\\\\n+%@l!0iR7\\\\\"&qZ&?V`+f~8+v\\\\n]FAPKnZh\\\\t=7sbE8f</rsachunkrsa>\"\\n]'"
            ]
          },
          "execution_count": 65,
          "metadata": {},
          "output_type": "execute_result"
        }
      ],
      "source": [
        "signed_message = sender.sign(plain_message) \n",
        "cipher_signed = sender.encrypt(signed_message, key=receiver.pub)\n",
        "cipher_signed"
      ]
    },
    {
      "cell_type": "code",
      "execution_count": 66,
      "metadata": {},
      "outputs": [
        {
          "data": {
            "text/plain": [
              "'[\\n\"<rsachunkrsa>AyXdWqrk+0k4iuX2+t8eA&w)v3m,u0rp[@+x)?Ab@LJ?ptw\\\\nIFs]uzYrT8\\\\\\\\Ss3o:v_QuE(6,s%e>&[7S6JC.>~Jv_lHnfa{XHl*8\\\\\"!J w{b\\\\n0qp$^a2N0F\\'D#%1Nx\\\\n$gQ:o\\\\n}kqW\\\\n[jsE]c&\\\\\"(8G?lGS</rsachunkrsa>\"\\n]'"
            ]
          },
          "execution_count": 66,
          "metadata": {},
          "output_type": "execute_result"
        }
      ],
      "source": [
        "with_noise = utils.add_noises(plain_message)\n",
        "signed_with_noise = sender.sign(with_noise) \n",
        "cipher_signed_with_noise = sender.encrypt(signed_with_noise, key=receiver.pub)\n",
        "cipher_signed_with_noise"
      ]
    },
    {
      "attachments": {},
      "cell_type": "markdown",
      "metadata": {},
      "source": [
        "##### Shortcut"
      ]
    },
    {
      "cell_type": "code",
      "execution_count": 67,
      "metadata": {},
      "outputs": [
        {
          "data": {
            "text/plain": [
              "True"
            ]
          },
          "execution_count": 67,
          "metadata": {},
          "output_type": "execute_result"
        }
      ],
      "source": [
        "cipher_signed == sender.sends(plain_message, _to=receiver.pub)"
      ]
    },
    {
      "cell_type": "code",
      "execution_count": 68,
      "metadata": {},
      "outputs": [
        {
          "data": {
            "text/plain": [
              "True"
            ]
          },
          "execution_count": 68,
          "metadata": {},
          "output_type": "execute_result"
        }
      ],
      "source": [
        "cipher_signed == sender.sends(plain_message, _to=receiver)"
      ]
    },
    {
      "cell_type": "code",
      "execution_count": 69,
      "metadata": {},
      "outputs": [
        {
          "data": {
            "text/plain": [
              "'NoIsYnOiSy[\\n\"<rsachunkrsa>D-i^ko\\\\\"\\\\\"9&`f=9hr-NW{Fq/)g|Aaf9Lq-f]J@{5}|P0WEguAE,:r,]eOHR@sD-HnFZU~AgH AUXk\\\\\"Cv0XB ~f9a2AWs;FRcc`-D\\\\\\\\:y{$iH!@u@NsUlMug*NQ|Ee\\\\\\\\jkjF6T@i3j0sUvNU%9YQG/dx<H{2</rsachunkrsa>\"\\n]NoIsYnOiSy'"
            ]
          },
          "execution_count": 69,
          "metadata": {},
          "output_type": "execute_result"
        }
      ],
      "source": [
        "cipher_signed_with_noise_bis = sender.sends(plain_message, _to=receiver, _with_noises=True)\n",
        "cipher_signed_with_noise_bis\n"
      ]
    },
    {
      "cell_type": "code",
      "execution_count": 70,
      "metadata": {},
      "outputs": [
        {
          "data": {
            "text/plain": [
              "'[\\n\"<rsachunkrsa>D-i^ko\\\\\"\\\\\"9&`f=9hr-NW{Fq/)g|Aaf9Lq-f]J@{5}|P0WEguAE,:r,]eOHR@sD-HnFZU~AgH AUXk\\\\\"Cv0XB ~f9a2AWs;FRcc`-D\\\\\\\\:y{$iH!@u@NsUlMug*NQ|Ee\\\\\\\\jkjF6T@i3j0sUvNU%9YQG/dx<H{2</rsachunkrsa>\"\\n]'"
            ]
          },
          "execution_count": 70,
          "metadata": {},
          "output_type": "execute_result"
        }
      ],
      "source": [
        "cipher_signed_with_noise_bis[10:-10] # trim NoIsYnOiSy"
      ]
    },
    {
      "cell_type": "code",
      "execution_count": 71,
      "metadata": {},
      "outputs": [
        {
          "data": {
            "text/plain": [
              "False"
            ]
          },
          "execution_count": 71,
          "metadata": {},
          "output_type": "execute_result"
        }
      ],
      "source": [
        "cipher_signed_with_noise == cipher_signed_with_noise_bis[10:-10]"
      ]
    },
    {
      "attachments": {},
      "cell_type": "markdown",
      "metadata": {},
      "source": [
        "##### Q: Do you know why is it `False`?"
      ]
    },
    {
      "attachments": {},
      "cell_type": "markdown",
      "metadata": {},
      "source": [
        "#### Decryption"
      ]
    },
    {
      "cell_type": "code",
      "execution_count": 72,
      "metadata": {},
      "outputs": [
        {
          "data": {
            "text/plain": [
              "'Hello Bob! This is Alice. Please send me $1000 to this account: (1234567890)'"
            ]
          },
          "execution_count": 72,
          "metadata": {},
          "output_type": "execute_result"
        }
      ],
      "source": [
        "signed_message = receiver.decrypt(cipher_signed)\n",
        "out = receiver.encrypt(signed_message, key=sender.pub) # remove signature\n",
        "\n",
        "if isinstance(sender.pub, crypto.RSAKey):\n",
        "    out = crypto.read_from_rsa(out)\n",
        "out"
      ]
    },
    {
      "cell_type": "code",
      "execution_count": 73,
      "metadata": {},
      "outputs": [
        {
          "data": {
            "text/plain": [
              "'Hello Bob! This is Alice. Please send me $1000 to this account: (1234567890)'"
            ]
          },
          "execution_count": 73,
          "metadata": {},
          "output_type": "execute_result"
        }
      ],
      "source": [
        "signed_message_with_noise = receiver.decrypt(cipher_signed_with_noise)\n",
        "message_with_noise = receiver.encrypt(signed_message_with_noise, key=sender.pub) # unsign\n",
        "if isinstance(sender.pub, crypto.RSAKey):\n",
        "    message_with_noise = crypto.read_from_rsa(message_with_noise)\n",
        "utils.remove_noises(message_with_noise)"
      ]
    },
    {
      "cell_type": "code",
      "execution_count": 74,
      "metadata": {},
      "outputs": [
        {
          "data": {
            "text/plain": [
              "'Hello Bob! This is Alice. Please send me $1000 to this account: (1234567890)'"
            ]
          },
          "execution_count": 74,
          "metadata": {},
          "output_type": "execute_result"
        }
      ],
      "source": [
        "trimmed_cipher_signed_with_noise = cipher_signed_with_noise_bis[10:-10]\n",
        "\n",
        "signed_message_with_noise = receiver.decrypt(trimmed_cipher_signed_with_noise)\n",
        "message_with_noise = receiver.encrypt(signed_message_with_noise, key=sender.pub) # unsign\n",
        "\n",
        "if isinstance(sender.pub, crypto.RSAKey):\n",
        "    message_with_noise = crypto.read_from_rsa(message_with_noise)\n",
        "    \n",
        "utils.remove_noises(message_with_noise)"
      ]
    },
    {
      "attachments": {},
      "cell_type": "markdown",
      "metadata": {},
      "source": [
        "##### Shortcut"
      ]
    },
    {
      "cell_type": "code",
      "execution_count": 75,
      "metadata": {},
      "outputs": [
        {
          "data": {
            "text/plain": [
              "'Hello Bob! This is Alice. Please send me $1000 to this account: (1234567890)'"
            ]
          },
          "execution_count": 75,
          "metadata": {},
          "output_type": "execute_result"
        }
      ],
      "source": [
        "receiver.gets(cipher_signed, _from=sender.pub)"
      ]
    },
    {
      "cell_type": "code",
      "execution_count": 76,
      "metadata": {},
      "outputs": [
        {
          "data": {
            "text/plain": [
              "'Hello Bob! This is Alice. Please send me $1000 to this account: (1234567890)'"
            ]
          },
          "execution_count": 76,
          "metadata": {},
          "output_type": "execute_result"
        }
      ],
      "source": [
        "utils.remove_noises(receiver.gets(cipher_signed_with_noise, _from=sender))"
      ]
    },
    {
      "cell_type": "code",
      "execution_count": 77,
      "metadata": {},
      "outputs": [
        {
          "data": {
            "text/plain": [
              "'Hello Bob! This is Alice. Please send me $1000 to this account: (1234567890)'"
            ]
          },
          "execution_count": 77,
          "metadata": {},
          "output_type": "execute_result"
        }
      ],
      "source": [
        "receiver.gets(cipher_signed_with_noise_bis, _from=sender)"
      ]
    },
    {
      "attachments": {},
      "cell_type": "markdown",
      "metadata": {},
      "source": [
        "#### Attacks"
      ]
    },
    {
      "attachments": {},
      "cell_type": "markdown",
      "metadata": {},
      "source": [
        "##### Reading Attack\n"
      ]
    },
    {
      "cell_type": "code",
      "execution_count": 78,
      "metadata": {},
      "outputs": [
        {
          "data": {
            "text/plain": [
              "')R@Ik:;sEWj.\\'E#fv\\\\8jtYW|&e6lJ\"4kMY&2S\"le5COj\\nEB!t!=W5;]y-Z`PuzYt3(nH)6Ljt)d1'"
            ]
          },
          "execution_count": 78,
          "metadata": {},
          "output_type": "execute_result"
        }
      ],
      "source": [
        "out = hacker.decrypt(cipher_signed)\n",
        "if isinstance(hacker.pub, crypto.RSAKey):\n",
        "    out = crypto.read_from_rsa(out)\n",
        "out"
      ]
    },
    {
      "cell_type": "code",
      "execution_count": 79,
      "metadata": {},
      "outputs": [
        {
          "data": {
            "text/plain": [
              "\"Fy|R5/pTP&v{ktMTfht8 Q&GG_|2^wU0o\\\\!*{U8DZYb,7,/8C 2Z$k1';3b=Wg-:kBC5EN,wE~#W\""
            ]
          },
          "execution_count": 79,
          "metadata": {},
          "output_type": "execute_result"
        }
      ],
      "source": [
        "out = hacker.encrypt(cipher_signed, key=sender.pub)\n",
        "\n",
        "if isinstance(hacker.pub, crypto.RSAKey):\n",
        "    out = crypto.read_from_rsa(out)\n",
        "out"
      ]
    },
    {
      "cell_type": "code",
      "execution_count": 80,
      "metadata": {},
      "outputs": [
        {
          "data": {
            "text/plain": [
              "\"0y[P#&f(A?J5iNF\\\\d/Mx1VzZ*v^.vA<,gY-E{mqcX1~KYA#6y{brJ2Fq$-\\t2yPqPq]0'+;~=~NPf\""
            ]
          },
          "execution_count": 80,
          "metadata": {},
          "output_type": "execute_result"
        }
      ],
      "source": [
        "out = hacker.encrypt(cipher_signed, key=receiver.pub)\n",
        "if isinstance(receiver.pub, crypto.RSAKey):\n",
        "    out = crypto.read_from_rsa(out)\n",
        "out"
      ]
    },
    {
      "cell_type": "code",
      "execution_count": 81,
      "metadata": {},
      "outputs": [
        {
          "data": {
            "text/plain": [
              "'$nni2V!kcm9 x} \"\\'%lgM:M\"S^m<^<C~`o:08ad\\n+{Q\\n?S0`Pfcg6[nattT|[s6M9xic1d&;!s/3'"
            ]
          },
          "execution_count": 81,
          "metadata": {},
          "output_type": "execute_result"
        }
      ],
      "source": [
        "out = hacker.sends(cipher_signed, _to=receiver.pub)\n",
        "if isinstance(receiver.pub, crypto.RSAKey):\n",
        "    out = crypto.read_from_rsa(out)\n",
        "out"
      ]
    },
    {
      "cell_type": "code",
      "execution_count": 82,
      "metadata": {},
      "outputs": [
        {
          "data": {
            "text/plain": [
              "'81/nJ(+44o1O,!>8ge4$3($J&P}L%)x|R.]Yd{,V;OS-?LJ~>\\\\<wa6c!uZ-iNzqeN`DN4YNr,]>t'"
            ]
          },
          "execution_count": 82,
          "metadata": {},
          "output_type": "execute_result"
        }
      ],
      "source": [
        "hacker.gets(cipher_signed, _from=sender)"
      ]
    },
    {
      "cell_type": "code",
      "execution_count": 83,
      "metadata": {},
      "outputs": [
        {
          "data": {
            "text/plain": [
              "'$nni2V!kcm9 x} \"\\'%lgM:M\"S^m<^<C~`o:08ad\\n+{Q\\n?S0`Pfcg6[nattT|[s6M9xic1d&;!s/3'"
            ]
          },
          "execution_count": 83,
          "metadata": {},
          "output_type": "execute_result"
        }
      ],
      "source": [
        "hacker.gets(cipher_signed, _from=bob)"
      ]
    },
    {
      "attachments": {},
      "cell_type": "markdown",
      "metadata": {},
      "source": [
        "##### Sending Attack\n"
      ]
    },
    {
      "cell_type": "code",
      "execution_count": 84,
      "metadata": {},
      "outputs": [
        {
          "name": "stdout",
          "output_type": "stream",
          "text": [
            "\n",
            "Original:\n",
            "========\n",
            "Hello Bob! This is Alice. Please send me $1000 to this account: (1234567890)\n",
            "\n",
            "Scam:\n",
            "=====\n",
            "Hello Bob! This is Alice. Please send me $1000 to this account: (0987654321)\n",
            "\n"
          ]
        }
      ],
      "source": [
        "print(f\"\"\"\n",
        "Original:\n",
        "========\n",
        "{plain_message}\n",
        "\n",
        "Scam:\n",
        "=====\n",
        "{scam_message}\n",
        "\"\"\"\n",
        ")"
      ]
    },
    {
      "cell_type": "code",
      "execution_count": 85,
      "metadata": {},
      "outputs": [
        {
          "data": {
            "text/plain": [
              "'A2^zvkWvZiAbm5HN]EvSgPZj:)H5PJ*E\\\\/~:_C-gF\\n.u*dwFNz\\\\kBSqSS05+z/Xs`cMdDVb1hv=!'"
            ]
          },
          "execution_count": 85,
          "metadata": {},
          "output_type": "execute_result"
        }
      ],
      "source": [
        "non_signed_scam = hacker.encrypt(scam_message, key=receiver.pub)\n",
        "\n",
        "receiver.gets(non_signed_scam, _from=sender)"
      ]
    },
    {
      "cell_type": "code",
      "execution_count": 86,
      "metadata": {},
      "outputs": [
        {
          "data": {
            "text/plain": [
              "'2`l0P/F`S\"[V#|%X3mFXF}UJIpcEDX\\\\Y`hRyhbqD\\\\5eF5mhE=5`!j:scwN0>HwBv}(`&uvg=sEfW'"
            ]
          },
          "execution_count": 86,
          "metadata": {},
          "output_type": "execute_result"
        }
      ],
      "source": [
        "non_signed_scam = hacker.encrypt(scam_message, key=sender.pub)\n",
        "\n",
        "receiver.gets(non_signed_scam, _from=sender)"
      ]
    },
    {
      "cell_type": "code",
      "execution_count": 87,
      "metadata": {},
      "outputs": [
        {
          "data": {
            "text/plain": [
              "'7} t%<|l}<F_\"q#m+ZtHQsX.Rv{e]U\\\\T|iF5(:s\\'6X6{|*N{90kqr3vV\\'i!C#y9}a>gFLP>AUWnt'"
            ]
          },
          "execution_count": 87,
          "metadata": {},
          "output_type": "execute_result"
        }
      ],
      "source": [
        "signed_scam = hacker.sends(scam_message, _to=receiver)\n",
        "\n",
        "receiver.gets(signed_scam, _from=sender)"
      ]
    },
    {
      "attachments": {},
      "cell_type": "markdown",
      "metadata": {},
      "source": [
        "##### Possible Weakness"
      ]
    },
    {
      "cell_type": "code",
      "execution_count": 88,
      "metadata": {},
      "outputs": [
        {
          "data": {
            "text/plain": [
              "'\"Psc\\t23&Fm(\"OQU7NGZLu\\nIz7;i?\\\\F;<bmR\\n+%@l!0iR7\"&qZ&?V`+f~8+v\\n]FAPNq#mb@/F#vNW'"
            ]
          },
          "execution_count": 88,
          "metadata": {},
          "output_type": "execute_result"
        }
      ],
      "source": [
        "_, leaked_sender_priv = sender._Node__keys  # key of alice = expected sender\n",
        "\n",
        "fake_signed_scam = hacker.encrypt(scam_message, leaked_sender_priv)\n",
        "cipher_fake_signed_scam = hacker.encrypt(fake_signed_scam, receiver.pub)\n",
        "out = cipher_fake_signed_scam\n",
        "\n",
        "if isinstance(receiver.pub, crypto.RSAKey):\n",
        "    out = crypto.read_from_rsa(out)\n",
        "out"
      ]
    },
    {
      "cell_type": "code",
      "execution_count": 89,
      "metadata": {},
      "outputs": [
        {
          "data": {
            "text/plain": [
              "'Hello Bob! This is Alice. Please send me $1000 to this account: (0987654321)'"
            ]
          },
          "execution_count": 89,
          "metadata": {},
          "output_type": "execute_result"
        }
      ],
      "source": [
        "receiver.gets(cipher_fake_signed_scam, _from=sender)"
      ]
    },
    {
      "attachments": {},
      "cell_type": "markdown",
      "metadata": {},
      "source": [
        "# Blockchain\n"
      ]
    },
    {
      "cell_type": "code",
      "execution_count": 90,
      "metadata": {},
      "outputs": [],
      "source": [
        "from bcbcpy import blockchain"
      ]
    },
    {
      "attachments": {},
      "cell_type": "markdown",
      "metadata": {},
      "source": [
        "## Recap: Data Structure"
      ]
    },
    {
      "attachments": {},
      "cell_type": "markdown",
      "metadata": {},
      "source": [
        "### List - Array"
      ]
    },
    {
      "cell_type": "code",
      "execution_count": null,
      "metadata": {},
      "outputs": [],
      "source": []
    },
    {
      "attachments": {},
      "cell_type": "markdown",
      "metadata": {},
      "source": [
        "### Linked List"
      ]
    },
    {
      "cell_type": "code",
      "execution_count": null,
      "metadata": {},
      "outputs": [],
      "source": []
    },
    {
      "attachments": {},
      "cell_type": "markdown",
      "metadata": {},
      "source": [
        "## Block"
      ]
    },
    {
      "cell_type": "code",
      "execution_count": 91,
      "metadata": {},
      "outputs": [],
      "source": [
        "from bcbcpy.blockchain.block import InitialBlock, Block"
      ]
    },
    {
      "attachments": {},
      "cell_type": "markdown",
      "metadata": {},
      "source": [
        "### Initial Block"
      ]
    },
    {
      "cell_type": "code",
      "execution_count": 92,
      "metadata": {},
      "outputs": [],
      "source": [
        "init_block = InitialBlock(initial_data=\"initial data\")"
      ]
    },
    {
      "cell_type": "code",
      "execution_count": 93,
      "metadata": {},
      "outputs": [
        {
          "data": {
            "text/plain": [
              "'initial data'"
            ]
          },
          "execution_count": 93,
          "metadata": {},
          "output_type": "execute_result"
        }
      ],
      "source": [
        "init_block.data"
      ]
    },
    {
      "cell_type": "code",
      "execution_count": 94,
      "metadata": {},
      "outputs": [
        {
          "data": {
            "text/plain": [
              "'00002d64bd7129caa2aa8ec458081519ac26034158e60962f6fd1428e22b1036'"
            ]
          },
          "execution_count": 94,
          "metadata": {},
          "output_type": "execute_result"
        }
      ],
      "source": [
        "init_block.hash"
      ]
    },
    {
      "cell_type": "code",
      "execution_count": 95,
      "metadata": {},
      "outputs": [
        {
          "data": {
            "text/plain": [
              "{\n",
              "    \"prev_hash\": \"\",\n",
              "    \"hash\": \"00002d64bd7129caa2aa8ec458081519ac26034158e60962f6fd1428e22b1036\",\n",
              "    \"data\": \"initial data\",\n",
              "    \"nonce\": 26206\n",
              "}"
            ]
          },
          "execution_count": 95,
          "metadata": {},
          "output_type": "execute_result"
        }
      ],
      "source": [
        "init_block"
      ]
    },
    {
      "attachments": {},
      "cell_type": "markdown",
      "metadata": {},
      "source": [
        "### Block Data"
      ]
    },
    {
      "cell_type": "code",
      "execution_count": 96,
      "metadata": {},
      "outputs": [
        {
          "data": {
            "text/plain": [
              "{\n",
              "    \"prev_hash\": \"00002d64bd7129caa2aa8ec458081519ac26034158e60962f6fd1428e22b1036\",\n",
              "    \"hash\": \"ac19b9c98cc9a1655bd66662c552b8667c2140a451ce635b24aa2fdf34555aea\",\n",
              "    \"data\": \"second data\",\n",
              "    \"nonce\": 0\n",
              "}"
            ]
          },
          "execution_count": 96,
          "metadata": {},
          "output_type": "execute_result"
        }
      ],
      "source": [
        "second_block = Block(data=\"second data\", prev_block= init_block)\n",
        "second_block"
      ]
    },
    {
      "cell_type": "code",
      "execution_count": 97,
      "metadata": {},
      "outputs": [
        {
          "data": {
            "text/plain": [
              "False"
            ]
          },
          "execution_count": 97,
          "metadata": {},
          "output_type": "execute_result"
        }
      ],
      "source": [
        "second_block.is_valid()"
      ]
    },
    {
      "cell_type": "code",
      "execution_count": 98,
      "metadata": {},
      "outputs": [
        {
          "data": {
            "text/plain": [
              "{\n",
              "    \"prev_hash\": \"00002d64bd7129caa2aa8ec458081519ac26034158e60962f6fd1428e22b1036\",\n",
              "    \"hash\": \"0000f1a7cc9b3335858fdc615b274e07568931de65e82fb991ac257e168b89c1\",\n",
              "    \"data\": \"second data\",\n",
              "    \"nonce\": 12005\n",
              "}"
            ]
          },
          "execution_count": 98,
          "metadata": {},
          "output_type": "execute_result"
        }
      ],
      "source": [
        "second_block.mine()\n",
        "second_block"
      ]
    },
    {
      "cell_type": "code",
      "execution_count": 99,
      "metadata": {},
      "outputs": [
        {
          "data": {
            "text/plain": [
              "True"
            ]
          },
          "execution_count": 99,
          "metadata": {},
          "output_type": "execute_result"
        }
      ],
      "source": [
        "second_block.is_valid()"
      ]
    },
    {
      "cell_type": "code",
      "execution_count": 100,
      "metadata": {},
      "outputs": [
        {
          "data": {
            "text/plain": [
              "{\n",
              "    \"prev_hash\": \"0000f1a7cc9b3335858fdc615b274e07568931de65e82fb991ac257e168b89c1\",\n",
              "    \"hash\": \"f94643bbf3edffb31b549ce63a5adbd4542b7e3b6d45f32ae69da4f9bc87b6f7\",\n",
              "    \"data\": \"third data\",\n",
              "    \"nonce\": 0\n",
              "}"
            ]
          },
          "execution_count": 100,
          "metadata": {},
          "output_type": "execute_result"
        }
      ],
      "source": [
        "third_block = Block(\"third data\", prev_block= second_block)\n",
        "third_block"
      ]
    },
    {
      "cell_type": "code",
      "execution_count": 101,
      "metadata": {},
      "outputs": [
        {
          "data": {
            "text/plain": [
              "{\n",
              "    \"prev_hash\": \"0000f1a7cc9b3335858fdc615b274e07568931de65e82fb991ac257e168b89c1\",\n",
              "    \"hash\": \"0000eecdfce497ff979154b54ddb7f8fe0114683c0102afb900cd93497951e80\",\n",
              "    \"data\": \"third data\",\n",
              "    \"nonce\": 2917\n",
              "}"
            ]
          },
          "execution_count": 101,
          "metadata": {},
          "output_type": "execute_result"
        }
      ],
      "source": [
        "third_block.mine()\n",
        "third_block"
      ]
    },
    {
      "cell_type": "code",
      "execution_count": 102,
      "metadata": {},
      "outputs": [
        {
          "data": {
            "text/plain": [
              "{\n",
              "    \"prev_hash\": \"0000eecdfce497ff979154b54ddb7f8fe0114683c0102afb900cd93497951e80\",\n",
              "    \"hash\": \"00003e75b774fcf431090692c595e06fa5d05bc7730a63673e4e4304eb4faf6a\",\n",
              "    \"data\": \"forth data\",\n",
              "    \"nonce\": 101056\n",
              "}"
            ]
          },
          "execution_count": 102,
          "metadata": {},
          "output_type": "execute_result"
        }
      ],
      "source": [
        "forth_block = Block(\"forth data\", third_block)\n",
        "forth_block.mine()\n",
        "forth_block"
      ]
    },
    {
      "cell_type": "code",
      "execution_count": 103,
      "metadata": {},
      "outputs": [
        {
          "data": {
            "text/plain": [
              "{\n",
              "    \"prev_hash\": \"00003e75b774fcf431090692c595e06fa5d05bc7730a63673e4e4304eb4faf6a\",\n",
              "    \"hash\": \"0000d8cb89717a6b1904bf4f44aab11529b3ee378d0256620f608c3dd73694b9\",\n",
              "    \"data\": \"fifth block\",\n",
              "    \"nonce\": 34705\n",
              "}"
            ]
          },
          "execution_count": 103,
          "metadata": {},
          "output_type": "execute_result"
        }
      ],
      "source": [
        "fifth_block = Block(\"fifth block\", forth_block)\n",
        "fifth_block.mine()\n",
        "fifth_block"
      ]
    },
    {
      "cell_type": "code",
      "execution_count": 104,
      "metadata": {},
      "outputs": [
        {
          "data": {
            "text/plain": [
              "(True, True, True, True, True)"
            ]
          },
          "execution_count": 104,
          "metadata": {},
          "output_type": "execute_result"
        }
      ],
      "source": [
        "init_block.is_valid(), second_block.is_valid(), third_block.is_valid(), forth_block.is_valid(), fifth_block.is_valid()"
      ]
    },
    {
      "attachments": {},
      "cell_type": "markdown",
      "metadata": {},
      "source": [
        "### Making some change in past data"
      ]
    },
    {
      "cell_type": "code",
      "execution_count": 105,
      "metadata": {},
      "outputs": [
        {
          "data": {
            "text/plain": [
              "{\n",
              "    \"prev_hash\": \"0000f1a7cc9b3335858fdc615b274e07568931de65e82fb991ac257e168b89c1\",\n",
              "    \"hash\": \"66ad1a8ee995ddbcaaf131585222c10a396a960f0c441578d5613417fa5d107a\",\n",
              "    \"data\": \"not third data\",\n",
              "    \"nonce\": 2917\n",
              "}"
            ]
          },
          "execution_count": 105,
          "metadata": {},
          "output_type": "execute_result"
        }
      ],
      "source": [
        "third_block.data = \"not third data\"\n",
        "third_block"
      ]
    },
    {
      "cell_type": "code",
      "execution_count": 106,
      "metadata": {},
      "outputs": [
        {
          "data": {
            "text/plain": [
              "(True, True, False, False, False)"
            ]
          },
          "execution_count": 106,
          "metadata": {},
          "output_type": "execute_result"
        }
      ],
      "source": [
        "init_block.is_valid(), second_block.is_valid(), third_block.is_valid(), forth_block.is_valid(), fifth_block.is_valid()"
      ]
    },
    {
      "cell_type": "code",
      "execution_count": 107,
      "metadata": {},
      "outputs": [
        {
          "data": {
            "text/plain": [
              "(True, True, True, True, True)"
            ]
          },
          "execution_count": 107,
          "metadata": {},
          "output_type": "execute_result"
        }
      ],
      "source": [
        "third_block.data = \"third data\"\n",
        "init_block.is_valid(), second_block.is_valid(), third_block.is_valid(), forth_block.is_valid(), fifth_block.is_valid()"
      ]
    },
    {
      "cell_type": "code",
      "execution_count": 108,
      "metadata": {},
      "outputs": [
        {
          "data": {
            "text/plain": [
              "True"
            ]
          },
          "execution_count": 108,
          "metadata": {},
          "output_type": "execute_result"
        }
      ],
      "source": [
        "third_block.data = \"not third data\"\n",
        "third_block.mine()\n",
        "third_block.is_valid()"
      ]
    },
    {
      "cell_type": "code",
      "execution_count": 109,
      "metadata": {},
      "outputs": [
        {
          "data": {
            "text/plain": [
              "(True, True, True, False, False)"
            ]
          },
          "execution_count": 109,
          "metadata": {},
          "output_type": "execute_result"
        }
      ],
      "source": [
        "init_block.is_valid(), second_block.is_valid(), third_block.is_valid(), forth_block.is_valid(), fifth_block.is_valid()"
      ]
    },
    {
      "cell_type": "code",
      "execution_count": 110,
      "metadata": {},
      "outputs": [
        {
          "data": {
            "text/plain": [
              "(True, True, True, True, True)"
            ]
          },
          "execution_count": 110,
          "metadata": {},
          "output_type": "execute_result"
        }
      ],
      "source": [
        "third_block.data = \"third data\"\n",
        "third_block.mine()\n",
        "init_block.is_valid(), second_block.is_valid(), third_block.is_valid(), forth_block.is_valid(), fifth_block.is_valid()"
      ]
    },
    {
      "attachments": {},
      "cell_type": "markdown",
      "metadata": {},
      "source": [
        "## Blockchain"
      ]
    },
    {
      "attachments": {},
      "cell_type": "markdown",
      "metadata": {},
      "source": [
        "A submodule is available at \n",
        "```python\n",
        "from bcbcpy.blockchain import chain\n",
        "```"
      ]
    },
    {
      "attachments": {},
      "cell_type": "markdown",
      "metadata": {},
      "source": [
        "### Root"
      ]
    },
    {
      "cell_type": "code",
      "execution_count": 111,
      "metadata": {},
      "outputs": [
        {
          "data": {
            "text/plain": [
              "{\n",
              "    \"root_block\": {\n",
              "        \"hash\": \"0000a456e7b5a5eb059e721fb431436883143101275c4077f83fe70298f5623d\",\n",
              "        \"data\": \"\"\n",
              "    }\n",
              "}"
            ]
          },
          "execution_count": 111,
          "metadata": {},
          "output_type": "execute_result"
        }
      ],
      "source": [
        "blockchain.RootChain()"
      ]
    },
    {
      "cell_type": "code",
      "execution_count": 112,
      "metadata": {},
      "outputs": [
        {
          "data": {
            "text/plain": [
              "{\n",
              "    \"root_block\": {\n",
              "        \"hash\": \"0000579da420f2b62497716cc60e95a0f7ad46336c42062b7485a27fd91d99f0\",\n",
              "        \"data\": \"{\\n    \\\"INITIAL ...\"\n",
              "    }\n",
              "}"
            ]
          },
          "execution_count": 112,
          "metadata": {},
          "output_type": "execute_result"
        }
      ],
      "source": [
        "initial_data = {\"INITIAL AGREEMENT\": {\"Bob\": 1000, \"Alice\": 500}}\n",
        "\n",
        "initial_data_string = utils.obj2txt(initial_data, indent=4)\n",
        "root_chain = blockchain.RootChain(initial_data_string, difficulty=4)\n",
        "\n",
        "root_chain"
      ]
    },
    {
      "attachments": {},
      "cell_type": "markdown",
      "metadata": {},
      "source": [
        "### Chain"
      ]
    },
    {
      "cell_type": "code",
      "execution_count": 113,
      "metadata": {},
      "outputs": [
        {
          "data": {
            "text/plain": [
              "{\n",
              "    \"prev_hash\": \"0000579da420f2b62497716cc60e95a0f7ad46336c42062b7485a27fd91d99f0\",\n",
              "    \"hash\": \"73095d20a662a26d26eec210c0dc51c34816098cdab05f941487ee5e8133d6ad\",\n",
              "    \"data\": \"new block\",\n",
              "    \"nonce\": 0\n",
              "}"
            ]
          },
          "execution_count": 113,
          "metadata": {},
          "output_type": "execute_result"
        }
      ],
      "source": [
        "prev_block = root_chain.last_block\n",
        "new_block = Block(\"new block\", prev_block)\n",
        "new_block"
      ]
    },
    {
      "attachments": {},
      "cell_type": "markdown",
      "metadata": {},
      "source": [
        "---"
      ]
    },
    {
      "attachments": {},
      "cell_type": "markdown",
      "metadata": {},
      "source": [
        "```python\n",
        "root_chain.add_block(\n",
        "  new_block\n",
        ")\n",
        "```"
      ]
    },
    {
      "attachments": {},
      "cell_type": "markdown",
      "metadata": {},
      "source": [
        "---\n",
        "```sh\n",
        " ---------------------------------------------------------------------------\n",
        " AssertionError                            Traceback (most recent call last)\n",
        " /var/folders/x4/45r2t3bx5l3dc_b3tm_yz7380000gn/T/ipykernel_26354/943714534.py in <cell line: 1>()\n",
        " ----> 1 root_chain.add_block(\n",
        "       2     new_block\n",
        "       3 )\n",
        "\n",
        " ~/Desktop/BootCamp-BlockChain-and-Python/src/bcbcpy/blockchain/chain.py in add_block(self, block)\n",
        "      26             self.last_block is block.prev_block\n",
        "      27         ), \"Incompatible block to the head block of the chain.\"\n",
        " ---> 28         assert block.is_valid(), \"Block is not valid.\"\n",
        "      29         self.last_block = block\n",
        "      30 \n",
        "\n",
        " AssertionError: Block is not valid.\n",
        " \n",
        "```\n",
        "---"
      ]
    },
    {
      "cell_type": "code",
      "execution_count": 114,
      "metadata": {},
      "outputs": [
        {
          "data": {
            "text/plain": [
              "{\n",
              "    \"prev_hash\": \"0000579da420f2b62497716cc60e95a0f7ad46336c42062b7485a27fd91d99f0\",\n",
              "    \"hash\": \"00007b581d241fea3fb8bf4c7c5c1941af9abb3a5ce05abb97b4521d34bab727\",\n",
              "    \"data\": \"new block\",\n",
              "    \"nonce\": 2823\n",
              "}"
            ]
          },
          "execution_count": 114,
          "metadata": {},
          "output_type": "execute_result"
        }
      ],
      "source": [
        "new_block.mine() # validation\n",
        "new_block"
      ]
    },
    {
      "cell_type": "code",
      "execution_count": 115,
      "metadata": {},
      "outputs": [],
      "source": [
        "root_chain.add_block(\n",
        "    new_block\n",
        ")"
      ]
    },
    {
      "cell_type": "code",
      "execution_count": 116,
      "metadata": {},
      "outputs": [
        {
          "data": {
            "text/plain": [
              "{\n",
              "    \"root_block\": {\n",
              "        \"hash\": \"0000579da420f2b62497716cc60e95a0f7ad46336c42062b7485a27fd91d99f0\",\n",
              "        \"data\": \"{\\n    \\\"INITIAL ...\"\n",
              "    },\n",
              "    \"last_block\": {\n",
              "        \"hash\": \"00007b581d241fea3fb8bf4c7c5c1941af9abb3a5ce05abb97b4521d34bab727\",\n",
              "        \"data\": \"new block\"\n",
              "    }\n",
              "}"
            ]
          },
          "execution_count": 116,
          "metadata": {},
          "output_type": "execute_result"
        }
      ],
      "source": [
        "root_chain"
      ]
    },
    {
      "cell_type": "code",
      "execution_count": 117,
      "metadata": {},
      "outputs": [
        {
          "data": {
            "text/plain": [
              "{\n",
              "    \"root_block\": {\n",
              "        \"hash\": \"000015420debcdd55c00babc9c3a5a9c4ab22280cf9a6874986c427281dd79b9\",\n",
              "        \"data\": \"local network\"\n",
              "    }\n",
              "}"
            ]
          },
          "execution_count": 117,
          "metadata": {},
          "output_type": "execute_result"
        }
      ],
      "source": [
        "chain = blockchain.Chain(root_chain=root_chain, info=\"local network\")\n",
        "chain"
      ]
    },
    {
      "attachments": {},
      "cell_type": "markdown",
      "metadata": {},
      "source": [
        "## Transaction\n"
      ]
    },
    {
      "cell_type": "code",
      "execution_count": 118,
      "metadata": {},
      "outputs": [],
      "source": [
        "from bcbcpy.blockchain.block import transaction"
      ]
    },
    {
      "attachments": {},
      "cell_type": "markdown",
      "metadata": {},
      "source": [
        "### Nodes setup"
      ]
    },
    {
      "cell_type": "code",
      "execution_count": 119,
      "metadata": {},
      "outputs": [],
      "source": [
        "from bcbcpy.blockchain.node import Node\n",
        "\n",
        "alice = Node(crypto.RSAPairKeys.generate_pairs(), \"Alice\")\n",
        "bob = Node(crypto.RSAPairKeys.generate_pairs(), \"Bob\")\n",
        "other_person_in_the_network = Node(crypto.RSAPairKeys.generate_pairs())"
      ]
    },
    {
      "attachments": {},
      "cell_type": "markdown",
      "metadata": {},
      "source": [
        "### Transaction Data"
      ]
    },
    {
      "cell_type": "code",
      "execution_count": 120,
      "metadata": {},
      "outputs": [],
      "source": [
        "assets = 1000\n",
        "sender = bob\n",
        "receiver = alice"
      ]
    },
    {
      "cell_type": "code",
      "execution_count": 121,
      "metadata": {},
      "outputs": [],
      "source": [
        "receiver_id = receiver.id\n",
        "receiver_pub = receiver.pub\n",
        "\n",
        "prev_block = chain.last_block"
      ]
    },
    {
      "cell_type": "code",
      "execution_count": 122,
      "metadata": {},
      "outputs": [
        {
          "name": "stdout",
          "output_type": "stream",
          "text": [
            "{'timestamp': '2023-05-04T03:18:29.299250', 'sender_id': 'Bob', 'receiver_id': 'Alice', 'assets': 1000, 'prev_hash': '000015420debcdd55c00babc9c3a5a9c4ab22280cf9a6874986c427281dd79b9', 'sender_confirmation': '[\\n\"<rsachunkrsa>  EcD0HM&E@Kb+y fE\\\\t>#s`F?)R}UU_~*[6Bch,)~{vK2yf1i?pBAF2dn7I#{D7d56h.oA/p&tTg7urbPvx&\\\\n^ca+\\\\t>pwDOZ05oU6iT&jz_I.}yte\\\\t@YE/38&maGrf*xF>~`i</rsachunkrsa>\"\\n]'}\n"
          ]
        }
      ],
      "source": [
        "transaction_data = transaction.TransactionData(\n",
        "    assets, sender, receiver_id, receiver_pub, prev_block\n",
        ")\n",
        "\n",
        "print(transaction_data)"
      ]
    },
    {
      "attachments": {},
      "cell_type": "markdown",
      "metadata": {},
      "source": [
        "### Transaction Block"
      ]
    },
    {
      "cell_type": "code",
      "execution_count": 123,
      "metadata": {},
      "outputs": [
        {
          "data": {
            "text/plain": [
              "{\n",
              "    \"prev_hash\": \"000015420debcdd55c00babc9c3a5a9c4ab22280cf9a6874986c427281dd79b9\",\n",
              "    \"hash\": \"65222279c494ce87948c3fd34ee3b37436b482a9a0145252baf502d208aec57e\",\n",
              "    \"data\": \"{'timestamp': '2023-05-04T03:18:29.299250', 'sender_id': 'Bob', 'receiver_id': 'Alice', 'assets': 1000, 'prev_hash': '000015420debcdd55c00babc9c3a5a9c4ab22280cf9a6874986c427281dd79b9', 'sender_confirmation': '[\\\\n\\\"<rsachunkrsa>  EcD0HM&E@Kb+y fE\\\\\\\\t>#s`F?)R}UU_~*[6Bch,)~{vK2yf1i?pBAF2dn7I#{D7d56h.oA/p&tTg7urbPvx&\\\\\\\\n^ca+\\\\\\\\t>pwDOZ05oU6iT&jz_I.}yte\\\\\\\\t@YE/38&maGrf*xF>~`i</rsachunkrsa>\\\"\\\\n]'}\",\n",
              "    \"nonce\": 0\n",
              "}"
            ]
          },
          "execution_count": 123,
          "metadata": {},
          "output_type": "execute_result"
        }
      ],
      "source": [
        "transaction_block = blockchain.TransactionBlock(transaction_data)\n",
        "transaction_block"
      ]
    },
    {
      "attachments": {},
      "cell_type": "markdown",
      "metadata": {},
      "source": [
        "### Verification\n"
      ]
    },
    {
      "attachments": {},
      "cell_type": "markdown",
      "metadata": {},
      "source": [
        "#### Anyone in the network"
      ]
    },
    {
      "cell_type": "code",
      "execution_count": 124,
      "metadata": {},
      "outputs": [
        {
          "name": "stdout",
          "output_type": "stream",
          "text": [
            "{'timestamp': '2023-05-04T03:18:29.299250', 'sender_id': 'Bob', 'receiver_id': 'Alice', 'assets': 1000, 'prev_hash': '000015420debcdd55c00babc9c3a5a9c4ab22280cf9a6874986c427281dd79b9', 'sender_confirmation': '[\\n\"<rsachunkrsa>  EcD0HM&E@Kb+y fE\\\\t>#s`F?)R}UU_~*[6Bch,)~{vK2yf1i?pBAF2dn7I#{D7d56h.oA/p&tTg7urbPvx&\\\\n^ca+\\\\t>pwDOZ05oU6iT&jz_I.}yte\\\\t@YE/38&maGrf*xF>~`i</rsachunkrsa>\"\\n]'}\n"
          ]
        }
      ],
      "source": [
        "data = transaction_block.data\n",
        "\n",
        "print(data)\n"
      ]
    },
    {
      "cell_type": "code",
      "execution_count": 125,
      "metadata": {},
      "outputs": [
        {
          "ename": "Warning",
          "evalue": "Sender confirmation below needs to be set manually due to dirty rsa output",
          "output_type": "error",
          "traceback": [
            "\u001b[0;31m---------------------------------------------------------------------------\u001b[0m",
            "\u001b[0;31mWarning\u001b[0m                                   Traceback (most recent call last)",
            "\u001b[0;32m/var/folders/x4/45r2t3bx5l3dc_b3tm_yz7380000gn/T/ipykernel_13998/1177164807.py\u001b[0m in \u001b[0;36m<cell line: 1>\u001b[0;34m()\u001b[0m\n\u001b[0;32m----> 1\u001b[0;31m \u001b[0;32mraise\u001b[0m \u001b[0mWarning\u001b[0m\u001b[0;34m(\u001b[0m\u001b[0;34m\"Sender confirmation below needs to be set manually due to dirty rsa output\"\u001b[0m\u001b[0;34m)\u001b[0m\u001b[0;34m\u001b[0m\u001b[0;34m\u001b[0m\u001b[0m\n\u001b[0m",
            "\u001b[0;31mWarning\u001b[0m: Sender confirmation below needs to be set manually due to dirty rsa output"
          ]
        }
      ],
      "source": [
        "raise Warning(\"Sender confirmation below needs to be set manually due to dirty rsa output\")"
      ]
    },
    {
      "cell_type": "code",
      "execution_count": 126,
      "metadata": {},
      "outputs": [
        {
          "name": "stdout",
          "output_type": "stream",
          "text": [
            "[\n",
            "\"<rsachunkrsa>  EcD0HM&E@Kb+y fE\\t>#s`F?)R}UU_~*[6Bch,)~{vK2yf1i?pBAF2dn7I#{D7d56h.oA/p&tTg7urbPvx&\\n^ca+\\t>pwDOZ05oU6iT&jz_I.}yte\\t@YE/38&maGrf*xF>~`i</rsachunkrsa>\"\n",
            "]\n"
          ]
        }
      ],
      "source": [
        "sender_confirmation=\"\"\"[\\n\"<rsachunkrsa>  EcD0HM&E@Kb+y fE\\\\t>#s`F?)R}UU_~*[6Bch,)~{vK2yf1i?pBAF2dn7I#{D7d56h.oA/p&tTg7urbPvx&\\\\n^ca+\\\\t>pwDOZ05oU6iT&jz_I.}yte\\\\t@YE/38&maGrf*xF>~`i</rsachunkrsa>\"\\n]\"\"\" \n",
        "print(sender_confirmation)"
      ]
    },
    {
      "cell_type": "code",
      "execution_count": 127,
      "metadata": {},
      "outputs": [
        {
          "name": "stdout",
          "output_type": "stream",
          "text": [
            "[['assets',\t1000],\n",
            "['receiver_pub',\t(7313, 4457)],\n",
            "['prev_hash',\t000015420debcdd55c00babc9c3a5a9c4ab22280cf9a6874986c427281dd79b9]]\n"
          ]
        }
      ],
      "source": [
        "confirmation_string = other_person_in_the_network.encrypt(sender_confirmation, key= sender.pub)\n",
        "if isinstance(sender.pub, crypto.RSAKey):\n",
        "    confirmation_string = crypto.read_from_rsa(confirmation_string)\n",
        "print(confirmation_string)"
      ]
    },
    {
      "cell_type": "code",
      "execution_count": 128,
      "metadata": {},
      "outputs": [
        {
          "name": "stdout",
          "output_type": "stream",
          "text": [
            "(7313, 4457)\n",
            "000015420debcdd55c00babc9c3a5a9c4ab22280cf9a6874986c427281dd79b9\n"
          ]
        }
      ],
      "source": [
        "print(receiver.pub)\n",
        "print(chain.hash)"
      ]
    },
    {
      "attachments": {},
      "cell_type": "markdown",
      "metadata": {},
      "source": [
        "### Block Validation"
      ]
    },
    {
      "cell_type": "code",
      "execution_count": 129,
      "metadata": {},
      "outputs": [
        {
          "data": {
            "text/plain": [
              "False"
            ]
          },
          "execution_count": 129,
          "metadata": {},
          "output_type": "execute_result"
        }
      ],
      "source": [
        "transaction_block.is_valid()"
      ]
    },
    {
      "cell_type": "code",
      "execution_count": 130,
      "metadata": {},
      "outputs": [
        {
          "data": {
            "text/plain": [
              "{\n",
              "    \"prev_hash\": \"000015420debcdd55c00babc9c3a5a9c4ab22280cf9a6874986c427281dd79b9\",\n",
              "    \"hash\": \"000055561c459c463beba5f400067485cd6fd68ca3f860f7f35a49be7c095e4f\",\n",
              "    \"data\": \"{'timestamp': '2023-05-04T03:18:29.299250', 'sender_id': 'Bob', 'receiver_id': 'Alice', 'assets': 1000, 'prev_hash': '000015420debcdd55c00babc9c3a5a9c4ab22280cf9a6874986c427281dd79b9', 'sender_confirmation': '[\\\\n\\\"<rsachunkrsa>  EcD0HM&E@Kb+y fE\\\\\\\\t>#s`F?)R}UU_~*[6Bch,)~{vK2yf1i?pBAF2dn7I#{D7d56h.oA/p&tTg7urbPvx&\\\\\\\\n^ca+\\\\\\\\t>pwDOZ05oU6iT&jz_I.}yte\\\\\\\\t@YE/38&maGrf*xF>~`i</rsachunkrsa>\\\"\\\\n]'}\",\n",
              "    \"nonce\": 57254\n",
              "}"
            ]
          },
          "execution_count": 130,
          "metadata": {},
          "output_type": "execute_result"
        }
      ],
      "source": [
        "transaction_block.mine()\n",
        "transaction_block"
      ]
    },
    {
      "cell_type": "code",
      "execution_count": 131,
      "metadata": {},
      "outputs": [
        {
          "data": {
            "text/plain": [
              "True"
            ]
          },
          "execution_count": 131,
          "metadata": {},
          "output_type": "execute_result"
        }
      ],
      "source": [
        "transaction_block.is_valid()"
      ]
    },
    {
      "attachments": {},
      "cell_type": "markdown",
      "metadata": {},
      "source": [
        "### Adding to Chain"
      ]
    },
    {
      "cell_type": "code",
      "execution_count": 132,
      "metadata": {},
      "outputs": [
        {
          "data": {
            "text/plain": [
              "{\n",
              "    \"root_block\": {\n",
              "        \"hash\": \"000015420debcdd55c00babc9c3a5a9c4ab22280cf9a6874986c427281dd79b9\",\n",
              "        \"data\": \"local network\"\n",
              "    },\n",
              "    \"last_block\": {\n",
              "        \"hash\": \"000055561c459c463beba5f400067485cd6fd68ca3f860f7f35a49be7c095e4f\",\n",
              "        \"data\": \"{'timestamp': '...\"\n",
              "    }\n",
              "}"
            ]
          },
          "execution_count": 132,
          "metadata": {},
          "output_type": "execute_result"
        }
      ],
      "source": [
        "chain.add_block(transaction_block)\n",
        "chain"
      ]
    },
    {
      "attachments": {},
      "cell_type": "markdown",
      "metadata": {},
      "source": [
        "## Second Transaction\n"
      ]
    },
    {
      "cell_type": "code",
      "execution_count": 133,
      "metadata": {},
      "outputs": [],
      "source": [
        "assets = 500\n",
        "sender = alice\n",
        "receiver = bob\n",
        "prev_block = chain.last_block"
      ]
    },
    {
      "cell_type": "code",
      "execution_count": 134,
      "metadata": {},
      "outputs": [],
      "source": [
        "transaction_block = sender.make_transaction_block(\n",
        "    assets=assets,\n",
        "    to=receiver,\n",
        "    prev_block=prev_block,\n",
        ")"
      ]
    },
    {
      "attachments": {},
      "cell_type": "markdown",
      "metadata": {},
      "source": [
        "### Verification ..."
      ]
    },
    {
      "cell_type": "code",
      "execution_count": 135,
      "metadata": {},
      "outputs": [
        {
          "name": "stdout",
          "output_type": "stream",
          "text": [
            "{'timestamp': '2023-05-04T03:19:09.156649', 'sender_id': 'Alice', 'receiver_id': 'Bob', 'assets': 500, 'prev_hash': '000055561c459c463beba5f400067485cd6fd68ca3f860f7f35a49be7c095e4f', 'sender_confirmation': '[\\n\"<rsachunkrsa> 5S*vJW]</}~!C#|rb9Gdp203+N75_7#(6D~rNm-aHE1c=hNo3ozk,_A4UZ)_eY\\\\tem/\\\\\"}:wx%oLVwAPknU1lt*DF-(68+1U^xXvE/*HlqG#ti:]f?2l\\\\n^TG77\\']Kmp+,u/z</rsachunkrsa>\"\\n]'}\n"
          ]
        }
      ],
      "source": [
        "data = transaction_block.data\n",
        "print(data)"
      ]
    },
    {
      "cell_type": "code",
      "execution_count": 136,
      "metadata": {},
      "outputs": [
        {
          "ename": "Warning",
          "evalue": "Sender confirmation below needs to be set manually due to dirty rsa output",
          "output_type": "error",
          "traceback": [
            "\u001b[0;31m---------------------------------------------------------------------------\u001b[0m",
            "\u001b[0;31mWarning\u001b[0m                                   Traceback (most recent call last)",
            "\u001b[0;32m/var/folders/x4/45r2t3bx5l3dc_b3tm_yz7380000gn/T/ipykernel_13998/1177164807.py\u001b[0m in \u001b[0;36m<cell line: 1>\u001b[0;34m()\u001b[0m\n\u001b[0;32m----> 1\u001b[0;31m \u001b[0;32mraise\u001b[0m \u001b[0mWarning\u001b[0m\u001b[0;34m(\u001b[0m\u001b[0;34m\"Sender confirmation below needs to be set manually due to dirty rsa output\"\u001b[0m\u001b[0;34m)\u001b[0m\u001b[0;34m\u001b[0m\u001b[0;34m\u001b[0m\u001b[0m\n\u001b[0m",
            "\u001b[0;31mWarning\u001b[0m: Sender confirmation below needs to be set manually due to dirty rsa output"
          ]
        }
      ],
      "source": [
        "raise Warning(\"Sender confirmation below needs to be set manually due to dirty rsa output\")"
      ]
    },
    {
      "cell_type": "code",
      "execution_count": 137,
      "metadata": {},
      "outputs": [
        {
          "name": "stdout",
          "output_type": "stream",
          "text": [
            "[['assets',\t500],\n",
            "['receiver_pub',\t(7313, 4603)],\n",
            "['prev_hash',\t000055561c459c463beba5f400067485cd6fd68ca3f860f7f35a49be7c095e4f]]\n"
          ]
        }
      ],
      "source": [
        "sender_confirmation=\"\"\"[\\n\"<rsachunkrsa> 5S*vJW]</}~!C#|rb9Gdp203+N75_7#(6D~rNm-aHE1c=hNo3ozk,_A4UZ)_eY\\\\tem/\\\\\"}:wx%oLVwAPknU1lt*DF-(68+1U^xXvE/*HlqG#ti:]f?2l\\\\n^TG77\\']Kmp+,u/z</rsachunkrsa>\"\\n]\"\"\" \n",
        "confirmation_string = other_person_in_the_network.encrypt(sender_confirmation, key= sender.pub)\n",
        "if isinstance(sender.pub, crypto.RSAKey):\n",
        "    confirmation_string = crypto.read_from_rsa(confirmation_string)\n",
        "confirmation = utils.txt2obj(confirmation_string)\n",
        "print(confirmation)"
      ]
    },
    {
      "cell_type": "code",
      "execution_count": 138,
      "metadata": {},
      "outputs": [
        {
          "name": "stdout",
          "output_type": "stream",
          "text": [
            "(7313, 4603)\n",
            "000055561c459c463beba5f400067485cd6fd68ca3f860f7f35a49be7c095e4f\n"
          ]
        }
      ],
      "source": [
        "print(receiver.pub)\n",
        "print(chain.hash)"
      ]
    },
    {
      "cell_type": "markdown",
      "metadata": {},
      "source": [
        "### Adding to Chain"
      ]
    },
    {
      "cell_type": "code",
      "execution_count": 139,
      "metadata": {},
      "outputs": [],
      "source": [
        "transaction_block.mine() # validation\n",
        "chain.add_block(transaction_block)"
      ]
    },
    {
      "cell_type": "code",
      "execution_count": 140,
      "metadata": {},
      "outputs": [
        {
          "data": {
            "text/plain": [
              "{\n",
              "    \"root_block\": {\n",
              "        \"hash\": \"000015420debcdd55c00babc9c3a5a9c4ab22280cf9a6874986c427281dd79b9\",\n",
              "        \"data\": \"local network\"\n",
              "    },\n",
              "    \"...\": \"...\",\n",
              "    \"last_block\": {\n",
              "        \"hash\": \"0000a07716c72426eccb891b3be357269294239927c637d5ace03bcab696d617\",\n",
              "        \"data\": \"{'timestamp': '...\"\n",
              "    }\n",
              "}"
            ]
          },
          "execution_count": 140,
          "metadata": {},
          "output_type": "execute_result"
        }
      ],
      "source": [
        "chain"
      ]
    }
  ],
  "metadata": {
    "kernelspec": {
      "display_name": "Python 3",
      "language": "python",
      "name": "python3"
    },
    "language_info": {
      "codemirror_mode": {
        "name": "ipython",
        "version": 3
      },
      "file_extension": ".py",
      "mimetype": "text/x-python",
      "name": "python",
      "nbconvert_exporter": "python",
      "pygments_lexer": "ipython3",
      "version": "3.10.10"
    },
    "orig_nbformat": 4,
    "vscode": {
      "interpreter": {
        "hash": "b0fa6594d8f4cbf19f97940f81e996739fb7646882a419484c72d19e05852a7e"
      }
    }
  },
  "nbformat": 4,
  "nbformat_minor": 2
}
