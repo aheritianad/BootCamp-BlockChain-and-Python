{
 "cells": [
  {
   "attachments": {},
   "cell_type": "markdown",
   "metadata": {},
   "source": [
    "This is a demo notebook for the [bcbcpy](https://github.com/aheritianad/BootCamp-BlockChain-and-Python/) package."
   ]
  },
  {
   "cell_type": "code",
   "execution_count": 1,
   "metadata": {},
   "outputs": [],
   "source": [
    "try:\n",
    "    import bcbcpy\n",
    "except ModuleNotFoundError:\n",
    "    import os, sys\n",
    "    sys.path.append(os.path.abspath(\"../src/\"))\n",
    "    import bcbcpy"
   ]
  },
  {
   "attachments": {},
   "cell_type": "markdown",
   "metadata": {},
   "source": [
    "# Cryptography\n"
   ]
  },
  {
   "cell_type": "code",
   "execution_count": 2,
   "metadata": {},
   "outputs": [],
   "source": [
    "from bcbcpy import crypto"
   ]
  },
  {
   "attachments": {},
   "cell_type": "markdown",
   "metadata": {},
   "source": [
    "## Hashing\n"
   ]
  },
  {
   "attachments": {},
   "cell_type": "markdown",
   "metadata": {},
   "source": [
    "### `Hash` function\n"
   ]
  },
  {
   "attachments": {},
   "cell_type": "markdown",
   "metadata": {},
   "source": [
    "$$\\mathfrak{h}: X \\to H$$\n",
    "\n",
    "- $\\mathfrak{h}(x) = \\mathfrak{h}(y)$ *only if* $x=y$.\n",
    "- given $h\\in H$, it is *not easy* to find $x\\in X$ such that $\\mathfrak{h}(x) = h$.\n",
    "\n",
    "In some sense, $\\mathfrak{h}(x)$ is a signature o $x$."
   ]
  },
  {
   "cell_type": "code",
   "execution_count": 3,
   "metadata": {},
   "outputs": [
    {
     "data": {
      "text/plain": [
       "'1370eeaaba7a6c7a234b1f82cc3b6d013a0088fd5e16408300f05b28b0015463'"
      ]
     },
     "execution_count": 3,
     "metadata": {},
     "output_type": "execute_result"
    }
   ],
   "source": [
    "text_to_be_hashed = \"Hello World\"\n",
    "first_hash = crypto.hash_function(text_to_be_hashed, hash_name=crypto.HashName.sha256)\n",
    "first_hash\n"
   ]
  },
  {
   "cell_type": "code",
   "execution_count": 4,
   "metadata": {},
   "outputs": [
    {
     "data": {
      "text/plain": [
       "'e59f8bdf1305e382a4919ccefd613d3eebae612aa4c443f3af2d65663de3b075'"
      ]
     },
     "execution_count": 4,
     "metadata": {},
     "output_type": "execute_result"
    }
   ],
   "source": [
    "crypto.hash_function(text_to_be_hashed + \"!\")\n"
   ]
  },
  {
   "cell_type": "code",
   "execution_count": 5,
   "metadata": {},
   "outputs": [
    {
     "data": {
      "text/plain": [
       "'e59f8bdf1305e382a4919ccefd613d3eebae612aa4c443f3af2d65663de3b075'"
      ]
     },
     "execution_count": 5,
     "metadata": {},
     "output_type": "execute_result"
    }
   ],
   "source": [
    "crypto.hash_function(\"Hello World!\")"
   ]
  },
  {
   "cell_type": "code",
   "execution_count": 6,
   "metadata": {},
   "outputs": [],
   "source": [
    "long_text = \"\"\"\n",
    "Hello everyone!\n",
    "\n",
    "Welcome to this tutorial.\n",
    "I promise that I will do my best to help you.\n",
    "\n",
    "It will be interactive, so please participate as much as you can.\n",
    "\n",
    "Please do not hesitate to ask if there you have questions.\n",
    "\n",
    "Hope you will enjoy it!\n",
    "\n",
    "Cheers!\n",
    "\n",
    "Heritiana.\n",
    "\"\"\"\n"
   ]
  },
  {
   "cell_type": "code",
   "execution_count": 7,
   "metadata": {},
   "outputs": [
    {
     "data": {
      "text/plain": [
       "'0c8359860bef1b26f811bf8448c546c2241c7c695f9b8ee76c1a8bf2d5b2dff3'"
      ]
     },
     "execution_count": 7,
     "metadata": {},
     "output_type": "execute_result"
    }
   ],
   "source": [
    "hash_long = crypto.hash_function(long_text)\n",
    "hash_long\n"
   ]
  },
  {
   "cell_type": "code",
   "execution_count": 8,
   "metadata": {},
   "outputs": [
    {
     "data": {
      "text/plain": [
       "True"
      ]
     },
     "execution_count": 8,
     "metadata": {},
     "output_type": "execute_result"
    }
   ],
   "source": [
    "len(hash_long) == len(first_hash)\n"
   ]
  },
  {
   "attachments": {},
   "cell_type": "markdown",
   "metadata": {},
   "source": [
    "### Validation\n"
   ]
  },
  {
   "cell_type": "code",
   "execution_count": 9,
   "metadata": {},
   "outputs": [
    {
     "data": {
      "text/plain": [
       "False"
      ]
     },
     "execution_count": 9,
     "metadata": {},
     "output_type": "execute_result"
    }
   ],
   "source": [
    "difficulty = 4\n",
    "crypto.is_valid_hash(first_hash, difficulty)\n"
   ]
  },
  {
   "cell_type": "code",
   "execution_count": 10,
   "metadata": {},
   "outputs": [
    {
     "data": {
      "text/plain": [
       "'0000eeaaba7a6c7a234b1f82cc3b6d013a0088fd5e16408300f05b28b0015463'"
      ]
     },
     "execution_count": 10,
     "metadata": {},
     "output_type": "execute_result"
    }
   ],
   "source": [
    "fake_hash = \"0000\" + first_hash[4:]\n",
    "fake_hash"
   ]
  },
  {
   "cell_type": "code",
   "execution_count": 11,
   "metadata": {},
   "outputs": [
    {
     "data": {
      "text/plain": [
       "True"
      ]
     },
     "execution_count": 11,
     "metadata": {},
     "output_type": "execute_result"
    }
   ],
   "source": [
    "crypto.is_valid_hash(fake_hash, difficulty)\n"
   ]
  },
  {
   "attachments": {},
   "cell_type": "markdown",
   "metadata": {},
   "source": [
    "### Nonce\n"
   ]
  },
  {
   "cell_type": "code",
   "execution_count": 12,
   "metadata": {},
   "outputs": [
    {
     "data": {
      "text/plain": [
       "'0000bfe6af4232f78b0c8eba37a6ba6c17b9b8671473b0b82305880be077edd9'"
      ]
     },
     "execution_count": 12,
     "metadata": {},
     "output_type": "execute_result"
    }
   ],
   "source": [
    "second_hash, nonce = crypto.hash_nonce_initializer(\n",
    "    text_to_be_hashed, difficulty=difficulty\n",
    ")\n",
    "second_hash"
   ]
  },
  {
   "cell_type": "code",
   "execution_count": 13,
   "metadata": {},
   "outputs": [
    {
     "data": {
      "text/plain": [
       "107105"
      ]
     },
     "execution_count": 13,
     "metadata": {},
     "output_type": "execute_result"
    }
   ],
   "source": [
    "nonce\n"
   ]
  },
  {
   "cell_type": "code",
   "execution_count": 14,
   "metadata": {},
   "outputs": [
    {
     "data": {
      "text/plain": [
       "True"
      ]
     },
     "execution_count": 14,
     "metadata": {},
     "output_type": "execute_result"
    }
   ],
   "source": [
    "crypto.is_valid_hash(second_hash, difficulty)\n"
   ]
  },
  {
   "cell_type": "code",
   "execution_count": 15,
   "metadata": {},
   "outputs": [
    {
     "data": {
      "text/plain": [
       "'0000bfe6af4232f78b0c8eba37a6ba6c17b9b8671473b0b82305880be077edd9'"
      ]
     },
     "execution_count": 15,
     "metadata": {},
     "output_type": "execute_result"
    }
   ],
   "source": [
    "third_hash = crypto.hash_function(text_to_be_hashed, nonce=nonce)\n",
    "third_hash\n"
   ]
  },
  {
   "cell_type": "code",
   "execution_count": 16,
   "metadata": {},
   "outputs": [
    {
     "data": {
      "text/plain": [
       "True"
      ]
     },
     "execution_count": 16,
     "metadata": {},
     "output_type": "execute_result"
    }
   ],
   "source": [
    "second_hash == third_hash\n"
   ]
  },
  {
   "cell_type": "code",
   "execution_count": 17,
   "metadata": {},
   "outputs": [
    {
     "data": {
      "text/plain": [
       "True"
      ]
     },
     "execution_count": 17,
     "metadata": {},
     "output_type": "execute_result"
    }
   ],
   "source": [
    "forth_hash = crypto.hash_function(text_to_be_hashed, nonce, nonce=\"\")  # type:ignore\n",
    "second_hash == forth_hash"
   ]
  },
  {
   "attachments": {},
   "cell_type": "markdown",
   "metadata": {},
   "source": [
    "### Q: What if such `nonce` does not exist?\n"
   ]
  },
  {
   "attachments": {},
   "cell_type": "markdown",
   "metadata": {},
   "source": [
    "**Think about it.**\n"
   ]
  },
  {
   "attachments": {},
   "cell_type": "markdown",
   "metadata": {},
   "source": [
    "## Crypto\n"
   ]
  },
  {
   "attachments": {},
   "cell_type": "markdown",
   "metadata": {},
   "source": [
    "### `Encryption` & `Decryption`\n"
   ]
  },
  {
   "attachments": {},
   "cell_type": "markdown",
   "metadata": {},
   "source": [
    "$$f\\circ f^{-1} (x) = f^{-1}\\circ f(x) = x,\\ \\forall x$$\n"
   ]
  },
  {
   "cell_type": "code",
   "execution_count": 18,
   "metadata": {},
   "outputs": [],
   "source": [
    "encrypt = lambda x: 2 * x - 1\n",
    "decrypt = lambda x: 0  # TODO to fill"
   ]
  },
  {
   "cell_type": "code",
   "execution_count": 19,
   "metadata": {},
   "outputs": [
    {
     "name": "stdout",
     "output_type": "stream",
     "text": [
      "Oops! fail at 1-th attempt for x = 2125.\n"
     ]
    }
   ],
   "source": [
    "import random\n",
    "try:\n",
    "    for i in range(20):\n",
    "        x = random.randint(-5000, 5000)\n",
    "        assert (\n",
    "            encrypt(decrypt(x)) == decrypt(encrypt(x)) == x\n",
    "        ), f\"Oops! fail at {i+1}-th attempt for x = {x}.\"\n",
    "except AssertionError as e:\n",
    "    print(e)\n",
    "else:\n",
    "    print(\"Congrats! I passes the test.\")"
   ]
  },
  {
   "cell_type": "code",
   "execution_count": 20,
   "metadata": {},
   "outputs": [],
   "source": [
    "clear_message = (\n",
    "    \"This is a clear message to encrypt and decrypt. I add this to make it longer.\"\n",
    ")"
   ]
  },
  {
   "attachments": {},
   "cell_type": "markdown",
   "metadata": {},
   "source": [
    "### Types\n"
   ]
  },
  {
   "attachments": {},
   "cell_type": "markdown",
   "metadata": {},
   "source": [
    "#### Key\n"
   ]
  },
  {
   "attachments": {},
   "cell_type": "markdown",
   "metadata": {},
   "source": [
    "$\\mathcal{F}=\\{ f_\\theta \\:\\ \\theta \\in \\Theta\\}$\n",
    "\n",
    "$\\left(f_{\\theta}\\right) ^{-1} = f_{\\theta^\\prime}$ for some $\\theta^\\prime \\in \\Theta$\n",
    "\n",
    "$\\theta \\in \\Theta$ : key\n"
   ]
  },
  {
   "attachments": {},
   "cell_type": "markdown",
   "metadata": {},
   "source": [
    "#### Symmetric\n"
   ]
  },
  {
   "attachments": {},
   "cell_type": "markdown",
   "metadata": {},
   "source": [
    "Given $f_\\theta$ or $\\theta\\in \\Theta$ (thus $f_\\theta$), one can construct  $\\left(f_\\theta\\right)^{-1}$."
   ]
  },
  {
   "attachments": {},
   "cell_type": "markdown",
   "metadata": {},
   "source": [
    "##### Cesar\n"
   ]
  },
  {
   "cell_type": "code",
   "execution_count": 21,
   "metadata": {},
   "outputs": [
    {
     "name": "stdout",
     "output_type": "stream",
     "text": [
      "CesarKey(1, -1)\n"
     ]
    }
   ],
   "source": [
    "cesar_key = crypto.CesarKey.generate_key(max_length=2)\n",
    "print(cesar_key)\n"
   ]
  },
  {
   "cell_type": "code",
   "execution_count": 22,
   "metadata": {},
   "outputs": [
    {
     "data": {
      "text/plain": [
       "-6"
      ]
     },
     "execution_count": 22,
     "metadata": {},
     "output_type": "execute_result"
    }
   ],
   "source": [
    "crypto.CesarKey.compute_inverse(6)"
   ]
  },
  {
   "cell_type": "code",
   "execution_count": 23,
   "metadata": {},
   "outputs": [
    {
     "name": "stdout",
     "output_type": "stream",
     "text": [
      "\n",
      "original:\n",
      "========\n",
      "This is a clear message to encrypt and decrypt. I add this to make it longer.\n",
      "\n",
      "Encrypted:\n",
      "========\n",
      "Uijt!jt!b!dmfbs!nfttbhf!up!fodszqu!boe!efdszqu/!J!bee!uijt!up!nblf!ju!mpohfs/\n",
      "\n"
     ]
    }
   ],
   "source": [
    "encr_cesar = cesar_key.encrypt(clear_message)\n",
    "\n",
    "print(\n",
    "    f\"\"\"\n",
    "original:\n",
    "========\n",
    "{clear_message}\n",
    "\n",
    "Encrypted:\n",
    "========\n",
    "{encr_cesar}\n",
    "\"\"\"\n",
    ")"
   ]
  },
  {
   "cell_type": "code",
   "execution_count": 24,
   "metadata": {},
   "outputs": [
    {
     "name": "stdout",
     "output_type": "stream",
     "text": [
      "\n",
      "original:\n",
      "========\n",
      "This is a clear message to encrypt and decrypt. I add this to make it longer.\n",
      "\n",
      "Decrypted:\n",
      "=========\n",
      "This is a clear message to encrypt and decrypt. I add this to make it longer.\n",
      "\n"
     ]
    }
   ],
   "source": [
    "decr = cesar_key.decrypt(encr_cesar)\n",
    "\n",
    "print(\n",
    "    f\"\"\"\n",
    "original:\n",
    "========\n",
    "{clear_message}\n",
    "\n",
    "Decrypted:\n",
    "=========\n",
    "{decr}\n",
    "\"\"\"\n",
    ")"
   ]
  },
  {
   "attachments": {},
   "cell_type": "markdown",
   "metadata": {},
   "source": [
    "##### Permutation\n"
   ]
  },
  {
   "cell_type": "code",
   "execution_count": 25,
   "metadata": {},
   "outputs": [
    {
     "name": "stdout",
     "output_type": "stream",
     "text": [
      "PermutationKey([3, 1, 2], [2, 3, 1])\n"
     ]
    }
   ],
   "source": [
    "perm_key = crypto.PermutationKey.generate_key(length=3, n_runs=1)\n",
    "print(perm_key)\n"
   ]
  },
  {
   "cell_type": "code",
   "execution_count": 26,
   "metadata": {},
   "outputs": [
    {
     "name": "stdout",
     "output_type": "stream",
     "text": [
      "\n",
      "original:\n",
      "========\n",
      "This is a clear message to encrypt and decrypt. I add this to make it longer.\n",
      "\n",
      "Encrypted:\n",
      "========\n",
      "iThis as l creae mass ge tocenpryat  ndcdepry t.aI  ddithts mo eakt io lengr.\n",
      "\n"
     ]
    }
   ],
   "source": [
    "encr_perm = perm_key.encrypt(clear_message)\n",
    "\n",
    "print(\n",
    "    f\"\"\"\n",
    "original:\n",
    "========\n",
    "{clear_message}\n",
    "\n",
    "Encrypted:\n",
    "========\n",
    "{encr_perm}\n",
    "\"\"\"\n",
    ")"
   ]
  },
  {
   "cell_type": "code",
   "execution_count": 27,
   "metadata": {},
   "outputs": [
    {
     "name": "stdout",
     "output_type": "stream",
     "text": [
      "\n",
      "original:\n",
      "========\n",
      "This is a clear message to encrypt and decrypt. I add this to make it longer.\n",
      "\n",
      "Decrypted:\n",
      "=========\n",
      "This is a clear message to encrypt and decrypt. I add this to make it longer.\n",
      "\n"
     ]
    }
   ],
   "source": [
    "decr = perm_key.decrypt(encr_perm)\n",
    "print(\n",
    "    f\"\"\"\n",
    "original:\n",
    "========\n",
    "{clear_message}\n",
    "\n",
    "Decrypted:\n",
    "=========\n",
    "{decr}\n",
    "\"\"\"\n",
    ")"
   ]
  },
  {
   "attachments": {},
   "cell_type": "markdown",
   "metadata": {},
   "source": [
    "##### Adding noise\n"
   ]
  },
  {
   "cell_type": "code",
   "execution_count": 28,
   "metadata": {},
   "outputs": [],
   "source": [
    "from bcbcpy import utils\n"
   ]
  },
  {
   "cell_type": "code",
   "execution_count": 29,
   "metadata": {},
   "outputs": [
    {
     "data": {
      "text/plain": [
       "'TLhciist ViMsW %a/ uc8lAe[aVr| @mbe:s-s:aGg|ei ntLog 6ejn,c[rOy&p8tI \\na{n3dy Fdee5c!ryy\\tpqt<.\" PI$ 0a=d/d? ,t3hJiLsJ 9tBo, %mEa8kzer 0iOt. tlNovnFg\\'e.r0.\\n'"
      ]
     },
     "execution_count": 29,
     "metadata": {},
     "output_type": "execute_result"
    }
   ],
   "source": [
    "noisy_message = utils.add_noises(clear_message)\n",
    "noisy_message\n"
   ]
  },
  {
   "cell_type": "code",
   "execution_count": 30,
   "metadata": {},
   "outputs": [
    {
     "data": {
      "text/plain": [
       "'This is a clear message to encrypt and decrypt. I add this to make it longer.'"
      ]
     },
     "execution_count": 30,
     "metadata": {},
     "output_type": "execute_result"
    }
   ],
   "source": [
    "utils.remove_noises(noisy_message)\n"
   ]
  },
  {
   "cell_type": "code",
   "execution_count": 31,
   "metadata": {},
   "outputs": [
    {
     "name": "stdout",
     "output_type": "stream",
     "text": [
      "\n",
      "\t\t--- CESAR --\n",
      "Original:\n",
      "========\n",
      "This is a clear message to encrypt and decrypt. I add this to make it longer.\n",
      "\n",
      "Noisy message:\n",
      "=============\n",
      "TLhciist ViMsW %a/ uc8lAe[aVr| @mbe:s-s:aGg|ei ntLog 6ejn,c[rOy&p8tI \n",
      "a{n3dy Fdee5c!ryy\tpqt<.\" PI$ 0a=d/d? ,t3hJiLsJ 9tBo, %mEa8kzer 0iOt. tlNovnFg'e.r0.\n",
      "\n",
      "\n",
      "Noisy Encrypted:\n",
      "===============\n",
      "UMidjjtu!WjNtX!&b0!vd9mBf\\bWs}!Ancf;t.t;bHh}fj!ouMph!7fko-d\\sPz'q9uJ! b|o4ez!Geff6d\"szz\n",
      "qru=/#!QJ%!1b>e0e@!-u4iKjMtK!:uCp-!&nFb9l{fs!1jPu/!umOpwoGh(f/s1/ \n",
      "\n",
      "Noisy Decrypted:\n",
      "===============\n",
      "TLhciist ViMsW %a/ uc8lAe[aVr| @mbe:s-s:aGg|ei ntLog 6ejn,c[rOy&p8tI \n",
      "a{n3dy Fdee5c!ryy\tpqt<.\" PI$ 0a=d/d? ,t3hJiLsJ 9tBo, %mEa8kzer 0iOt. tlNovnFg'e.r0.\n",
      "\n",
      "\n",
      "\n",
      "Cleaned Decrypted:\n",
      "=================\n",
      "This is a clear message to encrypt and decrypt. I add this to make it longer.\n",
      "\n"
     ]
    }
   ],
   "source": [
    "encr_noisy = cesar_key.encrypt(noisy_message)\n",
    "decr_noisy = cesar_key.decrypt(encr_noisy)\n",
    "decr_without_noise = utils.remove_noises(decr_noisy)\n",
    "\n",
    "print(\n",
    "    f\"\"\"\n",
    "\\t\\t--- CESAR --\n",
    "Original:\n",
    "========\n",
    "{clear_message}\n",
    "\n",
    "Noisy message:\n",
    "=============\n",
    "{noisy_message}\n",
    "\n",
    "Noisy Encrypted:\n",
    "===============\n",
    "{encr_noisy}\n",
    "\n",
    "Noisy Decrypted:\n",
    "===============\n",
    "{decr_noisy}\n",
    "\n",
    "\n",
    "Cleaned Decrypted:\n",
    "=================\n",
    "{decr_without_noise}\n",
    "\"\"\"\n",
    ")"
   ]
  },
  {
   "cell_type": "code",
   "execution_count": 32,
   "metadata": {},
   "outputs": [
    {
     "name": "stdout",
     "output_type": "stream",
     "text": [
      "\n",
      "\t\t--- PERMUTATION ---\n",
      "Original:\n",
      "========\n",
      "This is a clear message to encrypt and decrypt. I add this to make it longer.\n",
      "\n",
      "Noisy message:\n",
      "=============\n",
      "TLhciist ViMsW %a/ uc8lAe[aVr| @mbe:s-s:aGg|ei ntLog 6ejn,c[rOy&p8tI \n",
      "a{n3dy Fdee5c!ryy\tpqt<.\" PI$ 0a=d/d? ,t3hJiLsJ 9tBo, %mEa8kzer 0iOt. tlNovnFg'e.r0.\n",
      "\n",
      "\n",
      "Noisy Encrypted:\n",
      "===============\n",
      "hTLici stMVi sW/%ac uA8lae[|Vrm @:bess-G:aeg|ni otL6g nej[,cyrO8&p tI{\n",
      "adn3Fy ede!5cyryq\tp.t<P\"  I$=0add/,? ht3LJi sJB9t o,E%mka8rzei 0.Otl tvNognF.'e.r0\n",
      "\n",
      "\n",
      "Noisy Decrypted:\n",
      "===============\n",
      "TLhciist ViMsW %a/ uc8lAe[aVr| @mbe:s-s:aGg|ei ntLog 6ejn,c[rOy&p8tI \n",
      "a{n3dy Fdee5c!ryy\tpqt<.\" PI$ 0a=d/d? ,t3hJiLsJ 9tBo, %mEa8kzer 0iOt. tlNovnFg'e.r0.\n",
      "\n",
      "\n",
      "\n",
      "Cleaned Decrypted:\n",
      "=================\n",
      "This is a clear message to encrypt and decrypt. I add this to make it longer.\n",
      "\n"
     ]
    }
   ],
   "source": [
    "encr_noisy = perm_key.encrypt(noisy_message)\n",
    "decr_noisy = perm_key.decrypt(encr_noisy)\n",
    "decr_without_noise = utils.remove_noises(decr_noisy)\n",
    "\n",
    "print(\n",
    "    f\"\"\"\n",
    "\\t\\t--- PERMUTATION ---\n",
    "Original:\n",
    "========\n",
    "{clear_message}\n",
    "\n",
    "Noisy message:\n",
    "=============\n",
    "{noisy_message}\n",
    "\n",
    "Noisy Encrypted:\n",
    "===============\n",
    "{encr_noisy}\n",
    "\n",
    "Noisy Decrypted:\n",
    "===============\n",
    "{decr_noisy}\n",
    "\n",
    "\n",
    "Cleaned Decrypted:\n",
    "=================\n",
    "{decr_without_noise}\n",
    "\"\"\"\n",
    ")"
   ]
  },
  {
   "attachments": {},
   "cell_type": "markdown",
   "metadata": {},
   "source": [
    "#### Asymmetric\n"
   ]
  },
  {
   "attachments": {},
   "cell_type": "markdown",
   "metadata": {},
   "source": [
    "##### RSA\n"
   ]
  },
  {
   "attachments": {},
   "cell_type": "markdown",
   "metadata": {},
   "source": [
    "Security: number factorization complexity\n"
   ]
  },
  {
   "cell_type": "code",
   "execution_count": 33,
   "metadata": {},
   "outputs": [
    {
     "name": "stdout",
     "output_type": "stream",
     "text": [
      "RSAPairKeys((7313, 73), HIDDEN_KEY)\n"
     ]
    }
   ],
   "source": [
    "rsa_key = crypto.rsa_key_demo()\n",
    "print(rsa_key)\n"
   ]
  },
  {
   "cell_type": "code",
   "execution_count": 34,
   "metadata": {},
   "outputs": [
    {
     "data": {
      "text/plain": [
       "'[\\n\"#dYx[rp+uBpUUPf=KQ\\\\tsSl U,eut)55j7[c\\'\\\\nq~Ao jgT;\\'/WAi<z~pG]\\'}1:Qf/>ddc18(re+ FN$\"\\n]'"
      ]
     },
     "execution_count": 34,
     "metadata": {},
     "output_type": "execute_result"
    }
   ],
   "source": [
    "encr_rsa = rsa_key.encrypt(clear_message)\n",
    "encr_rsa\n"
   ]
  },
  {
   "cell_type": "code",
   "execution_count": 35,
   "metadata": {},
   "outputs": [
    {
     "data": {
      "text/plain": [
       "'[\\n\"Go,5<j\",\\n\"2aa8\\\\\"m\",\\n\">ZBd$y\",\\n\"?Tb-w\\\\n\",\\n\"Gsk,L3\",\\n\"\\\\n4g-\\\\\\\\W\",\\n\"nzkvS\",\\n\"Gt#HL \",\\n\"AOGz*S\",\\n\"&E<;^i\",\\n\"Gsy4&w\",\\n\"IOix|<\",\\n\"\\\\n4h53Q\",\\n\"0}AqX0\",\\n\">U~Ne+\",\\n\"x \"\\n]'"
      ]
     },
     "execution_count": 35,
     "metadata": {},
     "output_type": "execute_result"
    }
   ],
   "source": [
    "rsa_key = crypto.rsa_key_demo(chunk_size=5)\n",
    "encr_rsa=rsa_key.encrypt(clear_message)\n",
    "encr_rsa"
   ]
  },
  {
   "cell_type": "code",
   "execution_count": 36,
   "metadata": {},
   "outputs": [
    {
     "data": {
      "text/plain": [
       "['Go,5<j',\n",
       " '2aa8\"m',\n",
       " '>ZBd$y',\n",
       " '?Tb-w\\n',\n",
       " 'Gsk,L3',\n",
       " '\\n4g-\\\\W',\n",
       " 'nzkvS',\n",
       " 'Gt#HL ',\n",
       " 'AOGz*S',\n",
       " '&E<;^i',\n",
       " 'Gsy4&w',\n",
       " 'IOix|<',\n",
       " '\\n4h53Q',\n",
       " '0}AqX0',\n",
       " '>U~Ne+',\n",
       " 'x ']"
      ]
     },
     "execution_count": 36,
     "metadata": {},
     "output_type": "execute_result"
    }
   ],
   "source": [
    "utils.txt2obj(encr_rsa)"
   ]
  },
  {
   "cell_type": "code",
   "execution_count": 37,
   "metadata": {},
   "outputs": [],
   "source": [
    "from bcbcpy.crypto import read_from_rsa_convert"
   ]
  },
  {
   "cell_type": "code",
   "execution_count": 38,
   "metadata": {},
   "outputs": [
    {
     "data": {
      "text/plain": [
       "'Go,5<j2aa8\"m>ZBd$y?Tb-w\\nGsk,L3\\n4g-\\\\WnzkvSGt#HL AOGz*S&E<;^iGsy4&wIOix|<\\n4h53Q0}AqX0>U~Ne+x '"
      ]
     },
     "execution_count": 38,
     "metadata": {},
     "output_type": "execute_result"
    }
   ],
   "source": [
    "read_from_rsa_convert(encr_rsa)\n"
   ]
  },
  {
   "cell_type": "code",
   "execution_count": 39,
   "metadata": {},
   "outputs": [
    {
     "data": {
      "text/plain": [
       "'This is a clear message to encrypt and decrypt. I add this to make it longer.'"
      ]
     },
     "execution_count": 39,
     "metadata": {},
     "output_type": "execute_result"
    }
   ],
   "source": [
    "decr_rsa = rsa_key.decrypt(encr_rsa)\n",
    "read_from_rsa_convert(decr_rsa)\n"
   ]
  },
  {
   "attachments": {},
   "cell_type": "markdown",
   "metadata": {},
   "source": [
    "##### Diffie-Hellman"
   ]
  },
  {
   "attachments": {},
   "cell_type": "markdown",
   "metadata": {},
   "source": [
    "Security: discrete logarithm complexity\n"
   ]
  },
  {
   "attachments": {},
   "cell_type": "markdown",
   "metadata": {},
   "source": [
    "##### ECC\n"
   ]
  },
  {
   "cell_type": "code",
   "execution_count": null,
   "metadata": {},
   "outputs": [],
   "source": []
  },
  {
   "attachments": {},
   "cell_type": "markdown",
   "metadata": {},
   "source": [
    "### Communication & Security\n"
   ]
  },
  {
   "attachments": {},
   "cell_type": "markdown",
   "metadata": {},
   "source": [
    "#### Nodes generation"
   ]
  },
  {
   "cell_type": "code",
   "execution_count": 40,
   "metadata": {},
   "outputs": [],
   "source": [
    "from bcbcpy.node import Node\n"
   ]
  },
  {
   "cell_type": "code",
   "execution_count": 41,
   "metadata": {},
   "outputs": [
    {
     "data": {
      "text/plain": [
       "'user_386194'"
      ]
     },
     "execution_count": 41,
     "metadata": {},
     "output_type": "execute_result"
    }
   ],
   "source": [
    "key = crypto.rsa_key_demo()\n",
    "node = Node(key)\n",
    "node.id"
   ]
  },
  {
   "cell_type": "code",
   "execution_count": 42,
   "metadata": {},
   "outputs": [
    {
     "data": {
      "text/plain": [
       "<bcbcpy.node.Node at 0x105d4c9d0>"
      ]
     },
     "execution_count": 42,
     "metadata": {},
     "output_type": "execute_result"
    }
   ],
   "source": [
    "node"
   ]
  },
  {
   "cell_type": "code",
   "execution_count": 43,
   "metadata": {},
   "outputs": [],
   "source": [
    "class RepNode(Node):\n",
    "    def __repr__(self) -> str:\n",
    "        return f\"{self.id} : {self._Node__keys}\"  # type:ignore"
   ]
  },
  {
   "cell_type": "code",
   "execution_count": 44,
   "metadata": {},
   "outputs": [
    {
     "data": {
      "text/plain": [
       "Alice : CesarKey(78, -78)"
      ]
     },
     "execution_count": 44,
     "metadata": {},
     "output_type": "execute_result"
    }
   ],
   "source": [
    "akey = crypto.CesarKey.generate_key()\n",
    "alice = RepNode(akey, \"Alice\")\n",
    "alice\n"
   ]
  },
  {
   "cell_type": "code",
   "execution_count": 45,
   "metadata": {},
   "outputs": [
    {
     "data": {
      "text/plain": [
       "Bob : PermutationKey([1, 3, 6, 10, 5, 2, 7, 9, 8, 4], [1, 6, 2, 10, 5, 3, 7, 9, 8, 4])"
      ]
     },
     "execution_count": 45,
     "metadata": {},
     "output_type": "execute_result"
    }
   ],
   "source": [
    "bkey =  crypto.PermutationKey.generate_key(10)\n",
    "bob = RepNode(username=\"Bob\", keys=bkey)\n",
    "bob"
   ]
  },
  {
   "cell_type": "code",
   "execution_count": 46,
   "metadata": {},
   "outputs": [
    {
     "data": {
      "text/plain": [
       "user_117681 : RSAPairKeys((7313, 73), HIDDEN_KEY)"
      ]
     },
     "execution_count": 46,
     "metadata": {},
     "output_type": "execute_result"
    }
   ],
   "source": [
    "rkey = crypto.rsa_key_demo()\n",
    "random_guy = RepNode(rkey)\n",
    "random_guy"
   ]
  },
  {
   "attachments": {},
   "cell_type": "markdown",
   "metadata": {},
   "source": [
    "#### Communication"
   ]
  },
  {
   "cell_type": "code",
   "execution_count": 47,
   "metadata": {},
   "outputs": [],
   "source": [
    "sender = alice\n",
    "receiver = bob\n",
    "\n",
    "plain_message = (\n",
    "    \"Hello Bob! This is Alice. Please send me $1000 to this account: (1234567890)\"\n",
    ")"
   ]
  },
  {
   "cell_type": "code",
   "execution_count": 48,
   "metadata": {},
   "outputs": [
    {
     "data": {
      "text/plain": [
       "')96270 438t5nc:(soc1hut i 0ota$  d10sm 0eesP eeelnialic.i s TA Bhslbo eo! lH'"
      ]
     },
     "execution_count": 48,
     "metadata": {},
     "output_type": "execute_result"
    }
   ],
   "source": [
    "cipher = sender.encrypt(plain_message, key=receiver.pub)\n",
    "cipher"
   ]
  },
  {
   "cell_type": "code",
   "execution_count": 49,
   "metadata": {},
   "outputs": [
    {
     "data": {
      "text/plain": [
       "'Hello Bob! This is Alice. Please send me $1000 to this account: (1234567890)'"
      ]
     },
     "execution_count": 49,
     "metadata": {},
     "output_type": "execute_result"
    }
   ],
   "source": [
    "receiver.decrypt(cipher)"
   ]
  },
  {
   "cell_type": "markdown",
   "metadata": {},
   "source": [
    "#### Attack"
   ]
  },
  {
   "attachments": {},
   "cell_type": "markdown",
   "metadata": {},
   "source": [
    "##### Reading attack\n"
   ]
  },
  {
   "cell_type": "code",
   "execution_count": 50,
   "metadata": {},
   "outputs": [],
   "source": [
    "hacker = random_guy"
   ]
  },
  {
   "cell_type": "code",
   "execution_count": 51,
   "metadata": {},
   "outputs": [
    {
     "data": {
      "text/plain": [
       "\"+@+jvhj:P;9zPN4j)QE(1L1u~83`~SfU/ef'8E]OH<ql|Z2XJ-YVb>a-O7Y2y}5G|SVbbqN~e|`M\""
      ]
     },
     "execution_count": 51,
     "metadata": {},
     "output_type": "execute_result"
    }
   ],
   "source": [
    "crypto.rsa.read_from_rsa_convert(\n",
    "    hacker.decrypt(cipher)\n",
    ")"
   ]
  },
  {
   "cell_type": "code",
   "execution_count": 52,
   "metadata": {},
   "outputs": [
    {
     "data": {
      "text/plain": [
       "'H elolBob!A Ti his sa ielcPle.eness d me 0$0 1 to0uahsticco 51t n:234(97806)'"
      ]
     },
     "execution_count": 52,
     "metadata": {},
     "output_type": "execute_result"
    }
   ],
   "source": [
    "hacker.encrypt(cipher, bob.pub)"
   ]
  },
  {
   "attachments": {},
   "cell_type": "markdown",
   "metadata": {},
   "source": [
    "##### Q: what if `bob.pub == bob.priv`?"
   ]
  },
  {
   "attachments": {},
   "cell_type": "markdown",
   "metadata": {},
   "source": [
    "##### Sending attack\n"
   ]
  },
  {
   "cell_type": "code",
   "execution_count": 53,
   "metadata": {},
   "outputs": [],
   "source": [
    "scam_message = (\n",
    "    \"Hello Bob! This is Alice. Please send me $1000 to this account: (0987654321)\"\n",
    ")"
   ]
  },
  {
   "cell_type": "code",
   "execution_count": 54,
   "metadata": {},
   "outputs": [
    {
     "data": {
      "text/plain": [
       "')25941 783t6nc:(soc0hut i 0ota$  d10sm 0eesP eeelnialic.i s TA Bhslbo eo! lH'"
      ]
     },
     "execution_count": 54,
     "metadata": {},
     "output_type": "execute_result"
    }
   ],
   "source": [
    "scam_cipher= hacker.encrypt(scam_message, key=receiver.pub)\n",
    "scam_cipher"
   ]
  },
  {
   "cell_type": "code",
   "execution_count": 55,
   "metadata": {},
   "outputs": [
    {
     "data": {
      "text/plain": [
       "'Hello Bob! This is Alice. Please send me $1000 to this account: (0987654321)'"
      ]
     },
     "execution_count": 55,
     "metadata": {},
     "output_type": "execute_result"
    }
   ],
   "source": [
    "receiver.decrypt(scam_cipher)"
   ]
  },
  {
   "attachments": {},
   "cell_type": "markdown",
   "metadata": {},
   "source": [
    "### Authentication\n"
   ]
  },
  {
   "attachments": {},
   "cell_type": "markdown",
   "metadata": {},
   "source": [
    "#### Encryption"
   ]
  },
  {
   "cell_type": "code",
   "execution_count": 56,
   "metadata": {},
   "outputs": [
    {
     "data": {
      "text/plain": [
       "\"<LIEJC3GFK&H vM;%!vD{'&3|3C!&t733wDC%\\n3Cxx%c3xxx\\t |t\\t|vA|3%3gT3U{%\\tu!3x!43\\t[\""
      ]
     },
     "execution_count": 56,
     "metadata": {},
     "output_type": "execute_result"
    }
   ],
   "source": [
    "signed_message = sender.sign(plain_message) # encrypt with sender.priv\n",
    "cipher_signed = sender.encrypt(signed_message, key=receiver.pub)\n",
    "cipher_signed"
   ]
  },
  {
   "cell_type": "code",
   "execution_count": 57,
   "metadata": {},
   "outputs": [
    {
     "data": {
      "text/plain": [
       "True"
      ]
     },
     "execution_count": 57,
     "metadata": {},
     "output_type": "execute_result"
    }
   ],
   "source": [
    "sender.sign(plain_message) == sender.decrypt(plain_message)"
   ]
  },
  {
   "cell_type": "code",
   "execution_count": 58,
   "metadata": {},
   "outputs": [
    {
     "data": {
      "text/plain": [
       "'KkL=C<\\t]K9J?G>HIkFFFEZ3G;D3MMS&O!p\\' 9~vIv=%:3t]e|F{=!,3&JY&83XCACCvlDx7t\\n\\nx3:?3<w[%Wx &)3hx?xdt%!*\\t$cKxfA3Yqv3|u3QT\\t+z%||_|U%3Y\"{Mg?u?43G.!}U!\\t5!3]k\\tQx['"
      ]
     },
     "execution_count": 58,
     "metadata": {},
     "output_type": "execute_result"
    }
   ],
   "source": [
    "with_noise = utils.add_noises(plain_message)\n",
    "signed_with_noise = sender.sign(with_noise) \n",
    "cipher_signed_with_noise = sender.encrypt(signed_with_noise, key=receiver.pub)\n",
    "cipher_signed_with_noise"
   ]
  },
  {
   "attachments": {},
   "cell_type": "markdown",
   "metadata": {},
   "source": [
    "##### Shortcut"
   ]
  },
  {
   "cell_type": "code",
   "execution_count": 59,
   "metadata": {},
   "outputs": [
    {
     "data": {
      "text/plain": [
       "True"
      ]
     },
     "execution_count": 59,
     "metadata": {},
     "output_type": "execute_result"
    }
   ],
   "source": [
    "cipher_signed == sender.sends(plain_message, _to=receiver.pub)"
   ]
  },
  {
   "cell_type": "code",
   "execution_count": 60,
   "metadata": {},
   "outputs": [
    {
     "data": {
      "text/plain": [
       "True"
      ]
     },
     "execution_count": 60,
     "metadata": {},
     "output_type": "execute_result"
    }
   ],
   "source": [
    "cipher_signed == sender.sends(plain_message, _to=receiver)"
   ]
  },
  {
   "cell_type": "code",
   "execution_count": 61,
   "metadata": {},
   "outputs": [
    {
     "data": {
      "text/plain": [
       "'NoIsYnOiSyz)LSC<5?K%J GmHIhGFOE\"3\\';D*iMU&-!U\\' *Pv1vO%R3t\\t;|5{[!$3&I;&@3,C?CC@gDD7A\\n?x3If3kwJ%ix 7K3uxFx3t%-g\\t\\nc5x8A3gSv=|Y3?T\\thv%%|)|N%3?N{\\tg-u<43>+!cUs\\t*!306\\tWx[NoIsYnOiSy'"
      ]
     },
     "execution_count": 61,
     "metadata": {},
     "output_type": "execute_result"
    }
   ],
   "source": [
    "cipher_signed_with_noise_bis = sender.sends(plain_message, _to=receiver, _with_noises=True)\n",
    "cipher_signed_with_noise_bis"
   ]
  },
  {
   "cell_type": "code",
   "execution_count": 62,
   "metadata": {},
   "outputs": [
    {
     "data": {
      "text/plain": [
       "'z)LSC<5?K%J GmHIhGFOE\"3\\';D*iMU&-!U\\' *Pv1vO%R3t\\t;|5{[!$3&I;&@3,C?CC@gDD7A\\n?x3If3kwJ%ix 7K3uxFx3t%-g\\t\\nc5x8A3gSv=|Y3?T\\thv%%|)|N%3?N{\\tg-u<43>+!cUs\\t*!306\\tWx['"
      ]
     },
     "execution_count": 62,
     "metadata": {},
     "output_type": "execute_result"
    }
   ],
   "source": [
    "cipher_signed_with_noise_bis[10:-10] # trim NoIsYnOiSy"
   ]
  },
  {
   "cell_type": "code",
   "execution_count": 63,
   "metadata": {},
   "outputs": [
    {
     "data": {
      "text/plain": [
       "False"
      ]
     },
     "execution_count": 63,
     "metadata": {},
     "output_type": "execute_result"
    }
   ],
   "source": [
    "cipher_signed_with_noise == cipher_signed_with_noise_bis[10:-10]"
   ]
  },
  {
   "attachments": {},
   "cell_type": "markdown",
   "metadata": {},
   "source": [
    "##### Q: Do you know why is it `False`?"
   ]
  },
  {
   "attachments": {},
   "cell_type": "markdown",
   "metadata": {},
   "source": [
    "#### Decryption"
   ]
  },
  {
   "cell_type": "code",
   "execution_count": 64,
   "metadata": {},
   "outputs": [
    {
     "data": {
      "text/plain": [
       "'Hello Bob! This is Alice. Please send me $1000 to this account: (1234567890)'"
      ]
     },
     "execution_count": 64,
     "metadata": {},
     "output_type": "execute_result"
    }
   ],
   "source": [
    "signed_message = receiver.decrypt(cipher_signed)\n",
    "receiver.encrypt(signed_message, key=sender.pub)"
   ]
  },
  {
   "cell_type": "code",
   "execution_count": 65,
   "metadata": {},
   "outputs": [
    {
     "data": {
      "text/plain": [
       "'Hello Bob! This is Alice. Please send me $1000 to this account: (1234567890)'"
      ]
     },
     "execution_count": 65,
     "metadata": {},
     "output_type": "execute_result"
    }
   ],
   "source": [
    "signed_message_with_noise = receiver.decrypt(cipher_signed_with_noise)\n",
    "message_with_noise = receiver.encrypt(signed_message_with_noise, key=sender.pub) # unsign\n",
    "utils.remove_noises(message_with_noise)"
   ]
  },
  {
   "cell_type": "code",
   "execution_count": 66,
   "metadata": {},
   "outputs": [
    {
     "data": {
      "text/plain": [
       "'Hello Bob! This is Alice. Please send me $1000 to this account: (1234567890)'"
      ]
     },
     "execution_count": 66,
     "metadata": {},
     "output_type": "execute_result"
    }
   ],
   "source": [
    "trimmed_cipher_signed_with_noise = cipher_signed_with_noise_bis[10:-10]\n",
    "signed_message_with_noise = receiver.decrypt(trimmed_cipher_signed_with_noise)\n",
    "message_with_noise = receiver.encrypt(signed_message_with_noise, key=sender.pub) # unsign\n",
    "utils.remove_noises(message_with_noise)"
   ]
  },
  {
   "attachments": {},
   "cell_type": "markdown",
   "metadata": {},
   "source": [
    "##### Shortcut"
   ]
  },
  {
   "cell_type": "code",
   "execution_count": 67,
   "metadata": {},
   "outputs": [
    {
     "data": {
      "text/plain": [
       "'Hello Bob! This is Alice. Please send me $1000 to this account: (1234567890)'"
      ]
     },
     "execution_count": 67,
     "metadata": {},
     "output_type": "execute_result"
    }
   ],
   "source": [
    "receiver.gets(cipher_signed, _from=sender.pub)"
   ]
  },
  {
   "cell_type": "code",
   "execution_count": 68,
   "metadata": {},
   "outputs": [
    {
     "data": {
      "text/plain": [
       "'Hello Bob! This is Alice. Please send me $1000 to this account: (1234567890)'"
      ]
     },
     "execution_count": 68,
     "metadata": {},
     "output_type": "execute_result"
    }
   ],
   "source": [
    "utils.remove_noises(receiver.gets(cipher_signed_with_noise, _from=sender))"
   ]
  },
  {
   "cell_type": "code",
   "execution_count": 69,
   "metadata": {},
   "outputs": [
    {
     "data": {
      "text/plain": [
       "'Hello Bob! This is Alice. Please send me $1000 to this account: (1234567890)'"
      ]
     },
     "execution_count": 69,
     "metadata": {},
     "output_type": "execute_result"
    }
   ],
   "source": [
    "receiver.gets(cipher_signed_with_noise_bis, _from=sender)"
   ]
  },
  {
   "attachments": {},
   "cell_type": "markdown",
   "metadata": {},
   "source": [
    "#### Attacks"
   ]
  },
  {
   "attachments": {},
   "cell_type": "markdown",
   "metadata": {},
   "source": [
    "##### Reading Attack\n"
   ]
  },
  {
   "cell_type": "code",
   "execution_count": 70,
   "metadata": {},
   "outputs": [
    {
     "data": {
      "text/plain": [
       "'1D9p|Rv=Rnl$m\"=^.^72N}Sw#My6^SzJ($:}ORosMozM75!6BX!B;6w20;D0SKVBx2UBD[#b\\'($x'"
      ]
     },
     "execution_count": 70,
     "metadata": {},
     "output_type": "execute_result"
    }
   ],
   "source": [
    "crypto.read_from_rsa_convert(hacker.decrypt(cipher_signed))"
   ]
  },
  {
   "cell_type": "code",
   "execution_count": 71,
   "metadata": {},
   "outputs": [
    {
     "data": {
      "text/plain": [
       "')96270 438t5nc:(soc1hut i 0ota$  d10sm 0eesP eeelnialic.i s TA Bhslbo eo! lH'"
      ]
     },
     "execution_count": 71,
     "metadata": {},
     "output_type": "execute_result"
    }
   ],
   "source": [
    "hacker.encrypt(cipher_signed, key=sender.pub)"
   ]
  },
  {
   "cell_type": "code",
   "execution_count": 72,
   "metadata": {},
   "outputs": [
    {
     "data": {
      "text/plain": [
       "\"[3x\\t!\\tU!u4T3g|3{|%3%t3|x\\tvc\\txAx x%%3w3\\nx3C7C3D3&!C't{%&|vv!3HD&3 MEFG;LJKCI<\""
      ]
     },
     "execution_count": 72,
     "metadata": {},
     "output_type": "execute_result"
    }
   ],
   "source": [
    "hacker.encrypt(cipher_signed, key=receiver.pub)"
   ]
  },
  {
   "cell_type": "code",
   "execution_count": 73,
   "metadata": {},
   "outputs": [
    {
     "data": {
      "text/plain": [
       "']\"$x(\\n\\'#B[bUx2BDVS;0K0w26D;!6XB!75MBzMRsoO:}$o(z6SJy#Mw^SN^2}.=^\"7\\\\$Rlm=Rv|npD\\n19\"['"
      ]
     },
     "execution_count": 73,
     "metadata": {},
     "output_type": "execute_result"
    }
   ],
   "source": [
    "hacker.sends(cipher_signed, _to=receiver.pub)\n"
   ]
  },
  {
   "cell_type": "code",
   "execution_count": 74,
   "metadata": {},
   "outputs": [
    {
     "data": {
      "text/plain": [
       "'Hmp\\t1&]i?c*?[YrZIp*K|K$\\n;j@dq:f#K@g7vr\\'j<?\\\\`:\\\\g:$\"o#/Eo/(#d\\n~(1~@8C/e\\nB/1HqOuvrepmJ'"
      ]
     },
     "execution_count": 74,
     "metadata": {},
     "output_type": "execute_result"
    }
   ],
   "source": [
    "hacker.gets(cipher_signed, _from=alice)\n"
   ]
  },
  {
   "cell_type": "code",
   "execution_count": 75,
   "metadata": {},
   "outputs": [
    {
     "data": {
      "text/plain": [
       "']\"$x(\\n\\'#B[bUx2BDVS;0K0w26D;!6XB!75MBzMRsoO:}$o(z6SJy#Mw^SN^2}.=^\"7\\\\$Rlm=Rv|npD\\n19\"['"
      ]
     },
     "execution_count": 75,
     "metadata": {},
     "output_type": "execute_result"
    }
   ],
   "source": [
    "hacker.gets(cipher_signed, _from=bob)\n"
   ]
  },
  {
   "attachments": {},
   "cell_type": "markdown",
   "metadata": {},
   "source": [
    "##### Sending Attack\n"
   ]
  },
  {
   "cell_type": "code",
   "execution_count": 76,
   "metadata": {},
   "outputs": [
    {
     "name": "stdout",
     "output_type": "stream",
     "text": [
      "\n",
      "Original:\n",
      "========\n",
      "Hello Bob! This is Alice. Please send me $1000 to this account: (1234567890)\n",
      "\n",
      "Scam:\n",
      "=====\n",
      "Hello Bob! This is Alice. Please send me $1000 to this account: (0987654321)\n",
      "\n"
     ]
    }
   ],
   "source": [
    "print(f\"\"\"\n",
    "Original:\n",
    "========\n",
    "{plain_message}\n",
    "\n",
    "Scam:\n",
    "=====\n",
    "{scam_message}\n",
    "\"\"\"\n",
    ")"
   ]
  },
  {
   "cell_type": "code",
   "execution_count": 77,
   "metadata": {},
   "outputs": [
    {
     "data": {
      "text/plain": [
       "'5RYY\\\\n/\\\\OonAUV`nV`n.YVPR|n=YRN`Rn`R[QnZRnr\\t~~~na\\\\naUV`nNPP\\\\b[a\\'nv~&%$#\"! \\n\\tw'"
      ]
     },
     "execution_count": 77,
     "metadata": {},
     "output_type": "execute_result"
    }
   ],
   "source": [
    "non_signed_scam = hacker.encrypt(scam_message, key=receiver.pub)\n",
    "\n",
    "receiver.gets(non_signed_scam, _from=sender)"
   ]
  },
  {
   "cell_type": "code",
   "execution_count": 78,
   "metadata": {},
   "outputs": [
    {
     "data": {
      "text/plain": [
       "'dpltom[rsnuHc=kqMI=NCN[[;OkINBl[k>k[MG[_[M?*H???F?=FiC[;C[MCB[M}[|F<I.FI\\\\?[\"'"
      ]
     },
     "execution_count": 78,
     "metadata": {},
     "output_type": "execute_result"
    }
   ],
   "source": [
    "non_signed_scam = hacker.encrypt(scam_message, key=sender.pub)\n",
    "\n",
    "receiver.gets(non_signed_scam, _from=sender)"
   ]
  },
  {
   "cell_type": "code",
   "execution_count": 79,
   "metadata": {},
   "outputs": [
    {
     "data": {
      "text/plain": [
       "'Hmp/uCII.}v!?x%CK%IIrSIp(2q$WJQ)--M<%Lv&j0L%a%d1N$b3)Qn*?8s\\\\9u%zW.{rs=-gT//WbIawggbpmJ'"
      ]
     },
     "execution_count": 79,
     "metadata": {},
     "output_type": "execute_result"
    }
   ],
   "source": [
    "signed_scam = hacker.sends(scam_message, _to=receiver)\n",
    "\n",
    "receiver.gets(signed_scam, _from=sender)"
   ]
  },
  {
   "attachments": {},
   "cell_type": "markdown",
   "metadata": {},
   "source": [
    "##### Possible Weakness"
   ]
  },
  {
   "cell_type": "code",
   "execution_count": 80,
   "metadata": {},
   "outputs": [
    {
     "data": {
      "text/plain": [
       "\"<EHLGD3JKF&I vM;%!vC{'&3|3C!&t733wDC%\\n3Cxx%c3xxx\\t |t\\t|vA|3%3gT3U{%\\tu!3x!43\\t[\""
      ]
     },
     "execution_count": 80,
     "metadata": {},
     "output_type": "execute_result"
    }
   ],
   "source": [
    "_, leaked_sender_priv = akey  # key of alice = expected sender\n",
    "\n",
    "fake_signed_scam = hacker.encrypt(scam_message, leaked_sender_priv)\n",
    "cipher_fake_signed_scam = hacker.encrypt(fake_signed_scam, receiver.pub)\n",
    "cipher_fake_signed_scam"
   ]
  },
  {
   "cell_type": "code",
   "execution_count": 81,
   "metadata": {},
   "outputs": [
    {
     "data": {
      "text/plain": [
       "'Hello Bob! This is Alice. Please send me $1000 to this account: (0987654321)'"
      ]
     },
     "execution_count": 81,
     "metadata": {},
     "output_type": "execute_result"
    }
   ],
   "source": [
    "receiver.gets(cipher_fake_signed_scam, _from=sender)"
   ]
  },
  {
   "attachments": {},
   "cell_type": "markdown",
   "metadata": {},
   "source": [
    "# Blockchain\n"
   ]
  },
  {
   "cell_type": "code",
   "execution_count": 82,
   "metadata": {},
   "outputs": [],
   "source": [
    "from bcbcpy import blockchain"
   ]
  },
  {
   "attachments": {},
   "cell_type": "markdown",
   "metadata": {},
   "source": [
    "## Recap: Data Structure"
   ]
  },
  {
   "attachments": {},
   "cell_type": "markdown",
   "metadata": {},
   "source": [
    "### List - Array"
   ]
  },
  {
   "cell_type": "code",
   "execution_count": null,
   "metadata": {},
   "outputs": [],
   "source": []
  },
  {
   "attachments": {},
   "cell_type": "markdown",
   "metadata": {},
   "source": [
    "### Linked List"
   ]
  },
  {
   "cell_type": "code",
   "execution_count": null,
   "metadata": {},
   "outputs": [],
   "source": []
  },
  {
   "attachments": {},
   "cell_type": "markdown",
   "metadata": {},
   "source": [
    "## Block"
   ]
  },
  {
   "cell_type": "code",
   "execution_count": 83,
   "metadata": {},
   "outputs": [],
   "source": [
    "from bcbcpy.blockchain.block import InitialBlock, Block"
   ]
  },
  {
   "attachments": {},
   "cell_type": "markdown",
   "metadata": {},
   "source": [
    "### Initial Block"
   ]
  },
  {
   "cell_type": "code",
   "execution_count": 84,
   "metadata": {},
   "outputs": [],
   "source": [
    "init_block = InitialBlock(initial_data=\"initial data\")"
   ]
  },
  {
   "cell_type": "code",
   "execution_count": 85,
   "metadata": {},
   "outputs": [
    {
     "data": {
      "text/plain": [
       "'initial data'"
      ]
     },
     "execution_count": 85,
     "metadata": {},
     "output_type": "execute_result"
    }
   ],
   "source": [
    "init_block.data"
   ]
  },
  {
   "cell_type": "code",
   "execution_count": 86,
   "metadata": {},
   "outputs": [
    {
     "data": {
      "text/plain": [
       "'00002d64bd7129caa2aa8ec458081519ac26034158e60962f6fd1428e22b1036'"
      ]
     },
     "execution_count": 86,
     "metadata": {},
     "output_type": "execute_result"
    }
   ],
   "source": [
    "init_block.hash"
   ]
  },
  {
   "cell_type": "code",
   "execution_count": 87,
   "metadata": {},
   "outputs": [
    {
     "data": {
      "text/plain": [
       "{\n",
       "    \"prev_hash\": \"\",\n",
       "    \"hash\": \"00002d64bd7129caa2aa8ec458081519ac26034158e60962f6fd1428e22b1036\",\n",
       "    \"data\": \"initial data\",\n",
       "    \"nonce\": 26206\n",
       "}"
      ]
     },
     "execution_count": 87,
     "metadata": {},
     "output_type": "execute_result"
    }
   ],
   "source": [
    "init_block"
   ]
  },
  {
   "attachments": {},
   "cell_type": "markdown",
   "metadata": {},
   "source": [
    "### Block Data"
   ]
  },
  {
   "cell_type": "code",
   "execution_count": 88,
   "metadata": {},
   "outputs": [
    {
     "data": {
      "text/plain": [
       "{\n",
       "    \"prev_hash\": \"00002d64bd7129caa2aa8ec458081519ac26034158e60962f6fd1428e22b1036\",\n",
       "    \"hash\": \"ac19b9c98cc9a1655bd66662c552b8667c2140a451ce635b24aa2fdf34555aea\",\n",
       "    \"data\": \"second data\",\n",
       "    \"nonce\": 0\n",
       "}"
      ]
     },
     "execution_count": 88,
     "metadata": {},
     "output_type": "execute_result"
    }
   ],
   "source": [
    "second_block = Block(data=\"second data\", prev_block= init_block)\n",
    "second_block"
   ]
  },
  {
   "cell_type": "code",
   "execution_count": 89,
   "metadata": {},
   "outputs": [
    {
     "data": {
      "text/plain": [
       "False"
      ]
     },
     "execution_count": 89,
     "metadata": {},
     "output_type": "execute_result"
    }
   ],
   "source": [
    "second_block.is_valid()"
   ]
  },
  {
   "cell_type": "code",
   "execution_count": 90,
   "metadata": {},
   "outputs": [
    {
     "data": {
      "text/plain": [
       "{\n",
       "    \"prev_hash\": \"00002d64bd7129caa2aa8ec458081519ac26034158e60962f6fd1428e22b1036\",\n",
       "    \"hash\": \"0000f1a7cc9b3335858fdc615b274e07568931de65e82fb991ac257e168b89c1\",\n",
       "    \"data\": \"second data\",\n",
       "    \"nonce\": 12005\n",
       "}"
      ]
     },
     "execution_count": 90,
     "metadata": {},
     "output_type": "execute_result"
    }
   ],
   "source": [
    "second_block.mine()\n",
    "second_block"
   ]
  },
  {
   "cell_type": "code",
   "execution_count": 91,
   "metadata": {},
   "outputs": [
    {
     "data": {
      "text/plain": [
       "True"
      ]
     },
     "execution_count": 91,
     "metadata": {},
     "output_type": "execute_result"
    }
   ],
   "source": [
    "second_block.is_valid()"
   ]
  },
  {
   "cell_type": "code",
   "execution_count": 92,
   "metadata": {},
   "outputs": [
    {
     "data": {
      "text/plain": [
       "{\n",
       "    \"prev_hash\": \"0000f1a7cc9b3335858fdc615b274e07568931de65e82fb991ac257e168b89c1\",\n",
       "    \"hash\": \"f94643bbf3edffb31b549ce63a5adbd4542b7e3b6d45f32ae69da4f9bc87b6f7\",\n",
       "    \"data\": \"third data\",\n",
       "    \"nonce\": 0\n",
       "}"
      ]
     },
     "execution_count": 92,
     "metadata": {},
     "output_type": "execute_result"
    }
   ],
   "source": [
    "third_block = Block(\"third data\", prev_block= second_block)\n",
    "third_block"
   ]
  },
  {
   "cell_type": "code",
   "execution_count": 93,
   "metadata": {},
   "outputs": [
    {
     "data": {
      "text/plain": [
       "{\n",
       "    \"prev_hash\": \"0000f1a7cc9b3335858fdc615b274e07568931de65e82fb991ac257e168b89c1\",\n",
       "    \"hash\": \"0000eecdfce497ff979154b54ddb7f8fe0114683c0102afb900cd93497951e80\",\n",
       "    \"data\": \"third data\",\n",
       "    \"nonce\": 2917\n",
       "}"
      ]
     },
     "execution_count": 93,
     "metadata": {},
     "output_type": "execute_result"
    }
   ],
   "source": [
    "third_block.mine()\n",
    "third_block"
   ]
  },
  {
   "cell_type": "code",
   "execution_count": 94,
   "metadata": {},
   "outputs": [
    {
     "data": {
      "text/plain": [
       "{\n",
       "    \"prev_hash\": \"0000eecdfce497ff979154b54ddb7f8fe0114683c0102afb900cd93497951e80\",\n",
       "    \"hash\": \"00003e75b774fcf431090692c595e06fa5d05bc7730a63673e4e4304eb4faf6a\",\n",
       "    \"data\": \"forth data\",\n",
       "    \"nonce\": 101056\n",
       "}"
      ]
     },
     "execution_count": 94,
     "metadata": {},
     "output_type": "execute_result"
    }
   ],
   "source": [
    "forth_block = Block(\"forth data\", third_block)\n",
    "forth_block.mine()\n",
    "forth_block"
   ]
  },
  {
   "cell_type": "code",
   "execution_count": 95,
   "metadata": {},
   "outputs": [
    {
     "data": {
      "text/plain": [
       "{\n",
       "    \"prev_hash\": \"00003e75b774fcf431090692c595e06fa5d05bc7730a63673e4e4304eb4faf6a\",\n",
       "    \"hash\": \"0000d8cb89717a6b1904bf4f44aab11529b3ee378d0256620f608c3dd73694b9\",\n",
       "    \"data\": \"fifth block\",\n",
       "    \"nonce\": 34705\n",
       "}"
      ]
     },
     "execution_count": 95,
     "metadata": {},
     "output_type": "execute_result"
    }
   ],
   "source": [
    "fifth_block = Block(\"fifth block\", forth_block)\n",
    "fifth_block.mine()\n",
    "fifth_block"
   ]
  },
  {
   "cell_type": "code",
   "execution_count": 96,
   "metadata": {},
   "outputs": [
    {
     "data": {
      "text/plain": [
       "(True, True, True, True, True)"
      ]
     },
     "execution_count": 96,
     "metadata": {},
     "output_type": "execute_result"
    }
   ],
   "source": [
    "init_block.is_valid(), second_block.is_valid(), third_block.is_valid(), forth_block.is_valid(), fifth_block.is_valid()"
   ]
  },
  {
   "attachments": {},
   "cell_type": "markdown",
   "metadata": {},
   "source": [
    "### Making some change in past data"
   ]
  },
  {
   "cell_type": "code",
   "execution_count": 97,
   "metadata": {},
   "outputs": [
    {
     "data": {
      "text/plain": [
       "{\n",
       "    \"prev_hash\": \"0000f1a7cc9b3335858fdc615b274e07568931de65e82fb991ac257e168b89c1\",\n",
       "    \"hash\": \"66ad1a8ee995ddbcaaf131585222c10a396a960f0c441578d5613417fa5d107a\",\n",
       "    \"data\": \"not third data\",\n",
       "    \"nonce\": 2917\n",
       "}"
      ]
     },
     "execution_count": 97,
     "metadata": {},
     "output_type": "execute_result"
    }
   ],
   "source": [
    "third_block.data = \"not third data\"\n",
    "third_block"
   ]
  },
  {
   "cell_type": "code",
   "execution_count": 98,
   "metadata": {},
   "outputs": [
    {
     "data": {
      "text/plain": [
       "(True, True, False, False, False)"
      ]
     },
     "execution_count": 98,
     "metadata": {},
     "output_type": "execute_result"
    }
   ],
   "source": [
    "init_block.is_valid(), second_block.is_valid(), third_block.is_valid(), forth_block.is_valid(), fifth_block.is_valid()"
   ]
  },
  {
   "cell_type": "code",
   "execution_count": 99,
   "metadata": {},
   "outputs": [
    {
     "data": {
      "text/plain": [
       "(True, True, True, True, True)"
      ]
     },
     "execution_count": 99,
     "metadata": {},
     "output_type": "execute_result"
    }
   ],
   "source": [
    "third_block.data = \"third data\"\n",
    "init_block.is_valid(), second_block.is_valid(), third_block.is_valid(), forth_block.is_valid(), fifth_block.is_valid()"
   ]
  },
  {
   "cell_type": "code",
   "execution_count": 100,
   "metadata": {},
   "outputs": [
    {
     "data": {
      "text/plain": [
       "True"
      ]
     },
     "execution_count": 100,
     "metadata": {},
     "output_type": "execute_result"
    }
   ],
   "source": [
    "third_block.data = \"not third data\"\n",
    "third_block.mine()\n",
    "third_block.is_valid()"
   ]
  },
  {
   "cell_type": "code",
   "execution_count": 101,
   "metadata": {},
   "outputs": [
    {
     "data": {
      "text/plain": [
       "(True, True, True, False, False)"
      ]
     },
     "execution_count": 101,
     "metadata": {},
     "output_type": "execute_result"
    }
   ],
   "source": [
    "init_block.is_valid(), second_block.is_valid(), third_block.is_valid(), forth_block.is_valid(), fifth_block.is_valid()"
   ]
  },
  {
   "cell_type": "code",
   "execution_count": 102,
   "metadata": {},
   "outputs": [
    {
     "data": {
      "text/plain": [
       "(True, True, False, False, False)"
      ]
     },
     "execution_count": 102,
     "metadata": {},
     "output_type": "execute_result"
    }
   ],
   "source": [
    "third_block.data = \"third data\"\n",
    "init_block.is_valid(), second_block.is_valid(), third_block.is_valid(), forth_block.is_valid(), fifth_block.is_valid()"
   ]
  },
  {
   "attachments": {},
   "cell_type": "markdown",
   "metadata": {},
   "source": [
    "## Blockchain"
   ]
  },
  {
   "attachments": {},
   "cell_type": "markdown",
   "metadata": {},
   "source": [
    "A submodule is available at \n",
    "```python\n",
    "from bcbcpy.blockchain import chain\n",
    "```"
   ]
  },
  {
   "attachments": {},
   "cell_type": "markdown",
   "metadata": {},
   "source": [
    "### Root"
   ]
  },
  {
   "cell_type": "code",
   "execution_count": 103,
   "metadata": {},
   "outputs": [
    {
     "data": {
      "text/plain": [
       "{\n",
       "    \"root_block\": {\n",
       "        \"hash\": \"0000a456e7b5a5eb059e721fb431436883143101275c4077f83fe70298f5623d\",\n",
       "        \"data\": \"\"\n",
       "    }\n",
       "}"
      ]
     },
     "execution_count": 103,
     "metadata": {},
     "output_type": "execute_result"
    }
   ],
   "source": [
    "blockchain.RootChain()"
   ]
  },
  {
   "cell_type": "code",
   "execution_count": 104,
   "metadata": {},
   "outputs": [
    {
     "data": {
      "text/plain": [
       "{\n",
       "    \"root_block\": {\n",
       "        \"hash\": \"0000579da420f2b62497716cc60e95a0f7ad46336c42062b7485a27fd91d99f0\",\n",
       "        \"data\": \"{\\n    \\\"INITIAL ...\"\n",
       "    }\n",
       "}"
      ]
     },
     "execution_count": 104,
     "metadata": {},
     "output_type": "execute_result"
    }
   ],
   "source": [
    "initial_data = {\"INITIAL AGREEMENT\": {\"Bob\": 1000, \"Alice\": 500}}\n",
    "\n",
    "initial_data_string = utils.obj2txt(initial_data, indent=4)\n",
    "root_chain = blockchain.RootChain(initial_data_string, difficulty=4)\n",
    "\n",
    "root_chain"
   ]
  },
  {
   "attachments": {},
   "cell_type": "markdown",
   "metadata": {},
   "source": [
    "### Chain"
   ]
  },
  {
   "cell_type": "code",
   "execution_count": 105,
   "metadata": {},
   "outputs": [
    {
     "data": {
      "text/plain": [
       "{\n",
       "    \"prev_hash\": \"0000579da420f2b62497716cc60e95a0f7ad46336c42062b7485a27fd91d99f0\",\n",
       "    \"hash\": \"73095d20a662a26d26eec210c0dc51c34816098cdab05f941487ee5e8133d6ad\",\n",
       "    \"data\": \"new block\",\n",
       "    \"nonce\": 0\n",
       "}"
      ]
     },
     "execution_count": 105,
     "metadata": {},
     "output_type": "execute_result"
    }
   ],
   "source": [
    "prev_block = root_chain.last_block\n",
    "new_block = Block(\"new block\", prev_block)\n",
    "new_block"
   ]
  },
  {
   "attachments": {},
   "cell_type": "markdown",
   "metadata": {},
   "source": [
    "---"
   ]
  },
  {
   "attachments": {},
   "cell_type": "markdown",
   "metadata": {},
   "source": [
    "```python\n",
    "root_chain.add_block(\n",
    "  new_block\n",
    ")\n",
    "```"
   ]
  },
  {
   "attachments": {},
   "cell_type": "markdown",
   "metadata": {},
   "source": [
    "---\n",
    "```sh\n",
    " ---------------------------------------------------------------------------\n",
    " AssertionError                            Traceback (most recent call last)\n",
    " /var/folders/x4/45r2t3bx5l3dc_b3tm_yz7380000gn/T/ipykernel_26354/943714534.py in <cell line: 1>()\n",
    " ----> 1 root_chain.add_block(\n",
    "       2     new_block\n",
    "       3 )\n",
    "\n",
    " ~/Desktop/BootCamp-BlockChain-and-Python/src/bcbcpy/blockchain/chain.py in add_block(self, block)\n",
    "      26             self.last_block is block.prev_block\n",
    "      27         ), \"Incompatible block to the head block of the chain.\"\n",
    " ---> 28         assert block.is_valid(), \"Block is not valid.\"\n",
    "      29         self.last_block = block\n",
    "      30 \n",
    "\n",
    " AssertionError: Block is not valid.\n",
    " \n",
    "```\n",
    "---"
   ]
  },
  {
   "cell_type": "code",
   "execution_count": 106,
   "metadata": {},
   "outputs": [
    {
     "data": {
      "text/plain": [
       "{\n",
       "    \"prev_hash\": \"0000579da420f2b62497716cc60e95a0f7ad46336c42062b7485a27fd91d99f0\",\n",
       "    \"hash\": \"00007b581d241fea3fb8bf4c7c5c1941af9abb3a5ce05abb97b4521d34bab727\",\n",
       "    \"data\": \"new block\",\n",
       "    \"nonce\": 2823\n",
       "}"
      ]
     },
     "execution_count": 106,
     "metadata": {},
     "output_type": "execute_result"
    }
   ],
   "source": [
    "new_block.mine() # validation\n",
    "new_block"
   ]
  },
  {
   "cell_type": "code",
   "execution_count": 107,
   "metadata": {},
   "outputs": [],
   "source": [
    "root_chain.add_block(\n",
    "    new_block\n",
    ")"
   ]
  },
  {
   "cell_type": "code",
   "execution_count": 108,
   "metadata": {},
   "outputs": [
    {
     "data": {
      "text/plain": [
       "{\n",
       "    \"root_block\": {\n",
       "        \"hash\": \"0000579da420f2b62497716cc60e95a0f7ad46336c42062b7485a27fd91d99f0\",\n",
       "        \"data\": \"{\\n    \\\"INITIAL ...\"\n",
       "    },\n",
       "    \"last_block\": {\n",
       "        \"hash\": \"00007b581d241fea3fb8bf4c7c5c1941af9abb3a5ce05abb97b4521d34bab727\",\n",
       "        \"data\": \"new block\"\n",
       "    }\n",
       "}"
      ]
     },
     "execution_count": 108,
     "metadata": {},
     "output_type": "execute_result"
    }
   ],
   "source": [
    "root_chain"
   ]
  },
  {
   "cell_type": "code",
   "execution_count": 109,
   "metadata": {},
   "outputs": [
    {
     "data": {
      "text/plain": [
       "{\n",
       "    \"root_block\": {\n",
       "        \"hash\": \"000015420debcdd55c00babc9c3a5a9c4ab22280cf9a6874986c427281dd79b9\",\n",
       "        \"data\": \"local network\"\n",
       "    }\n",
       "}"
      ]
     },
     "execution_count": 109,
     "metadata": {},
     "output_type": "execute_result"
    }
   ],
   "source": [
    "chain = blockchain.Chain(root_chain=root_chain, info=\"local network\")\n",
    "chain"
   ]
  },
  {
   "attachments": {},
   "cell_type": "markdown",
   "metadata": {},
   "source": [
    "## Transaction\n"
   ]
  },
  {
   "cell_type": "code",
   "execution_count": 110,
   "metadata": {},
   "outputs": [],
   "source": [
    "from bcbcpy.blockchain.block import transaction"
   ]
  },
  {
   "attachments": {},
   "cell_type": "markdown",
   "metadata": {},
   "source": [
    "### Nodes setup"
   ]
  },
  {
   "cell_type": "code",
   "execution_count": 111,
   "metadata": {},
   "outputs": [],
   "source": [
    "from bcbcpy.blockchain.node import Node\n",
    "\n",
    "\n",
    "alice = Node(crypto.PermutationKey.generate_key(10), \"Alice\")\n",
    "bob = Node(crypto.PermutationKey.generate_key(10), \"Bob\")\n",
    "other_person_in_the_network = Node(crypto.PermutationKey.generate_key(10))"
   ]
  },
  {
   "attachments": {},
   "cell_type": "markdown",
   "metadata": {},
   "source": [
    "### Transaction Data"
   ]
  },
  {
   "cell_type": "code",
   "execution_count": 112,
   "metadata": {},
   "outputs": [],
   "source": [
    "assets = 1000\n",
    "sender = bob\n",
    "receiver = alice\n",
    "\n",
    "transaction_message = (\"\"\"\n",
    "Hello Alice, \n",
    "\n",
    "This is 1000 that you asked me to send last time.\n",
    "\n",
    "Bye,\n",
    "Bob.\n",
    "\"\"\"\n",
    ")"
   ]
  },
  {
   "cell_type": "code",
   "execution_count": 113,
   "metadata": {},
   "outputs": [],
   "source": [
    "receiver_id = receiver.id\n",
    "receiver_pub = receiver.pub\n",
    "\n",
    "prev_block = chain.last_block"
   ]
  },
  {
   "cell_type": "code",
   "execution_count": 114,
   "metadata": {},
   "outputs": [
    {
     "name": "stdout",
     "output_type": "stream",
     "text": [
      "{\n",
      "    \"timestamp\": \"2023-05-02T08:52:24.306510\",\n",
      "    \"sender_id\": \"Bob\",\n",
      "    \"receiver_id\": \"Alice\",\n",
      "    \"assets\": 1000,\n",
      "    \"prev_hash\": \"000015420debcdd55c00babc9c3a5a9c4ab22280cf9a6874986c427281dd79b9\",\n",
      "    \"sender_confirmation\": \",oe\\\\n}\\n.Bbetd\\\\n\\\"ninsalt s\\\\\\\\ ey e  kB. etuo0 hm sao00h  nmtialn\\\\cAdyTs iiollteH s \\\\,\\\"e1n:\\\"n_ssme\\\\enoarasangit\\\"c  \\n],t             9 1   \\n   , ,2  \\n   \\n \\n, 5       \\n4,     7  ,\\n     ,  \\n   6  \\n      ,8        \\n,       0        1\\n  3u :e\\\", la[uekb_\\nvp_yrieec_r\\\" v0\\n,00e 1  atess :\\\" sb\\n,9\\\"\\\" 97 48227 dc61978a6d8fc4422ab90c92b3cc98aabac55dd50bec045010d002h\\\"has0\\\"_v: \\\"    e\\n{pr\"\n",
      "}\n"
     ]
    }
   ],
   "source": [
    "transaction_data = transaction.TransactionData(\n",
    "    assets, sender, receiver_id, receiver_pub, prev_block, transaction_message\n",
    ")\n",
    "\n",
    "print(transaction_data)"
   ]
  },
  {
   "attachments": {},
   "cell_type": "markdown",
   "metadata": {},
   "source": [
    "### Transaction Block"
   ]
  },
  {
   "cell_type": "code",
   "execution_count": 115,
   "metadata": {},
   "outputs": [
    {
     "data": {
      "text/plain": [
       "{\n",
       "    \"prev_hash\": \"000015420debcdd55c00babc9c3a5a9c4ab22280cf9a6874986c427281dd79b9\",\n",
       "    \"hash\": \"a50260b9638bf511280628f38b3b51f319ff94bfbd537758714d0210782b4727\",\n",
       "    \"data\": \"{\\n    \\\"timestamp\\\": \\\"2023-05-02T08:52:24.306510\\\",\\n    \\\"sender_id\\\": \\\"Bob\\\",\\n    \\\"receiver_id\\\": \\\"Alice\\\",\\n    \\\"assets\\\": 1000,\\n    \\\"prev_hash\\\": \\\"000015420debcdd55c00babc9c3a5a9c4ab22280cf9a6874986c427281dd79b9\\\",\\n    \\\"sender_confirmation\\\": \\\",oe\\\\\\\\n}\\\\n.Bbetd\\\\\\\\n\\\\\\\"ninsalt s\\\\\\\\\\\\\\\\ ey e  kB. etuo0 hm sao00h  nmtialn\\\\\\\\cAdyTs iiollteH s \\\\\\\\,\\\\\\\"e1n:\\\\\\\"n_ssme\\\\\\\\enoarasangit\\\\\\\"c  \\\\n],t             9 1   \\\\n   , ,2  \\\\n   \\\\n \\\\n, 5       \\\\n4,     7  ,\\\\n     ,  \\\\n   6  \\\\n      ,8        \\\\n,       0        1\\\\n  3u :e\\\\\\\", la[uekb_\\\\nvp_yrieec_r\\\\\\\" v0\\\\n,00e 1  atess :\\\\\\\" sb\\\\n,9\\\\\\\"\\\\\\\" 97 48227 dc61978a6d8fc4422ab90c92b3cc98aabac55dd50bec045010d002h\\\\\\\"has0\\\\\\\"_v: \\\\\\\"    e\\\\n{pr\\\"\\n}\",\n",
       "    \"nonce\": 0\n",
       "}"
      ]
     },
     "execution_count": 115,
     "metadata": {},
     "output_type": "execute_result"
    }
   ],
   "source": [
    "transaction_block = blockchain.TransactionBlock(transaction_data)\n",
    "transaction_block"
   ]
  },
  {
   "attachments": {},
   "cell_type": "markdown",
   "metadata": {},
   "source": [
    "### Verification\n"
   ]
  },
  {
   "attachments": {},
   "cell_type": "markdown",
   "metadata": {},
   "source": [
    "#### Anyone in the network"
   ]
  },
  {
   "cell_type": "code",
   "execution_count": 116,
   "metadata": {},
   "outputs": [
    {
     "data": {
      "text/plain": [
       "{'timestamp': '2023-05-02T08:52:24.306510',\n",
       " 'sender_id': 'Bob',\n",
       " 'receiver_id': 'Alice',\n",
       " 'assets': 1000,\n",
       " 'prev_hash': '000015420debcdd55c00babc9c3a5a9c4ab22280cf9a6874986c427281dd79b9',\n",
       " 'sender_confirmation': ',oe\\\\n}\\n.Bbetd\\\\n\"ninsalt s\\\\\\\\ ey e  kB. etuo0 hm sao00h  nmtialn\\\\cAdyTs iiollteH s \\\\,\"e1n:\"n_ssme\\\\enoarasangit\"c  \\n],t             9 1   \\n   , ,2  \\n   \\n \\n, 5       \\n4,     7  ,\\n     ,  \\n   6  \\n      ,8        \\n,       0        1\\n  3u :e\", la[uekb_\\nvp_yrieec_r\" v0\\n,00e 1  atess :\" sb\\n,9\"\" 97 48227 dc61978a6d8fc4422ab90c92b3cc98aabac55dd50bec045010d002h\"has0\"_v: \"    e\\n{pr'}"
      ]
     },
     "execution_count": 116,
     "metadata": {},
     "output_type": "execute_result"
    }
   ],
   "source": [
    "data = utils.txt2obj(transaction_block.data)\n",
    "data"
   ]
  },
  {
   "cell_type": "code",
   "execution_count": 117,
   "metadata": {},
   "outputs": [
    {
     "data": {
      "text/plain": [
       "',oe\\\\n}\\n.Bbetd\\\\n\"ninsalt s\\\\\\\\ ey e  kB. etuo0 hm sao00h  nmtialn\\\\cAdyTs iiollteH s \\\\,\"e1n:\"n_ssme\\\\enoarasangit\"c  \\n],t             9 1   \\n   , ,2  \\n   \\n \\n, 5       \\n4,     7  ,\\n     ,  \\n   6  \\n      ,8        \\n,       0        1\\n  3u :e\", la[uekb_\\nvp_yrieec_r\" v0\\n,00e 1  atess :\" sb\\n,9\"\" 97 48227 dc61978a6d8fc4422ab90c92b3cc98aabac55dd50bec045010d002h\"has0\"_v: \"    e\\n{pr'"
      ]
     },
     "execution_count": 117,
     "metadata": {},
     "output_type": "execute_result"
    }
   ],
   "source": [
    "sender_confirmation=data[\"sender_confirmation\"]\n",
    "sender_confirmation"
   ]
  },
  {
   "cell_type": "code",
   "execution_count": 118,
   "metadata": {},
   "outputs": [
    {
     "data": {
      "text/plain": [
       "{'prev_hash': '000015420debcdd55c00babc9c3a5a9c4ab22280cf9a6874986c427281dd79b9',\n",
       " 'assets': 1000,\n",
       " 'receiver_pub_key_value': [3, 10, 8, 6, 7, 4, 5, 2, 1, 9],\n",
       " 'transaction_message': 'e,\\n\\n Hillois1esTlcA\\n tyit0  h0admasu h0oon e   k etm.e a stlyB\\nie\\ndts\\nB.,\\neob'}"
      ]
     },
     "execution_count": 118,
     "metadata": {},
     "output_type": "execute_result"
    }
   ],
   "source": [
    "confirmation_string = other_person_in_the_network.encrypt(sender_confirmation, key= bob.pub)\n",
    "confirmation = utils.txt2obj(confirmation_string)\n",
    "confirmation"
   ]
  },
  {
   "cell_type": "code",
   "execution_count": 119,
   "metadata": {},
   "outputs": [
    {
     "name": "stdout",
     "output_type": "stream",
     "text": [
      "[3, 10, 8, 6, 7, 4, 5, 2, 1, 9]\n",
      "000015420debcdd55c00babc9c3a5a9c4ab22280cf9a6874986c427281dd79b9\n"
     ]
    }
   ],
   "source": [
    "print(alice.pub)\n",
    "print(chain.hash)"
   ]
  },
  {
   "attachments": {},
   "cell_type": "markdown",
   "metadata": {},
   "source": [
    "#### Extra for Receiver"
   ]
  },
  {
   "cell_type": "code",
   "execution_count": 120,
   "metadata": {},
   "outputs": [
    {
     "name": "stdout",
     "output_type": "stream",
     "text": [
      "\n",
      "Hello Alice, \n",
      "\n",
      "This is 1000 that you asked me to send last time.\n",
      "\n",
      "Bye,\n",
      "Bob.\n",
      "\n"
     ]
    }
   ],
   "source": [
    "transaction_message = receiver.gets(confirmation[\"transaction_message\"], _from=sender)\n",
    "print(transaction_message)"
   ]
  },
  {
   "attachments": {},
   "cell_type": "markdown",
   "metadata": {},
   "source": [
    "### Block Validation"
   ]
  },
  {
   "cell_type": "code",
   "execution_count": 121,
   "metadata": {},
   "outputs": [
    {
     "data": {
      "text/plain": [
       "False"
      ]
     },
     "execution_count": 121,
     "metadata": {},
     "output_type": "execute_result"
    }
   ],
   "source": [
    "transaction_block.is_valid()"
   ]
  },
  {
   "cell_type": "code",
   "execution_count": 122,
   "metadata": {},
   "outputs": [
    {
     "data": {
      "text/plain": [
       "{\n",
       "    \"prev_hash\": \"000015420debcdd55c00babc9c3a5a9c4ab22280cf9a6874986c427281dd79b9\",\n",
       "    \"hash\": \"000045d22eb3915e2a225c4a94459a39f10883acc9f0a1824d526ede4e759d0d\",\n",
       "    \"data\": \"{\\n    \\\"timestamp\\\": \\\"2023-05-02T08:52:24.306510\\\",\\n    \\\"sender_id\\\": \\\"Bob\\\",\\n    \\\"receiver_id\\\": \\\"Alice\\\",\\n    \\\"assets\\\": 1000,\\n    \\\"prev_hash\\\": \\\"000015420debcdd55c00babc9c3a5a9c4ab22280cf9a6874986c427281dd79b9\\\",\\n    \\\"sender_confirmation\\\": \\\",oe\\\\\\\\n}\\\\n.Bbetd\\\\\\\\n\\\\\\\"ninsalt s\\\\\\\\\\\\\\\\ ey e  kB. etuo0 hm sao00h  nmtialn\\\\\\\\cAdyTs iiollteH s \\\\\\\\,\\\\\\\"e1n:\\\\\\\"n_ssme\\\\\\\\enoarasangit\\\\\\\"c  \\\\n],t             9 1   \\\\n   , ,2  \\\\n   \\\\n \\\\n, 5       \\\\n4,     7  ,\\\\n     ,  \\\\n   6  \\\\n      ,8        \\\\n,       0        1\\\\n  3u :e\\\\\\\", la[uekb_\\\\nvp_yrieec_r\\\\\\\" v0\\\\n,00e 1  atess :\\\\\\\" sb\\\\n,9\\\\\\\"\\\\\\\" 97 48227 dc61978a6d8fc4422ab90c92b3cc98aabac55dd50bec045010d002h\\\\\\\"has0\\\\\\\"_v: \\\\\\\"    e\\\\n{pr\\\"\\n}\",\n",
       "    \"nonce\": 11004\n",
       "}"
      ]
     },
     "execution_count": 122,
     "metadata": {},
     "output_type": "execute_result"
    }
   ],
   "source": [
    "transaction_block.mine()\n",
    "transaction_block"
   ]
  },
  {
   "cell_type": "code",
   "execution_count": 123,
   "metadata": {},
   "outputs": [
    {
     "data": {
      "text/plain": [
       "True"
      ]
     },
     "execution_count": 123,
     "metadata": {},
     "output_type": "execute_result"
    }
   ],
   "source": [
    "transaction_block.is_valid()"
   ]
  },
  {
   "attachments": {},
   "cell_type": "markdown",
   "metadata": {},
   "source": [
    "### Adding to Chain"
   ]
  },
  {
   "cell_type": "code",
   "execution_count": 124,
   "metadata": {},
   "outputs": [
    {
     "data": {
      "text/plain": [
       "{\n",
       "    \"root_block\": {\n",
       "        \"hash\": \"000015420debcdd55c00babc9c3a5a9c4ab22280cf9a6874986c427281dd79b9\",\n",
       "        \"data\": \"local network\"\n",
       "    },\n",
       "    \"last_block\": {\n",
       "        \"hash\": \"000045d22eb3915e2a225c4a94459a39f10883acc9f0a1824d526ede4e759d0d\",\n",
       "        \"data\": \"{\\n    \\\"timestam...\"\n",
       "    }\n",
       "}"
      ]
     },
     "execution_count": 124,
     "metadata": {},
     "output_type": "execute_result"
    }
   ],
   "source": [
    "chain.add_block(transaction_block)\n",
    "chain"
   ]
  },
  {
   "attachments": {},
   "cell_type": "markdown",
   "metadata": {},
   "source": [
    "## Second Transaction\n"
   ]
  },
  {
   "cell_type": "code",
   "execution_count": 125,
   "metadata": {},
   "outputs": [],
   "source": [
    "assets = 500\n",
    "sender = alice\n",
    "receiver = bob\n",
    "prev_block = chain.last_block\n",
    "\n",
    "transaction_message = \"\"\"\n",
    "Hi Bob, \n",
    "\n",
    "Please, I am sending you back the 500 because I already have free 500 in my account.\n",
    "\n",
    "Best,\n",
    "Alice.\n",
    "\"\"\""
   ]
  },
  {
   "cell_type": "code",
   "execution_count": 126,
   "metadata": {},
   "outputs": [],
   "source": [
    "transaction_block = sender.make_transaction_block(\n",
    "    assets=assets,\n",
    "    to=receiver,\n",
    "    prev_block=prev_block,\n",
    "    transaction_message=transaction_message,\n",
    ")"
   ]
  },
  {
   "attachments": {},
   "cell_type": "markdown",
   "metadata": {},
   "source": [
    "### Verification ..."
   ]
  },
  {
   "cell_type": "code",
   "execution_count": 127,
   "metadata": {},
   "outputs": [
    {
     "data": {
      "text/plain": [
       "{'timestamp': '2023-05-02T08:52:24.988258',\n",
       " 'sender_id': 'Alice',\n",
       " 'receiver_id': 'Bob',\n",
       " 'assets': 500,\n",
       " 'prev_hash': '000045d22eb3915e2a225c4a94459a39f10883acc9f0a1824d526ede4e759d0d',\n",
       " 'sender_confirmation': 'ne}lcn.\"\\\\\\nns\\\\nu\\\\Ai\\\\,oiBcy .tce  a0e mn0ter5vy ena lchae df retIb50se a  0k b acugaanenuhie PdIsesy ono,H nam\\\\ i\\\\\\\\\"n bl eae:ms_\",sBcnnasroeag ,t]\\n \"i t5         ,       1\\n\\n   8   ,\\n 7  ,   \\n  , 9\\n      \\n , 2       \\n ,      0   1     \\n   ,         \\n3  6      , 4[\" e:u \\n ,y_lbkua e\\nvcpeer_vi_ 0\"0,5 r\\nets as\": e \\nd 0\"d \",s4e96d25 e 805fa9d71e81cf09c4824a349caa4321595329e5d0b040e25a\"a0hs_\"2h2\" v  \\ne  :{pr'}"
      ]
     },
     "execution_count": 127,
     "metadata": {},
     "output_type": "execute_result"
    }
   ],
   "source": [
    "data = utils.txt2obj(transaction_block.data)\n",
    "data"
   ]
  },
  {
   "cell_type": "code",
   "execution_count": 128,
   "metadata": {},
   "outputs": [
    {
     "data": {
      "text/plain": [
       "{'prev_hash': '000045d22eb3915e2a225c4a94459a39f10883acc9f0a1824d526ede4e759d0d',\n",
       " 'assets': 500,\n",
       " 'receiver_pub_key_value': [6, 4, 3, 10, 2, 9, 7, 8, 1, 5],\n",
       " 'transaction_message': '\\n iB,b\\nHo \\nela,eIPs   msdnnaeigoyuabk  c eh 00bt5 euasI ace laedh vryaerfe5 0 e0  nma ciycotn.B\\nsu\\netA\\nlec\\n,i.'}"
      ]
     },
     "execution_count": 128,
     "metadata": {},
     "output_type": "execute_result"
    }
   ],
   "source": [
    "sender_confirmation=data[\"sender_confirmation\"]\n",
    "confirmation_string = other_person_in_the_network.encrypt(sender_confirmation, key= sender.pub)\n",
    "confirmation = utils.txt2obj(confirmation_string)\n",
    "confirmation"
   ]
  },
  {
   "cell_type": "code",
   "execution_count": 129,
   "metadata": {},
   "outputs": [
    {
     "name": "stdout",
     "output_type": "stream",
     "text": [
      "[6, 4, 3, 10, 2, 9, 7, 8, 1, 5]\n",
      "000045d22eb3915e2a225c4a94459a39f10883acc9f0a1824d526ede4e759d0d\n"
     ]
    }
   ],
   "source": [
    "print(receiver.pub)\n",
    "print(chain.hash)"
   ]
  },
  {
   "cell_type": "code",
   "execution_count": 130,
   "metadata": {},
   "outputs": [
    {
     "name": "stdout",
     "output_type": "stream",
     "text": [
      "\n",
      "Hi Bob, \n",
      "\n",
      "Please, I am sending you back the 500 because I already have free 500 in my account.\n",
      "\n",
      "Best,\n",
      "Alice.\n",
      "\n"
     ]
    }
   ],
   "source": [
    "transaction_message = receiver.gets(confirmation[\"transaction_message\"], _from=sender)\n",
    "print(transaction_message)"
   ]
  },
  {
   "cell_type": "markdown",
   "metadata": {},
   "source": [
    "### Adding to Chain"
   ]
  },
  {
   "cell_type": "code",
   "execution_count": 131,
   "metadata": {},
   "outputs": [],
   "source": [
    "transaction_block.mine() # validation\n",
    "chain.add_block(transaction_block)"
   ]
  },
  {
   "cell_type": "code",
   "execution_count": 132,
   "metadata": {},
   "outputs": [
    {
     "data": {
      "text/plain": [
       "{\n",
       "    \"root_block\": {\n",
       "        \"hash\": \"000015420debcdd55c00babc9c3a5a9c4ab22280cf9a6874986c427281dd79b9\",\n",
       "        \"data\": \"local network\"\n",
       "    },\n",
       "    \"...\": \"...\",\n",
       "    \"last_block\": {\n",
       "        \"hash\": \"00000824894578feef54cd849e66091ea15cb710777a8e92655d14b03a4d0e41\",\n",
       "        \"data\": \"{\\n    \\\"timestam...\"\n",
       "    }\n",
       "}"
      ]
     },
     "execution_count": 132,
     "metadata": {},
     "output_type": "execute_result"
    }
   ],
   "source": [
    "chain"
   ]
  },
  {
   "cell_type": "code",
   "execution_count": null,
   "metadata": {},
   "outputs": [],
   "source": []
  }
 ],
 "metadata": {
  "kernelspec": {
   "display_name": "Python 3",
   "language": "python",
   "name": "python3"
  },
  "language_info": {
   "codemirror_mode": {
    "name": "ipython",
    "version": 3
   },
   "file_extension": ".py",
   "mimetype": "text/x-python",
   "name": "python",
   "nbconvert_exporter": "python",
   "pygments_lexer": "ipython3",
   "version": "3.10.10"
  },
  "orig_nbformat": 4,
  "vscode": {
   "interpreter": {
    "hash": "b0fa6594d8f4cbf19f97940f81e996739fb7646882a419484c72d19e05852a7e"
   }
  }
 },
 "nbformat": 4,
 "nbformat_minor": 2
}
