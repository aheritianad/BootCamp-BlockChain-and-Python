{
  "cells": [
    {
      "attachments": {},
      "cell_type": "markdown",
      "metadata": {},
      "source": [
        "This is a demo notebook for the [bcbcpy](https://github.com/aheritianad/BootCamp-BlockChain-and-Python/) package."
      ]
    },
    {
      "cell_type": "code",
      "execution_count": 1,
      "metadata": {},
      "outputs": [],
      "source": [
        "try:\n",
        "    import bcbcpy\n",
        "except ModuleNotFoundError:\n",
        "    import os, sys\n",
        "    sys.path.append(os.path.abspath(\"../src/\"))\n",
        "    import bcbcpy"
      ]
    },
    {
      "attachments": {},
      "cell_type": "markdown",
      "metadata": {},
      "source": [
        "# Cryptography\n"
      ]
    },
    {
      "cell_type": "code",
      "execution_count": 2,
      "metadata": {},
      "outputs": [],
      "source": [
        "from bcbcpy import crypto"
      ]
    },
    {
      "attachments": {},
      "cell_type": "markdown",
      "metadata": {},
      "source": [
        "## Hashing\n"
      ]
    },
    {
      "attachments": {},
      "cell_type": "markdown",
      "metadata": {},
      "source": [
        "### `Hash` function\n"
      ]
    },
    {
      "attachments": {},
      "cell_type": "markdown",
      "metadata": {},
      "source": [
        "$$\\mathfrak{h}: X \\to H$$\n",
        "\n",
        "- $\\mathfrak{h}(x) = \\mathfrak{h}(y)$ *only if* $x=y$.\n",
        "- given $h\\in H$, it is *not easy* to find $x\\in X$ such that $\\mathfrak{h}(x) = h$.\n",
        "\n",
        "In some sense, $\\mathfrak{h}(x)$ is a signature of $x$."
      ]
    },
    {
      "cell_type": "code",
      "execution_count": 3,
      "metadata": {},
      "outputs": [
        {
          "data": {
            "text/plain": [
              "'1370eeaaba7a6c7a234b1f82cc3b6d013a0088fd5e16408300f05b28b0015463'"
            ]
          },
          "execution_count": 3,
          "metadata": {},
          "output_type": "execute_result"
        }
      ],
      "source": [
        "text_to_be_hashed = \"Hello World\"\n",
        "first_hash = crypto.hash_function(text_to_be_hashed, hash_name=crypto.HashName.sha256)\n",
        "first_hash\n"
      ]
    },
    {
      "cell_type": "code",
      "execution_count": 4,
      "metadata": {},
      "outputs": [
        {
          "data": {
            "text/plain": [
              "'e59f8bdf1305e382a4919ccefd613d3eebae612aa4c443f3af2d65663de3b075'"
            ]
          },
          "execution_count": 4,
          "metadata": {},
          "output_type": "execute_result"
        }
      ],
      "source": [
        "crypto.hash_function(text_to_be_hashed + \"!\")\n"
      ]
    },
    {
      "cell_type": "code",
      "execution_count": 5,
      "metadata": {},
      "outputs": [
        {
          "data": {
            "text/plain": [
              "'e59f8bdf1305e382a4919ccefd613d3eebae612aa4c443f3af2d65663de3b075'"
            ]
          },
          "execution_count": 5,
          "metadata": {},
          "output_type": "execute_result"
        }
      ],
      "source": [
        "crypto.hash_function(\"Hello World!\")"
      ]
    },
    {
      "cell_type": "code",
      "execution_count": 6,
      "metadata": {},
      "outputs": [],
      "source": [
        "long_text = \"\"\"\n",
        "Hello everyone!\n",
        "\n",
        "Welcome to this tutorial.\n",
        "I promise that I will do my best to help you.\n",
        "\n",
        "It will be interactive, so please participate as much as you can.\n",
        "\n",
        "Please do not hesitate to ask if there you have questions.\n",
        "\n",
        "Hope you will enjoy it!\n",
        "\n",
        "Cheers!\n",
        "\n",
        "Heritiana.\n",
        "\"\"\"\n"
      ]
    },
    {
      "cell_type": "code",
      "execution_count": 7,
      "metadata": {},
      "outputs": [
        {
          "data": {
            "text/plain": [
              "'0c8359860bef1b26f811bf8448c546c2241c7c695f9b8ee76c1a8bf2d5b2dff3'"
            ]
          },
          "execution_count": 7,
          "metadata": {},
          "output_type": "execute_result"
        }
      ],
      "source": [
        "hash_long = crypto.hash_function(long_text)\n",
        "hash_long\n"
      ]
    },
    {
      "cell_type": "code",
      "execution_count": 8,
      "metadata": {},
      "outputs": [
        {
          "data": {
            "text/plain": [
              "True"
            ]
          },
          "execution_count": 8,
          "metadata": {},
          "output_type": "execute_result"
        }
      ],
      "source": [
        "len(hash_long) == len(first_hash)\n"
      ]
    },
    {
      "attachments": {},
      "cell_type": "markdown",
      "metadata": {},
      "source": [
        "### Validation\n"
      ]
    },
    {
      "cell_type": "code",
      "execution_count": 9,
      "metadata": {},
      "outputs": [
        {
          "data": {
            "text/plain": [
              "False"
            ]
          },
          "execution_count": 9,
          "metadata": {},
          "output_type": "execute_result"
        }
      ],
      "source": [
        "difficulty = 4\n",
        "crypto.is_valid_hash(first_hash, difficulty)\n"
      ]
    },
    {
      "cell_type": "code",
      "execution_count": 10,
      "metadata": {},
      "outputs": [
        {
          "data": {
            "text/plain": [
              "'0000eeaaba7a6c7a234b1f82cc3b6d013a0088fd5e16408300f05b28b0015463'"
            ]
          },
          "execution_count": 10,
          "metadata": {},
          "output_type": "execute_result"
        }
      ],
      "source": [
        "fake_hash = \"0000\" + first_hash[4:]\n",
        "fake_hash"
      ]
    },
    {
      "cell_type": "code",
      "execution_count": 11,
      "metadata": {},
      "outputs": [
        {
          "data": {
            "text/plain": [
              "True"
            ]
          },
          "execution_count": 11,
          "metadata": {},
          "output_type": "execute_result"
        }
      ],
      "source": [
        "crypto.is_valid_hash(fake_hash, difficulty)\n"
      ]
    },
    {
      "attachments": {},
      "cell_type": "markdown",
      "metadata": {},
      "source": [
        "### Nonce\n"
      ]
    },
    {
      "cell_type": "code",
      "execution_count": 12,
      "metadata": {},
      "outputs": [
        {
          "data": {
            "text/plain": [
              "'0000bfe6af4232f78b0c8eba37a6ba6c17b9b8671473b0b82305880be077edd9'"
            ]
          },
          "execution_count": 12,
          "metadata": {},
          "output_type": "execute_result"
        }
      ],
      "source": [
        "second_hash, nonce = crypto.hash_nonce_initializer(\n",
        "    text_to_be_hashed, difficulty=difficulty\n",
        ")\n",
        "second_hash"
      ]
    },
    {
      "cell_type": "code",
      "execution_count": 13,
      "metadata": {},
      "outputs": [
        {
          "data": {
            "text/plain": [
              "107105"
            ]
          },
          "execution_count": 13,
          "metadata": {},
          "output_type": "execute_result"
        }
      ],
      "source": [
        "nonce\n"
      ]
    },
    {
      "cell_type": "code",
      "execution_count": 14,
      "metadata": {},
      "outputs": [
        {
          "data": {
            "text/plain": [
              "True"
            ]
          },
          "execution_count": 14,
          "metadata": {},
          "output_type": "execute_result"
        }
      ],
      "source": [
        "crypto.is_valid_hash(second_hash, difficulty)\n"
      ]
    },
    {
      "cell_type": "code",
      "execution_count": 15,
      "metadata": {},
      "outputs": [
        {
          "data": {
            "text/plain": [
              "'0000bfe6af4232f78b0c8eba37a6ba6c17b9b8671473b0b82305880be077edd9'"
            ]
          },
          "execution_count": 15,
          "metadata": {},
          "output_type": "execute_result"
        }
      ],
      "source": [
        "third_hash = crypto.hash_function(text_to_be_hashed, nonce=nonce)\n",
        "third_hash\n"
      ]
    },
    {
      "cell_type": "code",
      "execution_count": 16,
      "metadata": {},
      "outputs": [
        {
          "data": {
            "text/plain": [
              "True"
            ]
          },
          "execution_count": 16,
          "metadata": {},
          "output_type": "execute_result"
        }
      ],
      "source": [
        "second_hash == third_hash\n"
      ]
    },
    {
      "cell_type": "code",
      "execution_count": 17,
      "metadata": {},
      "outputs": [
        {
          "data": {
            "text/plain": [
              "True"
            ]
          },
          "execution_count": 17,
          "metadata": {},
          "output_type": "execute_result"
        }
      ],
      "source": [
        "forth_hash = crypto.hash_function(text_to_be_hashed, nonce, nonce=\"\")  # type:ignore\n",
        "second_hash == forth_hash"
      ]
    },
    {
      "attachments": {},
      "cell_type": "markdown",
      "metadata": {},
      "source": [
        "### Q: What if such `nonce` does not exist?\n"
      ]
    },
    {
      "attachments": {},
      "cell_type": "markdown",
      "metadata": {},
      "source": [
        "**Think about it.**\n"
      ]
    },
    {
      "attachments": {},
      "cell_type": "markdown",
      "metadata": {},
      "source": [
        "## Crypto\n"
      ]
    },
    {
      "attachments": {},
      "cell_type": "markdown",
      "metadata": {},
      "source": [
        "### `Encryption` & `Decryption`\n"
      ]
    },
    {
      "attachments": {},
      "cell_type": "markdown",
      "metadata": {},
      "source": [
        "$$f\\circ f^{-1} (x) = f^{-1}\\circ f(x) = x,\\ \\forall x$$\n"
      ]
    },
    {
      "cell_type": "code",
      "execution_count": 18,
      "metadata": {},
      "outputs": [],
      "source": [
        "encrypt = lambda x: 2 * x - 1\n",
        "decrypt = lambda x: 0  # TODO to fill"
      ]
    },
    {
      "cell_type": "code",
      "execution_count": 19,
      "metadata": {},
      "outputs": [
        {
          "name": "stdout",
          "output_type": "stream",
          "text": [
            "Oops! fail at 1-th attempt for x = -4998.\n"
          ]
        }
      ],
      "source": [
        "import random\n",
        "try:\n",
        "    for i in range(20):\n",
        "        x = random.randint(-5000, 5000)\n",
        "        assert (\n",
        "            encrypt(decrypt(x)) == decrypt(encrypt(x)) == x\n",
        "        ), f\"Oops! fail at {i+1}-th attempt for x = {x}.\"\n",
        "except AssertionError as e:\n",
        "    print(e)\n",
        "else:\n",
        "    print(\"Congrats! I passes the test.\")"
      ]
    },
    {
      "cell_type": "code",
      "execution_count": 20,
      "metadata": {},
      "outputs": [],
      "source": [
        "clear_message = (\n",
        "    \"This is a clear message to encrypt and decrypt. I add this to make it longer.\"\n",
        ")"
      ]
    },
    {
      "attachments": {},
      "cell_type": "markdown",
      "metadata": {},
      "source": [
        "### Types\n"
      ]
    },
    {
      "attachments": {},
      "cell_type": "markdown",
      "metadata": {},
      "source": [
        "#### Key\n"
      ]
    },
    {
      "attachments": {},
      "cell_type": "markdown",
      "metadata": {},
      "source": [
        "$\\mathcal{F}=\\{ f_\\theta \\:\\ \\theta \\in \\Theta\\}$\n",
        "\n",
        "$\\left(f_{\\theta}\\right) ^{-1} = f_{\\theta^\\prime}$ for some $\\theta^\\prime \\in \\Theta$\n",
        "\n",
        "$\\theta \\in \\Theta$ : key\n"
      ]
    },
    {
      "attachments": {},
      "cell_type": "markdown",
      "metadata": {},
      "source": [
        "#### Symmetric\n"
      ]
    },
    {
      "attachments": {},
      "cell_type": "markdown",
      "metadata": {},
      "source": [
        "Given $f_\\theta$ or $\\theta\\in \\Theta$ (thus $f_\\theta$), one can construct *easily*  $\\left(f_\\theta\\right)^{-1}$."
      ]
    },
    {
      "attachments": {},
      "cell_type": "markdown",
      "metadata": {},
      "source": [
        "From Wikipedia (2023-05-01):\n",
        "\n",
        "*Symmetric-key algorithms are algorithms for cryptography that use the same cryptographic keys for both the encryption of plaintext and the decryption of ciphertext. The keys may be identical, or there may be a simple transformation to go between the two keys.*"
      ]
    },
    {
      "attachments": {},
      "cell_type": "markdown",
      "metadata": {},
      "source": [
        "##### Caesar\n"
      ]
    },
    {
      "attachments": {},
      "cell_type": "markdown",
      "metadata": {},
      "source": [
        "**Idea**: translation\n",
        "\n",
        "$N$ : number of character.  \n",
        "key: $ \\theta \\in  \\mathbb{Z}$  \n",
        "function: $f_\\theta: x \\mod N \\mapsto (x + \\theta) \\mod N$  \n",
        "inverse: $\\theta^\\prime = -\\theta$"
      ]
    },
    {
      "cell_type": "code",
      "execution_count": 21,
      "metadata": {},
      "outputs": [
        {
          "name": "stdout",
          "output_type": "stream",
          "text": [
            "CaesarKey(2)\n"
          ]
        }
      ],
      "source": [
        "caesar_key = crypto.CaesarKey.generate_key(max_length=2)\n",
        "print(caesar_key)\n"
      ]
    },
    {
      "cell_type": "code",
      "execution_count": 22,
      "metadata": {},
      "outputs": [
        {
          "data": {
            "text/plain": [
              "-6"
            ]
          },
          "execution_count": 22,
          "metadata": {},
          "output_type": "execute_result"
        }
      ],
      "source": [
        "crypto.CaesarKey.compute_inverse(6)"
      ]
    },
    {
      "cell_type": "code",
      "execution_count": 23,
      "metadata": {},
      "outputs": [
        {
          "name": "stdout",
          "output_type": "stream",
          "text": [
            "\n",
            "original:\n",
            "========\n",
            "This is a clear message to encrypt and decrypt. I add this to make it longer.\n",
            "\n",
            "Encrypted:\n",
            "========\n",
            "Vjku\"ku\"c\"engct\"oguucig\"vq\"gpet{rv\"cpf\"fget{rv0\"K\"cff\"vjku\"vq\"ocmg\"kv\"nqpigt0\n",
            "\n"
          ]
        }
      ],
      "source": [
        "encr_caesar = caesar_key.encrypt(clear_message)\n",
        "\n",
        "print(\n",
        "    f\"\"\"\n",
        "original:\n",
        "========\n",
        "{clear_message}\n",
        "\n",
        "Encrypted:\n",
        "========\n",
        "{encr_caesar}\n",
        "\"\"\"\n",
        ")"
      ]
    },
    {
      "cell_type": "code",
      "execution_count": 24,
      "metadata": {},
      "outputs": [
        {
          "name": "stdout",
          "output_type": "stream",
          "text": [
            "\n",
            "original:\n",
            "========\n",
            "This is a clear message to encrypt and decrypt. I add this to make it longer.\n",
            "\n",
            "Decrypted:\n",
            "=========\n",
            "This is a clear message to encrypt and decrypt. I add this to make it longer.\n",
            "\n"
          ]
        }
      ],
      "source": [
        "decr = caesar_key.decrypt(encr_caesar)\n",
        "\n",
        "print(\n",
        "    f\"\"\"\n",
        "original:\n",
        "========\n",
        "{clear_message}\n",
        "\n",
        "Decrypted:\n",
        "=========\n",
        "{decr}\n",
        "\"\"\"\n",
        ")"
      ]
    },
    {
      "attachments": {},
      "cell_type": "markdown",
      "metadata": {},
      "source": [
        "##### Permutation\n"
      ]
    },
    {
      "cell_type": "code",
      "execution_count": 25,
      "metadata": {},
      "outputs": [
        {
          "data": {
            "text/plain": [
              "[4, 1, 2, 3]"
            ]
          },
          "execution_count": 25,
          "metadata": {},
          "output_type": "execute_result"
        }
      ],
      "source": [
        "crypto.PermutationKey.compute_inverse([2, 3, 4, 1])"
      ]
    },
    {
      "attachments": {},
      "cell_type": "markdown",
      "metadata": {},
      "source": [
        "###### **Idea1: Chunking**"
      ]
    },
    {
      "attachments": {},
      "cell_type": "markdown",
      "metadata": {},
      "source": [
        "Chunk input with a chunk size equal to permutation length and apply permutation on each chunks."
      ]
    },
    {
      "cell_type": "code",
      "execution_count": 26,
      "metadata": {},
      "outputs": [
        {
          "name": "stdout",
          "output_type": "stream",
          "text": [
            "PermutationKey([1, 3, 2], [1, 3, 2])\n"
          ]
        }
      ],
      "source": [
        "perm_key = crypto.PermutationKey.generate_key(length=3, n_runs=1)\n",
        "print(perm_key)\n"
      ]
    },
    {
      "cell_type": "code",
      "execution_count": 27,
      "metadata": {},
      "outputs": [
        {
          "name": "stdout",
          "output_type": "stream",
          "text": [
            "\n",
            "original:\n",
            "========\n",
            "This is a clear message to encrypt and decrypt. I add this to make it longer.\n",
            "\n",
            "Encrypted:\n",
            "========\n",
            "Tihsi sa  lcera emsasg et oecnrpyta n ddcerpyt .Ia d dtihst om aek ti olnegr.\n",
            "\n"
          ]
        }
      ],
      "source": [
        "encr_perm = perm_key.encrypt(clear_message)\n",
        "\n",
        "print(\n",
        "    f\"\"\"\n",
        "original:\n",
        "========\n",
        "{clear_message}\n",
        "\n",
        "Encrypted:\n",
        "========\n",
        "{encr_perm}\n",
        "\"\"\"\n",
        ")"
      ]
    },
    {
      "cell_type": "code",
      "execution_count": 28,
      "metadata": {},
      "outputs": [
        {
          "name": "stdout",
          "output_type": "stream",
          "text": [
            "\n",
            "original:\n",
            "========\n",
            "This is a clear message to encrypt and decrypt. I add this to make it longer.\n",
            "\n",
            "Decrypted:\n",
            "=========\n",
            "This is a clear message to encrypt and decrypt. I add this to make it longer.\n",
            "\n"
          ]
        }
      ],
      "source": [
        "decr = perm_key.decrypt(encr_perm)\n",
        "print(\n",
        "    f\"\"\"\n",
        "original:\n",
        "========\n",
        "{clear_message}\n",
        "\n",
        "Decrypted:\n",
        "=========\n",
        "{decr}\n",
        "\"\"\"\n",
        ")"
      ]
    },
    {
      "attachments": {},
      "cell_type": "markdown",
      "metadata": {},
      "source": [
        "###### **Idea2: Sliding**"
      ]
    },
    {
      "attachments": {},
      "cell_type": "markdown",
      "metadata": {},
      "source": [
        "One can think about sliding the permutation like the following.\n",
        "\n",
        "Suppose we have the following permutation\n",
        "$$\\theta: \\begin{cases}1\\mapsto 3\\\\ 2\\mapsto 2\\\\ 3\\mapsto 1\\end{cases}$$\n",
        "and input `abcdefgh`.\n",
        "\n",
        "- `input = abcdefgh`\n",
        "- `abc defgh` $\\to$ `cba defgh`\n",
        "- `c bad efgh` $\\to$ `c dab efgh`\n",
        "- `cd abe fgh` $\\to$ `cd eba fgh`\n",
        "- `cde baf gh` $\\to$ `cde fab gh`\n",
        "- `cdef abg h` $\\to$ `cdef gba h`\n",
        "- `cdefg bah` $\\to$ `cdefg hab`\n",
        "- `output = cdefghab`\n",
        "\n",
        "⚠️: the same process does not bring back `input` from output  \n",
        "It can be fixed by doing a tricky thing to the *previous output* to get the *final output*.  \n",
        "You can think about it and its implementation."
      ]
    },
    {
      "attachments": {},
      "cell_type": "markdown",
      "metadata": {},
      "source": [
        "##### Adding noise\n"
      ]
    },
    {
      "cell_type": "code",
      "execution_count": 29,
      "metadata": {},
      "outputs": [],
      "source": [
        "from bcbcpy import utils\n"
      ]
    },
    {
      "cell_type": "code",
      "execution_count": 30,
      "metadata": {},
      "outputs": [
        {
          "data": {
            "text/plain": [
              "'T;hViGss .ias, ga- Qc`lweHajr, =m!eNs)s%a%g^e% 4t8oM keMn%cQrnyYpztI >a}n~d` 9dIeFc4rayEp[t:.{ >I  oaCdSda It(h{i#sw 1tpo/ Sm2a/k1eJ 1i2tM jlnoUn6gMe=rI.K'"
            ]
          },
          "execution_count": 30,
          "metadata": {},
          "output_type": "execute_result"
        }
      ],
      "source": [
        "noisy_message = utils.add_noises(clear_message)\n",
        "noisy_message\n"
      ]
    },
    {
      "cell_type": "code",
      "execution_count": 31,
      "metadata": {},
      "outputs": [
        {
          "data": {
            "text/plain": [
              "'This is a clear message to encrypt and decrypt. I add this to make it longer.'"
            ]
          },
          "execution_count": 31,
          "metadata": {},
          "output_type": "execute_result"
        }
      ],
      "source": [
        "noisy_message[::2]"
      ]
    },
    {
      "cell_type": "code",
      "execution_count": 32,
      "metadata": {},
      "outputs": [
        {
          "data": {
            "text/plain": [
              "'This is a clear message to encrypt and decrypt. I add this to make it longer.'"
            ]
          },
          "execution_count": 32,
          "metadata": {},
          "output_type": "execute_result"
        }
      ],
      "source": [
        "utils.remove_noises(noisy_message)\n"
      ]
    },
    {
      "cell_type": "code",
      "execution_count": 33,
      "metadata": {},
      "outputs": [
        {
          "name": "stdout",
          "output_type": "stream",
          "text": [
            "\n",
            "\t\t--- CAESAR --\n",
            "Original:\n",
            "========\n",
            "This is a clear message to encrypt and decrypt. I add this to make it longer.\n",
            "\n",
            "Noisy message:\n",
            "=============\n",
            "T;hViGss .ias, ga- Qc`lweHajr, =m!eNs)s%a%g^e% 4t8oM keMn%cQrnyYpztI >a}n~d` 9dIeFc4rayEp[t:.{ >I  oaCdSda It(h{i#sw 1tpo/ Sm2a/k1eJ 1i2tM jlnoUn6gMe=rI.K\n",
            "\n",
            "Noisy Encrypted:\n",
            "===============\n",
            "V=jXkIuu\"0kcu.\"ic/\"SebnygJclt.\"?o#gPu+u'c'i`g'\"6v:qO\"mgOp'eStp{[r|vK\"@c\tp\n",
            "fb\";fKgHe6tc{Gr]v<0}\"@K\"\"qcEfUfc\"Kv*j}k%uy\"3vrq1\"Uo4c1m3gL\"3k4vO\"lnpqWp8iOg?tK0M\n",
            "\n",
            "Noisy Decrypted:\n",
            "===============\n",
            "T;hViGss .ias, ga- Qc`lweHajr, =m!eNs)s%a%g^e% 4t8oM keMn%cQrnyYpztI >a}n~d` 9dIeFc4rayEp[t:.{ >I  oaCdSda It(h{i#sw 1tpo/ Sm2a/k1eJ 1i2tM jlnoUn6gMe=rI.K\n",
            "\n",
            "Cleaned Decrypted:\n",
            "=================\n",
            "This is a clear message to encrypt and decrypt. I add this to make it longer.\n",
            "\n"
          ]
        }
      ],
      "source": [
        "encr_noisy = caesar_key.encrypt(noisy_message)\n",
        "decr_noisy = caesar_key.decrypt(encr_noisy)\n",
        "decr_without_noise = utils.remove_noises(decr_noisy)\n",
        "\n",
        "print(\n",
        "    f\"\"\"\n",
        "\\t\\t--- CAESAR --\n",
        "Original:\n",
        "========\n",
        "{clear_message}\n",
        "\n",
        "Noisy message:\n",
        "=============\n",
        "{noisy_message}\n",
        "\n",
        "Noisy Encrypted:\n",
        "===============\n",
        "{encr_noisy}\n",
        "\n",
        "Noisy Decrypted:\n",
        "===============\n",
        "{decr_noisy}\n",
        "\n",
        "Cleaned Decrypted:\n",
        "=================\n",
        "{decr_without_noise}\n",
        "\"\"\"\n",
        ")"
      ]
    },
    {
      "cell_type": "code",
      "execution_count": 34,
      "metadata": {},
      "outputs": [
        {
          "name": "stdout",
          "output_type": "stream",
          "text": [
            "\n",
            "\t\t--- PERMUTATION ---\n",
            "Original:\n",
            "========\n",
            "This is a clear message to encrypt and decrypt. I add this to make it longer.\n",
            "\n",
            "Noisy message:\n",
            "=============\n",
            "T;hViGss .ias, ga- Qc`lweHajr, =m!eNs)s%a%g^e% 4t8oM keMn%cQrnyYpztI >a}n~d` 9dIeFc4rayEp[t:.{ >I  oaCdSda It(h{i#sw 1tpo/ Sm2a/k1eJ 1i2tM jlnoUn6gMe=rI.K\n",
            "\n",
            "Noisy Encrypted:\n",
            "===============\n",
            "Th;VGis s.ais ,g-a cQ`wleaHj,r m=!Ness)%%age^%4 to8Mk enM%QcrynYzpt I>}and~`9 deIF4cryaE[pt.:{> I  oCaddSaI th({#is w1pto /S2mak/1Je i12Mt ljnUong6M=er.IK\n",
            "\n",
            "Noisy Decrypted:\n",
            "===============\n",
            "T;hViGss .ias, ga- Qc`lweHajr, =m!eNs)s%a%g^e% 4t8oM keMn%cQrnyYpztI >a}n~d` 9dIeFc4rayEp[t:.{ >I  oaCdSda It(h{i#sw 1tpo/ Sm2a/k1eJ 1i2tM jlnoUn6gMe=rI.K\n",
            "\n",
            "Cleaned Decrypted:\n",
            "=================\n",
            "This is a clear message to encrypt and decrypt. I add this to make it longer.\n",
            "\n"
          ]
        }
      ],
      "source": [
        "encr_noisy = perm_key.encrypt(noisy_message)\n",
        "decr_noisy = perm_key.decrypt(encr_noisy)\n",
        "decr_without_noise = utils.remove_noises(decr_noisy)\n",
        "\n",
        "print(\n",
        "    f\"\"\"\n",
        "\\t\\t--- PERMUTATION ---\n",
        "Original:\n",
        "========\n",
        "{clear_message}\n",
        "\n",
        "Noisy message:\n",
        "=============\n",
        "{noisy_message}\n",
        "\n",
        "Noisy Encrypted:\n",
        "===============\n",
        "{encr_noisy}\n",
        "\n",
        "Noisy Decrypted:\n",
        "===============\n",
        "{decr_noisy}\n",
        "\n",
        "Cleaned Decrypted:\n",
        "=================\n",
        "{decr_without_noise}\n",
        "\"\"\"\n",
        ")"
      ]
    },
    {
      "attachments": {},
      "cell_type": "markdown",
      "metadata": {},
      "source": [
        "#### Asymmetric: Public-key cryptography\n"
      ]
    },
    {
      "attachments": {},
      "cell_type": "markdown",
      "metadata": {},
      "source": [
        "Knowing $f_\\theta$ or $\\theta\\in \\Theta$ (thus $f_\\theta$) does **NOT** make the construction of $\\left(f_\\theta\\right)^{-1}$ (thus $\\theta^\\prime$) *easy*."
      ]
    },
    {
      "attachments": {},
      "cell_type": "markdown",
      "metadata": {},
      "source": [
        "From Wikipedia (2023-05-01):\n",
        "\n",
        "*Public-key cryptography, or asymmetric cryptography, is the field of cryptographic systems that use pairs of related keys. Each key pair consists of a public key and a corresponding private key. Key pairs are generated with cryptographic algorithms based on mathematical problems termed one-way functions. Security of public-key cryptography depends on keeping the private key secret; the public key can be openly distributed without compromising security.*"
      ]
    },
    {
      "attachments": {},
      "cell_type": "markdown",
      "metadata": {},
      "source": [
        "##### Rivest–Shamir–Adleman aka RSA\n"
      ]
    },
    {
      "attachments": {},
      "cell_type": "markdown",
      "metadata": {},
      "source": [
        "$\\Theta \\approx \\mathbb{N} \\times \\mathbb{N}$  \n",
        "public key: $\\theta = (n,d)$  \n",
        "private key: $\\theta^\\prime = (n,e)$  \n",
        "function: $f_{(n,a)}: x\\mod n \\mapsto x^a \\mod n$\n",
        "\n",
        "**Construction**:  \n",
        "\n",
        "1. Generate two primes $p,q$.\n",
        "2. Compute $n=p\\times q$.\n",
        "3. Compute $\\varphi(n) = (p-1)*(q-1)$.\n",
        "4. Find $d$ such that $\\gcd\\left( d, \\varphi(n)\\right) = 1$.\n",
        "5. Find $e$ such that $de + u\\varphi(n)=1$ for some $u\\in \\mathbb{Z}$.\n",
        "6. Discard $p,q,\\varphi(n)$ and $u$ *(for security)*.\n",
        "\n",
        "Note: [4.] and [5.] can be done easily and at once with the extended Euclidean algorithm."
      ]
    },
    {
      "attachments": {},
      "cell_type": "markdown",
      "metadata": {},
      "source": [
        "**:warning: Security**: number factorization complexity\n",
        "\n",
        "For large composite number $n$, computing $\\varphi(n)$ is not *easy* without knowing its prime factors."
      ]
    },
    {
      "cell_type": "code",
      "execution_count": 35,
      "metadata": {},
      "outputs": [
        {
          "name": "stdout",
          "output_type": "stream",
          "text": [
            "RSAPairKeys((34823, 12917), HIDDEN_KEY)\n"
          ]
        }
      ],
      "source": [
        "rsa_key = crypto.RSAPairKeys.generate_pairs(16)\n",
        "print(rsa_key)"
      ]
    },
    {
      "cell_type": "code",
      "execution_count": 36,
      "metadata": {},
      "outputs": [
        {
          "data": {
            "text/plain": [
              "((34823, 12917), (34823, 9629))"
            ]
          },
          "execution_count": 36,
          "metadata": {},
          "output_type": "execute_result"
        }
      ],
      "source": [
        "rsa_pub, rsa_priv = rsa_key\n",
        "rsa_pub, rsa_priv"
      ]
    },
    {
      "cell_type": "code",
      "execution_count": 37,
      "metadata": {},
      "outputs": [
        {
          "data": {
            "text/plain": [
              "'2\\\\vjTt<$(l`\\n\"1}@0<&D`rzgIT+Ses;6<pl0^Rf<+|w|$tDj+3YJ@\"`84(2X`M5Fk_\\'>4Q(n79(UB$'"
            ]
          },
          "execution_count": 37,
          "metadata": {},
          "output_type": "execute_result"
        }
      ],
      "source": [
        "encr_rsa = rsa_key.encrypt(clear_message)\n",
        "encr_rsa"
      ]
    },
    {
      "cell_type": "code",
      "execution_count": 38,
      "metadata": {},
      "outputs": [
        {
          "data": {
            "text/plain": [
              "'This is a clear message to encrypt and decrypt. I add this to make it longer.'"
            ]
          },
          "execution_count": 38,
          "metadata": {},
          "output_type": "execute_result"
        }
      ],
      "source": [
        "decr_rsa = rsa_key.decrypt(encr_rsa)\n",
        "decr_rsa\n"
      ]
    },
    {
      "attachments": {},
      "cell_type": "markdown",
      "metadata": {},
      "source": [
        "##### Diffie–Hellman key exchange"
      ]
    },
    {
      "attachments": {},
      "cell_type": "markdown",
      "metadata": {},
      "source": [
        "1. The network will:\n",
        "   - choose a shared group $(G,*)$,\n",
        "   - an element $g\\in G$,\n",
        "   - and compute $ord(g) \\in \\mathbb{N}$ for which is the smallest where $ord(g)\\cdot g := \\underbrace{g*g*\\cdots*g}_{ord(g) \\text{ times}}$ is equal to the neutral element of $G$.\n",
        "2. For each $i$ in the network:\n",
        "   - Choose $\\theta^\\prime_i \\in \\mathbb{N}$ such that $\\theta^\\prime_i < ord(g)$.  \n",
        "   - Compute $f_{\\theta_i} = \\theta^\\prime_i \\cdot g$.\n",
        "   - Publish $f_{\\theta_i}$ and keep $\\theta^\\prime_i$ secret.\n",
        "\n",
        "If $i$ wants to send a message $m$ to $j$, he will proceed as follows:\n",
        "\n",
        "1. retrieve $f_{\\theta_j}$,\n",
        "2. compute $P_{ij} := \\theta_i \\cdot f_{\\theta_j}$,\n",
        "3. encrypt $m$ with $P_{ij}$ (like the symmetric fashion),\n",
        "4. send encrypted message $m_{ij}$ to $j$.\n",
        "\n",
        "When $j$ receives $m_{ij}$, he will:\n",
        "\n",
        "1. retrieve $f_{\\theta_i}$,\n",
        "2. compute $P_{ji} := \\theta_j \\cdot f_{\\theta_i}$,\n",
        "3. decrypt $m_{ij}$ with $P_{ji}$.\n",
        "   \n",
        "Note:\n",
        "$$ \\begin{align*}\n",
        "P_{ij} \n",
        "&= \\theta_i \\cdot f_{\\theta_j}&\\\\\n",
        "&= \\underbrace{f_{\\theta_j}*\\cdots*f_{\\theta_j}}_{\\theta_i \\text{ times}}&\\\\\n",
        "&= \\underbrace{\\left(\\underbrace{g*\\cdots*g}_{\\theta_j \\text{ times}}\\right)*\\cdots*\\left(\\underbrace{g*\\cdots*g}_{\\theta_j \\text{ times}}\\right)}_{\\theta_i \\text{ times}}&\\\\\n",
        "&= \\underbrace{g*\\cdots*g}_{\\theta_i\\theta_j \\text{ times}}&\\\\\n",
        "&= \\underbrace{\\left(\\underbrace{g*\\cdots*g}_{\\theta_j \\text{ times}}\\right)*\\cdots*\\left(\\underbrace{g*\\cdots*g}_{\\theta_i \\text{ times}}\\right)}_{\\theta_j \\text{ times}}&\\\\\n",
        "&= \\underbrace{f_{\\theta_j}*\\cdots*f_{\\theta_i}}_{\\theta_j \\text{ times}}&\\\\\n",
        "&= \\theta_j \\cdot f_{\\theta_i}&\\\\\n",
        "&= P_{ji}&\n",
        "\\end{align*}$$"
      ]
    },
    {
      "attachments": {},
      "cell_type": "markdown",
      "metadata": {},
      "source": [
        "The following image summarizes the above processes.\n",
        "\n",
        "<p style=\"text-align: center;\">\n",
        "<img src=\"https://upload.wikimedia.org/wikipedia/commons/4/46/Diffie-Hellman_Key_Exchange.svg\">\n",
        "</p>\n",
        "\n",
        "[[source: wikimedia](https://upload.wikimedia.org/wikipedia/commons/4/46/Diffie-Hellman_Key_Exchange.svg)]"
      ]
    },
    {
      "attachments": {},
      "cell_type": "markdown",
      "metadata": {},
      "source": [
        "**⚠️ Security**: *discrete logarithm*\n",
        "\n",
        "For some group ([Diffie-Hellman Group](https://www.ibm.com/docs/en/zos/2.3.0?topic=SSLTBW_2.3.0%2Fcom.ibm.tcp.ipsec.ipsec.help.doc%2Fcom%2Fibm%2Ftcp%2Fipsec%2Fipsec%2FPS_DT_Adv_PFS.CB_Initiate.html)), knowing the value of $g$ and $n \\cdot g$ does not lead to $n$ *easily*."
      ]
    },
    {
      "cell_type": "code",
      "execution_count": 39,
      "metadata": {},
      "outputs": [],
      "source": [
        "# coming soon"
      ]
    },
    {
      "attachments": {},
      "cell_type": "markdown",
      "metadata": {},
      "source": [
        "##### Elliptic Curve Cryptography\n"
      ]
    },
    {
      "attachments": {},
      "cell_type": "markdown",
      "metadata": {},
      "source": [
        "[ECC](https://en.wikipedia.org/wiki/Elliptic-curve_cryptography) use the DH key exchange with Where the group $G$ is an [elliptic curve over finite fields](https://en.wikipedia.org/wiki/Elliptic_curve#Elliptic_curves_over_finite_fields)."
      ]
    },
    {
      "cell_type": "code",
      "execution_count": 40,
      "metadata": {},
      "outputs": [],
      "source": [
        "# coming soon"
      ]
    },
    {
      "attachments": {},
      "cell_type": "markdown",
      "metadata": {},
      "source": [
        "### Communication & Security\n"
      ]
    },
    {
      "attachments": {},
      "cell_type": "markdown",
      "metadata": {},
      "source": [
        "#### Nodes generation"
      ]
    },
    {
      "cell_type": "code",
      "execution_count": 41,
      "metadata": {},
      "outputs": [],
      "source": [
        "from bcbcpy.node import Node\n"
      ]
    },
    {
      "cell_type": "code",
      "execution_count": 42,
      "metadata": {},
      "outputs": [
        {
          "data": {
            "text/plain": [
              "'user_147168'"
            ]
          },
          "execution_count": 42,
          "metadata": {},
          "output_type": "execute_result"
        }
      ],
      "source": [
        "key = crypto.RSAPairKeys.generate_pairs()\n",
        "node = Node(key)\n",
        "node.id"
      ]
    },
    {
      "cell_type": "code",
      "execution_count": 43,
      "metadata": {},
      "outputs": [
        {
          "data": {
            "text/plain": [
              "<bcbcpy.node.Node at 0x110069b70>"
            ]
          },
          "execution_count": 43,
          "metadata": {},
          "output_type": "execute_result"
        }
      ],
      "source": [
        "node"
      ]
    },
    {
      "cell_type": "code",
      "execution_count": 44,
      "metadata": {},
      "outputs": [],
      "source": [
        "class RepNode(Node):\n",
        "    def __repr__(self) -> str:\n",
        "        return f\"{self.id} : {self._Node__keys}\"  # type:ignore"
      ]
    },
    {
      "cell_type": "code",
      "execution_count": 45,
      "metadata": {},
      "outputs": [
        {
          "data": {
            "text/plain": [
              "Alice : RSAPairKeys((33491, 24511), HIDDEN_KEY)"
            ]
          },
          "execution_count": 45,
          "metadata": {},
          "output_type": "execute_result"
        }
      ],
      "source": [
        "akey = crypto.RSAPairKeys.generate_pairs()\n",
        "alice = RepNode(akey, \"Alice\")\n",
        "alice\n"
      ]
    },
    {
      "cell_type": "code",
      "execution_count": 46,
      "metadata": {},
      "outputs": [
        {
          "data": {
            "text/plain": [
              "Bob : RSAPairKeys((34553, 11981), HIDDEN_KEY)"
            ]
          },
          "execution_count": 46,
          "metadata": {},
          "output_type": "execute_result"
        }
      ],
      "source": [
        "bkey =  crypto.RSAPairKeys.generate_pairs()\n",
        "bob = RepNode(username=\"Bob\", keys=bkey)\n",
        "bob"
      ]
    },
    {
      "cell_type": "code",
      "execution_count": 47,
      "metadata": {},
      "outputs": [
        {
          "data": {
            "text/plain": [
              "user_518397 : RSAPairKeys((52109, 27097), HIDDEN_KEY)"
            ]
          },
          "execution_count": 47,
          "metadata": {},
          "output_type": "execute_result"
        }
      ],
      "source": [
        "rkey = crypto.RSAPairKeys.generate_pairs()\n",
        "random_guy = RepNode(rkey)\n",
        "random_guy"
      ]
    },
    {
      "attachments": {},
      "cell_type": "markdown",
      "metadata": {},
      "source": [
        "#### Communication"
      ]
    },
    {
      "cell_type": "code",
      "execution_count": 48,
      "metadata": {},
      "outputs": [],
      "source": [
        "sender = alice\n",
        "receiver = bob\n",
        "\n",
        "plain_message = (\n",
        "    \"Hello Bob! This is Alice. Please send me $1000 to this account: (1234567890)\"\n",
        ")"
      ]
    },
    {
      "cell_type": "code",
      "execution_count": 49,
      "metadata": {},
      "outputs": [
        {
          "data": {
            "text/plain": [
              "'\\nF}\\taJRY8^P\\n]Fn:lQ[sq[M6r\"3Qs8]=p\\\\u= D>=K\"Z2~rU\"PuF?76hI+13YDws.CcCaNRJ\\'doS3&`'"
            ]
          },
          "execution_count": 49,
          "metadata": {},
          "output_type": "execute_result"
        }
      ],
      "source": [
        "cipher = sender.encrypt(plain_message, key=receiver.pub)\n",
        "cipher"
      ]
    },
    {
      "cell_type": "code",
      "execution_count": 50,
      "metadata": {},
      "outputs": [
        {
          "data": {
            "text/plain": [
              "'Hello Bob! This is Alice. Please send me $1000 to this account: (1234567890)'"
            ]
          },
          "execution_count": 50,
          "metadata": {},
          "output_type": "execute_result"
        }
      ],
      "source": [
        "receiver.decrypt(cipher)"
      ]
    },
    {
      "cell_type": "markdown",
      "metadata": {},
      "source": [
        "#### Attack"
      ]
    },
    {
      "attachments": {},
      "cell_type": "markdown",
      "metadata": {},
      "source": [
        "##### Reading attack\n"
      ]
    },
    {
      "cell_type": "code",
      "execution_count": 51,
      "metadata": {},
      "outputs": [],
      "source": [
        "hacker = random_guy"
      ]
    },
    {
      "cell_type": "code",
      "execution_count": 52,
      "metadata": {},
      "outputs": [
        {
          "data": {
            "text/plain": [
              "\"!Dkjlsz&5MDl)%M^HZ$!}]&'`p(@Vn/7aC$NQ8A2VN\\thRw]pXwv-Dl '>[lO6)z,q&_r '6mi$;l]n6\""
            ]
          },
          "execution_count": 52,
          "metadata": {},
          "output_type": "execute_result"
        }
      ],
      "source": [
        "hacker.decrypt(cipher)\n"
      ]
    },
    {
      "cell_type": "code",
      "execution_count": 53,
      "metadata": {},
      "outputs": [
        {
          "data": {
            "text/plain": [
              "\"'k@u?z^Bf{['(Z`~&L5\\n,[ui}rrZ&]/HwE}#1.d,2h\\nh#1V6cxVg;7L(i0d/y1txP(POq+Q) 89;q9\""
            ]
          },
          "execution_count": 53,
          "metadata": {},
          "output_type": "execute_result"
        }
      ],
      "source": [
        "hacker.encrypt(cipher, receiver.pub)\n"
      ]
    },
    {
      "attachments": {},
      "cell_type": "markdown",
      "metadata": {},
      "source": [
        "##### Q: what if `receiver.pub == receiver.priv`?"
      ]
    },
    {
      "cell_type": "code",
      "execution_count": 54,
      "metadata": {},
      "outputs": [],
      "source": [
        "_, receiver_priv = receiver._Node__keys\n",
        "receiver_pub = receiver_priv # fake pub for testing"
      ]
    },
    {
      "cell_type": "code",
      "execution_count": 55,
      "metadata": {},
      "outputs": [
        {
          "data": {
            "text/plain": [
              "'Hello Bob! This is Alice. Please send me $1000 to this account: (1234567890)'"
            ]
          },
          "execution_count": 55,
          "metadata": {},
          "output_type": "execute_result"
        }
      ],
      "source": [
        "hacker.encrypt(cipher, receiver_pub)\n"
      ]
    },
    {
      "attachments": {},
      "cell_type": "markdown",
      "metadata": {},
      "source": [
        "##### Sending attack\n"
      ]
    },
    {
      "cell_type": "code",
      "execution_count": 56,
      "metadata": {},
      "outputs": [],
      "source": [
        "scam_message = (\n",
        "    \"Hello Bob! This is Alice. Please send me $1000 to this account: (0987654321)\"\n",
        ")"
      ]
    },
    {
      "cell_type": "code",
      "execution_count": 57,
      "metadata": {},
      "outputs": [
        {
          "data": {
            "text/plain": [
              "'\\nF}\\taJRY8^P\\n]Fn:lQ[sq[M6r\"3Qs8]=p\\\\u= D>=K\"Z2~rU\"PuF?76hI+13YDws.CcI:;X{j+&X<<r'"
            ]
          },
          "execution_count": 57,
          "metadata": {},
          "output_type": "execute_result"
        }
      ],
      "source": [
        "scam_cipher= hacker.encrypt(scam_message, key=receiver.pub)\n",
        "scam_cipher\n"
      ]
    },
    {
      "cell_type": "code",
      "execution_count": 58,
      "metadata": {},
      "outputs": [
        {
          "data": {
            "text/plain": [
              "'Hello Bob! This is Alice. Please send me $1000 to this account: (0987654321)'"
            ]
          },
          "execution_count": 58,
          "metadata": {},
          "output_type": "execute_result"
        }
      ],
      "source": [
        "receiver.decrypt(scam_cipher)"
      ]
    },
    {
      "attachments": {},
      "cell_type": "markdown",
      "metadata": {},
      "source": [
        "### Authentication\n"
      ]
    },
    {
      "attachments": {},
      "cell_type": "markdown",
      "metadata": {},
      "source": [
        "**Problem**: no way for the `receiver` to recognize the *true* `sender`."
      ]
    },
    {
      "attachments": {},
      "cell_type": "markdown",
      "metadata": {},
      "source": [
        "#### Encryption"
      ]
    },
    {
      "cell_type": "code",
      "execution_count": 59,
      "metadata": {},
      "outputs": [
        {
          "data": {
            "text/plain": [
              "True"
            ]
          },
          "execution_count": 59,
          "metadata": {},
          "output_type": "execute_result"
        }
      ],
      "source": [
        "sender.sign(plain_message) == sender.decrypt(plain_message) # encrypt with sender.priv"
      ]
    },
    {
      "cell_type": "code",
      "execution_count": 60,
      "metadata": {},
      "outputs": [
        {
          "data": {
            "text/plain": [
              "'/>?E1(V\\tiR!aS%S)R6ZZA*0^paZkKOSDiI,p@gN[.j+WqQtp>7bl\\\\v_1Wy3\\n:@\\n(hLp8N(\\nb/4Cq%B'"
            ]
          },
          "execution_count": 60,
          "metadata": {},
          "output_type": "execute_result"
        }
      ],
      "source": [
        "signed_message = sender.sign(plain_message) \n",
        "cipher_signed = sender.encrypt(signed_message, key=receiver.pub)\n",
        "cipher_signed"
      ]
    },
    {
      "cell_type": "code",
      "execution_count": 61,
      "metadata": {},
      "outputs": [
        {
          "data": {
            "text/plain": [
              "'e8#<)CbbI55\\'7]zJuj\\tC21!&t81>\"&u<!7#O9DK|Px3:ML6J)kB]6F>nfd]LD#(k*:8y?WkX6doR@<5Xo81A\"%#w/D$:Y4i7?i^M.i(01Fwpb!@*iV=`?WP[ozb1UfskPrh,TCCl]:BSTCLJ8+86B>W#X'"
            ]
          },
          "execution_count": 61,
          "metadata": {},
          "output_type": "execute_result"
        }
      ],
      "source": [
        "with_noise = utils.add_noises(plain_message)\n",
        "signed_with_noise = sender.sign(with_noise) \n",
        "cipher_signed_with_noise = sender.encrypt(signed_with_noise, key=receiver.pub)\n",
        "cipher_signed_with_noise"
      ]
    },
    {
      "attachments": {},
      "cell_type": "markdown",
      "metadata": {},
      "source": [
        "##### Shortcut"
      ]
    },
    {
      "cell_type": "code",
      "execution_count": 62,
      "metadata": {},
      "outputs": [
        {
          "data": {
            "text/plain": [
              "True"
            ]
          },
          "execution_count": 62,
          "metadata": {},
          "output_type": "execute_result"
        }
      ],
      "source": [
        "cipher_signed == sender.sends(plain_message, _to=receiver.pub)"
      ]
    },
    {
      "cell_type": "code",
      "execution_count": 63,
      "metadata": {},
      "outputs": [
        {
          "data": {
            "text/plain": [
              "True"
            ]
          },
          "execution_count": 63,
          "metadata": {},
          "output_type": "execute_result"
        }
      ],
      "source": [
        "cipher_signed == sender.sends(plain_message, _to=receiver)"
      ]
    },
    {
      "cell_type": "code",
      "execution_count": 64,
      "metadata": {},
      "outputs": [
        {
          "data": {
            "text/plain": [
              "'NoIsYnOiSy8QoP!S/SactnrIf3VE89\\tc-c&F#;N`iWj|3v\"%A6<#T}YB9[[n>RBHIxSQRa~uSR?>gRW%_IJPr3CooA!ad}\"5~^_WJFy:\\\\gFoI0B8,$g<Va\\n4}I9\"b\\n1[PfpEBV>]8@zw64| \\'%V!>ylGe6mD_\"\\njH,ONoIsYnOiSy'"
            ]
          },
          "execution_count": 64,
          "metadata": {},
          "output_type": "execute_result"
        }
      ],
      "source": [
        "cipher_signed_with_noise_bis = sender.sends(plain_message, _to=receiver, _with_noises=True)\n",
        "cipher_signed_with_noise_bis\n"
      ]
    },
    {
      "cell_type": "code",
      "execution_count": 65,
      "metadata": {},
      "outputs": [
        {
          "data": {
            "text/plain": [
              "'8QoP!S/SactnrIf3VE89\\tc-c&F#;N`iWj|3v\"%A6<#T}YB9[[n>RBHIxSQRa~uSR?>gRW%_IJPr3CooA!ad}\"5~^_WJFy:\\\\gFoI0B8,$g<Va\\n4}I9\"b\\n1[PfpEBV>]8@zw64| \\'%V!>ylGe6mD_\"\\njH,O'"
            ]
          },
          "execution_count": 65,
          "metadata": {},
          "output_type": "execute_result"
        }
      ],
      "source": [
        "cipher_signed_with_noise_bis[10:-10] # trim NoIsYnOiSy"
      ]
    },
    {
      "cell_type": "code",
      "execution_count": 66,
      "metadata": {},
      "outputs": [
        {
          "data": {
            "text/plain": [
              "False"
            ]
          },
          "execution_count": 66,
          "metadata": {},
          "output_type": "execute_result"
        }
      ],
      "source": [
        "cipher_signed_with_noise == cipher_signed_with_noise_bis[10:-10]"
      ]
    },
    {
      "attachments": {},
      "cell_type": "markdown",
      "metadata": {},
      "source": [
        "##### Q: Do you know why is it `False`?"
      ]
    },
    {
      "attachments": {},
      "cell_type": "markdown",
      "metadata": {},
      "source": [
        "#### Decryption"
      ]
    },
    {
      "cell_type": "code",
      "execution_count": 67,
      "metadata": {},
      "outputs": [
        {
          "data": {
            "text/plain": [
              "'Hello Bob! This is Alice. Please send me $1000 to this account: (1234567890)'"
            ]
          },
          "execution_count": 67,
          "metadata": {},
          "output_type": "execute_result"
        }
      ],
      "source": [
        "signed_message = receiver.decrypt(cipher_signed)\n",
        "receiver.encrypt(signed_message, key=sender.pub) # remove signature\n"
      ]
    },
    {
      "cell_type": "code",
      "execution_count": 68,
      "metadata": {},
      "outputs": [
        {
          "data": {
            "text/plain": [
              "'Hello Bob! This is Alice. Please send me $1000 to this account: (1234567890)'"
            ]
          },
          "execution_count": 68,
          "metadata": {},
          "output_type": "execute_result"
        }
      ],
      "source": [
        "signed_message_with_noise = receiver.decrypt(cipher_signed_with_noise)\n",
        "message_with_noise = receiver.encrypt(signed_message_with_noise, key=sender.pub) # unsign\n",
        "utils.remove_noises(message_with_noise)"
      ]
    },
    {
      "cell_type": "code",
      "execution_count": 69,
      "metadata": {},
      "outputs": [
        {
          "data": {
            "text/plain": [
              "'Hello Bob! This is Alice. Please send me $1000 to this account: (1234567890)'"
            ]
          },
          "execution_count": 69,
          "metadata": {},
          "output_type": "execute_result"
        }
      ],
      "source": [
        "trimmed_cipher_signed_with_noise = cipher_signed_with_noise_bis[10:-10]\n",
        "\n",
        "signed_message_with_noise = receiver.decrypt(trimmed_cipher_signed_with_noise)\n",
        "message_with_noise = receiver.encrypt(signed_message_with_noise, key=sender.pub) # unsign\n",
        "\n",
        "utils.remove_noises(message_with_noise)"
      ]
    },
    {
      "attachments": {},
      "cell_type": "markdown",
      "metadata": {},
      "source": [
        "##### Shortcut"
      ]
    },
    {
      "cell_type": "code",
      "execution_count": 70,
      "metadata": {},
      "outputs": [
        {
          "data": {
            "text/plain": [
              "'Hello Bob! This is Alice. Please send me $1000 to this account: (1234567890)'"
            ]
          },
          "execution_count": 70,
          "metadata": {},
          "output_type": "execute_result"
        }
      ],
      "source": [
        "receiver.gets(cipher_signed, _from=sender.pub)"
      ]
    },
    {
      "cell_type": "code",
      "execution_count": 71,
      "metadata": {},
      "outputs": [
        {
          "data": {
            "text/plain": [
              "'Hello Bob! This is Alice. Please send me $1000 to this account: (1234567890)'"
            ]
          },
          "execution_count": 71,
          "metadata": {},
          "output_type": "execute_result"
        }
      ],
      "source": [
        "utils.remove_noises(receiver.gets(cipher_signed_with_noise, _from=sender))"
      ]
    },
    {
      "cell_type": "code",
      "execution_count": 72,
      "metadata": {},
      "outputs": [
        {
          "data": {
            "text/plain": [
              "'Hello Bob! This is Alice. Please send me $1000 to this account: (1234567890)'"
            ]
          },
          "execution_count": 72,
          "metadata": {},
          "output_type": "execute_result"
        }
      ],
      "source": [
        "receiver.gets(cipher_signed_with_noise_bis, _from=sender)"
      ]
    },
    {
      "attachments": {},
      "cell_type": "markdown",
      "metadata": {},
      "source": [
        "#### Attacks"
      ]
    },
    {
      "attachments": {},
      "cell_type": "markdown",
      "metadata": {},
      "source": [
        "##### Reading Attack\n"
      ]
    },
    {
      "cell_type": "code",
      "execution_count": 73,
      "metadata": {},
      "outputs": [
        {
          "data": {
            "text/plain": [
              "'\"a0\\t-<}Y3Wkm\\'b30v&eDg9ueN{90tk,|qEyNki x!n0Q%?\\n:VED$4z>+oNFW(Y}9]1*AV.9F9~Vlr/P'"
            ]
          },
          "execution_count": 73,
          "metadata": {},
          "output_type": "execute_result"
        }
      ],
      "source": [
        "hacker.decrypt(cipher_signed)\n"
      ]
    },
    {
      "cell_type": "code",
      "execution_count": 74,
      "metadata": {},
      "outputs": [
        {
          "data": {
            "text/plain": [
              "'}q_p1OA\\'[&d)s%:iq*?C#FDY=nY[k^ve$Obs]E$I6n>$5mv!P(}+cV\\'1#]{!ktc_YV1\"_l_]\\\\laYXnt'"
            ]
          },
          "execution_count": 74,
          "metadata": {},
          "output_type": "execute_result"
        }
      ],
      "source": [
        "hacker.encrypt(cipher_signed, key=sender.pub)\n"
      ]
    },
    {
      "cell_type": "code",
      "execution_count": 75,
      "metadata": {},
      "outputs": [
        {
          "data": {
            "text/plain": [
              "'0\\nfaATRsh\"14~IR;,BQ}7kPhpPYn%L$JnrJInJ:U@(iT=e\\\\@K_Xo}S#w(gjf]zZY<h!\\\\6\\'\\'*4#\\nhn\\''"
            ]
          },
          "execution_count": 75,
          "metadata": {},
          "output_type": "execute_result"
        }
      ],
      "source": [
        "hacker.encrypt(cipher_signed, key=receiver.pub)\n"
      ]
    },
    {
      "cell_type": "code",
      "execution_count": 76,
      "metadata": {},
      "outputs": [
        {
          "data": {
            "text/plain": [
              "'W\"v?G]wpS}vlZL\\tTHUj8\\'G)!b>I#x*-M;W#;kZ/J9Q0D.2,uxr9u!XAz~ ja:u/R{0ep 10&\\'\\tPxgVCr'"
            ]
          },
          "execution_count": 76,
          "metadata": {},
          "output_type": "execute_result"
        }
      ],
      "source": [
        "hacker.sends(cipher_signed, _to=receiver.pub)\n"
      ]
    },
    {
      "cell_type": "code",
      "execution_count": 77,
      "metadata": {},
      "outputs": [
        {
          "data": {
            "text/plain": [
              "'\\n1>02Wvd|#v|,B)\\n;[:TqLMKaG>=N|qa*W%$SaO|\"Wv%<)D0\\t:0]hv1}xu:`Qc:k\\'A3+-|et,wLnsCF&'"
            ]
          },
          "execution_count": 77,
          "metadata": {},
          "output_type": "execute_result"
        }
      ],
      "source": [
        "hacker.gets(cipher_signed, _from=sender)"
      ]
    },
    {
      "cell_type": "code",
      "execution_count": 78,
      "metadata": {},
      "outputs": [
        {
          "data": {
            "text/plain": [
              "'W\"v?G]wpS}vlZL\\tTHUj8\\'G)!b>I#x*-M;W#;kZ/J9Q0D.2,uxr9u!XAz~ ja:u/R{0ep 10&\\'\\tPxgVCr'"
            ]
          },
          "execution_count": 78,
          "metadata": {},
          "output_type": "execute_result"
        }
      ],
      "source": [
        "hacker.gets(cipher_signed, _from=bob)"
      ]
    },
    {
      "attachments": {},
      "cell_type": "markdown",
      "metadata": {},
      "source": [
        "##### Sending Attack\n"
      ]
    },
    {
      "cell_type": "code",
      "execution_count": 79,
      "metadata": {},
      "outputs": [
        {
          "name": "stdout",
          "output_type": "stream",
          "text": [
            "\n",
            "Original:\n",
            "========\n",
            "Hello Bob! This is Alice. Please send me $1000 to this account: (1234567890)\n",
            "\n",
            "Scam:\n",
            "=====\n",
            "Hello Bob! This is Alice. Please send me $1000 to this account: (0987654321)\n",
            "\n"
          ]
        }
      ],
      "source": [
        "print(f\"\"\"\n",
        "Original:\n",
        "========\n",
        "{plain_message}\n",
        "\n",
        "Scam:\n",
        "=====\n",
        "{scam_message}\n",
        "\"\"\"\n",
        ")"
      ]
    },
    {
      "cell_type": "code",
      "execution_count": 80,
      "metadata": {},
      "outputs": [
        {
          "data": {
            "text/plain": [
              "'\"b<p-vdWDV&vIO!TJ6<g[ZhkP]{E/\\t{f3l_vXxGSkbl^W>~T5d%sFkR9$I_9SYwC ,@Nq&YqdS84rY'"
            ]
          },
          "execution_count": 80,
          "metadata": {},
          "output_type": "execute_result"
        }
      ],
      "source": [
        "non_signed_scam = hacker.encrypt(scam_message, key=receiver.pub)\n",
        "\n",
        "receiver.gets(non_signed_scam, _from=sender)"
      ]
    },
    {
      "cell_type": "code",
      "execution_count": 81,
      "metadata": {},
      "outputs": [
        {
          "data": {
            "text/plain": [
              "'}oZ:l2}zfz6\\nWew!t_ \\'4WR`P=06v))o-3:DTE#&,[}>KDCK}+)\"+1i6lAE+ewaSR:uyP1Ly(>K_H1+'"
            ]
          },
          "execution_count": 81,
          "metadata": {},
          "output_type": "execute_result"
        }
      ],
      "source": [
        "non_signed_scam = hacker.encrypt(scam_message, key=sender.pub)\n",
        "\n",
        "receiver.gets(non_signed_scam, _from=sender)"
      ]
    },
    {
      "cell_type": "code",
      "execution_count": 82,
      "metadata": {},
      "outputs": [
        {
          "data": {
            "text/plain": [
              "'\\n8I/suNK:OD^+zEn B|J;Fl?`PC_+]c=MPnR-`nnwh \\ta/qO!.;pQs3?+;\\'C<WH!@7\":,v\\'sD]4M5F'"
            ]
          },
          "execution_count": 82,
          "metadata": {},
          "output_type": "execute_result"
        }
      ],
      "source": [
        "signed_scam = hacker.sends(scam_message, _to=receiver)\n",
        "\n",
        "receiver.gets(signed_scam, _from=sender)"
      ]
    },
    {
      "attachments": {},
      "cell_type": "markdown",
      "metadata": {},
      "source": [
        "##### Possible Weakness"
      ]
    },
    {
      "cell_type": "code",
      "execution_count": 83,
      "metadata": {},
      "outputs": [
        {
          "data": {
            "text/plain": [
              "'/>?E1(V\\tiR!aS%S)R6ZZA*0^paZkKOSDiI,p@gN[.j+WqQtp>7bl\\\\v_1Wy3\\n:@\\n(hLoC5Fg}LGD|Dw'"
            ]
          },
          "execution_count": 83,
          "metadata": {},
          "output_type": "execute_result"
        }
      ],
      "source": [
        "_, leaked_sender_priv = sender._Node__keys  # key of alice = expected sender\n",
        "\n",
        "fake_signed_scam = hacker.encrypt(scam_message, leaked_sender_priv)\n",
        "cipher_fake_signed_scam = hacker.encrypt(fake_signed_scam, receiver.pub)\n",
        "\n",
        "cipher_fake_signed_scam\n",
        "\n"
      ]
    },
    {
      "cell_type": "code",
      "execution_count": 84,
      "metadata": {},
      "outputs": [
        {
          "data": {
            "text/plain": [
              "'Hello Bob! This is Alice. Please send me $1000 to this account: (0987654321)'"
            ]
          },
          "execution_count": 84,
          "metadata": {},
          "output_type": "execute_result"
        }
      ],
      "source": [
        "receiver.gets(cipher_fake_signed_scam, _from=sender)"
      ]
    },
    {
      "attachments": {},
      "cell_type": "markdown",
      "metadata": {},
      "source": [
        "# Blockchain\n"
      ]
    },
    {
      "cell_type": "code",
      "execution_count": 85,
      "metadata": {},
      "outputs": [],
      "source": [
        "from bcbcpy import blockchain"
      ]
    },
    {
      "attachments": {},
      "cell_type": "markdown",
      "metadata": {},
      "source": [
        "## Recap: Data Structure"
      ]
    },
    {
      "attachments": {},
      "cell_type": "markdown",
      "metadata": {},
      "source": [
        "### List - Array"
      ]
    },
    {
      "cell_type": "code",
      "execution_count": null,
      "metadata": {},
      "outputs": [],
      "source": []
    },
    {
      "attachments": {},
      "cell_type": "markdown",
      "metadata": {},
      "source": [
        "### Linked List"
      ]
    },
    {
      "cell_type": "code",
      "execution_count": null,
      "metadata": {},
      "outputs": [],
      "source": []
    },
    {
      "attachments": {},
      "cell_type": "markdown",
      "metadata": {},
      "source": [
        "## Block"
      ]
    },
    {
      "cell_type": "code",
      "execution_count": 86,
      "metadata": {},
      "outputs": [],
      "source": [
        "from bcbcpy.blockchain.block import InitialBlock, Block"
      ]
    },
    {
      "attachments": {},
      "cell_type": "markdown",
      "metadata": {},
      "source": [
        "### Initial Block"
      ]
    },
    {
      "cell_type": "code",
      "execution_count": 87,
      "metadata": {},
      "outputs": [],
      "source": [
        "init_block = InitialBlock(initial_data=\"initial data\")"
      ]
    },
    {
      "cell_type": "code",
      "execution_count": 88,
      "metadata": {},
      "outputs": [
        {
          "data": {
            "text/plain": [
              "'initial data'"
            ]
          },
          "execution_count": 88,
          "metadata": {},
          "output_type": "execute_result"
        }
      ],
      "source": [
        "init_block.data"
      ]
    },
    {
      "cell_type": "code",
      "execution_count": 89,
      "metadata": {},
      "outputs": [
        {
          "data": {
            "text/plain": [
              "'00002d64bd7129caa2aa8ec458081519ac26034158e60962f6fd1428e22b1036'"
            ]
          },
          "execution_count": 89,
          "metadata": {},
          "output_type": "execute_result"
        }
      ],
      "source": [
        "init_block.hash"
      ]
    },
    {
      "cell_type": "code",
      "execution_count": 90,
      "metadata": {},
      "outputs": [
        {
          "data": {
            "text/plain": [
              "{\n",
              "    \"prev_hash\": \"\",\n",
              "    \"hash\": \"00002d64bd7129caa2aa8ec458081519ac26034158e60962f6fd1428e22b1036\",\n",
              "    \"data\": \"initial data\",\n",
              "    \"nonce\": 26206\n",
              "}"
            ]
          },
          "execution_count": 90,
          "metadata": {},
          "output_type": "execute_result"
        }
      ],
      "source": [
        "init_block"
      ]
    },
    {
      "attachments": {},
      "cell_type": "markdown",
      "metadata": {},
      "source": [
        "### Block Data"
      ]
    },
    {
      "cell_type": "code",
      "execution_count": 91,
      "metadata": {},
      "outputs": [
        {
          "data": {
            "text/plain": [
              "{\n",
              "    \"prev_hash\": \"00002d64bd7129caa2aa8ec458081519ac26034158e60962f6fd1428e22b1036\",\n",
              "    \"hash\": \"ac19b9c98cc9a1655bd66662c552b8667c2140a451ce635b24aa2fdf34555aea\",\n",
              "    \"data\": \"second data\",\n",
              "    \"nonce\": 0\n",
              "}"
            ]
          },
          "execution_count": 91,
          "metadata": {},
          "output_type": "execute_result"
        }
      ],
      "source": [
        "second_block = Block(data=\"second data\", prev_block= init_block)\n",
        "second_block"
      ]
    },
    {
      "cell_type": "code",
      "execution_count": 92,
      "metadata": {},
      "outputs": [
        {
          "data": {
            "text/plain": [
              "False"
            ]
          },
          "execution_count": 92,
          "metadata": {},
          "output_type": "execute_result"
        }
      ],
      "source": [
        "second_block.is_valid()"
      ]
    },
    {
      "cell_type": "code",
      "execution_count": 93,
      "metadata": {},
      "outputs": [
        {
          "data": {
            "text/plain": [
              "{\n",
              "    \"prev_hash\": \"00002d64bd7129caa2aa8ec458081519ac26034158e60962f6fd1428e22b1036\",\n",
              "    \"hash\": \"0000f1a7cc9b3335858fdc615b274e07568931de65e82fb991ac257e168b89c1\",\n",
              "    \"data\": \"second data\",\n",
              "    \"nonce\": 12005\n",
              "}"
            ]
          },
          "execution_count": 93,
          "metadata": {},
          "output_type": "execute_result"
        }
      ],
      "source": [
        "second_block.mine()\n",
        "second_block"
      ]
    },
    {
      "cell_type": "code",
      "execution_count": 94,
      "metadata": {},
      "outputs": [
        {
          "data": {
            "text/plain": [
              "True"
            ]
          },
          "execution_count": 94,
          "metadata": {},
          "output_type": "execute_result"
        }
      ],
      "source": [
        "second_block.is_valid()"
      ]
    },
    {
      "cell_type": "code",
      "execution_count": 95,
      "metadata": {},
      "outputs": [
        {
          "data": {
            "text/plain": [
              "{\n",
              "    \"prev_hash\": \"0000f1a7cc9b3335858fdc615b274e07568931de65e82fb991ac257e168b89c1\",\n",
              "    \"hash\": \"f94643bbf3edffb31b549ce63a5adbd4542b7e3b6d45f32ae69da4f9bc87b6f7\",\n",
              "    \"data\": \"third data\",\n",
              "    \"nonce\": 0\n",
              "}"
            ]
          },
          "execution_count": 95,
          "metadata": {},
          "output_type": "execute_result"
        }
      ],
      "source": [
        "third_block = Block(\"third data\", prev_block= second_block)\n",
        "third_block"
      ]
    },
    {
      "cell_type": "code",
      "execution_count": 96,
      "metadata": {},
      "outputs": [
        {
          "data": {
            "text/plain": [
              "{\n",
              "    \"prev_hash\": \"0000f1a7cc9b3335858fdc615b274e07568931de65e82fb991ac257e168b89c1\",\n",
              "    \"hash\": \"0000eecdfce497ff979154b54ddb7f8fe0114683c0102afb900cd93497951e80\",\n",
              "    \"data\": \"third data\",\n",
              "    \"nonce\": 2917\n",
              "}"
            ]
          },
          "execution_count": 96,
          "metadata": {},
          "output_type": "execute_result"
        }
      ],
      "source": [
        "third_block.mine()\n",
        "third_block"
      ]
    },
    {
      "cell_type": "code",
      "execution_count": 97,
      "metadata": {},
      "outputs": [
        {
          "data": {
            "text/plain": [
              "{\n",
              "    \"prev_hash\": \"0000eecdfce497ff979154b54ddb7f8fe0114683c0102afb900cd93497951e80\",\n",
              "    \"hash\": \"00003e75b774fcf431090692c595e06fa5d05bc7730a63673e4e4304eb4faf6a\",\n",
              "    \"data\": \"forth data\",\n",
              "    \"nonce\": 101056\n",
              "}"
            ]
          },
          "execution_count": 97,
          "metadata": {},
          "output_type": "execute_result"
        }
      ],
      "source": [
        "forth_block = Block(\"forth data\", third_block)\n",
        "forth_block.mine()\n",
        "forth_block"
      ]
    },
    {
      "cell_type": "code",
      "execution_count": 98,
      "metadata": {},
      "outputs": [
        {
          "data": {
            "text/plain": [
              "{\n",
              "    \"prev_hash\": \"00003e75b774fcf431090692c595e06fa5d05bc7730a63673e4e4304eb4faf6a\",\n",
              "    \"hash\": \"0000d8cb89717a6b1904bf4f44aab11529b3ee378d0256620f608c3dd73694b9\",\n",
              "    \"data\": \"fifth block\",\n",
              "    \"nonce\": 34705\n",
              "}"
            ]
          },
          "execution_count": 98,
          "metadata": {},
          "output_type": "execute_result"
        }
      ],
      "source": [
        "fifth_block = Block(\"fifth block\", forth_block)\n",
        "fifth_block.mine()\n",
        "fifth_block"
      ]
    },
    {
      "cell_type": "code",
      "execution_count": 99,
      "metadata": {},
      "outputs": [
        {
          "data": {
            "text/plain": [
              "(True, True, True, True, True)"
            ]
          },
          "execution_count": 99,
          "metadata": {},
          "output_type": "execute_result"
        }
      ],
      "source": [
        "init_block.is_valid(), second_block.is_valid(), third_block.is_valid(), forth_block.is_valid(), fifth_block.is_valid()"
      ]
    },
    {
      "attachments": {},
      "cell_type": "markdown",
      "metadata": {},
      "source": [
        "### Making some change in past data"
      ]
    },
    {
      "cell_type": "code",
      "execution_count": 100,
      "metadata": {},
      "outputs": [
        {
          "data": {
            "text/plain": [
              "{\n",
              "    \"prev_hash\": \"0000f1a7cc9b3335858fdc615b274e07568931de65e82fb991ac257e168b89c1\",\n",
              "    \"hash\": \"66ad1a8ee995ddbcaaf131585222c10a396a960f0c441578d5613417fa5d107a\",\n",
              "    \"data\": \"not third data\",\n",
              "    \"nonce\": 2917\n",
              "}"
            ]
          },
          "execution_count": 100,
          "metadata": {},
          "output_type": "execute_result"
        }
      ],
      "source": [
        "third_block.data = \"not third data\"\n",
        "third_block"
      ]
    },
    {
      "cell_type": "code",
      "execution_count": 101,
      "metadata": {},
      "outputs": [
        {
          "data": {
            "text/plain": [
              "(True, True, False, False, False)"
            ]
          },
          "execution_count": 101,
          "metadata": {},
          "output_type": "execute_result"
        }
      ],
      "source": [
        "init_block.is_valid(), second_block.is_valid(), third_block.is_valid(), forth_block.is_valid(), fifth_block.is_valid()"
      ]
    },
    {
      "cell_type": "code",
      "execution_count": 102,
      "metadata": {},
      "outputs": [
        {
          "data": {
            "text/plain": [
              "(True, True, True, True, True)"
            ]
          },
          "execution_count": 102,
          "metadata": {},
          "output_type": "execute_result"
        }
      ],
      "source": [
        "third_block.data = \"third data\"\n",
        "init_block.is_valid(), second_block.is_valid(), third_block.is_valid(), forth_block.is_valid(), fifth_block.is_valid()"
      ]
    },
    {
      "cell_type": "code",
      "execution_count": 103,
      "metadata": {},
      "outputs": [
        {
          "data": {
            "text/plain": [
              "True"
            ]
          },
          "execution_count": 103,
          "metadata": {},
          "output_type": "execute_result"
        }
      ],
      "source": [
        "third_block.data = \"not third data\"\n",
        "third_block.mine()\n",
        "third_block.is_valid()"
      ]
    },
    {
      "cell_type": "code",
      "execution_count": 104,
      "metadata": {},
      "outputs": [
        {
          "data": {
            "text/plain": [
              "(True, True, True, False, False)"
            ]
          },
          "execution_count": 104,
          "metadata": {},
          "output_type": "execute_result"
        }
      ],
      "source": [
        "init_block.is_valid(), second_block.is_valid(), third_block.is_valid(), forth_block.is_valid(), fifth_block.is_valid()"
      ]
    },
    {
      "cell_type": "code",
      "execution_count": 105,
      "metadata": {},
      "outputs": [
        {
          "data": {
            "text/plain": [
              "(True, True, True, True, True)"
            ]
          },
          "execution_count": 105,
          "metadata": {},
          "output_type": "execute_result"
        }
      ],
      "source": [
        "third_block.data = \"third data\"\n",
        "third_block.mine()\n",
        "init_block.is_valid(), second_block.is_valid(), third_block.is_valid(), forth_block.is_valid(), fifth_block.is_valid()"
      ]
    },
    {
      "attachments": {},
      "cell_type": "markdown",
      "metadata": {},
      "source": [
        "## Blockchain"
      ]
    },
    {
      "attachments": {},
      "cell_type": "markdown",
      "metadata": {},
      "source": [
        "A submodule is available at \n",
        "```python\n",
        "from bcbcpy.blockchain import chain\n",
        "```"
      ]
    },
    {
      "attachments": {},
      "cell_type": "markdown",
      "metadata": {},
      "source": [
        "### Root"
      ]
    },
    {
      "cell_type": "code",
      "execution_count": 106,
      "metadata": {},
      "outputs": [
        {
          "data": {
            "text/plain": [
              "{\n",
              "    \"root_block\": {\n",
              "        \"hash\": \"0000a456e7b5a5eb059e721fb431436883143101275c4077f83fe70298f5623d\",\n",
              "        \"data\": \"\"\n",
              "    }\n",
              "}"
            ]
          },
          "execution_count": 106,
          "metadata": {},
          "output_type": "execute_result"
        }
      ],
      "source": [
        "blockchain.RootChain()"
      ]
    },
    {
      "cell_type": "code",
      "execution_count": 107,
      "metadata": {},
      "outputs": [
        {
          "data": {
            "text/plain": [
              "{\n",
              "    \"root_block\": {\n",
              "        \"hash\": \"0000579da420f2b62497716cc60e95a0f7ad46336c42062b7485a27fd91d99f0\",\n",
              "        \"data\": \"{\\n    \\\"INITIAL ...\"\n",
              "    }\n",
              "}"
            ]
          },
          "execution_count": 107,
          "metadata": {},
          "output_type": "execute_result"
        }
      ],
      "source": [
        "initial_data = {\"INITIAL AGREEMENT\": {\"Bob\": 1000, \"Alice\": 500}}\n",
        "\n",
        "initial_data_string = utils.obj2txt(initial_data, indent=4)\n",
        "root_chain = blockchain.RootChain(initial_data_string, difficulty=4)\n",
        "\n",
        "root_chain"
      ]
    },
    {
      "attachments": {},
      "cell_type": "markdown",
      "metadata": {},
      "source": [
        "### Chain"
      ]
    },
    {
      "cell_type": "code",
      "execution_count": 108,
      "metadata": {},
      "outputs": [
        {
          "data": {
            "text/plain": [
              "{\n",
              "    \"prev_hash\": \"0000579da420f2b62497716cc60e95a0f7ad46336c42062b7485a27fd91d99f0\",\n",
              "    \"hash\": \"73095d20a662a26d26eec210c0dc51c34816098cdab05f941487ee5e8133d6ad\",\n",
              "    \"data\": \"new block\",\n",
              "    \"nonce\": 0\n",
              "}"
            ]
          },
          "execution_count": 108,
          "metadata": {},
          "output_type": "execute_result"
        }
      ],
      "source": [
        "prev_block = root_chain.last_block\n",
        "new_block = Block(\"new block\", prev_block)\n",
        "new_block"
      ]
    },
    {
      "attachments": {},
      "cell_type": "markdown",
      "metadata": {},
      "source": [
        "---"
      ]
    },
    {
      "cell_type": "code",
      "execution_count": 109,
      "metadata": {},
      "outputs": [
        {
          "ename": "AssertionError",
          "evalue": "Block is not valid.",
          "output_type": "error",
          "traceback": [
            "\u001b[0;31m---------------------------------------------------------------------------\u001b[0m",
            "\u001b[0;31mAssertionError\u001b[0m                            Traceback (most recent call last)",
            "\u001b[0;32m/var/folders/x4/45r2t3bx5l3dc_b3tm_yz7380000gn/T/ipykernel_27212/2453956519.py\u001b[0m in \u001b[0;36m<cell line: 1>\u001b[0;34m()\u001b[0m\n\u001b[0;32m----> 1\u001b[0;31m root_chain.add_block(\n\u001b[0m\u001b[1;32m      2\u001b[0m   \u001b[0mnew_block\u001b[0m\u001b[0;34m\u001b[0m\u001b[0;34m\u001b[0m\u001b[0m\n\u001b[1;32m      3\u001b[0m )\n",
            "\u001b[0;32m~/Desktop/BootCamp-BlockChain-and-Python/src/bcbcpy/blockchain/chain.py\u001b[0m in \u001b[0;36madd_block\u001b[0;34m(self, block)\u001b[0m\n\u001b[1;32m     48\u001b[0m             \u001b[0mself\u001b[0m\u001b[0;34m.\u001b[0m\u001b[0mlast_block\u001b[0m \u001b[0;32mis\u001b[0m \u001b[0mblock\u001b[0m\u001b[0;34m.\u001b[0m\u001b[0mprev_block\u001b[0m\u001b[0;34m\u001b[0m\u001b[0;34m\u001b[0m\u001b[0m\n\u001b[1;32m     49\u001b[0m         ), \"Incompatible block to the head block of the chain.\"\n\u001b[0;32m---> 50\u001b[0;31m         \u001b[0;32massert\u001b[0m \u001b[0mblock\u001b[0m\u001b[0;34m.\u001b[0m\u001b[0mis_valid\u001b[0m\u001b[0;34m(\u001b[0m\u001b[0;34m)\u001b[0m\u001b[0;34m,\u001b[0m \u001b[0;34m\"Block is not valid.\"\u001b[0m\u001b[0;34m\u001b[0m\u001b[0;34m\u001b[0m\u001b[0m\n\u001b[0m\u001b[1;32m     51\u001b[0m         \u001b[0mself\u001b[0m\u001b[0;34m.\u001b[0m\u001b[0mlast_block\u001b[0m \u001b[0;34m=\u001b[0m \u001b[0mblock\u001b[0m\u001b[0;34m\u001b[0m\u001b[0;34m\u001b[0m\u001b[0m\n\u001b[1;32m     52\u001b[0m         \u001b[0mself\u001b[0m\u001b[0;34m.\u001b[0m\u001b[0m_length\u001b[0m \u001b[0;34m+=\u001b[0m \u001b[0;36m1\u001b[0m\u001b[0;34m\u001b[0m\u001b[0;34m\u001b[0m\u001b[0m\n",
            "\u001b[0;31mAssertionError\u001b[0m: Block is not valid."
          ]
        }
      ],
      "source": [
        "root_chain.add_block(\n",
        "  new_block\n",
        ")\n"
      ]
    },
    {
      "cell_type": "code",
      "execution_count": 110,
      "metadata": {},
      "outputs": [
        {
          "data": {
            "text/plain": [
              "{\n",
              "    \"prev_hash\": \"0000579da420f2b62497716cc60e95a0f7ad46336c42062b7485a27fd91d99f0\",\n",
              "    \"hash\": \"00007b581d241fea3fb8bf4c7c5c1941af9abb3a5ce05abb97b4521d34bab727\",\n",
              "    \"data\": \"new block\",\n",
              "    \"nonce\": 2823\n",
              "}"
            ]
          },
          "execution_count": 110,
          "metadata": {},
          "output_type": "execute_result"
        }
      ],
      "source": [
        "new_block.mine() # validation\n",
        "new_block"
      ]
    },
    {
      "cell_type": "code",
      "execution_count": 111,
      "metadata": {},
      "outputs": [],
      "source": [
        "root_chain.add_block(\n",
        "    new_block\n",
        ")"
      ]
    },
    {
      "cell_type": "code",
      "execution_count": 112,
      "metadata": {},
      "outputs": [
        {
          "data": {
            "text/plain": [
              "{\n",
              "    \"root_block\": {\n",
              "        \"hash\": \"0000579da420f2b62497716cc60e95a0f7ad46336c42062b7485a27fd91d99f0\",\n",
              "        \"data\": \"{\\n    \\\"INITIAL ...\"\n",
              "    },\n",
              "    \"last_block\": {\n",
              "        \"hash\": \"00007b581d241fea3fb8bf4c7c5c1941af9abb3a5ce05abb97b4521d34bab727\",\n",
              "        \"data\": \"new block\"\n",
              "    }\n",
              "}"
            ]
          },
          "execution_count": 112,
          "metadata": {},
          "output_type": "execute_result"
        }
      ],
      "source": [
        "root_chain"
      ]
    },
    {
      "cell_type": "code",
      "execution_count": 113,
      "metadata": {},
      "outputs": [
        {
          "data": {
            "text/plain": [
              "{\n",
              "    \"root_block\": {\n",
              "        \"hash\": \"000015420debcdd55c00babc9c3a5a9c4ab22280cf9a6874986c427281dd79b9\",\n",
              "        \"data\": \"local network\"\n",
              "    }\n",
              "}"
            ]
          },
          "execution_count": 113,
          "metadata": {},
          "output_type": "execute_result"
        }
      ],
      "source": [
        "chain = blockchain.Chain(root_chain=root_chain, info=\"local network\")\n",
        "chain"
      ]
    },
    {
      "attachments": {},
      "cell_type": "markdown",
      "metadata": {},
      "source": [
        "## Transaction\n"
      ]
    },
    {
      "cell_type": "code",
      "execution_count": 114,
      "metadata": {},
      "outputs": [],
      "source": [
        "from bcbcpy.blockchain.block import transaction"
      ]
    },
    {
      "attachments": {},
      "cell_type": "markdown",
      "metadata": {},
      "source": [
        "### Nodes setup"
      ]
    },
    {
      "cell_type": "code",
      "execution_count": 115,
      "metadata": {},
      "outputs": [],
      "source": [
        "from bcbcpy.blockchain.node import Node\n",
        "\n",
        "alice = Node(crypto.RSAPairKeys.generate_pairs(), \"Alice\")\n",
        "bob = Node(crypto.RSAPairKeys.generate_pairs(), \"Bob\")\n",
        "other_person_in_the_network = Node(crypto.RSAPairKeys.generate_pairs())"
      ]
    },
    {
      "attachments": {},
      "cell_type": "markdown",
      "metadata": {},
      "source": [
        "### Transaction Data"
      ]
    },
    {
      "cell_type": "code",
      "execution_count": 116,
      "metadata": {},
      "outputs": [],
      "source": [
        "assets = 1000\n",
        "sender = bob\n",
        "receiver = alice"
      ]
    },
    {
      "cell_type": "code",
      "execution_count": 117,
      "metadata": {},
      "outputs": [],
      "source": [
        "receiver_id = receiver.id\n",
        "receiver_pub = receiver.pub\n",
        "\n",
        "prev_block = chain.last_block"
      ]
    },
    {
      "cell_type": "code",
      "execution_count": 118,
      "metadata": {},
      "outputs": [
        {
          "name": "stdout",
          "output_type": "stream",
          "text": [
            "{'timestamp': '2023-05-09T22:01:00.655549', 'sender_id': 'Bob', 'receiver_id': 'Alice', 'assets': 1000, 'prev_hash': '000015420debcdd55c00babc9c3a5a9c4ab22280cf9a6874986c427281dd79b9', 'sender_confirmation': ')u9>%>prl0YwZU:X0YA*Pr}fF?(zSv@Y\\\\BJ{kiDg4tX[oQ^z4JF}XsU+Pb>\\\\q)V&8Iet~<J{4|K*j%P\"J\\tY5Bm\\toAF_ov`5uj41;9!86B$gH:vqTkpj,xpd|iw3}JbUs95&$1[P'}\n"
          ]
        }
      ],
      "source": [
        "transaction_data = transaction.TransactionData(\n",
        "    assets, sender, receiver_id, receiver_pub, prev_block\n",
        ")\n",
        "\n",
        "print(transaction_data)"
      ]
    },
    {
      "attachments": {},
      "cell_type": "markdown",
      "metadata": {},
      "source": [
        "### Transaction Block"
      ]
    },
    {
      "cell_type": "code",
      "execution_count": 119,
      "metadata": {},
      "outputs": [
        {
          "data": {
            "text/plain": [
              "{\n",
              "    \"prev_hash\": \"000015420debcdd55c00babc9c3a5a9c4ab22280cf9a6874986c427281dd79b9\",\n",
              "    \"hash\": \"5fa1e4b30e322577ffe63903a4f0bbc7b5a0646342ef6fac02b1ddc076e306b9\",\n",
              "    \"data\": \"{'timestamp': '2023-05-09T22:01:00.655549', 'sender_id': 'Bob', 'receiver_id': 'Alice', 'assets': 1000, 'prev_hash': '000015420debcdd55c00babc9c3a5a9c4ab22280cf9a6874986c427281dd79b9', 'sender_confirmation': ')u9>%>prl0YwZU:X0YA*Pr}fF?(zSv@Y\\\\\\\\BJ{kiDg4tX[oQ^z4JF}XsU+Pb>\\\\\\\\q)V&8Iet~<J{4|K*j%P\\\"J\\\\tY5Bm\\\\toAF_ov`5uj41;9!86B$gH:vqTkpj,xpd|iw3}JbUs95&$1[P'}\",\n",
              "    \"nonce\": 0\n",
              "}"
            ]
          },
          "execution_count": 119,
          "metadata": {},
          "output_type": "execute_result"
        }
      ],
      "source": [
        "transaction_block = blockchain.TransactionBlock(transaction_data)\n",
        "transaction_block"
      ]
    },
    {
      "attachments": {},
      "cell_type": "markdown",
      "metadata": {},
      "source": [
        "### Verification\n"
      ]
    },
    {
      "attachments": {},
      "cell_type": "markdown",
      "metadata": {},
      "source": [
        "#### Anyone in the network"
      ]
    },
    {
      "cell_type": "code",
      "execution_count": 121,
      "metadata": {},
      "outputs": [
        {
          "name": "stdout",
          "output_type": "stream",
          "text": [
            "{'timestamp': '2023-05-09T22:01:00.655549', 'sender_id': 'Bob', 'receiver_id': 'Alice', 'assets': 1000, 'prev_hash': '000015420debcdd55c00babc9c3a5a9c4ab22280cf9a6874986c427281dd79b9', 'sender_confirmation': ')u9>%>prl0YwZU:X0YA*Pr}fF?(zSv@Y\\\\BJ{kiDg4tX[oQ^z4JF}XsU+Pb>\\\\q)V&8Iet~<J{4|K*j%P\"J\\tY5Bm\\toAF_ov`5uj41;9!86B$gH:vqTkpj,xpd|iw3}JbUs95&$1[P'}\n"
          ]
        }
      ],
      "source": [
        "data = transaction_block.data\n",
        "\n",
        "print(data)\n"
      ]
    },
    {
      "cell_type": "code",
      "execution_count": 122,
      "metadata": {},
      "outputs": [
        {
          "name": "stdout",
          "output_type": "stream",
          "text": [
            ")u9>%>prl0YwZU:X0YA*Pr}fF?(zSv@Y\\BJ{kiDg4tX[oQ^z4JF}XsU+Pb>\\q)V&8Iet~<J{4|K*j%P\"J\tY5Bm\toAF_ov`5uj41;9!86B$gH:vqTkpj,xpd|iw3}JbUs95&$1[P\n"
          ]
        }
      ],
      "source": [
        "sender_confirmation=\"\"\")u9>%>prl0YwZU:X0YA*Pr}fF?(zSv@Y\\\\BJ{kiDg4tX[oQ^z4JF}XsU+Pb>\\\\q)V&8Iet~<J{4|K*j%P\"J\\tY5Bm\\toAF_ov`5uj41;9!86B$gH:vqTkpj,xpd|iw3}JbUs95&$1[P\"\"\" \n",
        "print(sender_confirmation)"
      ]
    },
    {
      "cell_type": "code",
      "execution_count": 123,
      "metadata": {},
      "outputs": [
        {
          "name": "stdout",
          "output_type": "stream",
          "text": [
            "[['assets',\t1000],\n",
            "['receiver_pub',\t(34049, 16153)],\n",
            "['prev_hash',\t000015420debcdd55c00babc9c3a5a9c4ab22280cf9a6874986c427281dd79b9]]\n"
          ]
        }
      ],
      "source": [
        "confirmation_string = other_person_in_the_network.encrypt(sender_confirmation, key= sender.pub)\n",
        "\n",
        "print(confirmation_string)"
      ]
    },
    {
      "cell_type": "code",
      "execution_count": 124,
      "metadata": {},
      "outputs": [
        {
          "name": "stdout",
          "output_type": "stream",
          "text": [
            "(34049, 16153)\n",
            "000015420debcdd55c00babc9c3a5a9c4ab22280cf9a6874986c427281dd79b9\n"
          ]
        }
      ],
      "source": [
        "print(receiver.pub)\n",
        "print(chain.hash)"
      ]
    },
    {
      "attachments": {},
      "cell_type": "markdown",
      "metadata": {},
      "source": [
        "### Block Validation"
      ]
    },
    {
      "cell_type": "code",
      "execution_count": 125,
      "metadata": {},
      "outputs": [
        {
          "data": {
            "text/plain": [
              "False"
            ]
          },
          "execution_count": 125,
          "metadata": {},
          "output_type": "execute_result"
        }
      ],
      "source": [
        "transaction_block.is_valid()"
      ]
    },
    {
      "cell_type": "code",
      "execution_count": 126,
      "metadata": {},
      "outputs": [
        {
          "data": {
            "text/plain": [
              "{\n",
              "    \"prev_hash\": \"000015420debcdd55c00babc9c3a5a9c4ab22280cf9a6874986c427281dd79b9\",\n",
              "    \"hash\": \"000036ebb76fbf1e470018f63d363f24f064c5d30121d726ca474f1499dca7c0\",\n",
              "    \"data\": \"{'timestamp': '2023-05-09T22:01:00.655549', 'sender_id': 'Bob', 'receiver_id': 'Alice', 'assets': 1000, 'prev_hash': '000015420debcdd55c00babc9c3a5a9c4ab22280cf9a6874986c427281dd79b9', 'sender_confirmation': ')u9>%>prl0YwZU:X0YA*Pr}fF?(zSv@Y\\\\\\\\BJ{kiDg4tX[oQ^z4JF}XsU+Pb>\\\\\\\\q)V&8Iet~<J{4|K*j%P\\\"J\\\\tY5Bm\\\\toAF_ov`5uj41;9!86B$gH:vqTkpj,xpd|iw3}JbUs95&$1[P'}\",\n",
              "    \"nonce\": 62310\n",
              "}"
            ]
          },
          "execution_count": 126,
          "metadata": {},
          "output_type": "execute_result"
        }
      ],
      "source": [
        "transaction_block.mine()\n",
        "transaction_block"
      ]
    },
    {
      "cell_type": "code",
      "execution_count": 127,
      "metadata": {},
      "outputs": [
        {
          "data": {
            "text/plain": [
              "True"
            ]
          },
          "execution_count": 127,
          "metadata": {},
          "output_type": "execute_result"
        }
      ],
      "source": [
        "transaction_block.is_valid()"
      ]
    },
    {
      "attachments": {},
      "cell_type": "markdown",
      "metadata": {},
      "source": [
        "### Adding to Chain"
      ]
    },
    {
      "cell_type": "code",
      "execution_count": 128,
      "metadata": {},
      "outputs": [
        {
          "data": {
            "text/plain": [
              "{\n",
              "    \"root_block\": {\n",
              "        \"hash\": \"000015420debcdd55c00babc9c3a5a9c4ab22280cf9a6874986c427281dd79b9\",\n",
              "        \"data\": \"local network\"\n",
              "    },\n",
              "    \"last_block\": {\n",
              "        \"hash\": \"000036ebb76fbf1e470018f63d363f24f064c5d30121d726ca474f1499dca7c0\",\n",
              "        \"data\": \"{'timestamp': '...\"\n",
              "    }\n",
              "}"
            ]
          },
          "execution_count": 128,
          "metadata": {},
          "output_type": "execute_result"
        }
      ],
      "source": [
        "chain.add_block(transaction_block)\n",
        "chain"
      ]
    },
    {
      "attachments": {},
      "cell_type": "markdown",
      "metadata": {},
      "source": [
        "## Second Transaction\n"
      ]
    },
    {
      "cell_type": "code",
      "execution_count": 129,
      "metadata": {},
      "outputs": [],
      "source": [
        "assets = 500\n",
        "sender = alice\n",
        "receiver = bob\n",
        "prev_block = chain.last_block"
      ]
    },
    {
      "cell_type": "code",
      "execution_count": 130,
      "metadata": {},
      "outputs": [],
      "source": [
        "transaction_block = sender.make_transaction_block(\n",
        "    assets=assets,\n",
        "    to=receiver,\n",
        "    prev_block=prev_block,\n",
        ")"
      ]
    },
    {
      "attachments": {},
      "cell_type": "markdown",
      "metadata": {},
      "source": [
        "### Verification ..."
      ]
    },
    {
      "cell_type": "code",
      "execution_count": 131,
      "metadata": {},
      "outputs": [
        {
          "name": "stdout",
          "output_type": "stream",
          "text": [
            "{'timestamp': '2023-05-09T22:02:06.249209', 'sender_id': 'Alice', 'receiver_id': 'Bob', 'assets': 500, 'prev_hash': '000036ebb76fbf1e470018f63d363f24f064c5d30121d726ca474f1499dca7c0', 'sender_confirmation': '\\nu&R|YfX# Ta@W_.>\"?M3#c[@y\\nxxgZYma^^7c`mjTS2VT^+x)\\nA/NETWY&2}]es^fVl={?aF=jo]@0?{(\\tKX<J^W1#S2@1Edt!2*\\nVJ>Bzk(Wuk,x~j p5/0Y?DlXF,X-m '}\n"
          ]
        }
      ],
      "source": [
        "data = transaction_block.data\n",
        "print(data)"
      ]
    },
    {
      "cell_type": "code",
      "execution_count": 132,
      "metadata": {},
      "outputs": [
        {
          "name": "stdout",
          "output_type": "stream",
          "text": [
            "[['assets',\t500],\n",
            "['receiver_pub',\t(34691, 16733)],\n",
            "['prev_hash',\t000036ebb76fbf1e470018f63d363f24f064c5d30121d726ca474f1499dca7c0]]\n"
          ]
        }
      ],
      "source": [
        "sender_confirmation=\"\"\"\\nu&R|YfX# Ta@W_.>\"?M3#c[@y\\nxxgZYma^^7c`mjTS2VT^+x)\\nA/NETWY&2}]es^fVl={?aF=jo]@0?{(\\tKX<J^W1#S2@1Edt!2*\\nVJ>Bzk(Wuk,x~j p5/0Y?DlXF,X-m \"\"\" \n",
        "confirmation_string = other_person_in_the_network.encrypt(sender_confirmation, key= sender.pub)\n",
        "\n",
        "confirmation = utils.txt2obj(confirmation_string)\n",
        "print(confirmation)"
      ]
    },
    {
      "cell_type": "code",
      "execution_count": 133,
      "metadata": {},
      "outputs": [
        {
          "name": "stdout",
          "output_type": "stream",
          "text": [
            "(34691, 16733)\n",
            "000036ebb76fbf1e470018f63d363f24f064c5d30121d726ca474f1499dca7c0\n"
          ]
        }
      ],
      "source": [
        "print(receiver.pub)\n",
        "print(chain.hash)"
      ]
    },
    {
      "cell_type": "markdown",
      "metadata": {},
      "source": [
        "### Adding to Chain"
      ]
    },
    {
      "cell_type": "code",
      "execution_count": 134,
      "metadata": {},
      "outputs": [],
      "source": [
        "transaction_block.mine() # validation\n",
        "chain.add_block(transaction_block)"
      ]
    },
    {
      "cell_type": "code",
      "execution_count": 135,
      "metadata": {},
      "outputs": [
        {
          "data": {
            "text/plain": [
              "{\n",
              "    \"root_block\": {\n",
              "        \"hash\": \"000015420debcdd55c00babc9c3a5a9c4ab22280cf9a6874986c427281dd79b9\",\n",
              "        \"data\": \"local network\"\n",
              "    },\n",
              "    \"...\": \"...\",\n",
              "    \"last_block\": {\n",
              "        \"hash\": \"0000400eefda387a2c3c7ef8ffc4ad50e5f8837109c096ad1c08032edc219e89\",\n",
              "        \"data\": \"{'timestamp': '...\"\n",
              "    }\n",
              "}"
            ]
          },
          "execution_count": 135,
          "metadata": {},
          "output_type": "execute_result"
        }
      ],
      "source": [
        "chain"
      ]
    },
    {
      "cell_type": "code",
      "execution_count": null,
      "metadata": {},
      "outputs": [],
      "source": []
    }
  ],
  "metadata": {
    "kernelspec": {
      "display_name": "Python 3",
      "language": "python",
      "name": "python3"
    },
    "language_info": {
      "codemirror_mode": {
        "name": "ipython",
        "version": 3
      },
      "file_extension": ".py",
      "mimetype": "text/x-python",
      "name": "python",
      "nbconvert_exporter": "python",
      "pygments_lexer": "ipython3",
      "version": "3.10.10"
    },
    "orig_nbformat": 4,
    "vscode": {
      "interpreter": {
        "hash": "b0fa6594d8f4cbf19f97940f81e996739fb7646882a419484c72d19e05852a7e"
      }
    }
  },
  "nbformat": 4,
  "nbformat_minor": 2
}
